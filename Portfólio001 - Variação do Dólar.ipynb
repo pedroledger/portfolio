{
 "cells": [
  {
   "cell_type": "markdown",
   "metadata": {
    "_cell_guid": "79c7e3d0-c299-4dcb-8224-4455121ee9b0",
    "_uuid": "d629ff2d2480ee46fbb7e2d37f6b5fab8052498a",
    "collapsed": true
   },
   "source": [
    "# 1  CDIA20 | Projeto Final de Disciplina\n"
   ]
  },
  {
   "cell_type": "markdown",
   "metadata": {},
   "source": [
    "Gabriel Crespi de Santana RA: 00274413\n",
    "\n",
    "Kevin Egídio de Toledo RA: 00282590\n",
    "\n",
    "Maria Eduarda Rocha Leal RA: 00274374\n",
    "\n",
    "Pedro Lucas Silva Ferreira RA: 00285608"
   ]
  },
  {
   "cell_type": "markdown",
   "metadata": {},
   "source": [
    "## 1º Semestre | Programação"
   ]
  },
  {
   "cell_type": "markdown",
   "metadata": {},
   "source": [
    "## Questão Dirigida\n",
    "Como o dólar variou em decorrência da pandemia de covid-19."
   ]
  },
  {
   "cell_type": "markdown",
   "metadata": {},
   "source": [
    "## Descrição do projeto\n"
   ]
  },
  {
   "cell_type": "markdown",
   "metadata": {},
   "source": [
    "O objetivo do projeto é mostrar, através de gráficos dos cinco primeiros dias de cada mês, como a pandemia de Covid-19 influenciou na variação do dólar."
   ]
  },
  {
   "cell_type": "markdown",
   "metadata": {},
   "source": [
    "## Web Scraping"
   ]
  },
  {
   "cell_type": "markdown",
   "metadata": {},
   "source": [
    "Primeiramente, vamos importar as bibliotecas necessárias para o projeto. Assim, poderemos começar a raspar os dados a partir de uma página web. O site escolhido foi o \"Dólar Hoje\"."
   ]
  },
  {
   "cell_type": "code",
   "execution_count": 1,
   "metadata": {},
   "outputs": [],
   "source": [
    "import requests # Responsável por baixar a página web\n",
    "\n",
    "from bs4 import BeautifulSoup # Responsável por raspar os dados\n",
    "\n",
    "import pandas as pd # Responsável por tabular os dados obtidos\n",
    "\n",
    "import re # Permite o uso de expressões regulares\n",
    "\n",
    "import matplotlib.pyplot as plt # Responsável pelos gráficos de barras e dispersão\n",
    "\n"
   ]
  },
  {
   "cell_type": "code",
   "execution_count": 2,
   "metadata": {},
   "outputs": [
    {
     "data": {
      "text/plain": [
       "<Response [200]>"
      ]
     },
     "execution_count": 2,
     "metadata": {},
     "output_type": "execute_result"
    }
   ],
   "source": [
    "dolar = 'https://www.dolarhoje.net.br/dolar-comercial/'\n",
    "\n",
    "page = requests.get(dolar) # Aqui, fazemos o download da página\n",
    "page"
   ]
  },
  {
   "cell_type": "markdown",
   "metadata": {},
   "source": [
    "O output <Response [200]> indica que o download foi bem sucedido"
   ]
  },
  {
   "cell_type": "code",
   "execution_count": 3,
   "metadata": {},
   "outputs": [
    {
     "data": {
      "text/plain": [
       "'<!DOCTYPE html>\\n<html lang=\"pt-br\">\\n <head>\\n  <meta charset=\"utf-8\"/>\\n  <script data-cfasync=\"false\" data-ezscrex=\"false\" data-pagespeed-no-defer=\"\" id=\"bsaihudashidsadhu\" type=\"text/javascript\">\\n   window.ezogtk=\"\";if(typeof processGoogleToken == \"undefined\") {processGoogleToken = function(a){window.ezogtk=a.newToken;processGoogleToken=null;var el = document.getElementById(\\'bsaihudashidsadhu\\');if(el != null){el.parentNode.removeChild(document.getElementById(\\'bsaihudashidsadhu\\'));document.head.removeChild(bsaihudashiudsadhu);}};\\nvar bsaihudashiudsadhu = document.createElement(\\'script\\');\\nbsaihudashiudsadhu.src =  \\'https://adservice.google.com/adsid/integrator.js?domain=\\'+window.location.hostname;\\nbsaihudashiudsadhu.async = false;\\ndocument.head.appendChild(bsaihudashiudsadhu);}\\n  </script>\\n  <script type=\"text/javascript\">\\n   var __banger_pmp_deals=function(){var d={18:{\"DealId\":18,\"Floor\":25},19:{\"DealId\":19,\"Floor\":100},17:{\"DealId\":17,\"Floor\":160},4:{\"DealId\":4,\"Floor\":150}};return[{\"SlotName\":\"/1254144/dolarhoje_net_br-medrectangle-1\",\"Deals\":[d[18]]},{\"SlotName\":\"/1254144/dolarhoje_net_br-medrectangle-2\",\"Deals\":[d[18],d[19]]},{\"SlotName\":\"/1254144/dolarhoje_net_br-box-2\",\"Deals\":[d[17],d[18],d[19],d[4]]},{\"SlotName\":\"/1254144/dolarhoje_net_br-box-2\",\"Deals\":[d[17],d[18],d[19],d[4]]},{\"SlotName\":\"/1254144/dolarhoje_net_br-box-2\",\"Deals\":[d[17],d[18],d[19],d[4]]}]}();\\n  </script>\\n  <script type=\"text/javascript\">\\n   _ebcids=[138231308856,138231308940,138231308949,138231387842,138231421744,138231421759,138231421774,138231421783,138231421789,138231421792,138242067587,138242067590,138242067602,138242067605,138242067608,138242067614,138242229406,138242229415,138242229421,138242229430];\\n  </script>\\n  <script data-cfasync=\"false\" data-ezscrex=\"false\" data-pagespeed-no-defer=\"\" type=\"text/javascript\">\\n   ezobv = 55;\\n  </script>\\n  <script data-cfasync=\"false\" data-ezscrex=\"false\" data-pagespeed-no-defer=\"\" type=\"text/javascript\">\\n   function ez_isclean( data ) {\\n    if (typeof data === \\'undefined\\') { data = document.URL; }\\n    var re = /(([^<>()[\\\\]\\\\\\\\.,;:\\\\s@\\\\\"]+(\\\\.[^<>()[\\\\]\\\\\\\\.,;:\\\\s@\\\\\"]+)*)|(\\\\\".+\\\\\"))(@|%2540|%40)((\\\\[[0-9]{1,3}\\\\.[0-9]{1,3}\\\\.[0-9]{1,3}\\\\.[0-9]{1,3}\\\\])|(([a-zA-Z\\\\-0-9]+\\\\.)+[a-zA-Z]{2,}))/;\\n    var isClean = !re.test(data);\\n    return isClean;\\n}\\n\\nvar ez_queue = new Array();\\nfunction sort_queue(a, b)\\n{\\n  if( a.priority < b.priority ) return -1;\\n  else if( a.priority == b.priority ) return 0;\\n  else return 1;\\n}\\nfunction execute_ez_queue()\\n{\\n  ez_queue.sort( sort_queue );\\n\\n  for( var i in ez_queue )\\n  {\\n        if(typeof ez_queue[i].method != \"undefined\")\\n        {\\n            try{\\n                ez_queue[i].method.call( null );\\n            }\\n            catch (err) {\\n\\n            }\\n        }\\n  }\\n}\\n\\nwindow.ez_ad_units = new Array();\\nwindow.ezslots = new Array();\\nwindow.ezsrqt = {};\\nfunction ez_write_tag(d) {\\n    if(ez_isclean() && d instanceof Array) {\\n        if(typeof ezstandalone !== \\'undefined\\' && typeof ezstandalone.selectedPlaceholders !== \\'undefined\\' && ezstandalone.selectedPlaceholders[d[3]] === true) {\\n            return \"1+1\";\\n        }\\n        ez_ad_units[ez_ad_units.length] = d;\\n        var dve = \"\";\\n        if(typeof d[5] != \\'undefined\\' && d[5] > 0){dve = \\'_\\'+d[5];}\\n        var ezcmd = \"googletag.cmd.push(function() {var divid = \\'div-gpt-ad-\"+d[1]+\"-\"+d[4]+\"\"+dve+\"\\';if(typeof ezlrarn == \\'function\\'){ezlrarn(divid);}googletag.display(divid);var to = 0;if(\"+d[2]+\".getTargeting(\\'ga\\')[0] == \\'0\\'){to = 500;console.log(\\'\"+d[2]+\" - no google\\');}if(window.ezDisableInitialLoad==true){setTimeout(function(){googletag.pubads().refresh([\"+d[2]+\"])},to);}});\";\\n        return ezcmd;\\n    }\\n\\n    return \"1+1\";\\n}\\nfunction in_array(needle, haystack) {\\n    var length = haystack.length;\\n    for(var i = 0; i < length; i++) {\\n        if(haystack[i] == needle) return true;\\n    }\\n    return false;\\n}\\n  </script>\\n  <script data-cfasync=\"false\" data-ezscrex=\"false\" data-pagespeed-no-defer=\"\" type=\"text/javascript\">\\n   var ezrpos = new Array();var ez_current_interval;var ez_current_load = 0;\\n  </script>\\n  <script async=\"\" data-cfasync=\"false\" data-pagespeed-no-defer=\"\" src=\"//go.ezodn.com/porpoiseant/dall3201.js?cb=188-0\" type=\"text/javascript\">\\n  </script>\\n  <script data-cfasync=\"false\" data-ezscrex=\"false\" data-pagespeed-no-defer=\"\" type=\"text/javascript\">\\n   var epbjs=epbjs||{};function epbjsRequestAdUnits(e){epbjs.que.push(function(){for(var s=0;s<e.length;s++)epbjs.ezAdUnits.push(e[s]);epbjs.addAdUnits(e),epbjs.requestBids({bidsBackHandler:function(e){\"function\"==typeof window.ezosethbbids?window.ezosethbbids(e):window.ezosethbbidsInterval=setInterval(function(e){\"function\"==typeof ezosethbbids&&ezosethbbids(e)},130,e)}})})}function epbjsRefreshSlot(e){epbjs.que.push(function(){epbjs.requestBids({adUnitCodes:[e.getSlotElementId()],bidsBackHandler:function(e){epbjs.fastLoadAuctionEnd=!0,window.ezosethbbids(e)}})})}epbjs.bidderTimeout=2000,epbjs.useAdj=true,epbjs.ezAdUnits=epbjs.ezAdUnits||[],epbjs.que=epbjs.que||[],epbjs.ezdss=epbjs.ezdss||[],epbjs.ezas=epbjs.ezas||[],epbjs.ezobid=epbjs.ezobid||[],epbjs.SS={\"criteo\":10050,\"oftmedia\":10081},epbjs.bidders=[\\'sovrn\\',\\'openx\\',\\'pulsepoint\\',\\'defymedia\\',\\'aol\\',\\'conversant\\',\\'districtm\\',\\'admedia\\',\\'emx_digital\\',\\'sonobi\\',\\'criteo\\',\\'ix\\',\\'cox\\',\\'audienceNetwork\\',\\'pubmatic\\',\\'rubicon\\',\\'gumgum\\',\\'oftmedia\\',\\'lockerdome\\',\\'triplelift\\',\\'emx_digital\\',\\'justpremium\\',\\'teads\\',\\'onemobile\\',\\'yieldlab\\',\\'unruly\\',\\'aardvark\\',\\'medianet\\'],epbjs.que.push(function(){epbjs.aliasBidder(\\'appnexus\\', \\'oftmedia\\');}),epbjs.que.push(function(){epbjs.setConfig({priceGranularity:{buckets:[{precision:2,min:0,max:5,increment:.01},{precision:2,min:5,max:50,increment:.1},{precision:2,min:50,max:120,increment:5}]},userSync:{filterSettings:{iframe:{bidders:\"*\",filter:\"include\"}}},consentManagement:{cmpApi:\\'iab\\',timeout:8000,allowAuctionWithoutConsent:true}}),epbjs.bidderSettings={oftmedia: { bidCpmAdjustment: function(bidCpm) { var adj1 = bidCpm * 0.900000; var adj2 = adj1 * 1.100000; return adj2; }},criteo: { bidCpmAdjustment: function(bidCpm) { var adj1 = bidCpm * 1.000000; var adj2 = adj1 * 1.100000; return adj2; }}, standard:{adserverTargeting:[{key:\"epb\",val:function(e){return e.bidderCode}},{key:\"epa\",val:function(e){return e.adId}},{key:\"epp\",val:function(e){return e.pbCg}},{key:\"epf\",val:function(e){return e.mediaType}},{key:\"eps\",val:function(e){return\"ehb\"==e.bidder?0:void 0!==epbjs.SS[e.bidder.toLowerCase()]?epbjs.SS[e.bidder.toLowerCase()]:(console.error(\"epbjs: NO MATCH\"),0)}}]}},epbjs.onEvent(\"bidWon\",function(e){epbjs.ezas[e.adUnitCode]=e.size,\"ehb\"==e.bidder?epbjs.ezdss[e.adUnitCode]=e.ss:void 0!==epbjs.SS[e.bidder.toLowerCase()]?(epbjs.ezdss[e.adUnitCode]=epbjs.SS[e.bidder.toLowerCase()],1==epbjs.useAdj&&epbjs.bidders.indexOf(e.bidder)>-1&&(epbjs.ezobid[e.adUnitCode]=e.cpm/1.100000)):console.error(\"epbjs: NO MATCH\")})});epbjsRequestAdUnits([{code: \\'div-gpt-ad-dolarhoje_net_br-medrectangle-2-0\\', mediaTypes: {banner: { sizes:[[970,90],[728,90]] }, video: {context:\\'outstream\\',playerSize:[[970, 90]]}}, bids: [{bidder: \\'criteo\\', params: { zoneId: \\'1365441\\' }},{bidder: \\'oftmedia\\', params:{ placementId: \\'14490043\\' }}] },{code: \\'div-gpt-ad-dolarhoje_net_br-medrectangle-2-0\\', mediaTypes: {banner: { sizes:[[970,90],[728,90]] }, video: {context:\\'outstream\\',playerSize:[[970, 90]]}}, bids: [{bidder: \\'criteo\\', params: { zoneId: \\'1365441\\' }},{bidder: \\'oftmedia\\', params:{ placementId: \\'14490043\\' }}] },{code: \\'div-gpt-ad-dolarhoje_net_br-box-2-0\\', mediaTypes: {banner: { sizes:[[300,250]] }, video: {context:\\'outstream\\',playerSize:[[300, 250]]}}, bids: [{bidder: \\'criteo\\', params: { zoneId: \\'1365391\\' }},{bidder: \\'oftmedia\\', params:{ placementId: \\'14490039\\' }}] ,sizeMapping: [\\n\\t\\t\\t{\\n\\t\\t\\t\\tminWidth: 300,\\n\\t\\t\\t\\tsizes: [[300,250]]\\n\\t\\t\\t}]},{code: \\'div-gpt-ad-dolarhoje_net_br-box-2-0\\', mediaTypes: {banner: { sizes:[[300,250]] }, video: {context:\\'outstream\\',playerSize:[[300, 250]]}}, bids: [{bidder: \\'criteo\\', params: { zoneId: \\'1365391\\' }},{bidder: \\'oftmedia\\', params:{ placementId: \\'14490039\\' }}] ,sizeMapping: [\\n\\t\\t\\t{\\n\\t\\t\\t\\tminWidth: 300,\\n\\t\\t\\t\\tsizes: [[300,250]]\\n\\t\\t\\t}]},{code: \\'div-gpt-ad-dolarhoje_net_br-box-2-0_1\\', mediaTypes: {banner: { sizes:[[300,250]] }, video: {context:\\'outstream\\',playerSize:[[300, 250]]}}, bids: [{bidder: \\'criteo\\', params: { zoneId: \\'1365391\\' }},{bidder: \\'oftmedia\\', params:{ placementId: \\'14490039\\' }}] ,sizeMapping: [\\n\\t\\t\\t{\\n\\t\\t\\t\\tminWidth: 300,\\n\\t\\t\\t\\tsizes: [[300,250]]\\n\\t\\t\\t}]},{code: \\'div-gpt-ad-dolarhoje_net_br-box-2-0_1\\', mediaTypes: {banner: { sizes:[[300,250]] }, video: {context:\\'outstream\\',playerSize:[[300, 250]]}}, bids: [{bidder: \\'criteo\\', params: { zoneId: \\'1365391\\' }},{bidder: \\'oftmedia\\', params:{ placementId: \\'14490039\\' }}] ,sizeMapping: [\\n\\t\\t\\t{\\n\\t\\t\\t\\tminWidth: 300,\\n\\t\\t\\t\\tsizes: [[300,250]]\\n\\t\\t\\t}]},{code: \\'div-gpt-ad-dolarhoje_net_br-medrectangle-1-0\\', mediaTypes: {banner: { sizes:[[300,250],[468,60],[970,250],[728,90],[580,400],[336,280],[250,250]] }, video: {context:\\'outstream\\',playerSize:[[970, 250]]}}, bids: [{bidder: \\'criteo\\', params: { zoneId: \\'1365424\\' }},{bidder: \\'oftmedia\\', params:{ placementId: \\'14490042\\' }}] ,sizeMapping: [\\n\\t\\t\\t{\\n\\t\\t\\t\\tminWidth: 300,\\n\\t\\t\\t\\tsizes: [[336,280]]\\n\\t\\t\\t},\\n\\t\\t\\t{\\n\\t\\t\\t\\tminWidth: 0,\\n\\t\\t\\t\\tsizes: [[250,250],[300,250],[468,60],[970,250],[728,90],[580,400]]\\n\\t\\t\\t}]},{code: \\'div-gpt-ad-dolarhoje_net_br-box-2-0_2\\', mediaTypes: {banner: { sizes:[[300,250]] }, video: {context:\\'outstream\\',playerSize:[[300, 250]]}}, bids: [{bidder: \\'criteo\\', params: { zoneId: \\'1365391\\' }},{bidder: \\'oftmedia\\', params:{ placementId: \\'14490039\\' }}] ,sizeMapping: [\\n\\t\\t\\t{\\n\\t\\t\\t\\tminWidth: 300,\\n\\t\\t\\t\\tsizes: [[300,250]]\\n\\t\\t\\t}]},{code: \\'div-gpt-ad-dolarhoje_net_br-box-2-0_2\\', mediaTypes: {banner: { sizes:[[300,250]] }, video: {context:\\'outstream\\',playerSize:[[300, 250]]}}, bids: [{bidder: \\'criteo\\', params: { zoneId: \\'1365391\\' }},{bidder: \\'oftmedia\\', params:{ placementId: \\'14490039\\' }}] ,sizeMapping: [\\n\\t\\t\\t{\\n\\t\\t\\t\\tminWidth: 300,\\n\\t\\t\\t\\tsizes: [[300,250]]\\n\\t\\t\\t}]},{code: \\'div-gpt-ad-dolarhoje_net_br-medrectangle-1-0\\', mediaTypes: {banner: { sizes:[[300,250],[468,60],[970,250],[728,90],[580,400],[336,280],[250,250]] }, video: {context:\\'outstream\\',playerSize:[[970, 250]]}}, bids: [{bidder: \\'oftmedia\\', params:{ placementId: \\'14490042\\' }},{bidder: \\'criteo\\', params: { zoneId: \\'1365424\\' }}] ,sizeMapping: [\\n\\t\\t\\t{\\n\\t\\t\\t\\tminWidth: 300,\\n\\t\\t\\t\\tsizes: [[336,280]]\\n\\t\\t\\t},\\n\\t\\t\\t{\\n\\t\\t\\t\\tminWidth: 0,\\n\\t\\t\\t\\tsizes: [[250,250],[300,250],[468,60],[970,250],[728,90],[580,400]]\\n\\t\\t\\t}]}]);\\n  </script>\\n  <script data-ezscrex=\"false\" type=\"text/javascript\">\\n   var ezorbf = [];\\n  </script>\\n  <script data-cfasync=\"false\" data-ezscrex=\"false\" data-pagespeed-no-defer=\"\" type=\"text/javascript\">\\n   window.isEZABL=false;window.ezmadspc=300;window.ezoViewCheck = false;\\n  </script>\\n  <script data-cfasync=\"false\" data-ezscrex=\"false\" data-pagespeed-no-defer=\"\" type=\"text/javascript\">\\n   window.ezDisableInitialLoad=false;\\n  </script>\\n  <script data-cfasync=\"false\" data-ezscrex=\"false\" data-pagespeed-no-defer=\"\" type=\"text/javascript\">\\n   window.googletag = window.googletag || {};\\ngoogletag.cmd = googletag.cmd || [];\\n(function() {\\nvar gads = document.createElement(\\'script\\');\\ngads.async = true;\\ngads.type = \\'text/javascript\\';\\nvar useSSL = \\'https:\\' == document.location.protocol;\\ngads.src = (useSSL ? \\'https:\\' : \\'http:\\') +\\n\\'//securepubads.g.doubleclick.net/tag/js/gpt.js\\';\\nvar node = document.getElementsByTagName(\\'script\\')[0];\\nnode.parentNode.insertBefore(gads, node);\\n})();\\n  </script>\\n  <script data-cfasync=\"false\" data-ezscrex=\"false\" data-pagespeed-no-defer=\"\" type=\"text/javascript\">\\n   window.ezogetbrkey = function(s){ var k = \\'br1\\';var k2 = \\'eb_br\\';if(window.ezogtk == \"\"){k=\\'br1u\\';k2=\\'eb_bru\\';}else if(window.ezogtk != \"NT\"){k=\\'br1t\\';k2=\\'eb_brt\\';} s.setTargeting(\\'br1\\', s.getTargeting(k));s.setTargeting(\\'eb_br\\', s.getTargeting(k2));};googletag.cmd.push(function() {googletag.destroySlots();if(typeof window.isEZABL == \\'undefined\\' || window.isEZABL != true) {ezslot_4 = googletag.defineSlot(\\'/1254144/dolarhoje_net_br-medrectangle-1\\',[336,280],\\'div-gpt-ad-dolarhoje_net_br-medrectangle-1-0\\').addService(googletag.pubads()).setTargeting(\\'iid7\\',\\'646479\\').setTargeting(\\'t\\',\\'134\\').setTargeting(\\'d\\',\\'187851\\').setTargeting(\\'t1\\',\\'134\\').setTargeting(\\'pvc\\',\\'0\\').setTargeting(\\'ap\\',\\'1117\\').setTargeting(\\'sap\\',\\'1117\\').setTargeting(\\'a\\',\\'|3|\\').setTargeting(\\'as\\',\\'revenue\\').setTargeting(\\'plat\\',\\'1\\').setTargeting(\\'bra\\',\\'mod10\\').setTargeting(\\'ic\\',\\'1\\').setTargeting(\\'at\\',\\'mbf\\').setTargeting(\\'adr\\',\\'399\\').setTargeting(\\'ezosn\\',\\'4\\').setTargeting(\\'reft\\',\\'tf\\').setTargeting(\\'refs\\',\\'30\\').setTargeting(\\'ga\\',\\'2497208\\').setTargeting(\\'gala\\',\\'\\').setTargeting(\\'rid\\',\\'99998\\').setTargeting(\\'pt\\',\\'4\\').setTargeting(\\'al\\',\\'1004\\').setTargeting(\\'compid\\',\\'0\\').setTargeting(\\'tap\\',\\'dolarhoje_net_br-medrectangle-1-646479\\').setTargeting(\\'eb_br\\',\\'3ba982fc4238dd4197b1d51b345478dc\\').setTargeting(\\'eba\\',\\'1\\').setTargeting(\\'asau\\',\\'7521289539\\').setTargeting(\\'bv\\',\\'30\\').setTargeting(\\'bvm\\',\\'3\\').setTargeting(\\'bvr\\',\\'4\\').setTargeting(\\'shp\\',\\'3\\').setTargeting(\\'acptad\\',\\'1\\').setCollapseEmptyDiv(false).setTargeting(\\'ft\\',\\'1\\').setTargeting(\\'br1\\',\\'50\\').setTargeting(\\'br2\\',\\'26\\').setTargeting(\\'ezoic\\',\\'1\\').setTargeting(\\'nmau\\',\\'0\\').setTargeting(\\'mau\\',\\'0\\').setTargeting(\\'stl\\',\\'66\\').setTargeting(\\'deal1\\',[17,19,20,21,22,23,24,25,26,3,4]).defineSizeMapping(googletag.sizeMapping().addSize([300,0], [336,280]).addSize([0,0], [250,250]).addSize([0,0], [300,250]).addSize([0,0], [468,60]).addSize([0,0], [970,250]).addSize([0,0], [728,90]).addSize([0,0], [580,400]).build());ezslot_4.set(\\'adsense_background_color\\',\\'FFFFFF\\').set(\\'adsense_border_color\\',\\'FFFFFF\\').set(\\'adsense_channel_ids\\',\\'5989714468\\').set(\\'adsense_link_color\\',\\'0000FF\\').set(\\'adsense_text_color\\',\\'000000\\').set(\\'adsense_url_color\\',\\'828282\\');ezrpos[4]=\"4\";ezslot_0 = googletag.defineSlot(\\'/1254144/dolarhoje_net_br-medrectangle-2\\',[970,90],\\'div-gpt-ad-dolarhoje_net_br-medrectangle-2-0\\').addService(googletag.pubads()).setTargeting(\\'iid6\\',\\'585646\\').setTargeting(\\'t\\',\\'134\\').setTargeting(\\'d\\',\\'187851\\').setTargeting(\\'t1\\',\\'134\\').setTargeting(\\'pvc\\',\\'0\\').setTargeting(\\'ap\\',\\'1100\\').setTargeting(\\'sap\\',\\'1100\\').setTargeting(\\'a\\',\\'|251|\\').setTargeting(\\'as\\',\\'revenue\\').setTargeting(\\'plat\\',\\'1\\').setTargeting(\\'bra\\',\\'mod10\\').setTargeting(\\'ic\\',\\'1\\').setTargeting(\\'at\\',\\'mbf\\').setTargeting(\\'adr\\',\\'399\\').setTargeting(\\'ezosn\\',\\'0\\').setTargeting(\\'reft\\',\\'tf\\').setTargeting(\\'refs\\',\\'30\\').setTargeting(\\'ga\\',\\'2497208\\').setTargeting(\\'gala\\',\\'\\').setTargeting(\\'rid\\',\\'99998\\').setTargeting(\\'pt\\',\\'5\\').setTargeting(\\'al\\',\\'1005\\').setTargeting(\\'compid\\',\\'0\\').setTargeting(\\'tap\\',\\'dolarhoje_net_br-medrectangle-2-585646\\').setTargeting(\\'eb_br\\',\\'58ef7bddb438af5e257c4377f32c243a\\').setTargeting(\\'eba\\',\\'1\\').setTargeting(\\'asau\\',\\'7521289539\\').setTargeting(\\'bv\\',\\'0\\').setTargeting(\\'bvm\\',\\'4\\').setTargeting(\\'bvr\\',\\'2\\').setTargeting(\\'shp\\',\\'1\\').setCollapseEmptyDiv(false).setTargeting(\\'ft\\',\\'1\\').setTargeting(\\'br1\\',\\'120\\').setTargeting(\\'br2\\',\\'60\\').setTargeting(\\'ezoic\\',\\'1\\').setTargeting(\\'nmau\\',\\'0\\').setTargeting(\\'mau\\',\\'0\\').setTargeting(\\'deal1\\',[17,20,21,22,23,24,25,26,27,28,29,30,3,4]);ezslot_0.set(\\'adsense_background_color\\',\\'FFFFFF\\').set(\\'adsense_border_color\\',\\'FFFFFF\\').set(\\'adsense_channel_ids\\',\\'5989714468\\').set(\\'adsense_link_color\\',\\'0C9C11\\').set(\\'adsense_text_color\\',\\'000000\\').set(\\'adsense_url_color\\',\\'0C9C11\\');ezrpos[0]=\"0\";ezslot_1 = googletag.defineSlot(\\'/1254144/dolarhoje_net_br-box-2\\',[300,250],\\'div-gpt-ad-dolarhoje_net_br-box-2-0\\').addService(googletag.pubads()).setTargeting(\\'iid6\\',\\'584792\\').setTargeting(\\'t\\',\\'134\\').setTargeting(\\'d\\',\\'187851\\').setTargeting(\\'t1\\',\\'134\\').setTargeting(\\'pvc\\',\\'0\\').setTargeting(\\'ap\\',\\'1112\\').setTargeting(\\'sap\\',\\'1112\\').setTargeting(\\'a\\',\\'|2|\\').setTargeting(\\'as\\',\\'revenue\\').setTargeting(\\'plat\\',\\'1\\').setTargeting(\\'bra\\',\\'mod10\\').setTargeting(\\'ic\\',\\'1\\').setTargeting(\\'at\\',\\'mbf\\').setTargeting(\\'adr\\',\\'399\\').setTargeting(\\'ezosn\\',\\'1\\').setTargeting(\\'reft\\',\\'tf\\').setTargeting(\\'refs\\',\\'30\\').setTargeting(\\'ga\\',\\'2497208\\').setTargeting(\\'gala\\',\\'\\').setTargeting(\\'rid\\',\\'99998\\').setTargeting(\\'pt\\',\\'1\\').setTargeting(\\'al\\',\\'1001\\').setTargeting(\\'compid\\',\\'0\\').setTargeting(\\'tap\\',\\'dolarhoje_net_br-box-2-584792\\').setTargeting(\\'eb_br\\',\\'43aa1607a0c08c74b14a9039e7b909b4\\').setTargeting(\\'eba\\',\\'1\\').setTargeting(\\'asau\\',\\'7521289539\\').setTargeting(\\'bv\\',\\'0\\').setTargeting(\\'bvm\\',\\'1\\').setTargeting(\\'bvr\\',\\'6\\').setTargeting(\\'shp\\',\\'3\\').setTargeting(\\'acptad\\',\\'1\\').setCollapseEmptyDiv(false).setTargeting(\\'ft\\',\\'1\\').setTargeting(\\'br1\\',\\'220\\').setTargeting(\\'br2\\',\\'100\\').setTargeting(\\'ezoic\\',\\'1\\').setTargeting(\\'nmau\\',\\'3\\').setTargeting(\\'mau\\',\\'0\\').setTargeting(\\'stl\\',\\'40\\').setTargeting(\\'deal1\\',[20,21,22,23,24,25,26,27,3]);ezslot_1.set(\\'adsense_background_color\\',\\'FFFFFF\\').set(\\'adsense_border_color\\',\\'FFFFFF\\').set(\\'adsense_channel_ids\\',\\'5989714468\\').set(\\'adsense_link_color\\',\\'37a5d7\\').set(\\'adsense_text_color\\',\\'000000\\').set(\\'adsense_url_color\\',\\'F0F0F0\\');ezrpos[1]=\"1\";ezslot_2 = googletag.defineSlot(\\'/1254144/dolarhoje_net_br-box-2\\',[300,250],\\'div-gpt-ad-dolarhoje_net_br-box-2-0_1\\').addService(googletag.pubads()).setTargeting(\\'iid6\\',\\'584792\\').setTargeting(\\'t\\',\\'134\\').setTargeting(\\'d\\',\\'187851\\').setTargeting(\\'t1\\',\\'134\\').setTargeting(\\'pvc\\',\\'0\\').setTargeting(\\'ap\\',\\'1112\\').setTargeting(\\'sap\\',\\'1112\\').setTargeting(\\'a\\',\\'|6|\\').setTargeting(\\'as\\',\\'revenue\\').setTargeting(\\'plat\\',\\'1\\').setTargeting(\\'bra\\',\\'mod10\\').setTargeting(\\'ic\\',\\'1\\').setTargeting(\\'at\\',\\'mbf\\').setTargeting(\\'adr\\',\\'399\\').setTargeting(\\'ezosn\\',\\'2\\').setTargeting(\\'reft\\',\\'tf\\').setTargeting(\\'refs\\',\\'30\\').setTargeting(\\'ga\\',\\'2497208\\').setTargeting(\\'gala\\',\\'\\').setTargeting(\\'rid\\',\\'99998\\').setTargeting(\\'pt\\',\\'1\\').setTargeting(\\'al\\',\\'1001\\').setTargeting(\\'compid\\',\\'0\\').setTargeting(\\'tap\\',\\'dolarhoje_net_br-box-2-584792\\').setTargeting(\\'eb_br\\',\\'43aa1607a0c08c74b14a9039e7b909b4\\').setTargeting(\\'eba\\',\\'1\\').setTargeting(\\'asau\\',\\'7521289539\\').setTargeting(\\'bv\\',\\'0\\').setTargeting(\\'bvm\\',\\'1\\').setTargeting(\\'bvr\\',\\'6\\').setTargeting(\\'shp\\',\\'3\\').setTargeting(\\'acptad\\',\\'1\\').setCollapseEmptyDiv(false).setTargeting(\\'ft\\',\\'1\\').setTargeting(\\'br1\\',\\'220\\').setTargeting(\\'br2\\',\\'100\\').setTargeting(\\'ezoic\\',\\'1\\').setTargeting(\\'nmau\\',\\'3\\').setTargeting(\\'mau\\',\\'1\\').setTargeting(\\'stl\\',\\'37\\').setTargeting(\\'deal1\\',[20,21,22,23,24,25,26,27,3]);ezslot_2.set(\\'adsense_background_color\\',\\'FFFFFF\\').set(\\'adsense_border_color\\',\\'FFFFFF\\').set(\\'adsense_channel_ids\\',\\'5989714468\\').set(\\'adsense_link_color\\',\\'858585\\').set(\\'adsense_text_color\\',\\'000000\\').set(\\'adsense_url_color\\',\\'F0F0F0\\');ezrpos[2]=\"2\";ezslot_3 = googletag.defineSlot(\\'/1254144/dolarhoje_net_br-box-2\\',[300,250],\\'div-gpt-ad-dolarhoje_net_br-box-2-0_2\\').addService(googletag.pubads()).setTargeting(\\'iid6\\',\\'584792\\').setTargeting(\\'t\\',\\'134\\').setTargeting(\\'d\\',\\'187851\\').setTargeting(\\'t1\\',\\'134\\').setTargeting(\\'pvc\\',\\'0\\').setTargeting(\\'ap\\',\\'1112\\').setTargeting(\\'sap\\',\\'1112\\').setTargeting(\\'a\\',\\'|3|\\').setTargeting(\\'as\\',\\'revenue\\').setTargeting(\\'plat\\',\\'1\\').setTargeting(\\'bra\\',\\'mod10\\').setTargeting(\\'ic\\',\\'1\\').setTargeting(\\'at\\',\\'mbf\\').setTargeting(\\'adr\\',\\'399\\').setTargeting(\\'ezosn\\',\\'3\\').setTargeting(\\'reft\\',\\'tf\\').setTargeting(\\'refs\\',\\'30\\').setTargeting(\\'ga\\',\\'2497208\\').setTargeting(\\'gala\\',\\'\\').setTargeting(\\'rid\\',\\'99998\\').setTargeting(\\'pt\\',\\'1\\').setTargeting(\\'al\\',\\'1001\\').setTargeting(\\'compid\\',\\'0\\').setTargeting(\\'tap\\',\\'dolarhoje_net_br-box-2-584792\\').setTargeting(\\'eb_br\\',\\'43aa1607a0c08c74b14a9039e7b909b4\\').setTargeting(\\'eba\\',\\'1\\').setTargeting(\\'asau\\',\\'7521289539\\').setTargeting(\\'bv\\',\\'0\\').setTargeting(\\'bvm\\',\\'1\\').setTargeting(\\'bvr\\',\\'6\\').setTargeting(\\'shp\\',\\'3\\').setTargeting(\\'acptad\\',\\'1\\').setCollapseEmptyDiv(false).setTargeting(\\'ft\\',\\'1\\').setTargeting(\\'br1\\',\\'220\\').setTargeting(\\'br2\\',\\'100\\').setTargeting(\\'ezoic\\',\\'1\\').setTargeting(\\'nmau\\',\\'3\\').setTargeting(\\'mau\\',\\'2\\').setTargeting(\\'stl\\',\\'35\\').setTargeting(\\'deal1\\',[20,21,22,23,24,25,26,27,3]);ezslot_3.set(\\'adsense_background_color\\',\\'FFFFFF\\').set(\\'adsense_border_color\\',\\'FFFFFF\\').set(\\'adsense_channel_ids\\',\\'5989714468\\').set(\\'adsense_link_color\\',\\'0000FF\\').set(\\'adsense_text_color\\',\\'000000\\').set(\\'adsense_url_color\\',\\'828282\\');ezrpos[3]=\"3\";}else{window.ezHideLocations=[];ezslot_4 = googletag.defineSlot(\\'/1254144/dolarhoje_net_br-medrectangle-1\\',[336,280],\\'div-gpt-ad-dolarhoje_net_br-medrectangle-1-0\\').addService(googletag.pubads()).setTargeting(\\'iid7\\',\\'646479\\').setTargeting(\\'t\\',\\'134\\').setTargeting(\\'d\\',\\'187851\\').setTargeting(\\'t1\\',\\'134\\').setTargeting(\\'pvc\\',\\'0\\').setTargeting(\\'ap\\',\\'1117\\').setTargeting(\\'sap\\',\\'1117\\').setTargeting(\\'a\\',\\'|3|\\').setTargeting(\\'as\\',\\'revenue\\').setTargeting(\\'plat\\',\\'1\\').setTargeting(\\'bra\\',\\'mod10\\').setTargeting(\\'ic\\',\\'1\\').setTargeting(\\'at\\',\\'mbf\\').setTargeting(\\'adr\\',\\'399\\').setTargeting(\\'ezosn\\',\\'4\\').setTargeting(\\'reft\\',\\'tf\\').setTargeting(\\'refs\\',\\'30\\').setTargeting(\\'ga\\',\\'2497208\\').setTargeting(\\'gala\\',\\'\\').setTargeting(\\'rid\\',\\'99998\\').setTargeting(\\'pt\\',\\'4\\').setTargeting(\\'al\\',\\'1004\\').setTargeting(\\'compid\\',\\'0\\').setTargeting(\\'tap\\',\\'dolarhoje_net_br-medrectangle-1-646479\\').setTargeting(\\'eb_br\\',\\'3ba982fc4238dd4197b1d51b345478dc\\').setTargeting(\\'eba\\',\\'1\\').setTargeting(\\'asau\\',\\'7521289539\\').setTargeting(\\'bv\\',\\'30\\').setTargeting(\\'bvm\\',\\'3\\').setTargeting(\\'bvr\\',\\'4\\').setTargeting(\\'shp\\',\\'3\\').setTargeting(\\'acptad\\',\\'1\\').setCollapseEmptyDiv(false).setTargeting(\\'ft\\',\\'1\\').setTargeting(\\'br1\\',\\'50\\').setTargeting(\\'br2\\',\\'26\\').setTargeting(\\'ezoic\\',\\'1\\').setTargeting(\\'nmau\\',\\'0\\').setTargeting(\\'mau\\',\\'0\\').setTargeting(\\'stl\\',\\'66\\').setTargeting(\\'deal1\\',[17,19,20,21,22,23,24,25,26,3,4]).defineSizeMapping(googletag.sizeMapping().addSize([300,0], [336,280]).addSize([0,0], [250,250]).addSize([0,0], [300,250]).addSize([0,0], [468,60]).addSize([0,0], [970,250]).addSize([0,0], [728,90]).addSize([0,0], [580,400]).build());ezslot_4.set(\\'adsense_background_color\\',\\'FFFFFF\\').set(\\'adsense_border_color\\',\\'FFFFFF\\').set(\\'adsense_channel_ids\\',\\'5989714468\\').set(\\'adsense_link_color\\',\\'0000FF\\').set(\\'adsense_text_color\\',\\'000000\\').set(\\'adsense_url_color\\',\\'828282\\');ezrpos[4]=\"4\";window.ezHideLocations.push(\\'div-gpt-ad-dolarhoje_net_br-medrectangle-2-0\\');ezslot_1 = googletag.defineSlot(\\'/1254144/dolarhoje_net_br-box-2\\',[300,250],\\'div-gpt-ad-dolarhoje_net_br-box-2-0\\').addService(googletag.pubads()).setTargeting(\\'iid6\\',\\'584792\\').setTargeting(\\'t\\',\\'134\\').setTargeting(\\'d\\',\\'187851\\').setTargeting(\\'t1\\',\\'134\\').setTargeting(\\'pvc\\',\\'0\\').setTargeting(\\'ap\\',\\'1112\\').setTargeting(\\'sap\\',\\'1112\\').setTargeting(\\'a\\',\\'|2|\\').setTargeting(\\'as\\',\\'revenue\\').setTargeting(\\'plat\\',\\'1\\').setTargeting(\\'bra\\',\\'mod10\\').setTargeting(\\'ic\\',\\'1\\').setTargeting(\\'at\\',\\'mbf\\').setTargeting(\\'adr\\',\\'399\\').setTargeting(\\'ezosn\\',\\'1\\').setTargeting(\\'reft\\',\\'tf\\').setTargeting(\\'refs\\',\\'30\\').setTargeting(\\'ga\\',\\'2497208\\').setTargeting(\\'gala\\',\\'\\').setTargeting(\\'rid\\',\\'99998\\').setTargeting(\\'pt\\',\\'1\\').setTargeting(\\'al\\',\\'1001\\').setTargeting(\\'compid\\',\\'0\\').setTargeting(\\'tap\\',\\'dolarhoje_net_br-box-2-584792\\').setTargeting(\\'eb_br\\',\\'43aa1607a0c08c74b14a9039e7b909b4\\').setTargeting(\\'eba\\',\\'1\\').setTargeting(\\'asau\\',\\'7521289539\\').setTargeting(\\'bv\\',\\'0\\').setTargeting(\\'bvm\\',\\'1\\').setTargeting(\\'bvr\\',\\'6\\').setTargeting(\\'shp\\',\\'3\\').setTargeting(\\'acptad\\',\\'1\\').setCollapseEmptyDiv(false).setTargeting(\\'ft\\',\\'1\\').setTargeting(\\'br1\\',\\'220\\').setTargeting(\\'br2\\',\\'100\\').setTargeting(\\'ezoic\\',\\'1\\').setTargeting(\\'nmau\\',\\'3\\').setTargeting(\\'mau\\',\\'0\\').setTargeting(\\'stl\\',\\'40\\').setTargeting(\\'deal1\\',[20,21,22,23,24,25,26,27,3]);ezslot_1.set(\\'adsense_background_color\\',\\'FFFFFF\\').set(\\'adsense_border_color\\',\\'FFFFFF\\').set(\\'adsense_channel_ids\\',\\'5989714468\\').set(\\'adsense_link_color\\',\\'37a5d7\\').set(\\'adsense_text_color\\',\\'000000\\').set(\\'adsense_url_color\\',\\'F0F0F0\\');ezrpos[1]=\"1\";ezslot_2 = googletag.defineSlot(\\'/1254144/dolarhoje_net_br-box-2\\',[300,250],\\'div-gpt-ad-dolarhoje_net_br-box-2-0_1\\').addService(googletag.pubads()).setTargeting(\\'iid6\\',\\'584792\\').setTargeting(\\'t\\',\\'134\\').setTargeting(\\'d\\',\\'187851\\').setTargeting(\\'t1\\',\\'134\\').setTargeting(\\'pvc\\',\\'0\\').setTargeting(\\'ap\\',\\'1112\\').setTargeting(\\'sap\\',\\'1112\\').setTargeting(\\'a\\',\\'|6|\\').setTargeting(\\'as\\',\\'revenue\\').setTargeting(\\'plat\\',\\'1\\').setTargeting(\\'bra\\',\\'mod10\\').setTargeting(\\'ic\\',\\'1\\').setTargeting(\\'at\\',\\'mbf\\').setTargeting(\\'adr\\',\\'399\\').setTargeting(\\'ezosn\\',\\'2\\').setTargeting(\\'reft\\',\\'tf\\').setTargeting(\\'refs\\',\\'30\\').setTargeting(\\'ga\\',\\'2497208\\').setTargeting(\\'gala\\',\\'\\').setTargeting(\\'rid\\',\\'99998\\').setTargeting(\\'pt\\',\\'1\\').setTargeting(\\'al\\',\\'1001\\').setTargeting(\\'compid\\',\\'0\\').setTargeting(\\'tap\\',\\'dolarhoje_net_br-box-2-584792\\').setTargeting(\\'eb_br\\',\\'43aa1607a0c08c74b14a9039e7b909b4\\').setTargeting(\\'eba\\',\\'1\\').setTargeting(\\'asau\\',\\'7521289539\\').setTargeting(\\'bv\\',\\'0\\').setTargeting(\\'bvm\\',\\'1\\').setTargeting(\\'bvr\\',\\'6\\').setTargeting(\\'shp\\',\\'3\\').setTargeting(\\'acptad\\',\\'1\\').setCollapseEmptyDiv(false).setTargeting(\\'ft\\',\\'1\\').setTargeting(\\'br1\\',\\'220\\').setTargeting(\\'br2\\',\\'100\\').setTargeting(\\'ezoic\\',\\'1\\').setTargeting(\\'nmau\\',\\'3\\').setTargeting(\\'mau\\',\\'1\\').setTargeting(\\'stl\\',\\'37\\').setTargeting(\\'deal1\\',[20,21,22,23,24,25,26,27,3]);ezslot_2.set(\\'adsense_background_color\\',\\'FFFFFF\\').set(\\'adsense_border_color\\',\\'FFFFFF\\').set(\\'adsense_channel_ids\\',\\'5989714468\\').set(\\'adsense_link_color\\',\\'858585\\').set(\\'adsense_text_color\\',\\'000000\\').set(\\'adsense_url_color\\',\\'F0F0F0\\');ezrpos[2]=\"2\";ezslot_3 = googletag.defineSlot(\\'/1254144/dolarhoje_net_br-box-2\\',[300,250],\\'div-gpt-ad-dolarhoje_net_br-box-2-0_2\\').addService(googletag.pubads()).setTargeting(\\'iid6\\',\\'584792\\').setTargeting(\\'t\\',\\'134\\').setTargeting(\\'d\\',\\'187851\\').setTargeting(\\'t1\\',\\'134\\').setTargeting(\\'pvc\\',\\'0\\').setTargeting(\\'ap\\',\\'1112\\').setTargeting(\\'sap\\',\\'1112\\').setTargeting(\\'a\\',\\'|3|\\').setTargeting(\\'as\\',\\'revenue\\').setTargeting(\\'plat\\',\\'1\\').setTargeting(\\'bra\\',\\'mod10\\').setTargeting(\\'ic\\',\\'1\\').setTargeting(\\'at\\',\\'mbf\\').setTargeting(\\'adr\\',\\'399\\').setTargeting(\\'ezosn\\',\\'3\\').setTargeting(\\'reft\\',\\'tf\\').setTargeting(\\'refs\\',\\'30\\').setTargeting(\\'ga\\',\\'2497208\\').setTargeting(\\'gala\\',\\'\\').setTargeting(\\'rid\\',\\'99998\\').setTargeting(\\'pt\\',\\'1\\').setTargeting(\\'al\\',\\'1001\\').setTargeting(\\'compid\\',\\'0\\').setTargeting(\\'tap\\',\\'dolarhoje_net_br-box-2-584792\\').setTargeting(\\'eb_br\\',\\'43aa1607a0c08c74b14a9039e7b909b4\\').setTargeting(\\'eba\\',\\'1\\').setTargeting(\\'asau\\',\\'7521289539\\').setTargeting(\\'bv\\',\\'0\\').setTargeting(\\'bvm\\',\\'1\\').setTargeting(\\'bvr\\',\\'6\\').setTargeting(\\'shp\\',\\'3\\').setTargeting(\\'acptad\\',\\'1\\').setCollapseEmptyDiv(false).setTargeting(\\'ft\\',\\'1\\').setTargeting(\\'br1\\',\\'220\\').setTargeting(\\'br2\\',\\'100\\').setTargeting(\\'ezoic\\',\\'1\\').setTargeting(\\'nmau\\',\\'3\\').setTargeting(\\'mau\\',\\'2\\').setTargeting(\\'stl\\',\\'35\\').setTargeting(\\'deal1\\',[20,21,22,23,24,25,26,27,3]);ezslot_3.set(\\'adsense_background_color\\',\\'FFFFFF\\').set(\\'adsense_border_color\\',\\'FFFFFF\\').set(\\'adsense_channel_ids\\',\\'5989714468\\').set(\\'adsense_link_color\\',\\'0000FF\\').set(\\'adsense_text_color\\',\\'000000\\').set(\\'adsense_url_color\\',\\'828282\\');ezrpos[3]=\"3\";}googletag.pubads().addEventListener(\\'slotRenderEnded\\', function(event) { __ez.queue.addFunc(\"ezbanger\", \"ezbanger\", event, false, [\\'banger.js\\'], true, true, false, true); });googletag.pubads().addEventListener(\\'impressionViewable\\', function(event) { __ez.queue.addFunc(\"ezvb\", \"ezvb\", event, false, [\\'banger.js\\'], true, true, false, true); });googletag.pubads().addEventListener(\\'slotResponseReceived\\', function(event) { __ez.queue.addFunc(\"ezsr\", \"ezsr\", event, false, [\\'banger.js\\'], true, true, false, true); });googletag.pubads().addEventListener(\\'slotRequested\\', function(e) { window.ezsrqt[e.slot.getSlotElementId()] = Date.now();});googletag.pubads().enableLazyLoad({fetchMarginPercent: 400, renderMarginPercent: 250, mobileScaling: 2.0});googletag.enableServices();});window.ezoll = false;window.ezoadxnc = \\'1254144\\';window.ezorefgsl=function(r){Array.isArray(r)||(r=[r]);for(var e=r.length,o=Array(),a=0;a<e;a++){var t=r[a];t.setTargeting(\"reqt\",Date.now()),void 0!==t.DFPSlot?o.push(t.DFPSlot):o.push(t)}googletag.pubads().refresh(o)};var ezoibfh = Array();ezoibfh[0] = \\'zero\\';ezoibfh[1000000] = \\'off\\';ezoibfh[220] = \\'43aa1607a0c08c74b14a9039e7b909b4\\';\\nezoibfh[30] = \\'54d0fa6d5f6aabe7623cb24faa42a441\\';\\nezoibfh[20] = \\'7432360301409ae695ba255f16fbcf06\\';\\nezoibfh[200] = \\'86802a923a1f32517e4c5d3b6d550271\\';\\nezoibfh[90] = \\'b355e9227b551c119a30a68852723b62\\';\\nezoibfh[60] = \\'c352ba581bd3ffd8cea608cf2d55f519\\';\\nezoibfh[40] = \\'ee685f77592ce296910ee91457d66ba3\\';\\nezoibfh[50] = \\'3ba982fc4238dd4197b1d51b345478dc\\';\\nezoibfh[10] = \\'291d27313eb66c50243129b23df8a579\\';\\nezoibfh[120] = \\'58ef7bddb438af5e257c4377f32c243a\\';\\nezoibfh[100] = \\'a495ce7dbb4cefcd3e0a722048894f41\\';\\nezoibfh[80] = \\'dfa60cee6e1053fc0c9e607c8047bd28\\';\\nezoibfh[70] = \\'527e52c10635ac8136a4c84094ee49a8\\';\\nezoibfh[180] = \\'9ae587f95e95c876b7b76fd4c72a3838\\';\\nezoibfh[160] = \\'3530fcb6bcc13dc3c1712eaef7d92700\\';\\nezoibfh[140] = \\'af063c244089b52ec5a0423a258f1f8e\\';\\nvar ezaxmns = {};var ezaucmns = {};ezaxmns[\"div-gpt-ad-dolarhoje_net_br-medrectangle-1-0\"] = 0;ezaucmns[\"div-gpt-ad-dolarhoje_net_br-medrectangle-1-0\"] = 0;ezaxmns[\"div-gpt-ad-dolarhoje_net_br-medrectangle-2-0\"] = 0;ezaucmns[\"div-gpt-ad-dolarhoje_net_br-medrectangle-2-0\"] = 0;ezaxmns[\"div-gpt-ad-dolarhoje_net_br-box-2-0\"] = 0;ezaucmns[\"div-gpt-ad-dolarhoje_net_br-box-2-0\"] = 0;ezaxmns[\"div-gpt-ad-dolarhoje_net_br-box-2-0_1\"] = 0;ezaucmns[\"div-gpt-ad-dolarhoje_net_br-box-2-0_1\"] = 0;ezaxmns[\"div-gpt-ad-dolarhoje_net_br-box-2-0_2\"] = 0;ezaucmns[\"div-gpt-ad-dolarhoje_net_br-box-2-0_2\"] = 0;if(typeof window.isEZABL == \\'undefined\\' || window.isEZABL != true) {ezslots.push(\"ezslot_4\");ezslots.push(\"ezslot_0\");ezslots.push(\"ezslot_1\");ezslots.push(\"ezslot_2\");ezslots.push(\"ezslot_3\");}else{ezslots.push(\"ezslot_4\");ezslots.push(\"ezslot_1\");ezslots.push(\"ezslot_2\");ezslots.push(\"ezslot_3\");}\\n  </script>\\n  <script type=\"text/javascript\">\\n   (function(){function storageAvailable(type){var storage;try{storage=window[type];var x=\\'__storage_test__\\';storage.setItem(x,x);storage.removeItem(x);return true;}\\ncatch(e){return e instanceof DOMException&&(e.code===22||e.code===1014||e.name===\\'QuotaExceededError\\'||e.name===\\'NS_ERROR_DOM_QUOTA_REACHED\\')&&(storage&&storage.length!==0);}}\\nfunction remove_ama_config(){if(storageAvailable(\\'localStorage\\')){localStorage.removeItem(\"google_ama_config\");}}\\nremove_ama_config()})()\\n  </script>\\n  <script data-cfasync=\"false\" data-ezscrex=\"false\" data-pagespeed-no-defer=\"\">\\n   var __ez=__ez||{};__ez.stms=Date.now();__ez.evt={};__ez.script={};__ez.ck=__ez.ck||{};__ez.template={};__ez.template.isOrig=false;__ez.queue=(function(){var count=0,incr=0,items=[],timeDelayFired=false,hpItems=[],lpItems=[],allowLoad=true;var obj={func:function(name,funcName,parameters,isBlock,blockedBy,deleteWhenComplete,proceedIfError){var self=this;this.name=name;this.funcName=funcName;this.parameters=parameters===null?null:(parameters instanceof Array)?parameters:[parameters];this.isBlock=isBlock;this.blockedBy=blockedBy;this.deleteWhenComplete=deleteWhenComplete;this.isError=false;this.isComplete=false;this.isInitialized=false;this.proceedIfError=proceedIfError;this.isTimeDelay=false;this.process=function(){log(\"... func = \"+name);self.isInitialized=true;self.isComplete=true;log(\"... func.apply: \"+name);var funcs=self.funcName.split(\\'.\\');var func=null;if(funcs.length>3){}else if(funcs.length===3){func=window[funcs[0]][funcs[1]][funcs[2]];}else if(funcs.length===2){func=window[funcs[0]][funcs[1]];}else{func=window[self.funcName];}\\nif(typeof func!==\\'undefined\\'&&func!==null){func.apply(null,this.parameters);}\\nif(self.deleteWhenComplete===true)delete items[name];if(self.isBlock===true){log(\"----- F\\'D: \"+self.name);processAll();}}},file:function(name,path,isBlock,blockedBy,async,defer,proceedIfError){var self=this;this.name=name;this.path=path;this.async=async;this.defer=defer;this.isBlock=isBlock;this.blockedBy=blockedBy;this.isInitialized=false;this.isError=false;this.isComplete=false;this.proceedIfError=proceedIfError;this.isTimeDelay=false;this.process=function(){self.isInitialized=true;log(\"... file = \"+name);var scr=document.createElement(\\'script\\');scr.src=path;if(async===true)scr.async=true;else if(defer===true)scr.defer=true;scr.onerror=function(){log(\"----- ERR\\'D: \"+self.name);self.isError=true;if(self.isBlock===true){processAll();}};scr.onreadystatechange=scr.onload=function(){var state=scr.readyState;log(\"----- F\\'D: \"+self.name);if((!state||/loaded|complete/.test(state))){self.isComplete=true;if(self.isBlock===true){processAll();}}};document.getElementsByTagName(\\'head\\')[0].appendChild(scr);}}};function init(){window.addEventListener(\"load\",function(){setTimeout(function(){timeDelayFired=true;log(\\'TDELAY -----\\');processAll();},5000);},false);}\\nfunction addFile(name,path,isBlock,blockedBy,async,defer,proceedIfError,priority){var item=new obj.file(name,path,isBlock,blockedBy,async,defer,proceedIfError);if(priority===true){hpItems[name]=item}else{lpItems[name]=item}\\nitems[name]=item;checkIfBlocked(item);}\\nfunction setallowLoad(settobool){allowLoad=settobool}\\nfunction addFunc(name,func,parameters,isBlock,blockedBy,autoInc,deleteWhenComplete,proceedIfError,priority){if(autoInc===true)name=name+\"_\"+incr++;var item=new obj.func(name,func,parameters,isBlock,blockedBy,deleteWhenComplete,proceedIfError);if(priority===true){hpItems[name]=item}else{lpItems[name]=item}\\nitems[name]=item;checkIfBlocked(item);}\\nfunction addTimeDelayFile(name,path){var item=new obj.file(name,path,false,[],false,false,true);item.isTimeDelay=true;log(name+\\' ... \\'+\\' FILE! TDELAY\\');lpItems[name]=item;items[name]=item;checkIfBlocked(item);}\\nfunction addTimeDelayFunc(name,func,parameters){var item=new obj.func(name,func,parameters,false,[],true,true);item.isTimeDelay=true;log(name+\\' ... \\'+\\' FUNCTION! TDELAY\\');lpItems[name]=item;items[name]=item;checkIfBlocked(item);}\\nfunction checkIfBlocked(item){if(isBlocked(item)===true||allowLoad==false)return;item.process();}\\nfunction isBlocked(item){if(item.isTimeDelay===true&&timeDelayFired===false){log(item.name+\" blocked = TIME DELAY!\");return true;}\\nif(item.blockedBy instanceof Array){for(var i=0;i<item.blockedBy.length;i++){var block=item.blockedBy[i];if(items.hasOwnProperty(block)===false){log(item.name+\" blocked = \"+block);return true;}else if(item.proceedIfError===true&&items[block].isError===true){return false;}else if(items[block].isComplete===false){log(item.name+\" blocked = \"+block);return true;}}}\\nreturn false;}\\nfunction log(msg){var href=window.location.href;var reg=new RegExp(\\'[?&]ezq=([^&#]*)\\',\\'i\\');var string=reg.exec(href);var res=string?string[1]:null;if(res===\"1\")console.debug(msg);}\\nfunction processAll(){count++;if(count>200)return;log(\"let\\'s go\");processItems(hpItems);processItems(lpItems);}\\nfunction processItems(list){for(var i in list){if(list.hasOwnProperty(i)===false)continue;var item=list[i];if(item.isComplete===true||isBlocked(item)||item.isInitialized===true||item.isError===true){if(item.isError===true){log(item.name+\\': error\\')}else if(item.isComplete===true){log(item.name+\\': complete already\\')}else if(item.isInitialized===true){log(item.name+\\': initialized already\\')}}else{item.process();}}}\\ninit();return{addFile:addFile,addDelayFile:addTimeDelayFile,addFunc:addFunc,addDelayFunc:addTimeDelayFunc,items:items,processAll:processAll,setallowLoad:setallowLoad};})();__ez.evt.add=function(e,t,n){e.addEventListener?e.addEventListener(t,n,!1):e.attachEvent?e.attachEvent(\"on\"+t,n):e[\"on\"+t]=n()},__ez.evt.remove=function(e,t,n){e.removeEventListener?e.removeEventListener(t,n,!1):e.detachEvent?e.detachEvent(\"on\"+t,n):delete e[\"on\"+t]};__ez.script.add=function(e){var t=document.createElement(\"script\");t.src=e,t.async=!0,t.type=\"text/javascript\",document.getElementsByTagName(\"head\")[0].appendChild(t)};__ez.queue.addFile(\\'/detroitchicago/boise.js\\', \\'//ezodn.com/detroitchicago/boise.js?gcb=188-0&cb=1\\', false, [], true, false, true, false);\\n  </script>\\n  <script data-cfasync=\"false\" data-ezscrex=\"false\" type=\"text/javascript\">\\n   var _ezaq = {\"ad_cache_level\":2,\"ad_count_adjustment\":0,\"ad_lazyload_version\":1,\"ad_location_ids\":\"5,1,1,1,4\",\"ad_transform_level\":0,\"adx_ad_count\":5,\"bidder_method\":1,\"bidder_version\":1,\"city\":\"Itaquaquecetuba\",\"country\":\"BR\",\"days_since_last_visit\":-1,\"display_ad_count\":2,\"domain_id\":187851,\"ds_adsize_opt_id\":-1,\"engaged_time_visit\":0,\"ezcache_level\":1,\"forensiq_score\":-1,\"form_factor_id\":1,\"framework_id\":1,\"has_bad_image\":0,\"has_bad_words\":0,\"iab_category\":\"\",\"is_from_recommended_pages\":false,\"is_return_visitor\":false,\"is_sitespeed\":0,\"last_page_load\":\"\",\"last_pageview_id\":\"\",\"lt_cache_level\":0,\"max_ads\":9,\"metro_code\":0,\"optimization_version\":1,\"page_ad_positions\":\"1100,1112,1112,1112,1117\",\"page_view_count\":0,\"page_view_id\":\"194f8ef5-ada2-463f-7335-a281e98e49cc\",\"position_selection_id\":32,\"postal_code\":\"08570\",\"pv_event_count\":0,\"response_time_orig\":694,\"serverid\":\"18.228.192.27:13905\",\"state\":\"SP\",\"sub_page_ad_positions\":\"1100,1112,1112,1112,1117\",\"t_epoch\":1591792443,\"template_id\":134,\"time_on_site_visit\":0,\"url\":\"https://www.dolarhoje.net.br/dolar-comercial/\",\"user_id\":0,\"weather_precipitation\":0,\"weather_summary\":\"\",\"weather_temperature\":0,\"word_count\":1065,\"worst_bad_word_level\":0};var _ezim_d = {\"dolarhoje_net_br-box-2\":{\"adsense_stat_source_id\":5,\"adx_ad_count\":5,\"adx_stat_source_id\":35,\"full_id\":\"dolarhoje_net_br-box-2/2020-06-10/584792\",\"position_id\":1112,\"sub_position_id\":1112},\"dolarhoje_net_br-box-2_1\":{\"adsense_stat_source_id\":5,\"adx_ad_count\":5,\"adx_stat_source_id\":35,\"full_id\":\"dolarhoje_net_br-box-2/2020-06-10/584792\",\"position_id\":1112,\"sub_position_id\":1112},\"dolarhoje_net_br-box-2_2\":{\"adsense_stat_source_id\":5,\"adx_ad_count\":5,\"adx_stat_source_id\":35,\"full_id\":\"dolarhoje_net_br-box-2/2020-06-10/584792\",\"position_id\":1112,\"sub_position_id\":1112},\"dolarhoje_net_br-medrectangle-1\":{\"adsense_stat_source_id\":5,\"adx_ad_count\":5,\"adx_stat_source_id\":35,\"full_id\":\"dolarhoje_net_br-medrectangle-1/2020-06-10/646479\",\"height\":\"280\",\"position_id\":1117,\"sub_position_id\":1117,\"width\":\"336\"},\"dolarhoje_net_br-medrectangle-2\":{\"adsense_stat_source_id\":5,\"adx_ad_count\":5,\"adx_stat_source_id\":35,\"full_id\":\"dolarhoje_net_br-medrectangle-2/2020-06-10/585646\",\"height\":\"90\",\"position_id\":1100,\"sub_position_id\":1100,\"width\":\"970\"}};var _ezat = {\"domain_id\":187851,\"form_factor_id\":1,\"framework_id\":1,\"pageview_date\":\"2020-06-10\",\"pageview_id\":\"194f8ef5-ada2-463f-7335-a281e98e49cc\",\"template_id\":134,\"url\":\"https://www.dolarhoje.net.br/dolar-comercial/\",\"visit_uuid\":\"f554784e-6d3c-4e51-588e-1191164e9630\"};\\n  </script>\\n  <script data-cfasync=\"false\" data-ezscrex=\"false\" data-pagespeed-no-defer=\"\" type=\"text/javascript\">\\n   __ez.queue.addFile(\\'banger.js\\', \\'/porpoiseant/banger.js?cb=188-0&bv=55&v=34&PageSpeed=off\\', true, [], true, false, false, true);\\n  </script>\\n  <script>\\n   (function(){function __ezSetCookie(cname,cvalue,exdays){var d=new Date();d.setTime(d.getTime()+(exdays*24*60*60*1000));var expires=\"expires=\"+d.toUTCString();var ck=cname+\"=\"+cvalue+\";\"+expires+\";path=/;\";if(typeof ezdomain!==\"undefined\")ck+=\"domain=\"+ezdomain;document.cookie=ck;}\\nvar eventMethod=window.addEventListener?\"addEventListener\":\"attachEvent\";var eventer=window[eventMethod];var messageEvent=eventMethod===\"attachEvent\"?\"onmessage\":\"message\";eventer(messageEvent,function(e){if(typeof(e.data.ezstatus)!==\"undefined\"){__ez.bit.AddAndFire(_ezaq[\"page_view_id\"],[(new __ezDotData(\\'dg\\',e.data.ezstatus))]);__ezSetCookie(\"ezdg\",e.data.ezstatus,730);}});})();\\n  </script>\\n  <script data-cfasync=\"false\" data-ezscrex=\"false\" data-pagespeed-no-defer=\"\">\\n   __ez.dot={};var __ezDotData=function(name,val){if(typeof(name)!=\\'string\\'&&name.length==2){val=name[1];name=name[0];}\\nthis.name=name;this.val=val;};__ez.dot.b64={_keyStr:\"ABCDEFGHIJKLMNOPQRSTUVWXYZabcdefghijklmnopqrstuvwxyz0123456789+/=\",encode:function(e){var t=\"\";var n,r,i,s,o,u,a;var f=0;e=Base64._utf8_encode(e);while(f<e.length){n=e.charCodeAt(f++);r=e.charCodeAt(f++);i=e.charCodeAt(f++);s=n>>2;o=(n&3)<<4|r>>4;u=(r&15)<<2|i>>6;a=i&63;if(isNaN(r)){u=a=64}else if(isNaN(i)){a=64}t=t+this._keyStr.charAt(s)+this._keyStr.charAt(o)+this._keyStr.charAt(u)+this._keyStr.charAt(a)}return t},decode:function(e){var t=\"\";var n,r,i;var s,o,u,a;var f=0;e=e.replace(/[^A-Za-z0-9+/=]/g,\"\");while(f<e.length){s=this._keyStr.indexOf(e.charAt(f++));o=this._keyStr.indexOf(e.charAt(f++));u=this._keyStr.indexOf(e.charAt(f++));a=this._keyStr.indexOf(e.charAt(f++));n=s<<2|o>>4;r=(o&15)<<4|u>>2;i=(u&3)<<6|a;t=t+String.fromCharCode(n);if(u!=64){t=t+String.fromCharCode(r)}if(a!=64){t=t+String.fromCharCode(i)}}t=Base64._utf8_decode(t);return t},_utf8_encode:function(e){e=e.replace(/rn/g,\"n\");var t=\"\";for(var n=0;n<e.length;n++){var r=e.charCodeAt(n);if(r<128){t+=String.fromCharCode(r)}else if(r>127&&r<2048){t+=String.fromCharCode(r>>6|192);t+=String.fromCharCode(r&63|128)}else{t+=String.fromCharCode(r>>12|224);t+=String.fromCharCode(r>>6&63|128);t+=String.fromCharCode(r&63|128)}}return t},_utf8_decode:function(e){var t=\"\";var n=0;var r=c1=c2=0;while(n<e.length){r=e.charCodeAt(n);if(r<128){t+=String.fromCharCode(r);n++}else if(r>191&&r<224){c2=e.charCodeAt(n+1);t+=String.fromCharCode((r&31)<<6|c2&63);n+=2}else{c2=e.charCodeAt(n+1);c3=e.charCodeAt(n+2);t+=String.fromCharCode((r&15)<<12|(c2&63)<<6|c3&63);n+=3}}return t}};__ez.dot.dataToStr=function(pixelData){if(typeof pixelData===\"undefined\"){return[]}\\ntry{for(var i in pixelData){pixelData[i].val=pixelData[i].val+\\'\\';}}catch(e){}\\nreturn pixelData};__ez.dot.getCC=function(){var countryCode=\"XX\";if(typeof _ezaq!==\"undefined\"&&_ezaq.hasOwnProperty(\"country\")){countryCode=_ezaq.country;}\\nreturn countryCode;};__ez.dot.getDID=function(){var domainId=\"0\";if(typeof _ezaq!==\"undefined\"&&_ezaq.hasOwnProperty(\"domain_id\")){domainId=_ezaq.domain_id.toString();}\\nreturn domainId;};__ez.dot.getEpoch=function(tEpoch){if(typeof _ezaq!==\"undefined\"&&_ezaq.hasOwnProperty(\"t_epoch\")){tEpoch=_ezaq.t_epoch;}\\nreturn tEpoch};__ez.dot.getPageviewId=function(){var pageviewId=\"\";if(typeof _ezaq!==\"undefined\"&&_ezaq.hasOwnProperty(\"page_view_id\")){pageviewId=_ezaq.page_view_id;}\\nreturn pageviewId;};__ez.dot.getURL=function(pxURL){if((typeof ezJsu!==\"undefined\"&&ezJsu==true)||(typeof _ez_sa!==\"undefined\"&&_ez_sa==true)||(typeof isAmp!==\\'undefined\\'&&isAmp===true)||(typeof ezWp!==\\'undefined\\'&&ezWp===true)){pxURL=\"//g.ezoic.net\"+pxURL;}\\nreturn pxURL;};__ez.dot.isValid=function(pixelData){for(var i=0;i<pixelData.length;i++){if(pixelData[i]instanceof __ezDotData===false){console.error(\"Invalid data. \",pixelData[i]);return false}}\\nreturn true};__ez.dot.isDefined=function(){for(var i=0;i<arguments.length;i++){if(typeof arguments[i]===\\'undefined\\'||arguments[i]===null){console.error(\"Argument not defined. \",arguments);return false}}\\nreturn true};__ez.dot.isAnyDefined=function(){var result=false;for(var i=0;i<arguments.length;i++){if(typeof arguments[i]!==\\'undefined\\'&&arguments[i]!==null){result=true}}\\nif(result==false){console.error(\"isAnyDefined Arguments not defined. \",arguments);}\\nreturn result};__ez.dot.getSlotIID=function(slot){var iid=\"0\";try{var map=__ez.dot.getTargetingMap(slot),dvid=__ez.dot.getElementId(slot);if(dvid.indexOf(\"div-gpt-ad\")===-1){return iid;}\\nif(typeof map!==\"undefined\"){for(var key in map){if(key.indexOf(\\'iid\\')!==-1&&typeof map[key][0]!==\"undefined\"){iid=map[key][0];break;}}}}catch(e){}\\nreturn iid;};__ez.dot.getElementId=function(slot){if(typeof(slot.ElementId)!=\\'undefined\\'){return slot.ElementId;}else{return slot.getSlotElementId()}};__ez.dot.getAdUnitPath=function(slot){if(typeof(slot.AdUnitPath)!=\\'undefined\\'){return slot.AdUnitPath;}else{return slot.getAdUnitPath()}};__ez.dot.getSizes=function(slot){if(typeof(slot.Sizes)!=\\'undefined\\'){return slot.Sizes;}else{return slot.getSizes();}};__ez.dot.getTargeting=function(slot,key){if(typeof(slot.Targeting)!=\\'undefined\\'){return slot.Targeting[key];}else{return slot.getTargeting(key)[0];}};__ez.dot.getTargetingMap=function(slot){if(typeof(slot.Targeting)!=\\'undefined\\'){return slot.Targeting;}else{return slot.getTargetingMap();}};__ez.dot.getAdUnit=function(adSlot){if(__ez.template.isOrig===true){return __ez.dot.getAdUnitPath(adSlot).split(\"/\").pop()+\"|~ez~|\"+__ez.dot.getElementId(adSlot);}\\nreturn __ez.dot.getElementId(adSlot);};__ez.bit=(function(){var pixels=[],pxURL=\"/detroitchicago/greenoaks.gif\";function AddAndFirePixel(pvId,pixelData){AddPixel(pvId,pixelData);Fire();}\\nfunction AddPixel(pvId,pixelData){if(__ez.dot.isDefined(pvId)&&__ez.dot.isValid(pixelData)){pixels.push({type:\"pageview\",pageview_id:pvId,domain_id:__ez.dot.getDID(),t_epoch:__ez.dot.getEpoch(0),data:__ez.dot.dataToStr(pixelData)})}}\\nfunction Fire(){if(typeof document.visibilityState!==\\'undefined\\'&&document.visibilityState===\"prerender\")return;if(__ez.dot.isDefined(pixels)&&pixels.length>0){(new Image()).src=__ez.dot.getURL(pxURL)+\"?orig=\"+(__ez.template.isOrig===true?1:0)+\"&ds=\"+btoa(JSON.stringify(pixels));}\\npixels=[]}\\nreturn{Add:AddPixel,AddAndFire:AddAndFirePixel,Fire:Fire}})();\\n  </script>\\n  <script data-cfasync=\"false\" data-ezscrex=\"false\" data-pagespeed-no-defer=\"\">\\n   __ez.pel=(function(){var pixels=[],pxURL=\"/porpoiseant/army.gif\";function AddAndFirePixel(adSlot,pixelData){AddPixel(adSlot,pixelData,0,0,0,0,0);Fire();}\\nfunction GetCurrentPixels(){return pixels;}\\nfunction AddPixel(adSlot,pixelData,revenue,est_revenue,bid_floor_filled,bid_floor_prev,stat_source_id){if(!__ez.dot.isDefined(adSlot)||__ez.dot.isAnyDefined(adSlot.getSlotElementId,adSlot.ElementId)==false){return;}\\nvar ad_position_id=parseInt(__ez.dot.getTargeting(adSlot,\\'ap\\'));var impId=__ez.dot.getSlotIID(adSlot),adUnit=__ez.dot.getAdUnit(adSlot);var compId=parseInt(__ez.dot.getTargeting(adSlot,\"compid\"));var lineItemId=0;var creativeId=0;var ezimData=getEzimData(adSlot);if(typeof ezimData==\\'object\\'){if(ezimData.creative_id!==undefined){creativeId=ezimData.creative_id;}\\nif(ezimData.line_item_id!==undefined){lineItemId=ezimData.line_item_id;}}\\nif(__ez.dot.isDefined(impId,adUnit)&&__ez.dot.isValid(pixelData)){pixels.push({type:\"impression\",impression_id:impId,domain_id:__ez.dot.getDID(),unit:adUnit,t_epoch:__ez.dot.getEpoch(0),revenue:revenue,est_revenue:est_revenue,ad_position:ad_position_id,ad_size:\"\",bid_floor_filled:bid_floor_filled,bid_floor_prev:bid_floor_prev,stat_source_id:stat_source_id,country_code:__ez.dot.getCC(),pageview_id:__ez.dot.getPageviewId(),comp_id:compId,line_item_id:lineItemId,creative_id:creativeId,data:__ez.dot.dataToStr(pixelData)});}}\\nfunction AddPixelById(impFullId,pixelData){var vals=impFullId.split(\\'/\\');if(__ez.dot.isDefined(impFullId)&&vals.length===3&&__ez.dot.isValid(pixelData)){var adUnit=vals[0],impId=vals[2];pixels.push({type:\"impression\",impression_id:impId,domain_id:__ez.dot.getDID(),unit:adUnit,t_epoch:__ez.dot.getEpoch(0),pageview_id:__ez.dot.getPageviewId(),data:__ez.dot.dataToStr(pixelData)});}}\\nfunction Fire(){if(typeof document.visibilityState!==\\'undefined\\'&&document.visibilityState===\"prerender\")return;if(__ez.dot.isDefined(pixels)&&pixels.length>0){var pixelURL=__ez.dot.getURL(pxURL)+\"?orig=\"+(__ez.template.isOrig===true?1:0)+\"&sts=\"+btoa(JSON.stringify(pixels));if(typeof window.isAmp!==\\'undefined\\'&&isAmp&&typeof window._ezaq!==\\'undefined\\'&&_ezaq.hasOwnProperty(\"domain_id\")){pixelURL+=\"&visit_uuid=\"+_ezaq[\\'visit_uuid\\'];}\\n(new Image()).src=pixelURL;}\\npixels=[];}\\nfunction getEzimData(adSlot){if(typeof _ezim_d==\"undefined\"){return false}\\nvar adUnitName=__ez.dot.getAdUnitPath(adSlot).split(\\'/\\').pop();if(typeof _ezim_d===\\'object\\'&&_ezim_d.hasOwnProperty(adUnitName)){return _ezim_d[adUnitName];}\\nfor(var ezimKey in _ezim_d){if(ezimKey.split(\\'/\\').pop()===adUnitName){return _ezim_d[ezimKey];}}\\nreturn false;}\\nreturn{Add:AddPixel,AddAndFire:AddAndFirePixel,AddById:AddPixelById,Fire:Fire,GetPixels:GetCurrentPixels,};})();var EzoicPixel=function(){this.pixels=[];this.pixelUrl=\"/ezoic/e.gif\";if((typeof ezJsu!==\"undefined\"&&ezJsu===true)||(typeof _ez_sa!==\"undefined\"&&_ez_sa===true)||((typeof window.isAmp!=\\'undefined\\')&&isAmp===true)||((typeof ezWp!==\\'undefined\\')&&ezWp===true)){this.pixelUrl=\"//g.ezoic.net\"+this.pixelUrl}\\nthis.tEpoch=0;if(typeof _ezaq!==\"undefined\"&&_ezaq.hasOwnProperty(\"t_epoch\")){this.tEpoch=_ezaq.t_epoch}};var EzoicPixelData=function(name,val){this.name=name;this.val=val;};EzoicPixel.prototype={constructor:EzoicPixel,AddAndFireImpPixel:function(adSlot,pixelData){this.AddImpPixel(adSlot,pixelData,0,0,0,0,0);this.FirePixels()},AddAndFirePVPixel:function(pvId,pixelData){this.AddPVPixel(pvId,pixelData);this.FirePixels()},AddImpPixel:function(adSlot,pixelData,revenue,est_revenue,bid_floor_filled,bid_floor_prev,stat_source_id){if(__ez.dot.isDefined(adSlot)==false||__ez.dot.isAnyDefined(adSlot.getSlotElementId,adSlot.ElementId)==false){return}\\nvar ad_position_id=parseInt(__ez.dot.getTargeting(adSlot,\\'ap\\'));var ad_size_array=__ez.dot.getSizes(adSlot)[0];var ad_size=ad_size_array.l.toString()+\"x\"+ad_size_array.j.toString();var domainId=\"0\";var countryCode=\"XX\";if(typeof _ezaq!==\"undefined\"&&_ezaq.hasOwnProperty(\"domain_id\")){domainId=_ezaq.domain_id.toString()}\\nif(typeof _ezaq!==\"undefined\"&&_ezaq.hasOwnProperty(\"country\")){countryCode=_ezaq.country}\\nvar impId=__ez.dot.getSlotIID(adSlot),adUnit=__ez.dot.getSlotElementId(adSlot);if(__ez.dot.isDefined(impId,adUnit)&&this.validateData(pixelData)){pixelData=this.convertDataToStr(pixelData);this.pixels.push({type:\"impression\",impression_id:impId,domain_id:domainId,unit:adUnit,t_epoch:this.tEpoch,revenue:revenue,est_revenue:est_revenue,ad_position:ad_position_id,ad_size:ad_size,bid_floor_filled:bid_floor_filled,bid_floor_prev:bid_floor_prev,stat_source_id:stat_source_id,country_code:countryCode,data:pixelData})}},AddImpPixelById:function(impFullId,pixelData){var domainId=\"0\";if(typeof _ezaq!==\"undefined\"&&_ezaq.hasOwnProperty(\"domain_id\")){domainId=_ezaq.domain_id.toString()}\\nvar vals=impFullId.split(\\'/\\');if(__ez.dot.isDefined(impFullId)&&vals.length===3&&this.validateData(pixelData)){var adUnit=vals[0];var impId=vals[2];pixelData=this.convertDataToStr(pixelData);this.pixels.push({type:\"impression\",impression_id:impId,domain_id:domainId,unit:adUnit,t_epoch:this.tEpoch,data:pixelData})}},AddPVPixel:function(pvId,pixelData){var domainId=\"0\";if(typeof _ezaq!==\"undefined\"&&_ezaq.hasOwnProperty(\"domain_id\")){domainId=_ezaq.domain_id.toString()}\\nif(__ez.dot.isDefined(pvId)&&this.validateData(pixelData)){pixelData=this.convertDataToStr(pixelData);this.pixels.push({type:\"pageview\",pageview_id:pvId,domain_id:domainId,t_epoch:this.tEpoch,data:pixelData})}},FirePixels:function(){if(typeof document.visibilityState!==\\'undefined\\'&&document.visibilityState===\"prerender\"){return}\\nif(__ez.dot.isDefined(this.pixels)&&this.pixels.length>0){(new Image()).src=this.pixelUrl+\"?orig=\"+(__ez.template.isOrig===true?1:0)+\"&pixels=\"+encodeURIComponent(JSON.stringify(this.pixels))}\\nthis.pixels=[]},NewData:function(name,val){return new EzoicPixelData(name,val)},convertDataToStr:function(pixelData){if(typeof pixelData===\"undefined\"){return[]}\\ntry{for(var i in pixelData){pixelData[i].val=pixelData[i].val+\\'\\'}}catch(e){}\\nreturn pixelData},validateData:function(pixelData){for(var i=0;i<pixelData.length;i++){if(pixelData[i]instanceof EzoicPixelData===false){console.error(\"Invalid pixelData. \",pixelData[i]);return false}}\\nreturn true}};__ez.aucep=(function(){var pixels=[],pxURL=\"/porpoiseant/army.gif\";function AddPixel(adSlot,pixelData){if(!__ez.dot.isDefined(adSlot)||__ez.dot.isAnyDefined(adSlot.getSlotElementId,adSlot.ElementId)==false){return;}\\nvar ad_position_id=parseInt(__ez.dot.getTargeting(adSlot,\\'ap\\'));var impId=__ez.dot.getSlotIID(adSlot);var adUnit=__ez.dot.getAdUnit(adSlot);if(__ez.dot.isDefined(impId,adUnit)&&__ez.dot.isValid(pixelData)){pixels.push({type:\"auction\",impression_id:impId,domain_id:__ez.dot.getDID(),unit:adUnit,t_epoch:pixelData[\\'t_epoch\\'],ad_position:ad_position_id,country_code:__ez.dot.getCC(),pageview_id:__ez.dot.getPageviewId(),bid_floor_initial:pixelData[\\'bid_floor_initial\\'],bid_floor_prev:pixelData[\\'bid_floor_prev\\'],bid_floor_filled:pixelData[\\'bid_floor_filled\\'],auction_count:pixelData[\\'auction_count\\'],refresh_ad_count:pixelData[\\'refresh_ad_count\\'],auction_duration:pixelData[\\'auction_duration\\'],multi_ad_unit:pixelData[\\'multi_ad_unit\\'],multi_ad_count:pixelData[\\'multi_ad_count\\'],data:__ez.dot.dataToStr([(new __ezDotData(\"\",\"\"))]),});}}\\nfunction Fire(){if(typeof document.visibilityState!==\\'undefined\\'&&document.visibilityState===\"prerender\"){return;}\\nif(__ez.dot.isDefined(pixels)&&pixels.length>0){var pixelURL=__ez.dot.getURL(pxURL)+\"?orig=\"+(__ez.template.isOrig===true?1:0)+\"&sts=\"+btoa(JSON.stringify(pixels));if(typeof window.isAmp!==\\'undefined\\'&&isAmp&&typeof window._ezaq!==\\'undefined\\'&&_ezaq.hasOwnProperty(\"domain_id\")){pixelURL+=\"&visit_uuid=\"+_ezaq[\\'visit_uuid\\'];}\\n(new Image()).src=pixelURL;}\\npixels=[];}\\nreturn{Add:AddPixel,Fire:Fire};})();\\n  </script>\\n  <script data-cfasync=\"false\" data-ezscrex=\"false\" data-pagespeed-no-defer=\"\" type=\"text/javascript\">\\n   __ez.queue.addFile(\\'rochester.js\\', \\'/detroitchicago/rochester.js?cb=188-0&v=8\\', false, [], true, false, true, true);\\n  </script>\\n  <title>\\n   Dólar comercial - Histórico do valor do dólar\\n  </title>\\n  <meta content=\"IE=edge\" http-equiv=\"X-UA-Compatible\"/>\\n  <meta content=\"Histórico do dólar comercial. Valor do dólar desde 07/1994 quando começou o plano real até presente data.\" name=\"Description\"/>\\n  <meta content=\"dolar hoje, cotação, valor, moeda americana, comercial, turismo\" name=\"keywords\"/>\\n  <meta content=\"euro hoje, cotação, valor, moeda união européia, comercial, turismo\" name=\"Keywords\"/>\\n  <link href=\"https://www.dolarhoje.net.br/dolar-comercial/\" rel=\"canonical\"/>\\n  <link href=\"/imagens/favicon.ico\" rel=\"shortcut icon\"/>\\n  <meta content=\"width=device-width, initial-scale=1\" name=\"viewport\"/>\\n  <style>\\n   *!\\n * Bootstrap v3.3.1 (http://getbootstrap.com)\\n * Copyright 2011-2014 Twitter, Inc.\\n * Licensed under MIT (https://github.com/twbs/bootstrap/blob/master/LICENSE)\\n *//*! normalize.css v3.0.2 | MIT License | git.io/normalize */html{font-family:sans-serif;-webkit-text-size-adjust:100%;-ms-text-size-adjust:100%}body{margin:0}article,aside,details,figcaption,figure,footer,header,hgroup,main,menu,nav,section,summary{display:block}audio,canvas,progress,video{display:inline-block;vertical-align:baseline}audio:not([controls]){display:none;height:0}[hidden],template{display:none}a{background-color:transparent}a:active,a:hover{outline:0}abbr[title]{border-bottom:1px dotted}b,strong{font-weight:700}dfn{font-style:italic}h1{margin:.67em 0;font-size:2em}mark{color:#000;background:#ff0}small{font-size:80%}sub,sup{position:relative;font-size:75%;line-height:0;vertical-align:baseline}sup{top:-.5em}sub{bottom:-.25em}img{border:0}svg:not(:root){overflow:hidden}figure{margin:1em 40px}hr{height:0;-webkit-box-sizing:content-box;-moz-box-sizing:content-box;box-sizing:content-box}pre{overflow:auto}code,kbd,pre,samp{font-family:monospace,monospace;font-size:1em}button,input,optgroup,select,textarea{margin:0;font:inherit;color:inherit}button{overflow:visible}button,select{text-transform:none}button,html input[type=button],input[type=reset],input[type=submit]{-webkit-appearance:button;cursor:pointer}button[disabled],html input[disabled]{cursor:default}button::-moz-focus-inner,input::-moz-focus-inner{padding:0;border:0}input{line-height:normal}input[type=checkbox],input[type=radio]{-webkit-box-sizing:border-box;-moz-box-sizing:border-box;box-sizing:border-box;padding:0}input[type=number]::-webkit-inner-spin-button,input[type=number]::-webkit-outer-spin-button{height:auto}input[type=search]{-webkit-box-sizing:content-box;-moz-box-sizing:content-box;box-sizing:content-box;-webkit-appearance:textfield}input[type=search]::-webkit-search-cancel-button,input[type=search]::-webkit-search-decoration{-webkit-appearance:none}fieldset{padding:.35em .625em .75em;margin:0 2px;border:1px solid silver}legend{padding:0;border:0}textarea{overflow:auto}optgroup{font-weight:700}table{border-spacing:0;border-collapse:collapse}td,th{padding:0}/*! Source: https://github.com/h5bp/html5-boilerplate/blob/master/src/css/main.css */@media print{*,:before,:after{color:#000!important;text-shadow:none!important;background:transparent!important;-webkit-box-shadow:none!important;box-shadow:none!important}a,a:visited{text-decoration:underline}a[href]:after{content:\" (\" attr(href) \")\"}abbr[title]:after{content:\" (\" attr(title) \")\"}a[href^=\"#\"]:after,a[href^=\"javascript:\"]:after{content:\"\"}pre,blockquote{border:1px solid #999;page-break-inside:avoid}thead{display:table-header-group}tr,img{page-break-inside:avoid}img{max-width:100%!important}p,h2,h3{orphans:3;widows:3}h2,h3{page-break-after:avoid}select{background:#fff!important}.navbar{display:none}.btn>.caret,.dropup>.btn>.caret{border-top-color:#000!important}.label{border:1px solid #000}.table{border-collapse:collapse!important}.table td,.table th{background-color:#fff!important}.table-bordered th,.table-bordered td{border:1px solid #ddd!important}}@font-face{font-family:\\'Glyphicons Halflings\\';src:url(../fonts/glyphicons-halflings-regular.eot);src:url(../fonts/glyphicons-halflings-regular.eot?#iefix) format(\\'embedded-opentype\\'),url(../fonts/glyphicons-halflings-regular.woff) format(\\'woff\\'),url(../fonts/glyphicons-halflings-regular.ttf) format(\\'truetype\\'),url(../fonts/glyphicons-halflings-regular.svg#glyphicons_halflingsregular) format(\\'svg\\')}.glyphicon{position:relative;top:1px;display:inline-block;font-family:\\'Glyphicons Halflings\\';font-style:normal;font-weight:400;line-height:1;-webkit-font-smoothing:antialiased;-moz-osx-font-smoothing:grayscale}.glyphicon-asterisk:before{content:\"\\\\2a\"}.glyphicon-plus:before{content:\"\\\\2b\"}.glyphicon-euro:before,.glyphicon-eur:before{content:\"\\\\20ac\"}.glyphicon-minus:before{content:\"\\\\2212\"}.glyphicon-cloud:before{content:\"\\\\2601\"}.glyphicon-envelope:before{content:\"\\\\2709\"}.glyphicon-pencil:before{content:\"\\\\270f\"}.glyphicon-glass:before{content:\"\\\\e001\"}.glyphicon-music:before{content:\"\\\\e002\"}.glyphicon-search:before{content:\"\\\\e003\"}.glyphicon-heart:before{content:\"\\\\e005\"}.glyphicon-star:before{content:\"\\\\e006\"}.glyphicon-star-empty:before{content:\"\\\\e007\"}.glyphicon-user:before{content:\"\\\\e008\"}.glyphicon-film:before{content:\"\\\\e009\"}.glyphicon-th-large:before{content:\"\\\\e010\"}.glyphicon-th:before{content:\"\\\\e011\"}.glyphicon-th-list:before{content:\"\\\\e012\"}.glyphicon-ok:before{content:\"\\\\e013\"}.glyphicon-remove:before{content:\"\\\\e014\"}.glyphicon-zoom-in:before{content:\"\\\\e015\"}.glyphicon-zoom-out:before{content:\"\\\\e016\"}.glyphicon-off:before{content:\"\\\\e017\"}.glyphicon-signal:before{content:\"\\\\e018\"}.glyphicon-cog:before{content:\"\\\\e019\"}.glyphicon-trash:before{content:\"\\\\e020\"}.glyphicon-home:before{content:\"\\\\e021\"}.glyphicon-file:before{content:\"\\\\e022\"}.glyphicon-time:before{content:\"\\\\e023\"}.glyphicon-road:before{content:\"\\\\e024\"}.glyphicon-download-alt:before{content:\"\\\\e025\"}.glyphicon-download:before{content:\"\\\\e026\"}.glyphicon-upload:before{content:\"\\\\e027\"}.glyphicon-inbox:before{content:\"\\\\e028\"}.glyphicon-play-circle:before{content:\"\\\\e029\"}.glyphicon-repeat:before{content:\"\\\\e030\"}.glyphicon-refresh:before{content:\"\\\\e031\"}.glyphicon-list-alt:before{content:\"\\\\e032\"}.glyphicon-lock:before{content:\"\\\\e033\"}.glyphicon-flag:before{content:\"\\\\e034\"}.glyphicon-headphones:before{content:\"\\\\e035\"}.glyphicon-volume-off:before{content:\"\\\\e036\"}.glyphicon-volume-down:before{content:\"\\\\e037\"}.glyphicon-volume-up:before{content:\"\\\\e038\"}.glyphicon-qrcode:before{content:\"\\\\e039\"}.glyphicon-barcode:before{content:\"\\\\e040\"}.glyphicon-tag:before{content:\"\\\\e041\"}.glyphicon-tags:before{content:\"\\\\e042\"}.glyphicon-book:before{content:\"\\\\e043\"}.glyphicon-bookmark:before{content:\"\\\\e044\"}.glyphicon-print:before{content:\"\\\\e045\"}.glyphicon-camera:before{content:\"\\\\e046\"}.glyphicon-font:before{content:\"\\\\e047\"}.glyphicon-bold:before{content:\"\\\\e048\"}.glyphicon-italic:before{content:\"\\\\e049\"}.glyphicon-text-height:before{content:\"\\\\e050\"}.glyphicon-text-width:before{content:\"\\\\e051\"}.glyphicon-align-left:before{content:\"\\\\e052\"}.glyphicon-align-center:before{content:\"\\\\e053\"}.glyphicon-align-right:before{content:\"\\\\e054\"}.glyphicon-align-justify:before{content:\"\\\\e055\"}.glyphicon-list:before{content:\"\\\\e056\"}.glyphicon-indent-left:before{content:\"\\\\e057\"}.glyphicon-indent-right:before{content:\"\\\\e058\"}.glyphicon-facetime-video:before{content:\"\\\\e059\"}.glyphicon-picture:before{content:\"\\\\e060\"}.glyphicon-map-marker:before{content:\"\\\\e062\"}.glyphicon-adjust:before{content:\"\\\\e063\"}.glyphicon-tint:before{content:\"\\\\e064\"}.glyphicon-edit:before{content:\"\\\\e065\"}.glyphicon-share:before{content:\"\\\\e066\"}.glyphicon-check:before{content:\"\\\\e067\"}.glyphicon-move:before{content:\"\\\\e068\"}.glyphicon-step-backward:before{content:\"\\\\e069\"}.glyphicon-fast-backward:before{content:\"\\\\e070\"}.glyphicon-backward:before{content:\"\\\\e071\"}.glyphicon-play:before{content:\"\\\\e072\"}.glyphicon-pause:before{content:\"\\\\e073\"}.glyphicon-stop:before{content:\"\\\\e074\"}.glyphicon-forward:before{content:\"\\\\e075\"}.glyphicon-fast-forward:before{content:\"\\\\e076\"}.glyphicon-step-forward:before{content:\"\\\\e077\"}.glyphicon-eject:before{content:\"\\\\e078\"}.glyphicon-chevron-left:before{content:\"\\\\e079\"}.glyphicon-chevron-right:before{content:\"\\\\e080\"}.glyphicon-plus-sign:before{content:\"\\\\e081\"}.glyphicon-minus-sign:before{content:\"\\\\e082\"}.glyphicon-remove-sign:before{content:\"\\\\e083\"}.glyphicon-ok-sign:before{content:\"\\\\e084\"}.glyphicon-question-sign:before{content:\"\\\\e085\"}.glyphicon-info-sign:before{content:\"\\\\e086\"}.glyphicon-screenshot:before{content:\"\\\\e087\"}.glyphicon-remove-circle:before{content:\"\\\\e088\"}.glyphicon-ok-circle:before{content:\"\\\\e089\"}.glyphicon-ban-circle:before{content:\"\\\\e090\"}.glyphicon-arrow-left:before{content:\"\\\\e091\"}.glyphicon-arrow-right:before{content:\"\\\\e092\"}.glyphicon-arrow-up:before{content:\"\\\\e093\"}.glyphicon-arrow-down:before{content:\"\\\\e094\"}.glyphicon-share-alt:before{content:\"\\\\e095\"}.glyphicon-resize-full:before{content:\"\\\\e096\"}.glyphicon-resize-small:before{content:\"\\\\e097\"}.glyphicon-exclamation-sign:before{content:\"\\\\e101\"}.glyphicon-gift:before{content:\"\\\\e102\"}.glyphicon-leaf:before{content:\"\\\\e103\"}.glyphicon-fire:before{content:\"\\\\e104\"}.glyphicon-eye-open:before{content:\"\\\\e105\"}.glyphicon-eye-close:before{content:\"\\\\e106\"}.glyphicon-warning-sign:before{content:\"\\\\e107\"}.glyphicon-plane:before{content:\"\\\\e108\"}.glyphicon-calendar:before{content:\"\\\\e109\"}.glyphicon-random:before{content:\"\\\\e110\"}.glyphicon-comment:before{content:\"\\\\e111\"}.glyphicon-magnet:before{content:\"\\\\e112\"}.glyphicon-chevron-up:before{content:\"\\\\e113\"}.glyphicon-chevron-down:before{content:\"\\\\e114\"}.glyphicon-retweet:before{content:\"\\\\e115\"}.glyphicon-shopping-cart:before{content:\"\\\\e116\"}.glyphicon-folder-close:before{content:\"\\\\e117\"}.glyphicon-folder-open:before{content:\"\\\\e118\"}.glyphicon-resize-vertical:before{content:\"\\\\e119\"}.glyphicon-resize-horizontal:before{content:\"\\\\e120\"}.glyphicon-hdd:before{content:\"\\\\e121\"}.glyphicon-bullhorn:before{content:\"\\\\e122\"}.glyphicon-bell:before{content:\"\\\\e123\"}.glyphicon-certificate:before{content:\"\\\\e124\"}.glyphicon-thumbs-up:before{content:\"\\\\e125\"}.glyphicon-thumbs-down:before{content:\"\\\\e126\"}.glyphicon-hand-right:before{content:\"\\\\e127\"}.glyphicon-hand-left:before{content:\"\\\\e128\"}.glyphicon-hand-up:before{content:\"\\\\e129\"}.glyphicon-hand-down:before{content:\"\\\\e130\"}.glyphicon-circle-arrow-right:before{content:\"\\\\e131\"}.glyphicon-circle-arrow-left:before{content:\"\\\\e132\"}.glyphicon-circle-arrow-up:before{content:\"\\\\e133\"}.glyphicon-circle-arrow-down:before{content:\"\\\\e134\"}.glyphicon-globe:before{content:\"\\\\e135\"}.glyphicon-wrench:before{content:\"\\\\e136\"}.glyphicon-tasks:before{content:\"\\\\e137\"}.glyphicon-filter:before{content:\"\\\\e138\"}.glyphicon-briefcase:before{content:\"\\\\e139\"}.glyphicon-fullscreen:before{content:\"\\\\e140\"}.glyphicon-dashboard:before{content:\"\\\\e141\"}.glyphicon-paperclip:before{content:\"\\\\e142\"}.glyphicon-heart-empty:before{content:\"\\\\e143\"}.glyphicon-link:before{content:\"\\\\e144\"}.glyphicon-phone:before{content:\"\\\\e145\"}.glyphicon-pushpin:before{content:\"\\\\e146\"}.glyphicon-usd:before{content:\"\\\\e148\"}.glyphicon-gbp:before{content:\"\\\\e149\"}.glyphicon-sort:before{content:\"\\\\e150\"}.glyphicon-sort-by-alphabet:before{content:\"\\\\e151\"}.glyphicon-sort-by-alphabet-alt:before{content:\"\\\\e152\"}.glyphicon-sort-by-order:before{content:\"\\\\e153\"}.glyphicon-sort-by-order-alt:before{content:\"\\\\e154\"}.glyphicon-sort-by-attributes:before{content:\"\\\\e155\"}.glyphicon-sort-by-attributes-alt:before{content:\"\\\\e156\"}.glyphicon-unchecked:before{content:\"\\\\e157\"}.glyphicon-expand:before{content:\"\\\\e158\"}.glyphicon-collapse-down:before{content:\"\\\\e159\"}.glyphicon-collapse-up:before{content:\"\\\\e160\"}.glyphicon-log-in:before{content:\"\\\\e161\"}.glyphicon-flash:before{content:\"\\\\e162\"}.glyphicon-log-out:before{content:\"\\\\e163\"}.glyphicon-new-window:before{content:\"\\\\e164\"}.glyphicon-record:before{content:\"\\\\e165\"}.glyphicon-save:before{content:\"\\\\e166\"}.glyphicon-open:before{content:\"\\\\e167\"}.glyphicon-saved:before{content:\"\\\\e168\"}.glyphicon-import:before{content:\"\\\\e169\"}.glyphicon-export:before{content:\"\\\\e170\"}.glyphicon-send:before{content:\"\\\\e171\"}.glyphicon-floppy-disk:before{content:\"\\\\e172\"}.glyphicon-floppy-saved:before{content:\"\\\\e173\"}.glyphicon-floppy-remove:before{content:\"\\\\e174\"}.glyphicon-floppy-save:before{content:\"\\\\e175\"}.glyphicon-floppy-open:before{content:\"\\\\e176\"}.glyphicon-credit-card:before{content:\"\\\\e177\"}.glyphicon-transfer:before{content:\"\\\\e178\"}.glyphicon-cutlery:before{content:\"\\\\e179\"}.glyphicon-header:before{content:\"\\\\e180\"}.glyphicon-compressed:before{content:\"\\\\e181\"}.glyphicon-earphone:before{content:\"\\\\e182\"}.glyphicon-phone-alt:before{content:\"\\\\e183\"}.glyphicon-tower:before{content:\"\\\\e184\"}.glyphicon-stats:before{content:\"\\\\e185\"}.glyphicon-sd-video:before{content:\"\\\\e186\"}.glyphicon-hd-video:before{content:\"\\\\e187\"}.glyphicon-subtitles:before{content:\"\\\\e188\"}.glyphicon-sound-stereo:before{content:\"\\\\e189\"}.glyphicon-sound-dolby:before{content:\"\\\\e190\"}.glyphicon-sound-5-1:before{content:\"\\\\e191\"}.glyphicon-sound-6-1:before{content:\"\\\\e192\"}.glyphicon-sound-7-1:before{content:\"\\\\e193\"}.glyphicon-copyright-mark:before{content:\"\\\\e194\"}.glyphicon-registration-mark:before{content:\"\\\\e195\"}.glyphicon-cloud-download:before{content:\"\\\\e197\"}.glyphicon-cloud-upload:before{content:\"\\\\e198\"}.glyphicon-tree-conifer:before{content:\"\\\\e199\"}.glyphicon-tree-deciduous:before{content:\"\\\\e200\"}*{-webkit-box-sizing:border-box;-moz-box-sizing:border-box;box-sizing:border-box}:before,:after{-webkit-box-sizing:border-box;-moz-box-sizing:border-box;box-sizing:border-box}html{font-size:10px;-webkit-tap-highlight-color:rgba(0,0,0,0)}body{font-family:\"Helvetica Neue\",Helvetica,Arial,sans-serif;font-size:14px;line-height:1.42857143;color:#333;background-color:#fff}input,button,select,textarea{font-family:inherit;font-size:inherit;line-height:inherit}a{color:#337ab7;text-decoration:none}a:hover,a:focus{color:#23527c;text-decoration:underline}a:focus{outline:thin dotted;outline:5px auto -webkit-focus-ring-color;outline-offset:-2px}figure{margin:0}img{vertical-align:middle}.img-responsive,.thumbnail>img,.thumbnail a>img,.carousel-inner>.item>img,.carousel-inner>.item>a>img{display:block;max-width:100%;height:auto}.img-rounded{border-radius:6px}.img-thumbnail{display:inline-block;max-width:100%;height:auto;padding:4px;line-height:1.42857143;background-color:#fff;border:1px solid #ddd;border-radius:4px;-webkit-transition:all .2s ease-in-out;-o-transition:all .2s ease-in-out;transition:all .2s ease-in-out}.img-circle{border-radius:50%}hr{margin-top:20px;margin-bottom:20px;border:0;border-top:1px solid #eee}.sr-only{position:absolute;width:1px;height:1px;padding:0;margin:-1px;overflow:hidden;clip:rect(0,0,0,0);border:0}.sr-only-focusable:active,.sr-only-focusable:focus{position:static;width:auto;height:auto;margin:0;overflow:visible;clip:auto}h1,h2,h3,h4,h5,h6,.h1,.h2,.h3,.h4,.h5,.h6{font-family:inherit;font-weight:500;line-height:1.1;color:inherit}h1 small,h2 small,h3 small,h4 small,h5 small,h6 small,.h1 small,.h2 small,.h3 small,.h4 small,.h5 small,.h6 small,h1 .small,h2 .small,h3 .small,h4 .small,h5 .small,h6 .small,.h1 .small,.h2 .small,.h3 .small,.h4 .small,.h5 .small,.h6 .small{font-weight:400;line-height:1;color:#777}h1,.h1,h2,.h2,h3,.h3{margin-top:20px;margin-bottom:10px}h1 small,.h1 small,h2 small,.h2 small,h3 small,.h3 small,h1 .small,.h1 .small,h2 .small,.h2 .small,h3 .small,.h3 .small{font-size:65%}h4,.h4,h5,.h5,h6,.h6{margin-top:10px;margin-bottom:10px}h4 small,.h4 small,h5 small,.h5 small,h6 small,.h6 small,h4 .small,.h4 .small,h5 .small,.h5 .small,h6 .small,.h6 .small{font-size:75%}h1,.h1{font-size:36px}h2,.h2{font-size:30px}h3,.h3{font-size:24px}h4,.h4{font-size:18px}h5,.h5{font-size:14px}h6,.h6{font-size:12px}p{margin:0 0 10px}.lead{margin-bottom:20px;font-size:16px;font-weight:300;line-height:1.4}@media (min-width:768px){.lead{font-size:21px}}small,.small{font-size:85%}mark,.mark{padding:.2em;background-color:#fcf8e3}.text-left{text-align:left}.text-right{text-align:right}.text-center{text-align:center}.text-justify{text-align:justify}.text-nowrap{white-space:nowrap}.text-lowercase{text-transform:lowercase}.text-uppercase{text-transform:uppercase}.text-capitalize{text-transform:capitalize}.text-muted{color:#777}.text-primary{color:#337ab7}a.text-primary:hover{color:#286090}.text-success{color:#3c763d}a.text-success:hover{color:#2b542c}.text-info{color:#31708f}a.text-info:hover{color:#245269}.text-warning{color:#8a6d3b}a.text-warning:hover{color:#66512c}.text-danger{color:#a94442}a.text-danger:hover{color:#843534}.bg-primary{color:#fff;background-color:#337ab7}a.bg-primary:hover{background-color:#286090}.bg-success{background-color:#dff0d8}a.bg-success:hover{background-color:#c1e2b3}.bg-info{background-color:#d9edf7}a.bg-info:hover{background-color:#afd9ee}.bg-warning{background-color:#fcf8e3}a.bg-warning:hover{background-color:#f7ecb5}.bg-danger{background-color:#f2dede}a.bg-danger:hover{background-color:#e4b9b9}.page-header{padding-bottom:9px;margin:40px 0 20px;border-bottom:1px solid #eee}ul,ol{margin-top:0;margin-bottom:10px}ul ul,ol ul,ul ol,ol ol{margin-bottom:0}.list-unstyled{padding-left:0;list-style:none}.list-inline{padding-left:0;margin-left:-5px;list-style:none}.list-inline>li{display:inline-block;padding-right:5px;padding-left:5px}dl{margin-top:0;margin-bottom:20px}dt,dd{line-height:1.42857143}dt{font-weight:700}dd{margin-left:0}@media (min-width:768px){.dl-horizontal dt{float:left;width:160px;overflow:hidden;clear:left;text-align:right;text-overflow:ellipsis;white-space:nowrap}.dl-horizontal dd{margin-left:180px}}abbr[title],abbr[data-original-title]{cursor:help;border-bottom:1px dotted #777}.initialism{font-size:90%;text-transform:uppercase}blockquote{padding:10px 20px;margin:0 0 20px;font-size:17.5px;border-left:5px solid #eee}blockquote p:last-child,blockquote ul:last-child,blockquote ol:last-child{margin-bottom:0}blockquote footer,blockquote small,blockquote .small{display:block;font-size:80%;line-height:1.42857143;color:#777}blockquote footer:before,blockquote small:before,blockquote .small:before{content:\\'\\\\2014 \\\\00A0\\'}.blockquote-reverse,blockquote.pull-right{padding-right:15px;padding-left:0;text-align:right;border-right:5px solid #eee;border-left:0}.blockquote-reverse footer:before,blockquote.pull-right footer:before,.blockquote-reverse small:before,blockquote.pull-right small:before,.blockquote-reverse .small:before,blockquote.pull-right .small:before{content:\\'\\'}.blockquote-reverse footer:after,blockquote.pull-right footer:after,.blockquote-reverse small:after,blockquote.pull-right small:after,.blockquote-reverse .small:after,blockquote.pull-right .small:after{content:\\'\\\\00A0 \\\\2014\\'}address{margin-bottom:20px;font-style:normal;line-height:1.42857143}code,kbd,pre,samp{font-family:Menlo,Monaco,Consolas,\"Courier New\",monospace}code{padding:2px 4px;font-size:90%;color:#c7254e;background-color:#f9f2f4;border-radius:4px}kbd{padding:2px 4px;font-size:90%;color:#fff;background-color:#333;border-radius:3px;-webkit-box-shadow:inset 0 -1px 0 rgba(0,0,0,.25);box-shadow:inset 0 -1px 0 rgba(0,0,0,.25)}kbd kbd{padding:0;font-size:100%;font-weight:700;-webkit-box-shadow:none;box-shadow:none}pre{display:block;padding:9.5px;margin:0 0 10px;font-size:13px;line-height:1.42857143;color:#333;word-break:break-all;word-wrap:break-word;background-color:#f5f5f5;border:1px solid #ccc;border-radius:4px}pre code{padding:0;font-size:inherit;color:inherit;white-space:pre-wrap;background-color:transparent;border-radius:0}.pre-scrollable{max-height:340px;overflow-y:scroll}.container{padding-right:15px;padding-left:15px;margin-right:auto;margin-left:auto}@media (min-width:768px){.container{width:750px}}@media (min-width:992px){.container{width:970px}}@media (min-width:1200px){.container{width:1200px}}.container-fluid{padding-right:15px;padding-left:15px;margin-right:auto;margin-left:auto}.row{margin-right:-15px;margin-left:-15px}.col-xs-1,.col-sm-1,.col-md-1,.col-lg-1,.col-xs-2,.col-sm-2,.col-md-2,.col-lg-2,.col-xs-3,.col-sm-3,.col-md-3,.col-lg-3,.col-xs-4,.col-sm-4,.col-md-4,.col-lg-4,.col-xs-5,.col-sm-5,.col-md-5,.col-lg-5,.col-xs-6,.col-sm-6,.col-md-6,.col-lg-6,.col-xs-7,.col-sm-7,.col-md-7,.col-lg-7,.col-xs-8,.col-sm-8,.col-md-8,.col-lg-8,.col-xs-9,.col-sm-9,.col-md-9,.col-lg-9,.col-xs-10,.col-sm-10,.col-md-10,.col-lg-10,.col-xs-11,.col-sm-11,.col-md-11,.col-lg-11,.col-xs-12,.col-sm-12,.col-md-12,.col-lg-12{position:relative;min-height:1px;padding-right:15px;padding-left:15px}.col-xs-1,.col-xs-2,.col-xs-3,.col-xs-4,.col-xs-5,.col-xs-6,.col-xs-7,.col-xs-8,.col-xs-9,.col-xs-10,.col-xs-11,.col-xs-12{float:left}.col-xs-12{width:100%}.col-xs-11{width:91.66666667%}.col-xs-10{width:83.33333333%}.col-xs-9{width:75%}.col-xs-8{width:66.66666667%}.col-xs-7{width:58.33333333%}.col-xs-6{width:50%}.col-xs-5{width:41.66666667%}.col-xs-4{width:33.33333333%}.col-xs-3{width:25%}.col-xs-2{width:16.66666667%}.col-xs-1{width:8.33333333%}.col-xs-pull-12{right:100%}.col-xs-pull-11{right:91.66666667%}.col-xs-pull-10{right:83.33333333%}.col-xs-pull-9{right:75%}.col-xs-pull-8{right:66.66666667%}.col-xs-pull-7{right:58.33333333%}.col-xs-pull-6{right:50%}.col-xs-pull-5{right:41.66666667%}.col-xs-pull-4{right:33.33333333%}.col-xs-pull-3{right:25%}.col-xs-pull-2{right:16.66666667%}.col-xs-pull-1{right:8.33333333%}.col-xs-pull-0{right:auto}.col-xs-push-12{left:100%}.col-xs-push-11{left:91.66666667%}.col-xs-push-10{left:83.33333333%}.col-xs-push-9{left:75%}.col-xs-push-8{left:66.66666667%}.col-xs-push-7{left:58.33333333%}.col-xs-push-6{left:50%}.col-xs-push-5{left:41.66666667%}.col-xs-push-4{left:33.33333333%}.col-xs-push-3{left:25%}.col-xs-push-2{left:16.66666667%}.col-xs-push-1{left:8.33333333%}.col-xs-push-0{left:auto}.col-xs-offset-12{margin-left:100%}.col-xs-offset-11{margin-left:91.66666667%}.col-xs-offset-10{margin-left:83.33333333%}.col-xs-offset-9{margin-left:75%}.col-xs-offset-8{margin-left:66.66666667%}.col-xs-offset-7{margin-left:58.33333333%}.col-xs-offset-6{margin-left:50%}.col-xs-offset-5{margin-left:41.66666667%}.col-xs-offset-4{margin-left:33.33333333%}.col-xs-offset-3{margin-left:25%}.col-xs-offset-2{margin-left:16.66666667%}.col-xs-offset-1{margin-left:8.33333333%}.col-xs-offset-0{margin-left:0}@media (min-width:768px){.col-sm-1,.col-sm-2,.col-sm-3,.col-sm-4,.col-sm-5,.col-sm-6,.col-sm-7,.col-sm-8,.col-sm-9,.col-sm-10,.col-sm-11,.col-sm-12{float:left}.col-sm-12{width:100%}.col-sm-11{width:91.66666667%}.col-sm-10{width:83.33333333%}.col-sm-9{width:75%}.col-sm-8{width:66.66666667%}.col-sm-7{width:58.33333333%}.col-sm-6{width:50%}.col-sm-5{width:41.66666667%}.col-sm-4{width:33.33333333%}.col-sm-3{width:15%}.col-sm-2{width:16.66666667%}.col-sm-1{width:8.33333333%}.col-sm-pull-12{right:100%}.col-sm-pull-11{right:91.66666667%}.col-sm-pull-10{right:83.33333333%}.col-sm-pull-9{right:75%}.col-sm-pull-8{right:66.66666667%}.col-sm-pull-7{right:58.33333333%}.col-sm-pull-6{right:50%}.col-sm-pull-5{right:41.66666667%}.col-sm-pull-4{right:33.33333333%}.col-sm-pull-3{right:25%}.col-sm-pull-2{right:16.66666667%}.col-sm-pull-1{right:8.33333333%}.col-sm-pull-0{right:auto}.col-sm-push-12{left:100%}.col-sm-push-11{left:91.66666667%}.col-sm-push-10{left:83.33333333%}.col-sm-push-9{left:75%}.col-sm-push-8{left:66.66666667%}.col-sm-push-7{left:58.33333333%}.col-sm-push-6{left:50%}.col-sm-push-5{left:41.66666667%}.col-sm-push-4{left:33.33333333%}.col-sm-push-3{left:25%}.col-sm-push-2{left:16.66666667%}.col-sm-push-1{left:8.33333333%}.col-sm-push-0{left:auto}.col-sm-offset-12{margin-left:100%}.col-sm-offset-11{margin-left:91.66666667%}.col-sm-offset-10{margin-left:83.33333333%}.col-sm-offset-9{margin-left:75%}.col-sm-offset-8{margin-left:66.66666667%}.col-sm-offset-7{margin-left:58.33333333%}.col-sm-offset-6{margin-left:50%}.col-sm-offset-5{margin-left:41.66666667%}.col-sm-offset-4{margin-left:33.33333333%}.col-sm-offset-3{margin-left:25%}.col-sm-offset-2{margin-left:16.66666667%}.col-sm-offset-1{margin-left:8.33333333%}.col-sm-offset-0{margin-left:0}}@media (min-width:992px){.col-md-1,.col-md-2,.col-md-3,.col-md-4,.col-md-5,.col-md-6,.col-md-7,.col-md-8,.col-md-9,.col-md-10,.col-md-11,.col-md-12{float:left}.col-md-12{width:100%}.col-md-11{width:91.66666667%}.col-md-10{width:83.33333333%}.col-md-9{width:75%}.col-md-8{width:66.66666667%}.col-md-7{width:58.33333333%}.col-md-6{width:60%}.col-md-5{width:41.66666667%}.col-md-4{width:33.33333333%}.col-md-3{width:20%}.col-md-2{width:16.66666667%}.col-md-1{width:8.33333333%}.col-md-pull-12{right:100%}.col-md-pull-11{right:91.66666667%}.col-md-pull-10{right:83.33333333%}.col-md-pull-9{right:75%}.col-md-pull-8{right:66.66666667%}.col-md-pull-7{right:58.33333333%}.col-md-pull-6{right:50%}.col-md-pull-5{right:41.66666667%}.col-md-pull-4{right:33.33333333%}.col-md-pull-3{right:25%}.col-md-pull-2{right:16.66666667%}.col-md-pull-1{right:8.33333333%}.col-md-pull-0{right:auto}.col-md-push-12{left:100%}.col-md-push-11{left:91.66666667%}.col-md-push-10{left:83.33333333%}.col-md-push-9{left:75%}.col-md-push-8{left:66.66666667%}.col-md-push-7{left:58.33333333%}.col-md-push-6{left:50%}.col-md-push-5{left:41.66666667%}.col-md-push-4{left:33.33333333%}.col-md-push-3{left:25%}.col-md-push-2{left:16.66666667%}.col-md-push-1{left:8.33333333%}.col-md-push-0{left:auto}.col-md-offset-12{margin-left:100%}.col-md-offset-11{margin-left:91.66666667%}.col-md-offset-10{margin-left:83.33333333%}.col-md-offset-9{margin-left:75%}.col-md-offset-8{margin-left:66.66666667%}.col-md-offset-7{margin-left:58.33333333%}.col-md-offset-6{margin-left:50%}.col-md-offset-5{margin-left:41.66666667%}.col-md-offset-4{margin-left:33.33333333%}.col-md-offset-3{margin-left:25%}.col-md-offset-2{margin-left:16.66666667%}.col-md-offset-1{margin-left:8.33333333%}.col-md-offset-0{margin-left:0}}@media (min-width:1200px){.col-lg-1,.col-lg-2,.col-lg-3,.col-lg-4,.col-lg-5,.col-lg-6,.col-lg-7,.col-lg-8,.col-lg-9,.col-lg-10,.col-lg-11,.col-lg-12{float:left}.col-lg-12{width:100%}.col-lg-11{width:91.66666667%}.col-lg-10{width:83.33333333%}.col-lg-9{width:75%}.col-lg-8{width:66.66666667%}.col-lg-7{width:58.33333333%}.col-lg-6{width:50%}.col-lg-5{width:41.66666667%}.col-lg-4{width:33.33333333%}.col-lg-3{width:15%}.col-lg-2{width:16.66666667%}.col-lg-1{width:8.33333333%}.col-lg-pull-12{right:100%}.col-lg-pull-11{right:91.66666667%}.col-lg-pull-10{right:83.33333333%}.col-lg-pull-9{right:75%}.col-lg-pull-8{right:66.66666667%}.col-lg-pull-7{right:58.33333333%}.col-lg-pull-6{right:50%}.col-lg-pull-5{right:41.66666667%}.col-lg-pull-4{right:33.33333333%}.col-lg-pull-3{right:25%}.col-lg-pull-2{right:16.66666667%}.col-lg-pull-1{right:8.33333333%}.col-lg-pull-0{right:auto}.col-lg-push-12{left:100%}.col-lg-push-11{left:91.66666667%}.col-lg-push-10{left:83.33333333%}.col-lg-push-9{left:75%}.col-lg-push-8{left:66.66666667%}.col-lg-push-7{left:58.33333333%}.col-lg-push-6{left:50%}.col-lg-push-5{left:41.66666667%}.col-lg-push-4{left:33.33333333%}.col-lg-push-3{left:25%}.col-lg-push-2{left:16.66666667%}.col-lg-push-1{left:8.33333333%}.col-lg-push-0{left:auto}.col-lg-offset-12{margin-left:100%}.col-lg-offset-11{margin-left:91.66666667%}.col-lg-offset-10{margin-left:83.33333333%}.col-lg-offset-9{margin-left:75%}.col-lg-offset-8{margin-left:66.66666667%}.col-lg-offset-7{margin-left:58.33333333%}.col-lg-offset-6{margin-left:50%}.col-lg-offset-5{margin-left:41.66666667%}.col-lg-offset-4{margin-left:33.33333333%}.col-lg-offset-3{margin-left:25%}.col-lg-offset-2{margin-left:16.66666667%}.col-lg-offset-1{margin-left:8.33333333%}.col-lg-offset-0{margin-left:0}}table{background-color:transparent}caption{padding-top:8px;padding-bottom:8px;color:#777;text-align:left}th{text-align:left}.table{width:100%;max-width:100%;margin-bottom:20px}.table>thead>tr>th,.table>tbody>tr>th,.table>tfoot>tr>th,.table>thead>tr>td,.table>tbody>tr>td,.table>tfoot>tr>td{padding:8px;line-height:1.42857143;vertical-align:top;border-top:1px solid #ddd}.table>thead>tr>th{vertical-align:bottom;border-bottom:2px solid #ddd}.table>caption+thead>tr:first-child>th,.table>colgroup+thead>tr:first-child>th,.table>thead:first-child>tr:first-child>th,.table>caption+thead>tr:first-child>td,.table>colgroup+thead>tr:first-child>td,.table>thead:first-child>tr:first-child>td{border-top:0}.table>tbody+tbody{border-top:2px solid #ddd}.table .table{background-color:#fff}.table-condensed>thead>tr>th,.table-condensed>tbody>tr>th,.table-condensed>tfoot>tr>th,.table-condensed>thead>tr>td,.table-condensed>tbody>tr>td,.table-condensed>tfoot>tr>td{padding:5px}.table-bordered{border:1px solid #ddd}.table-bordered>thead>tr>th,.table-bordered>tbody>tr>th,.table-bordered>tfoot>tr>th,.table-bordered>thead>tr>td,.table-bordered>tbody>tr>td,.table-bordered>tfoot>tr>td{border:1px solid #ddd}.table-bordered>thead>tr>th,.table-bordered>thead>tr>td{border-bottom-width:2px}.table-striped>tbody>tr:nth-child(odd){background-color:#f9f9f9}.table-hover>tbody>tr:hover{background-color:#f5f5f5}table col[class*=col-]{position:static;display:table-column;float:none}table td[class*=col-],table th[class*=col-]{position:static;display:table-cell;float:none}.table>thead>tr>td.active,.table>tbody>tr>td.active,.table>tfoot>tr>td.active,.table>thead>tr>th.active,.table>tbody>tr>th.active,.table>tfoot>tr>th.active,.table>thead>tr.active>td,.table>tbody>tr.active>td,.table>tfoot>tr.active>td,.table>thead>tr.active>th,.table>tbody>tr.active>th,.table>tfoot>tr.active>th{background-color:#f5f5f5}.table-hover>tbody>tr>td.active:hover,.table-hover>tbody>tr>th.active:hover,.table-hover>tbody>tr.active:hover>td,.table-hover>tbody>tr:hover>.active,.table-hover>tbody>tr.active:hover>th{background-color:#e8e8e8}.table>thead>tr>td.success,.table>tbody>tr>td.success,.table>tfoot>tr>td.success,.table>thead>tr>th.success,.table>tbody>tr>th.success,.table>tfoot>tr>th.success,.table>thead>tr.success>td,.table>tbody>tr.success>td,.table>tfoot>tr.success>td,.table>thead>tr.success>th,.table>tbody>tr.success>th,.table>tfoot>tr.success>th{background-color:#dff0d8}.table-hover>tbody>tr>td.success:hover,.table-hover>tbody>tr>th.success:hover,.table-hover>tbody>tr.success:hover>td,.table-hover>tbody>tr:hover>.success,.table-hover>tbody>tr.success:hover>th{background-color:#d0e9c6}.table>thead>tr>td.info,.table>tbody>tr>td.info,.table>tfoot>tr>td.info,.table>thead>tr>th.info,.table>tbody>tr>th.info,.table>tfoot>tr>th.info,.table>thead>tr.info>td,.table>tbody>tr.info>td,.table>tfoot>tr.info>td,.table>thead>tr.info>th,.table>tbody>tr.info>th,.table>tfoot>tr.info>th{background-color:#d9edf7}.table-hover>tbody>tr>td.info:hover,.table-hover>tbody>tr>th.info:hover,.table-hover>tbody>tr.info:hover>td,.table-hover>tbody>tr:hover>.info,.table-hover>tbody>tr.info:hover>th{background-color:#c4e3f3}.table>thead>tr>td.warning,.table>tbody>tr>td.warning,.table>tfoot>tr>td.warning,.table>thead>tr>th.warning,.table>tbody>tr>th.warning,.table>tfoot>tr>th.warning,.table>thead>tr.warning>td,.table>tbody>tr.warning>td,.table>tfoot>tr.warning>td,.table>thead>tr.warning>th,.table>tbody>tr.warning>th,.table>tfoot>tr.warning>th{background-color:#fcf8e3}.table-hover>tbody>tr>td.warning:hover,.table-hover>tbody>tr>th.warning:hover,.table-hover>tbody>tr.warning:hover>td,.table-hover>tbody>tr:hover>.warning,.table-hover>tbody>tr.warning:hover>th{background-color:#faf2cc}.table>thead>tr>td.danger,.table>tbody>tr>td.danger,.table>tfoot>tr>td.danger,.table>thead>tr>th.danger,.table>tbody>tr>th.danger,.table>tfoot>tr>th.danger,.table>thead>tr.danger>td,.table>tbody>tr.danger>td,.table>tfoot>tr.danger>td,.table>thead>tr.danger>th,.table>tbody>tr.danger>th,.table>tfoot>tr.danger>th{background-color:#f2dede}.table-hover>tbody>tr>td.danger:hover,.table-hover>tbody>tr>th.danger:hover,.table-hover>tbody>tr.danger:hover>td,.table-hover>tbody>tr:hover>.danger,.table-hover>tbody>tr.danger:hover>th{background-color:#ebcccc}.table-responsive{min-height:.01%;overflow-x:auto}@media screen and (max-width:767px){.table-responsive{width:100%;margin-bottom:15px;overflow-y:hidden;-ms-overflow-style:-ms-autohiding-scrollbar;border:1px solid #ddd}.table-responsive>.table{margin-bottom:0}.table-responsive>.table>thead>tr>th,.table-responsive>.table>tbody>tr>th,.table-responsive>.table>tfoot>tr>th,.table-responsive>.table>thead>tr>td,.table-responsive>.table>tbody>tr>td,.table-responsive>.table>tfoot>tr>td{white-space:nowrap}.table-responsive>.table-bordered{border:0}.table-responsive>.table-bordered>thead>tr>th:first-child,.table-responsive>.table-bordered>tbody>tr>th:first-child,.table-responsive>.table-bordered>tfoot>tr>th:first-child,.table-responsive>.table-bordered>thead>tr>td:first-child,.table-responsive>.table-bordered>tbody>tr>td:first-child,.table-responsive>.table-bordered>tfoot>tr>td:first-child{border-left:0}.table-responsive>.table-bordered>thead>tr>th:last-child,.table-responsive>.table-bordered>tbody>tr>th:last-child,.table-responsive>.table-bordered>tfoot>tr>th:last-child,.table-responsive>.table-bordered>thead>tr>td:last-child,.table-responsive>.table-bordered>tbody>tr>td:last-child,.table-responsive>.table-bordered>tfoot>tr>td:last-child{border-right:0}.table-responsive>.table-bordered>tbody>tr:last-child>th,.table-responsive>.table-bordered>tfoot>tr:last-child>th,.table-responsive>.table-bordered>tbody>tr:last-child>td,.table-responsive>.table-bordered>tfoot>tr:last-child>td{border-bottom:0}}fieldset{min-width:0;padding:0;margin:0;border:0}legend{display:block;width:100%;padding:0;margin-bottom:20px;font-size:21px;line-height:inherit;color:#333;border:0;border-bottom:1px solid #e5e5e5}label{display:inline-block;max-width:100%;margin-bottom:5px;font-weight:700}input[type=search]{-webkit-box-sizing:border-box;-moz-box-sizing:border-box;box-sizing:border-box}input[type=radio],input[type=checkbox]{margin:4px 0 0;margin-top:1px \\\\9;line-height:normal}input[type=file]{display:block}input[type=range]{display:block;width:100%}select[multiple],select[size]{height:auto}input[type=file]:focus,input[type=radio]:focus,input[type=checkbox]:focus{outline:thin dotted;outline:5px auto -webkit-focus-ring-color;outline-offset:-2px}output{display:block;padding-top:7px;font-size:14px;line-height:1.42857143;color:#555}.form-control{display:block;width:100%;height:34px;padding:6px 12px;font-size:14px;line-height:1.42857143;color:#555;background-color:#fff;background-image:none;border:1px solid #ccc;border-radius:4px;-webkit-box-shadow:inset 0 1px 1px rgba(0,0,0,.075);box-shadow:inset 0 1px 1px rgba(0,0,0,.075);-webkit-transition:border-color ease-in-out .15s,-webkit-box-shadow ease-in-out .15s;-o-transition:border-color ease-in-out .15s,box-shadow ease-in-out .15s;transition:border-color ease-in-out .15s,box-shadow ease-in-out .15s}.form-control:focus{border-color:#66afe9;outline:0;-webkit-box-shadow:inset 0 1px 1px rgba(0,0,0,.075),0 0 8px rgba(102,175,233,.6);box-shadow:inset 0 1px 1px rgba(0,0,0,.075),0 0 8px rgba(102,175,233,.6)}.form-control::-moz-placeholder{color:#999;opacity:1}.form-control:-ms-input-placeholder{color:#999}.form-control::-webkit-input-placeholder{color:#999}.form-control[disabled],.form-control[readonly],fieldset[disabled] .form-control{cursor:not-allowed;background-color:#eee;opacity:1}textarea.form-control{height:auto}input[type=search]{-webkit-appearance:none}@media screen and (-webkit-min-device-pixel-ratio:0){input[type=date],input[type=time],input[type=datetime-local],input[type=month]{line-height:34px}input[type=date].input-sm,input[type=time].input-sm,input[type=datetime-local].input-sm,input[type=month].input-sm{line-height:30px}input[type=date].input-lg,input[type=time].input-lg,input[type=datetime-local].input-lg,input[type=month].input-lg{line-height:46px}}.form-group{margin-bottom:15px}.radio,.checkbox{position:relative;display:block;margin-top:10px;margin-bottom:10px}.radio label,.checkbox label{min-height:20px;padding-left:20px;margin-bottom:0;font-weight:400;cursor:pointer}.radio input[type=radio],.radio-inline input[type=radio],.checkbox input[type=checkbox],.checkbox-inline input[type=checkbox]{position:absolute;margin-top:4px \\\\9;margin-left:-20px}.radio+.radio,.checkbox+.checkbox{margin-top:-5px}.radio-inline,.checkbox-inline{display:inline-block;padding-left:20px;margin-bottom:0;font-weight:400;vertical-align:middle;cursor:pointer}.radio-inline+.radio-inline,.checkbox-inline+.checkbox-inline{margin-top:0;margin-left:10px}input[type=radio][disabled],input[type=checkbox][disabled],input[type=radio].disabled,input[type=checkbox].disabled,fieldset[disabled] input[type=radio],fieldset[disabled] input[type=checkbox]{cursor:not-allowed}.radio-inline.disabled,.checkbox-inline.disabled,fieldset[disabled] .radio-inline,fieldset[disabled] .checkbox-inline{cursor:not-allowed}.radio.disabled label,.checkbox.disabled label,fieldset[disabled] .radio label,fieldset[disabled] .checkbox label{cursor:not-allowed}.form-control-static{padding-top:7px;padding-bottom:7px;margin-bottom:0}.form-control-static.input-lg,.form-control-static.input-sm{padding-right:0;padding-left:0}.input-sm,.form-group-sm .form-control{height:30px;padding:5px 10px;font-size:12px;line-height:1.5;border-radius:3px}select.input-sm,select.form-group-sm .form-control{height:30px;line-height:30px}textarea.input-sm,textarea.form-group-sm .form-control,select[multiple].input-sm,select[multiple].form-group-sm .form-control{height:auto}.input-lg,.form-group-lg .form-control{height:46px;padding:10px 16px;font-size:18px;line-height:1.33;border-radius:6px}select.input-lg,select.form-group-lg .form-control{height:46px;line-height:46px}textarea.input-lg,textarea.form-group-lg .form-control,select[multiple].input-lg,select[multiple].form-group-lg .form-control{height:auto}.has-feedback{position:relative}.has-feedback .form-control{padding-right:42.5px}.form-control-feedback{position:absolute;top:0;right:0;z-index:2;display:block;width:34px;height:34px;line-height:34px;text-align:center;pointer-events:none}.input-lg+.form-control-feedback{width:46px;height:46px;line-height:46px}.input-sm+.form-control-feedback{width:30px;height:30px;line-height:30px}.has-success .help-block,.has-success .control-label,.has-success .radio,.has-success .checkbox,.has-success .radio-inline,.has-success .checkbox-inline,.has-success.radio label,.has-success.checkbox label,.has-success.radio-inline label,.has-success.checkbox-inline label{color:#3c763d}.has-success .form-control{border-color:#3c763d;-webkit-box-shadow:inset 0 1px 1px rgba(0,0,0,.075);box-shadow:inset 0 1px 1px rgba(0,0,0,.075)}.has-success .form-control:focus{border-color:#2b542c;-webkit-box-shadow:inset 0 1px 1px rgba(0,0,0,.075),0 0 6px #67b168;box-shadow:inset 0 1px 1px rgba(0,0,0,.075),0 0 6px #67b168}.has-success .input-group-addon{color:#3c763d;background-color:#dff0d8;border-color:#3c763d}.has-success .form-control-feedback{color:#3c763d}.has-warning .help-block,.has-warning .control-label,.has-warning .radio,.has-warning .checkbox,.has-warning .radio-inline,.has-warning .checkbox-inline,.has-warning.radio label,.has-warning.checkbox label,.has-warning.radio-inline label,.has-warning.checkbox-inline label{color:#8a6d3b}.has-warning .form-control{border-color:#8a6d3b;-webkit-box-shadow:inset 0 1px 1px rgba(0,0,0,.075);box-shadow:inset 0 1px 1px rgba(0,0,0,.075)}.has-warning .form-control:focus{border-color:#66512c;-webkit-box-shadow:inset 0 1px 1px rgba(0,0,0,.075),0 0 6px #c0a16b;box-shadow:inset 0 1px 1px rgba(0,0,0,.075),0 0 6px #c0a16b}.has-warning .input-group-addon{color:#8a6d3b;background-color:#fcf8e3;border-color:#8a6d3b}.has-warning .form-control-feedback{color:#8a6d3b}.has-error .help-block,.has-error .control-label,.has-error .radio,.has-error .checkbox,.has-error .radio-inline,.has-error .checkbox-inline,.has-error.radio label,.has-error.checkbox label,.has-error.radio-inline label,.has-error.checkbox-inline label{color:#a94442}.has-error .form-control{border-color:#a94442;-webkit-box-shadow:inset 0 1px 1px rgba(0,0,0,.075);box-shadow:inset 0 1px 1px rgba(0,0,0,.075)}.has-error .form-control:focus{border-color:#843534;-webkit-box-shadow:inset 0 1px 1px rgba(0,0,0,.075),0 0 6px #ce8483;box-shadow:inset 0 1px 1px rgba(0,0,0,.075),0 0 6px #ce8483}.has-error .input-group-addon{color:#a94442;background-color:#f2dede;border-color:#a94442}.has-error .form-control-feedback{color:#a94442}.has-feedback label~.form-control-feedback{top:25px}.has-feedback label.sr-only~.form-control-feedback{top:0}.help-block{display:block;margin-top:5px;margin-bottom:10px;color:#737373}@media (min-width:768px){.form-inline .form-group{display:inline-block;margin-bottom:0;vertical-align:middle}.form-inline .form-control{display:inline-block;width:auto;vertical-align:middle}.form-inline .form-control-static{display:inline-block}.form-inline .input-group{display:inline-table;vertical-align:middle}.form-inline .input-group .input-group-addon,.form-inline .input-group .input-group-btn,.form-inline .input-group .form-control{width:auto}.form-inline .input-group>.form-control{width:100%}.form-inline .control-label{margin-bottom:0;vertical-align:middle}.form-inline .radio,.form-inline .checkbox{display:inline-block;margin-top:0;margin-bottom:0;vertical-align:middle}.form-inline .radio label,.form-inline .checkbox label{padding-left:0}.form-inline .radio input[type=radio],.form-inline .checkbox input[type=checkbox]{position:relative;margin-left:0}.form-inline .has-feedback .form-control-feedback{top:0}}.form-horizontal .radio,.form-horizontal .checkbox,.form-horizontal .radio-inline,.form-horizontal .checkbox-inline{padding-top:7px;margin-top:0;margin-bottom:0}.form-horizontal .radio,.form-horizontal .checkbox{min-height:27px}.form-horizontal .form-group{margin-right:-15px;margin-left:-15px}@media (min-width:768px){.form-horizontal .control-label{padding-top:7px;margin-bottom:0;text-align:right}}.form-horizontal .has-feedback .form-control-feedback{right:15px}@media (min-width:768px){.form-horizontal .form-group-lg .control-label{padding-top:14.3px}}@media (min-width:768px){.form-horizontal .form-group-sm .control-label{padding-top:6px}}.btn{display:inline-block;padding:6px 12px;margin-bottom:0;font-size:14px;font-weight:400;line-height:1.42857143;text-align:center;white-space:nowrap;vertical-align:middle;-ms-touch-action:manipulation;touch-action:manipulation;cursor:pointer;-webkit-user-select:none;-moz-user-select:none;-ms-user-select:none;user-select:none;background-image:none;border:1px solid transparent;border-radius:4px}.btn:focus,.btn:active:focus,.btn.active:focus,.btn.focus,.btn:active.focus,.btn.active.focus{outline:thin dotted;outline:5px auto -webkit-focus-ring-color;outline-offset:-2px}.btn:hover,.btn:focus,.btn.focus{color:#333;text-decoration:none}.btn:active,.btn.active{background-image:none;outline:0;-webkit-box-shadow:inset 0 3px 5px rgba(0,0,0,.125);box-shadow:inset 0 3px 5px rgba(0,0,0,.125)}.btn.disabled,.btn[disabled],fieldset[disabled] .btn{pointer-events:none;cursor:not-allowed;filter:alpha(opacity=65);-webkit-box-shadow:none;box-shadow:none;opacity:.65}.btn-default{color:#333;background-color:#fff;border-color:#ccc}.btn-default:hover,.btn-default:focus,.btn-default.focus,.btn-default:active,.btn-default.active,.open>.dropdown-toggle.btn-default{color:#333;background-color:#e6e6e6;border-color:#adadad}.btn-default:active,.btn-default.active,.open>.dropdown-toggle.btn-default{background-image:none}.btn-default.disabled,.btn-default[disabled],fieldset[disabled] .btn-default,.btn-default.disabled:hover,.btn-default[disabled]:hover,fieldset[disabled] .btn-default:hover,.btn-default.disabled:focus,.btn-default[disabled]:focus,fieldset[disabled] .btn-default:focus,.btn-default.disabled.focus,.btn-default[disabled].focus,fieldset[disabled] .btn-default.focus,.btn-default.disabled:active,.btn-default[disabled]:active,fieldset[disabled] .btn-default:active,.btn-default.disabled.active,.btn-default[disabled].active,fieldset[disabled] .btn-default.active{background-color:#fff;border-color:#ccc}.btn-default .badge{color:#fff;background-color:#333}.btn-primary{color:#fff;background-color:#337ab7;border-color:#2e6da4}.btn-primary:hover,.btn-primary:focus,.btn-primary.focus,.btn-primary:active,.btn-primary.active,.open>.dropdown-toggle.btn-primary{color:#fff;background-color:#286090;border-color:#204d74}.btn-primary:active,.btn-primary.active,.open>.dropdown-toggle.btn-primary{background-image:none}.btn-primary.disabled,.btn-primary[disabled],fieldset[disabled] .btn-primary,.btn-primary.disabled:hover,.btn-primary[disabled]:hover,fieldset[disabled] .btn-primary:hover,.btn-primary.disabled:focus,.btn-primary[disabled]:focus,fieldset[disabled] .btn-primary:focus,.btn-primary.disabled.focus,.btn-primary[disabled].focus,fieldset[disabled] .btn-primary.focus,.btn-primary.disabled:active,.btn-primary[disabled]:active,fieldset[disabled] .btn-primary:active,.btn-primary.disabled.active,.btn-primary[disabled].active,fieldset[disabled] .btn-primary.active{background-color:#337ab7;border-color:#2e6da4}.btn-primary .badge{color:#337ab7;background-color:#fff}.btn-success{color:#fff;background-color:#5cb85c;border-color:#4cae4c}.btn-success:hover,.btn-success:focus,.btn-success.focus,.btn-success:active,.btn-success.active,.open>.dropdown-toggle.btn-success{color:#fff;background-color:#449d44;border-color:#398439}.btn-success:active,.btn-success.active,.open>.dropdown-toggle.btn-success{background-image:none}.btn-success.disabled,.btn-success[disabled],fieldset[disabled] .btn-success,.btn-success.disabled:hover,.btn-success[disabled]:hover,fieldset[disabled] .btn-success:hover,.btn-success.disabled:focus,.btn-success[disabled]:focus,fieldset[disabled] .btn-success:focus,.btn-success.disabled.focus,.btn-success[disabled].focus,fieldset[disabled] .btn-success.focus,.btn-success.disabled:active,.btn-success[disabled]:active,fieldset[disabled] .btn-success:active,.btn-success.disabled.active,.btn-success[disabled].active,fieldset[disabled] .btn-success.active{background-color:#5cb85c;border-color:#4cae4c}.btn-success .badge{color:#5cb85c;background-color:#fff}.btn-info{color:#fff;background-color:#5bc0de;border-color:#46b8da}.btn-info:hover,.btn-info:focus,.btn-info.focus,.btn-info:active,.btn-info.active,.open>.dropdown-toggle.btn-info{color:#fff;background-color:#31b0d5;border-color:#269abc}.btn-info:active,.btn-info.active,.open>.dropdown-toggle.btn-info{background-image:none}.btn-info.disabled,.btn-info[disabled],fieldset[disabled] .btn-info,.btn-info.disabled:hover,.btn-info[disabled]:hover,fieldset[disabled] .btn-info:hover,.btn-info.disabled:focus,.btn-info[disabled]:focus,fieldset[disabled] .btn-info:focus,.btn-info.disabled.focus,.btn-info[disabled].focus,fieldset[disabled] .btn-info.focus,.btn-info.disabled:active,.btn-info[disabled]:active,fieldset[disabled] .btn-info:active,.btn-info.disabled.active,.btn-info[disabled].active,fieldset[disabled] .btn-info.active{background-color:#5bc0de;border-color:#46b8da}.btn-info .badge{color:#5bc0de;background-color:#fff}.btn-warning{color:#fff;background-color:#f0ad4e;border-color:#eea236}.btn-warning:hover,.btn-warning:focus,.btn-warning.focus,.btn-warning:active,.btn-warning.active,.open>.dropdown-toggle.btn-warning{color:#fff;background-color:#ec971f;border-color:#d58512}.btn-warning:active,.btn-warning.active,.open>.dropdown-toggle.btn-warning{background-image:none}.btn-warning.disabled,.btn-warning[disabled],fieldset[disabled] .btn-warning,.btn-warning.disabled:hover,.btn-warning[disabled]:hover,fieldset[disabled] .btn-warning:hover,.btn-warning.disabled:focus,.btn-warning[disabled]:focus,fieldset[disabled] .btn-warning:focus,.btn-warning.disabled.focus,.btn-warning[disabled].focus,fieldset[disabled] .btn-warning.focus,.btn-warning.disabled:active,.btn-warning[disabled]:active,fieldset[disabled] .btn-warning:active,.btn-warning.disabled.active,.btn-warning[disabled].active,fieldset[disabled] .btn-warning.active{background-color:#f0ad4e;border-color:#eea236}.btn-warning .badge{color:#f0ad4e;background-color:#fff}.btn-danger{color:#fff;background-color:#d9534f;border-color:#d43f3a}.btn-danger:hover,.btn-danger:focus,.btn-danger.focus,.btn-danger:active,.btn-danger.active,.open>.dropdown-toggle.btn-danger{color:#fff;background-color:#c9302c;border-color:#ac2925}.btn-danger:active,.btn-danger.active,.open>.dropdown-toggle.btn-danger{background-image:none}.btn-danger.disabled,.btn-danger[disabled],fieldset[disabled] .btn-danger,.btn-danger.disabled:hover,.btn-danger[disabled]:hover,fieldset[disabled] .btn-danger:hover,.btn-danger.disabled:focus,.btn-danger[disabled]:focus,fieldset[disabled] .btn-danger:focus,.btn-danger.disabled.focus,.btn-danger[disabled].focus,fieldset[disabled] .btn-danger.focus,.btn-danger.disabled:active,.btn-danger[disabled]:active,fieldset[disabled] .btn-danger:active,.btn-danger.disabled.active,.btn-danger[disabled].active,fieldset[disabled] .btn-danger.active{background-color:#d9534f;border-color:#d43f3a}.btn-danger .badge{color:#d9534f;background-color:#fff}.btn-link{font-weight:400;color:#337ab7;border-radius:0}.btn-link,.btn-link:active,.btn-link.active,.btn-link[disabled],fieldset[disabled] .btn-link{background-color:transparent;-webkit-box-shadow:none;box-shadow:none}.btn-link,.btn-link:hover,.btn-link:focus,.btn-link:active{border-color:transparent}.btn-link:hover,.btn-link:focus{color:#23527c;text-decoration:underline;background-color:transparent}.btn-link[disabled]:hover,fieldset[disabled] .btn-link:hover,.btn-link[disabled]:focus,fieldset[disabled] .btn-link:focus{color:#777;text-decoration:none}.btn-lg,.btn-group-lg>.btn{padding:10px 16px;font-size:18px;line-height:1.33;border-radius:6px}.btn-sm,.btn-group-sm>.btn{padding:5px 10px;font-size:12px;line-height:1.5;border-radius:3px}.btn-xs,.btn-group-xs>.btn{padding:1px 5px;font-size:12px;line-height:1.5;border-radius:3px}.btn-block{display:block;width:100%}.btn-block+.btn-block{margin-top:5px}input[type=submit].btn-block,input[type=reset].btn-block,input[type=button].btn-block{width:100%}.fade{opacity:0;-webkit-transition:opacity .15s linear;-o-transition:opacity .15s linear;transition:opacity .15s linear}.fade.in{opacity:1}.collapse{display:none;visibility:hidden}.collapse.in{display:block;visibility:visible}tr.collapse.in{display:table-row}tbody.collapse.in{display:table-row-group}.collapsing{position:relative;height:0;overflow:hidden;-webkit-transition-timing-function:ease;-o-transition-timing-function:ease;transition-timing-function:ease;-webkit-transition-duration:.35s;-o-transition-duration:.35s;transition-duration:.35s;-webkit-transition-property:height,visibility;-o-transition-property:height,visibility;transition-property:height,visibility}.caret{display:inline-block;width:0;height:0;margin-left:2px;vertical-align:middle;border-top:4px solid;border-right:4px solid transparent;border-left:4px solid transparent}.dropdown{position:relative}.dropdown-toggle:focus{outline:0}.dropdown-menu{position:absolute;top:100%;left:0;z-index:1000;display:none;float:left;min-width:160px;padding:5px 0;margin:2px 0 0;font-size:14px;text-align:left;list-style:none;background-color:#fff;-webkit-background-clip:padding-box;background-clip:padding-box;border:1px solid #ccc;border:1px solid rgba(0,0,0,.15);border-radius:4px;-webkit-box-shadow:0 6px 12px rgba(0,0,0,.175);box-shadow:0 6px 12px rgba(0,0,0,.175)}.dropdown-menu.pull-right{right:0;left:auto}.dropdown-menu .divider{height:1px;margin:9px 0;overflow:hidden;background-color:#e5e5e5}.dropdown-menu>li>a{display:block;padding:3px 20px;clear:both;font-weight:400;line-height:1.42857143;color:#333;white-space:nowrap}.dropdown-menu>li>a:hover,.dropdown-menu>li>a:focus{color:#262626;text-decoration:none;background-color:#f5f5f5}.dropdown-menu>.active>a,.dropdown-menu>.active>a:hover,.dropdown-menu>.active>a:focus{color:#fff;text-decoration:none;background-color:#337ab7;outline:0}.dropdown-menu>.disabled>a,.dropdown-menu>.disabled>a:hover,.dropdown-menu>.disabled>a:focus{color:#777}.dropdown-menu>.disabled>a:hover,.dropdown-menu>.disabled>a:focus{text-decoration:none;cursor:not-allowed;background-color:transparent;background-image:none;filter:progid:DXImageTransform.Microsoft.gradient(enabled=false)}.open>.dropdown-menu{display:block}.open>a{outline:0}.dropdown-menu-right{right:0;left:auto}.dropdown-menu-left{right:auto;left:0}.dropdown-header{display:block;padding:3px 20px;font-size:12px;line-height:1.42857143;color:#777;white-space:nowrap}.dropdown-backdrop{position:fixed;top:0;right:0;bottom:0;left:0;z-index:990}.pull-right>.dropdown-menu{right:0;left:auto}.dropup .caret,.navbar-fixed-bottom .dropdown .caret{content:\"\";border-top:0;border-bottom:4px solid}.dropup .dropdown-menu,.navbar-fixed-bottom .dropdown .dropdown-menu{top:auto;bottom:100%;margin-bottom:1px}@media (min-width:768px){.navbar-right .dropdown-menu{right:0;left:auto}.navbar-right .dropdown-menu-left{right:auto;left:0}}.btn-group,.btn-group-vertical{position:relative;display:inline-block;vertical-align:middle}.btn-group>.btn,.btn-group-vertical>.btn{position:relative;float:left}.btn-group>.btn:hover,.btn-group-vertical>.btn:hover,.btn-group>.btn:focus,.btn-group-vertical>.btn:focus,.btn-group>.btn:active,.btn-group-vertical>.btn:active,.btn-group>.btn.active,.btn-group-vertical>.btn.active{z-index:2}.btn-group .btn+.btn,.btn-group .btn+.btn-group,.btn-group .btn-group+.btn,.btn-group .btn-group+.btn-group{margin-left:-1px}.btn-toolbar{margin-left:-5px}.btn-toolbar .btn-group,.btn-toolbar .input-group{float:left}.btn-toolbar>.btn,.btn-toolbar>.btn-group,.btn-toolbar>.input-group{margin-left:5px}.btn-group>.btn:not(:first-child):not(:last-child):not(.dropdown-toggle){border-radius:0}.btn-group>.btn:first-child{margin-left:0}.btn-group>.btn:first-child:not(:last-child):not(.dropdown-toggle){border-top-right-radius:0;border-bottom-right-radius:0}.btn-group>.btn:last-child:not(:first-child),.btn-group>.dropdown-toggle:not(:first-child){border-top-left-radius:0;border-bottom-left-radius:0}.btn-group>.btn-group{float:left}.btn-group>.btn-group:not(:first-child):not(:last-child)>.btn{border-radius:0}.btn-group>.btn-group:first-child>.btn:last-child,.btn-group>.btn-group:first-child>.dropdown-toggle{border-top-right-radius:0;border-bottom-right-radius:0}.btn-group>.btn-group:last-child>.btn:first-child{border-top-left-radius:0;border-bottom-left-radius:0}.btn-group .dropdown-toggle:active,.btn-group.open .dropdown-toggle{outline:0}.btn-group>.btn+.dropdown-toggle{padding-right:8px;padding-left:8px}.btn-group>.btn-lg+.dropdown-toggle{padding-right:12px;padding-left:12px}.btn-group.open .dropdown-toggle{-webkit-box-shadow:inset 0 3px 5px rgba(0,0,0,.125);box-shadow:inset 0 3px 5px rgba(0,0,0,.125)}.btn-group.open .dropdown-toggle.btn-link{-webkit-box-shadow:none;box-shadow:none}.btn .caret{margin-left:0}.btn-lg .caret{border-width:5px 5px 0;border-bottom-width:0}.dropup .btn-lg .caret{border-width:0 5px 5px}.btn-group-vertical>.btn,.btn-group-vertical>.btn-group,.btn-group-vertical>.btn-group>.btn{display:block;float:none;width:100%;max-width:100%}.btn-group-vertical>.btn-group>.btn{float:none}.btn-group-vertical>.btn+.btn,.btn-group-vertical>.btn+.btn-group,.btn-group-vertical>.btn-group+.btn,.btn-group-vertical>.btn-group+.btn-group{margin-top:-1px;margin-left:0}.btn-group-vertical>.btn:not(:first-child):not(:last-child){border-radius:0}.btn-group-vertical>.btn:first-child:not(:last-child){border-top-right-radius:4px;border-bottom-right-radius:0;border-bottom-left-radius:0}.btn-group-vertical>.btn:last-child:not(:first-child){border-top-left-radius:0;border-top-right-radius:0;border-bottom-left-radius:4px}.btn-group-vertical>.btn-group:not(:first-child):not(:last-child)>.btn{border-radius:0}.btn-group-vertical>.btn-group:first-child:not(:last-child)>.btn:last-child,.btn-group-vertical>.btn-group:first-child:not(:last-child)>.dropdown-toggle{border-bottom-right-radius:0;border-bottom-left-radius:0}.btn-group-vertical>.btn-group:last-child:not(:first-child)>.btn:first-child{border-top-left-radius:0;border-top-right-radius:0}.btn-group-justified{display:table;width:100%;table-layout:fixed;border-collapse:separate}.btn-group-justified>.btn,.btn-group-justified>.btn-group{display:table-cell;float:none;width:1%}.btn-group-justified>.btn-group .btn{width:100%}.btn-group-justified>.btn-group .dropdown-menu{left:auto}[data-toggle=buttons]>.btn input[type=radio],[data-toggle=buttons]>.btn-group>.btn input[type=radio],[data-toggle=buttons]>.btn input[type=checkbox],[data-toggle=buttons]>.btn-group>.btn input[type=checkbox]{position:absolute;clip:rect(0,0,0,0);pointer-events:none}.input-group{position:relative;display:table;border-collapse:separate}.input-group[class*=col-]{float:none;padding-right:0;padding-left:0}.input-group .form-control{position:relative;z-index:2;float:left;width:100%;margin-bottom:0}.input-group-lg>.form-control,.input-group-lg>.input-group-addon,.input-group-lg>.input-group-btn>.btn{height:46px;padding:10px 16px;font-size:18px;line-height:1.33;border-radius:6px}select.input-group-lg>.form-control,select.input-group-lg>.input-group-addon,select.input-group-lg>.input-group-btn>.btn{height:46px;line-height:46px}textarea.input-group-lg>.form-control,textarea.input-group-lg>.input-group-addon,textarea.input-group-lg>.input-group-btn>.btn,select[multiple].input-group-lg>.form-control,select[multiple].input-group-lg>.input-group-addon,select[multiple].input-group-lg>.input-group-btn>.btn{height:auto}.input-group-sm>.form-control,.input-group-sm>.input-group-addon,.input-group-sm>.input-group-btn>.btn{height:30px;padding:5px 10px;font-size:12px;line-height:1.5;border-radius:3px}select.input-group-sm>.form-control,select.input-group-sm>.input-group-addon,select.input-group-sm>.input-group-btn>.btn{height:30px;line-height:30px}textarea.input-group-sm>.form-control,textarea.input-group-sm>.input-group-addon,textarea.input-group-sm>.input-group-btn>.btn,select[multiple].input-group-sm>.form-control,select[multiple].input-group-sm>.input-group-addon,select[multiple].input-group-sm>.input-group-btn>.btn{height:auto}.input-group-addon,.input-group-btn,.input-group .form-control{display:table-cell}.input-group-addon:not(:first-child):not(:last-child),.input-group-btn:not(:first-child):not(:last-child),.input-group .form-control:not(:first-child):not(:last-child){border-radius:0}.input-group-addon,.input-group-btn{width:1%;white-space:nowrap;vertical-align:middle}.input-group-addon{padding:6px 12px;font-size:14px;font-weight:400;line-height:1;color:#555;text-align:center;background-color:#eee;border:1px solid #ccc;border-radius:4px}.input-group-addon.input-sm{padding:5px 10px;font-size:12px;border-radius:3px}.input-group-addon.input-lg{padding:10px 16px;font-size:18px;border-radius:6px}.input-group-addon input[type=radio],.input-group-addon input[type=checkbox]{margin-top:0}.input-group .form-control:first-child,.input-group-addon:first-child,.input-group-btn:first-child>.btn,.input-group-btn:first-child>.btn-group>.btn,.input-group-btn:first-child>.dropdown-toggle,.input-group-btn:last-child>.btn:not(:last-child):not(.dropdown-toggle),.input-group-btn:last-child>.btn-group:not(:last-child)>.btn{border-top-right-radius:0;border-bottom-right-radius:0}.input-group-addon:first-child{border-right:0}.input-group .form-control:last-child,.input-group-addon:last-child,.input-group-btn:last-child>.btn,.input-group-btn:last-child>.btn-group>.btn,.input-group-btn:last-child>.dropdown-toggle,.input-group-btn:first-child>.btn:not(:first-child),.input-group-btn:first-child>.btn-group:not(:first-child)>.btn{border-top-left-radius:0;border-bottom-left-radius:0}.input-group-addon:last-child{border-left:0}.input-group-btn{position:relative;font-size:0;white-space:nowrap}.input-group-btn>.btn{position:relative}.input-group-btn>.btn+.btn{margin-left:-1px}.input-group-btn>.btn:hover,.input-group-btn>.btn:focus,.input-group-btn>.btn:active{z-index:2}.input-group-btn:first-child>.btn,.input-group-btn:first-child>.btn-group{margin-right:-1px}.input-group-btn:last-child>.btn,.input-group-btn:last-child>.btn-group{margin-left:-1px}.nav{padding-left:0;margin-bottom:0;list-style:none}.nav>li{position:relative;display:block}.nav>li>a{position:relative;display:block;padding:10px 15px}.nav>li>a:hover,.nav>li>a:focus{text-decoration:none;background-color:#eee}.nav>li.disabled>a{color:#777}.nav>li.disabled>a:hover,.nav>li.disabled>a:focus{color:#777;text-decoration:none;cursor:not-allowed;background-color:transparent}.nav .open>a,.nav .open>a:hover,.nav .open>a:focus{background-color:#eee;border-color:#337ab7}.nav .nav-divider{height:1px;margin:9px 0;overflow:hidden;background-color:#e5e5e5}.nav>li>a>img{max-width:none}.nav-tabs{border-bottom:1px solid #ddd}.nav-tabs>li{float:left;margin-bottom:-1px}.nav-tabs>li>a{margin-right:2px;line-height:1.42857143;border:1px solid transparent;border-radius:4px 4px 0 0}.nav-tabs>li>a:hover{border-color:#eee #eee #ddd}.nav-tabs>li.active>a,.nav-tabs>li.active>a:hover,.nav-tabs>li.active>a:focus{color:#555;cursor:default;background-color:#fff;border:1px solid #ddd;border-bottom-color:transparent}.nav-tabs.nav-justified{width:100%;border-bottom:0}.nav-tabs.nav-justified>li{float:none}.nav-tabs.nav-justified>li>a{margin-bottom:5px;text-align:center}.nav-tabs.nav-justified>.dropdown .dropdown-menu{top:auto;left:auto}@media (min-width:768px){.nav-tabs.nav-justified>li{display:table-cell;width:1%}.nav-tabs.nav-justified>li>a{margin-bottom:0}}.nav-tabs.nav-justified>li>a{margin-right:0;border-radius:4px}.nav-tabs.nav-justified>.active>a,.nav-tabs.nav-justified>.active>a:hover,.nav-tabs.nav-justified>.active>a:focus{border:1px solid #ddd}@media (min-width:768px){.nav-tabs.nav-justified>li>a{border-bottom:1px solid #ddd;border-radius:4px 4px 0 0}.nav-tabs.nav-justified>.active>a,.nav-tabs.nav-justified>.active>a:hover,.nav-tabs.nav-justified>.active>a:focus{border-bottom-color:#fff}}.nav-pills>li{float:left}.nav-pills>li>a{border-radius:4px}.nav-pills>li+li{margin-left:2px}.nav-pills>li.active>a,.nav-pills>li.active>a:hover,.nav-pills>li.active>a:focus{color:#fff;background-color:#337ab7}.nav-stacked>li{float:none}.nav-stacked>li+li{margin-top:2px;margin-left:0}.nav-justified{width:100%}.nav-justified>li{float:none}.nav-justified>li>a{margin-bottom:5px;text-align:center}.nav-justified>.dropdown .dropdown-menu{top:auto;left:auto}@media (min-width:768px){.nav-justified>li{display:table-cell;width:1%}.nav-justified>li>a{margin-bottom:0}}.nav-tabs-justified{border-bottom:0}.nav-tabs-justified>li>a{margin-right:0;border-radius:4px}.nav-tabs-justified>.active>a,.nav-tabs-justified>.active>a:hover,.nav-tabs-justified>.active>a:focus{border:1px solid #ddd}@media (min-width:768px){.nav-tabs-justified>li>a{border-bottom:1px solid #ddd;border-radius:4px 4px 0 0}.nav-tabs-justified>.active>a,.nav-tabs-justified>.active>a:hover,.nav-tabs-justified>.active>a:focus{border-bottom-color:#fff}}.tab-content>.tab-pane{display:none;visibility:hidden}.tab-content>.active{display:block;visibility:visible}.nav-tabs .dropdown-menu{margin-top:-1px;border-top-left-radius:0;border-top-right-radius:0}.navbar{position:relative;min-height:50px;margin-bottom:20px;border:1px solid transparent}@media (min-width:768px){.navbar{border-radius:4px}}@media (min-width:768px){.navbar-header{float:left}}.navbar-collapse{padding-right:15px;padding-left:15px;overflow-x:visible;-webkit-overflow-scrolling:touch;border-top:1px solid transparent;-webkit-box-shadow:inset 0 1px 0 rgba(255,255,255,.1);box-shadow:inset 0 1px 0 rgba(255,255,255,.1)}.navbar-collapse.in{overflow-y:auto}@media (min-width:768px){.navbar-collapse{width:auto;border-top:0;-webkit-box-shadow:none;box-shadow:none}.navbar-collapse.collapse{display:block!important;height:auto!important;padding-bottom:0;overflow:visible!important;visibility:visible!important}.navbar-collapse.in{overflow-y:visible}.navbar-fixed-top .navbar-collapse,.navbar-static-top .navbar-collapse,.navbar-fixed-bottom .navbar-collapse{padding-right:0;padding-left:0}}.navbar-fixed-top .navbar-collapse,.navbar-fixed-bottom .navbar-collapse{max-height:340px}@media (max-device-width:480px) and (orientation:landscape){.navbar-fixed-top .navbar-collapse,.navbar-fixed-bottom .navbar-collapse{max-height:200px}}.container>.navbar-header,.container-fluid>.navbar-header,.container>.navbar-collapse,.container-fluid>.navbar-collapse{margin-right:-15px;margin-left:-15px}@media (min-width:768px){.container>.navbar-header,.container-fluid>.navbar-header,.container>.navbar-collapse,.container-fluid>.navbar-collapse{margin-right:0;margin-left:0}}.navbar-static-top{z-index:1000;border-width:0 0 1px}@media (min-width:768px){.navbar-static-top{border-radius:0}}.navbar-fixed-top,.navbar-fixed-bottom{position:fixed;right:0;left:0;z-index:1030}@media (min-width:768px){.navbar-fixed-top,.navbar-fixed-bottom{border-radius:0}}.navbar-fixed-top{top:0;border-width:0 0 1px}.navbar-fixed-bottom{bottom:0;margin-bottom:0;border-width:1px 0 0}.navbar-brand{float:left;height:50px;padding:15px 15px;font-size:18px;line-height:20px}.navbar-brand:hover,.navbar-brand:focus{text-decoration:none}.navbar-brand>img{display:block}@media (min-width:768px){.navbar>.container .navbar-brand,.navbar>.container-fluid .navbar-brand{margin-left:-15px}}.navbar-toggle{position:relative;float:right;padding:9px 10px;margin-top:8px;margin-right:15px;margin-bottom:8px;background-color:transparent;background-image:none;border:1px solid transparent;border-radius:4px}.navbar-toggle:focus{outline:0}.navbar-toggle .icon-bar{display:block;width:22px;height:2px;border-radius:1px}.navbar-toggle .icon-bar+.icon-bar{margin-top:4px}@media (min-width:768px){.navbar-toggle{display:none}}.navbar-nav{margin:7.5px -15px}.navbar-nav>li>a{padding-top:10px;padding-bottom:10px;line-height:20px}@media (max-width:767px){.navbar-nav .open .dropdown-menu{position:static;float:none;width:auto;margin-top:0;background-color:transparent;border:0;-webkit-box-shadow:none;box-shadow:none}.navbar-nav .open .dropdown-menu>li>a,.navbar-nav .open .dropdown-menu .dropdown-header{padding:5px 15px 5px 25px}.navbar-nav .open .dropdown-menu>li>a{line-height:20px}.navbar-nav .open .dropdown-menu>li>a:hover,.navbar-nav .open .dropdown-menu>li>a:focus{background-image:none}}@media (min-width:768px){.navbar-nav{float:left;margin:0}.navbar-nav>li{float:left}.navbar-nav>li>a{padding-top:15px;padding-bottom:15px}}.navbar-form{padding:10px 15px;margin-top:8px;margin-right:-15px;margin-bottom:8px;margin-left:-15px;border-top:1px solid transparent;border-bottom:1px solid transparent;-webkit-box-shadow:inset 0 1px 0 rgba(255,255,255,.1),0 1px 0 rgba(255,255,255,.1);box-shadow:inset 0 1px 0 rgba(255,255,255,.1),0 1px 0 rgba(255,255,255,.1)}@media (min-width:768px){.navbar-form .form-group{display:inline-block;margin-bottom:0;vertical-align:middle}.navbar-form .form-control{display:inline-block;width:auto;vertical-align:middle}.navbar-form .form-control-static{display:inline-block}.navbar-form .input-group{display:inline-table;vertical-align:middle}.navbar-form .input-group .input-group-addon,.navbar-form .input-group .input-group-btn,.navbar-form .input-group .form-control{width:auto}.navbar-form .input-group>.form-control{width:100%}.navbar-form .control-label{margin-bottom:0;vertical-align:middle}.navbar-form .radio,.navbar-form .checkbox{display:inline-block;margin-top:0;margin-bottom:0;vertical-align:middle}.navbar-form .radio label,.navbar-form .checkbox label{padding-left:0}.navbar-form .radio input[type=radio],.navbar-form .checkbox input[type=checkbox]{position:relative;margin-left:0}.navbar-form .has-feedback .form-control-feedback{top:0}}@media (max-width:767px){.navbar-form .form-group{margin-bottom:5px}.navbar-form .form-group:last-child{margin-bottom:0}}@media (min-width:768px){.navbar-form{width:auto;padding-top:0;padding-bottom:0;margin-right:0;margin-left:0;border:0;-webkit-box-shadow:none;box-shadow:none}}.navbar-nav>li>.dropdown-menu{margin-top:0;border-top-left-radius:0;border-top-right-radius:0}.navbar-fixed-bottom .navbar-nav>li>.dropdown-menu{border-top-left-radius:4px;border-top-right-radius:4px;border-bottom-right-radius:0;border-bottom-left-radius:0}.navbar-btn{margin-top:8px;margin-bottom:8px}.navbar-btn.btn-sm{margin-top:10px;margin-bottom:10px}.navbar-btn.btn-xs{margin-top:14px;margin-bottom:14px}.navbar-text{margin-top:15px;margin-bottom:15px}@media (min-width:768px){.navbar-text{float:left;margin-right:15px;margin-left:15px}}@media (min-width:768px){.navbar-left{float:left!important}.navbar-right{float:right!important;margin-right:-15px}.navbar-right~.navbar-right{margin-right:0}}.navbar-default{background-color:#f8f8f8;border-color:#e7e7e7}.navbar-default .navbar-brand{color:#777}.navbar-default .navbar-brand:hover,.navbar-default .navbar-brand:focus{color:#5e5e5e;background-color:transparent}.navbar-default .navbar-text{color:#777}.navbar-default .navbar-nav>li>a{color:#777}.navbar-default .navbar-nav>li>a:hover,.navbar-default .navbar-nav>li>a:focus{color:#333;background-color:transparent}.navbar-default .navbar-nav>.active>a,.navbar-default .navbar-nav>.active>a:hover,.navbar-default .navbar-nav>.active>a:focus{color:#555;background-color:#e7e7e7}.navbar-default .navbar-nav>.disabled>a,.navbar-default .navbar-nav>.disabled>a:hover,.navbar-default .navbar-nav>.disabled>a:focus{color:#ccc;background-color:transparent}.navbar-default .navbar-toggle{border-color:#ddd}.navbar-default .navbar-toggle:hover,.navbar-default .navbar-toggle:focus{background-color:#ddd}.navbar-default .navbar-toggle .icon-bar{background-color:#888}.navbar-default .navbar-collapse,.navbar-default .navbar-form{border-color:#e7e7e7}.navbar-default .navbar-nav>.open>a,.navbar-default .navbar-nav>.open>a:hover,.navbar-default .navbar-nav>.open>a:focus{color:#555;background-color:#e7e7e7}@media (max-width:767px){.navbar-default .navbar-nav .open .dropdown-menu>li>a{color:#777}.navbar-default .navbar-nav .open .dropdown-menu>li>a:hover,.navbar-default .navbar-nav .open .dropdown-menu>li>a:focus{color:#333;background-color:transparent}.navbar-default .navbar-nav .open .dropdown-menu>.active>a,.navbar-default .navbar-nav .open .dropdown-menu>.active>a:hover,.navbar-default .navbar-nav .open .dropdown-menu>.active>a:focus{color:#555;background-color:#e7e7e7}.navbar-default .navbar-nav .open .dropdown-menu>.disabled>a,.navbar-default .navbar-nav .open .dropdown-menu>.disabled>a:hover,.navbar-default .navbar-nav .open .dropdown-menu>.disabled>a:focus{color:#ccc;background-color:transparent}}.navbar-default .navbar-link{color:#777}.navbar-default .navbar-link:hover{color:#333}.navbar-default .btn-link{color:#777}.navbar-default .btn-link:hover,.navbar-default .btn-link:focus{color:#333}.navbar-default .btn-link[disabled]:hover,fieldset[disabled] .navbar-default .btn-link:hover,.navbar-default .btn-link[disabled]:focus,fieldset[disabled] .navbar-default .btn-link:focus{color:#ccc}.navbar-inverse{background-color:#222;border-color:#080808}.navbar-inverse .navbar-brand{color:#9d9d9d}.navbar-inverse .navbar-brand:hover,.navbar-inverse .navbar-brand:focus{color:#fff;background-color:transparent}.navbar-inverse .navbar-text{color:#9d9d9d}.navbar-inverse .navbar-nav>li>a{color:#9d9d9d}.navbar-inverse .navbar-nav>li>a:hover,.navbar-inverse .navbar-nav>li>a:focus{color:#fff;background-color:transparent}.navbar-inverse .navbar-nav>.active>a,.navbar-inverse .navbar-nav>.active>a:hover,.navbar-inverse .navbar-nav>.active>a:focus{color:#fff;background-color:#080808}.navbar-inverse .navbar-nav>.disabled>a,.navbar-inverse .navbar-nav>.disabled>a:hover,.navbar-inverse .navbar-nav>.disabled>a:focus{color:#444;background-color:transparent}.navbar-inverse .navbar-toggle{border-color:#333}.navbar-inverse .navbar-toggle:hover,.navbar-inverse .navbar-toggle:focus{background-color:#333}.navbar-inverse .navbar-toggle .icon-bar{background-color:#fff}.navbar-inverse .navbar-collapse,.navbar-inverse .navbar-form{border-color:#101010}.navbar-inverse .navbar-nav>.open>a,.navbar-inverse .navbar-nav>.open>a:hover,.navbar-inverse .navbar-nav>.open>a:focus{color:#fff;background-color:#080808}@media (max-width:767px){.navbar-inverse .navbar-nav .open .dropdown-menu>.dropdown-header{border-color:#080808}.navbar-inverse .navbar-nav .open .dropdown-menu .divider{background-color:#080808}.navbar-inverse .navbar-nav .open .dropdown-menu>li>a{color:#9d9d9d}.navbar-inverse .navbar-nav .open .dropdown-menu>li>a:hover,.navbar-inverse .navbar-nav .open .dropdown-menu>li>a:focus{color:#fff;background-color:transparent}.navbar-inverse .navbar-nav .open .dropdown-menu>.active>a,.navbar-inverse .navbar-nav .open .dropdown-menu>.active>a:hover,.navbar-inverse .navbar-nav .open .dropdown-menu>.active>a:focus{color:#fff;background-color:#080808}.navbar-inverse .navbar-nav .open .dropdown-menu>.disabled>a,.navbar-inverse .navbar-nav .open .dropdown-menu>.disabled>a:hover,.navbar-inverse .navbar-nav .open .dropdown-menu>.disabled>a:focus{color:#444;background-color:transparent}}.navbar-inverse .navbar-link{color:#9d9d9d}.navbar-inverse .navbar-link:hover{color:#fff}.navbar-inverse .btn-link{color:#9d9d9d}.navbar-inverse .btn-link:hover,.navbar-inverse .btn-link:focus{color:#fff}.navbar-inverse .btn-link[disabled]:hover,fieldset[disabled] .navbar-inverse .btn-link:hover,.navbar-inverse .btn-link[disabled]:focus,fieldset[disabled] .navbar-inverse .btn-link:focus{color:#444}.breadcrumb{padding:8px 15px;margin-bottom:20px;list-style:none;background-color:#f5f5f5;border-radius:4px}.breadcrumb>li{display:inline-block}.breadcrumb>li+li:before{padding:0 5px;color:#ccc;content:\"/\\\\00a0\"}.breadcrumb>.active{color:#777}.pagination{display:inline-block;padding-left:0;margin:20px 0;border-radius:4px}.pagination>li{display:inline}.pagination>li>a,.pagination>li>span{position:relative;float:left;padding:6px 12px;margin-left:-1px;line-height:1.42857143;color:#337ab7;text-decoration:none;background-color:#fff;border:1px solid #ddd}.pagination>li:first-child>a,.pagination>li:first-child>span{margin-left:0;border-top-left-radius:4px;border-bottom-left-radius:4px}.pagination>li:last-child>a,.pagination>li:last-child>span{border-top-right-radius:4px;border-bottom-right-radius:4px}.pagination>li>a:hover,.pagination>li>span:hover,.pagination>li>a:focus,.pagination>li>span:focus{color:#23527c;background-color:#eee;border-color:#ddd}.pagination>.active>a,.pagination>.active>span,.pagination>.active>a:hover,.pagination>.active>span:hover,.pagination>.active>a:focus,.pagination>.active>span:focus{z-index:2;color:#fff;cursor:default;background-color:#337ab7;border-color:#337ab7}.pagination>.disabled>span,.pagination>.disabled>span:hover,.pagination>.disabled>span:focus,.pagination>.disabled>a,.pagination>.disabled>a:hover,.pagination>.disabled>a:focus{color:#777;cursor:not-allowed;background-color:#fff;border-color:#ddd}.pagination-lg>li>a,.pagination-lg>li>span{padding:10px 16px;font-size:18px}.pagination-lg>li:first-child>a,.pagination-lg>li:first-child>span{border-top-left-radius:6px;border-bottom-left-radius:6px}.pagination-lg>li:last-child>a,.pagination-lg>li:last-child>span{border-top-right-radius:6px;border-bottom-right-radius:6px}.pagination-sm>li>a,.pagination-sm>li>span{padding:5px 10px;font-size:12px}.pagination-sm>li:first-child>a,.pagination-sm>li:first-child>span{border-top-left-radius:3px;border-bottom-left-radius:3px}.pagination-sm>li:last-child>a,.pagination-sm>li:last-child>span{border-top-right-radius:3px;border-bottom-right-radius:3px}.pager{padding-left:0;margin:20px 0;text-align:center;list-style:none}.pager li{display:inline}.pager li>a,.pager li>span{display:inline-block;padding:5px 14px;background-color:#fff;border:1px solid #ddd;border-radius:15px}.pager li>a:hover,.pager li>a:focus{text-decoration:none;background-color:#eee}.pager .next>a,.pager .next>span{float:right}.pager .previous>a,.pager .previous>span{float:left}.pager .disabled>a,.pager .disabled>a:hover,.pager .disabled>a:focus,.pager .disabled>span{color:#777;cursor:not-allowed;background-color:#fff}.label{display:inline;padding:.2em .6em .3em;font-size:75%;font-weight:700;line-height:1;color:#fff;text-align:center;white-space:nowrap;vertical-align:baseline;border-radius:.25em}a.label:hover,a.label:focus{color:#fff;text-decoration:none;cursor:pointer}.label:empty{display:none}.btn .label{position:relative;top:-1px}.label-default{background-color:#777}.label-default[href]:hover,.label-default[href]:focus{background-color:#5e5e5e}.label-primary{background-color:#337ab7}.label-primary[href]:hover,.label-primary[href]:focus{background-color:#286090}.label-success{background-color:#5cb85c}.label-success[href]:hover,.label-success[href]:focus{background-color:#449d44}.label-info{background-color:#5bc0de}.label-info[href]:hover,.label-info[href]:focus{background-color:#31b0d5}.label-warning{background-color:#f0ad4e}.label-warning[href]:hover,.label-warning[href]:focus{background-color:#ec971f}.label-danger{background-color:#d9534f}.label-danger[href]:hover,.label-danger[href]:focus{background-color:#c9302c}.badge{display:inline-block;min-width:10px;padding:3px 7px;font-size:12px;font-weight:700;line-height:1;color:#fff;text-align:center;white-space:nowrap;vertical-align:baseline;background-color:#777;border-radius:10px}.badge:empty{display:none}.btn .badge{position:relative;top:-1px}.btn-xs .badge{top:0;padding:1px 5px}a.badge:hover,a.badge:focus{color:#fff;text-decoration:none;cursor:pointer}.list-group-item.active>.badge,.nav-pills>.active>a>.badge{color:#337ab7;background-color:#fff}.list-group-item>.badge{float:right}.list-group-item>.badge+.badge{margin-right:5px}.nav-pills>li>a>.badge{margin-left:3px}.jumbotron{padding:30px 15px;margin-bottom:30px;color:inherit;background-color:#eee}.jumbotron h1,.jumbotron .h1{color:inherit}.jumbotron p{margin-bottom:15px;font-size:21px;font-weight:200}.jumbotron>hr{border-top-color:#d5d5d5}.container .jumbotron,.container-fluid .jumbotron{border-radius:6px}.jumbotron .container{max-width:100%}@media screen and (min-width:768px){.jumbotron{padding:48px 0}.container .jumbotron,.container-fluid .jumbotron{padding-right:60px;padding-left:60px}.jumbotron h1,.jumbotron .h1{font-size:63px}}.thumbnail{display:block;padding:4px;margin-bottom:20px;line-height:1.42857143;background-color:#fff;border:1px solid #ddd;border-radius:4px;-webkit-transition:border .2s ease-in-out;-o-transition:border .2s ease-in-out;transition:border .2s ease-in-out}.thumbnail>img,.thumbnail a>img{margin-right:auto;margin-left:auto}a.thumbnail:hover,a.thumbnail:focus,a.thumbnail.active{border-color:#337ab7}.thumbnail .caption{padding:9px;color:#333}.alert{padding:15px;margin-bottom:20px;border:1px solid transparent;border-radius:4px}.alert h4{margin-top:0;color:inherit}.alert .alert-link{font-weight:700}.alert>p,.alert>ul{margin-bottom:0}.alert>p+p{margin-top:5px}.alert-dismissable,.alert-dismissible{padding-right:35px}.alert-dismissable .close,.alert-dismissible .close{position:relative;top:-2px;right:-21px;color:inherit}.alert-success{color:#3c763d;background-color:#dff0d8;border-color:#d6e9c6}.alert-success hr{border-top-color:#c9e2b3}.alert-success .alert-link{color:#2b542c}.alert-info{color:#31708f;background-color:#d9edf7;border-color:#bce8f1}.alert-info hr{border-top-color:#a6e1ec}.alert-info .alert-link{color:#245269}.alert-warning{color:#8a6d3b;background-color:#fcf8e3;border-color:#faebcc}.alert-warning hr{border-top-color:#f7e1b5}.alert-warning .alert-link{color:#66512c}.alert-danger{color:#a94442;background-color:#f2dede;border-color:#ebccd1}.alert-danger hr{border-top-color:#e4b9c0}.alert-danger .alert-link{color:#843534}@-webkit-keyframes progress-bar-stripes{from{background-position:40px 0}to{background-position:0 0}}@-o-keyframes progress-bar-stripes{from{background-position:40px 0}to{background-position:0 0}}@keyframes progress-bar-stripes{from{background-position:40px 0}to{background-position:0 0}}.progress{height:20px;margin-bottom:20px;overflow:hidden;background-color:#f5f5f5;border-radius:4px;-webkit-box-shadow:inset 0 1px 2px rgba(0,0,0,.1);box-shadow:inset 0 1px 2px rgba(0,0,0,.1)}.progress-bar{float:left;width:0;height:100%;font-size:12px;line-height:20px;color:#fff;text-align:center;background-color:#337ab7;-webkit-box-shadow:inset 0 -1px 0 rgba(0,0,0,.15);box-shadow:inset 0 -1px 0 rgba(0,0,0,.15);-webkit-transition:width .6s ease;-o-transition:width .6s ease;transition:width .6s ease}.progress-striped .progress-bar,.progress-bar-striped{background-image:-webkit-linear-gradient(45deg,rgba(255,255,255,.15) 25%,transparent 25%,transparent 50%,rgba(255,255,255,.15) 50%,rgba(255,255,255,.15) 75%,transparent 75%,transparent);background-image:-o-linear-gradient(45deg,rgba(255,255,255,.15) 25%,transparent 25%,transparent 50%,rgba(255,255,255,.15) 50%,rgba(255,255,255,.15) 75%,transparent 75%,transparent);background-image:linear-gradient(45deg,rgba(255,255,255,.15) 25%,transparent 25%,transparent 50%,rgba(255,255,255,.15) 50%,rgba(255,255,255,.15) 75%,transparent 75%,transparent);-webkit-background-size:40px 40px;background-size:40px 40px}.progress.active .progress-bar,.progress-bar.active{-webkit-animation:progress-bar-stripes 2s linear infinite;-o-animation:progress-bar-stripes 2s linear infinite;animation:progress-bar-stripes 2s linear infinite}.progress-bar-success{background-color:#5cb85c}.progress-striped .progress-bar-success{background-image:-webkit-linear-gradient(45deg,rgba(255,255,255,.15) 25%,transparent 25%,transparent 50%,rgba(255,255,255,.15) 50%,rgba(255,255,255,.15) 75%,transparent 75%,transparent);background-image:-o-linear-gradient(45deg,rgba(255,255,255,.15) 25%,transparent 25%,transparent 50%,rgba(255,255,255,.15) 50%,rgba(255,255,255,.15) 75%,transparent 75%,transparent);background-image:linear-gradient(45deg,rgba(255,255,255,.15) 25%,transparent 25%,transparent 50%,rgba(255,255,255,.15) 50%,rgba(255,255,255,.15) 75%,transparent 75%,transparent)}.progress-bar-info{background-color:#5bc0de}.progress-striped .progress-bar-info{background-image:-webkit-linear-gradient(45deg,rgba(255,255,255,.15) 25%,transparent 25%,transparent 50%,rgba(255,255,255,.15) 50%,rgba(255,255,255,.15) 75%,transparent 75%,transparent);background-image:-o-linear-gradient(45deg,rgba(255,255,255,.15) 25%,transparent 25%,transparent 50%,rgba(255,255,255,.15) 50%,rgba(255,255,255,.15) 75%,transparent 75%,transparent);background-image:linear-gradient(45deg,rgba(255,255,255,.15) 25%,transparent 25%,transparent 50%,rgba(255,255,255,.15) 50%,rgba(255,255,255,.15) 75%,transparent 75%,transparent)}.progress-bar-warning{background-color:#f0ad4e}.progress-striped .progress-bar-warning{background-image:-webkit-linear-gradient(45deg,rgba(255,255,255,.15) 25%,transparent 25%,transparent 50%,rgba(255,255,255,.15) 50%,rgba(255,255,255,.15) 75%,transparent 75%,transparent);background-image:-o-linear-gradient(45deg,rgba(255,255,255,.15) 25%,transparent 25%,transparent 50%,rgba(255,255,255,.15) 50%,rgba(255,255,255,.15) 75%,transparent 75%,transparent);background-image:linear-gradient(45deg,rgba(255,255,255,.15) 25%,transparent 25%,transparent 50%,rgba(255,255,255,.15) 50%,rgba(255,255,255,.15) 75%,transparent 75%,transparent)}.progress-bar-danger{background-color:#d9534f}.progress-striped .progress-bar-danger{background-image:-webkit-linear-gradient(45deg,rgba(255,255,255,.15) 25%,transparent 25%,transparent 50%,rgba(255,255,255,.15) 50%,rgba(255,255,255,.15) 75%,transparent 75%,transparent);background-image:-o-linear-gradient(45deg,rgba(255,255,255,.15) 25%,transparent 25%,transparent 50%,rgba(255,255,255,.15) 50%,rgba(255,255,255,.15) 75%,transparent 75%,transparent);background-image:linear-gradient(45deg,rgba(255,255,255,.15) 25%,transparent 25%,transparent 50%,rgba(255,255,255,.15) 50%,rgba(255,255,255,.15) 75%,transparent 75%,transparent)}.media{margin-top:15px}.media:first-child{margin-top:0}.media-right,.media>.pull-right{padding-left:10px}.media-left,.media>.pull-left{padding-right:10px}.media-left,.media-right,.media-body{display:table-cell;vertical-align:top}.media-middle{vertical-align:middle}.media-bottom{vertical-align:bottom}.media-heading{margin-top:0;margin-bottom:5px}.media-list{padding-left:0;list-style:none}.list-group{padding-left:0;margin-bottom:20px}.list-group-item{position:relative;display:block;padding:10px 15px;margin-bottom:-1px;background-color:#fff;border:1px solid #ddd}.list-group-item:first-child{border-top-left-radius:4px;border-top-right-radius:4px}.list-group-item:last-child{margin-bottom:0;border-bottom-right-radius:4px;border-bottom-left-radius:4px}a.list-group-item{color:#555}a.list-group-item .list-group-item-heading{color:#333}a.list-group-item:hover,a.list-group-item:focus{color:#555;text-decoration:none;background-color:#f5f5f5}.list-group-item.disabled,.list-group-item.disabled:hover,.list-group-item.disabled:focus{color:#777;cursor:not-allowed;background-color:#eee}.list-group-item.disabled .list-group-item-heading,.list-group-item.disabled:hover .list-group-item-heading,.list-group-item.disabled:focus .list-group-item-heading{color:inherit}.list-group-item.disabled .list-group-item-text,.list-group-item.disabled:hover .list-group-item-text,.list-group-item.disabled:focus .list-group-item-text{color:#777}.list-group-item.active,.list-group-item.active:hover,.list-group-item.active:focus{z-index:2;color:#fff;background-color:#337ab7;border-color:#337ab7}.list-group-item.active .list-group-item-heading,.list-group-item.active:hover .list-group-item-heading,.list-group-item.active:focus .list-group-item-heading,.list-group-item.active .list-group-item-heading>small,.list-group-item.active:hover .list-group-item-heading>small,.list-group-item.active:focus .list-group-item-heading>small,.list-group-item.active .list-group-item-heading>.small,.list-group-item.active:hover .list-group-item-heading>.small,.list-group-item.active:focus .list-group-item-heading>.small{color:inherit}.list-group-item.active .list-group-item-text,.list-group-item.active:hover .list-group-item-text,.list-group-item.active:focus .list-group-item-text{color:#c7ddef}.list-group-item-success{color:#3c763d;background-color:#dff0d8}a.list-group-item-success{color:#3c763d}a.list-group-item-success .list-group-item-heading{color:inherit}a.list-group-item-success:hover,a.list-group-item-success:focus{color:#3c763d;background-color:#d0e9c6}a.list-group-item-success.active,a.list-group-item-success.active:hover,a.list-group-item-success.active:focus{color:#fff;background-color:#3c763d;border-color:#3c763d}.list-group-item-info{color:#31708f;background-color:#d9edf7}a.list-group-item-info{color:#31708f}a.list-group-item-info .list-group-item-heading{color:inherit}a.list-group-item-info:hover,a.list-group-item-info:focus{color:#31708f;background-color:#c4e3f3}a.list-group-item-info.active,a.list-group-item-info.active:hover,a.list-group-item-info.active:focus{color:#fff;background-color:#31708f;border-color:#31708f}.list-group-item-warning{color:#8a6d3b;background-color:#fcf8e3}a.list-group-item-warning{color:#8a6d3b}a.list-group-item-warning .list-group-item-heading{color:inherit}a.list-group-item-warning:hover,a.list-group-item-warning:focus{color:#8a6d3b;background-color:#faf2cc}a.list-group-item-warning.active,a.list-group-item-warning.active:hover,a.list-group-item-warning.active:focus{color:#fff;background-color:#8a6d3b;border-color:#8a6d3b}.list-group-item-danger{color:#a94442;background-color:#f2dede}a.list-group-item-danger{color:#a94442}a.list-group-item-danger .list-group-item-heading{color:inherit}a.list-group-item-danger:hover,a.list-group-item-danger:focus{color:#a94442;background-color:#ebcccc}a.list-group-item-danger.active,a.list-group-item-danger.active:hover,a.list-group-item-danger.active:focus{color:#fff;background-color:#a94442;border-color:#a94442}.list-group-item-heading{margin-top:0;margin-bottom:5px}.list-group-item-text{margin-bottom:0;line-height:1.3}.panel{margin-bottom:20px;background-color:#fff;border:1px solid transparent;border-radius:4px;-webkit-box-shadow:0 1px 1px rgba(0,0,0,.05);box-shadow:0 1px 1px rgba(0,0,0,.05)}.panel-body{padding:15px}.panel-heading{padding:10px 15px;border-bottom:1px solid transparent;border-top-left-radius:3px;border-top-right-radius:3px}.panel-heading>.dropdown .dropdown-toggle{color:inherit}.panel-title{margin-top:0;margin-bottom:0;font-size:16px;color:inherit}.panel-title>a{color:inherit}.panel-footer{padding:10px 15px;background-color:#f5f5f5;border-top:1px solid #ddd;border-bottom-right-radius:3px;border-bottom-left-radius:3px}.panel>.list-group,.panel>.panel-collapse>.list-group{margin-bottom:0}.panel>.list-group .list-group-item,.panel>.panel-collapse>.list-group .list-group-item{border-width:1px 0;border-radius:0}.panel>.list-group:first-child .list-group-item:first-child,.panel>.panel-collapse>.list-group:first-child .list-group-item:first-child{border-top:0;border-top-left-radius:3px;border-top-right-radius:3px}.panel>.list-group:last-child .list-group-item:last-child,.panel>.panel-collapse>.list-group:last-child .list-group-item:last-child{border-bottom:0;border-bottom-right-radius:3px;border-bottom-left-radius:3px}.panel-heading+.list-group .list-group-item:first-child{border-top-width:0}.list-group+.panel-footer{border-top-width:0}.panel>.table,.panel>.table-responsive>.table,.panel>.panel-collapse>.table{margin-bottom:0}.panel>.table caption,.panel>.table-responsive>.table caption,.panel>.panel-collapse>.table caption{padding-right:15px;padding-left:15px}.panel>.table:first-child,.panel>.table-responsive:first-child>.table:first-child{border-top-left-radius:3px;border-top-right-radius:3px}.panel>.table:first-child>thead:first-child>tr:first-child,.panel>.table-responsive:first-child>.table:first-child>thead:first-child>tr:first-child,.panel>.table:first-child>tbody:first-child>tr:first-child,.panel>.table-responsive:first-child>.table:first-child>tbody:first-child>tr:first-child{border-top-left-radius:3px;border-top-right-radius:3px}.panel>.table:first-child>thead:first-child>tr:first-child td:first-child,.panel>.table-responsive:first-child>.table:first-child>thead:first-child>tr:first-child td:first-child,.panel>.table:first-child>tbody:first-child>tr:first-child td:first-child,.panel>.table-responsive:first-child>.table:first-child>tbody:first-child>tr:first-child td:first-child,.panel>.table:first-child>thead:first-child>tr:first-child th:first-child,.panel>.table-responsive:first-child>.table:first-child>thead:first-child>tr:first-child th:first-child,.panel>.table:first-child>tbody:first-child>tr:first-child th:first-child,.panel>.table-responsive:first-child>.table:first-child>tbody:first-child>tr:first-child th:first-child{border-top-left-radius:3px}.panel>.table:first-child>thead:first-child>tr:first-child td:last-child,.panel>.table-responsive:first-child>.table:first-child>thead:first-child>tr:first-child td:last-child,.panel>.table:first-child>tbody:first-child>tr:first-child td:last-child,.panel>.table-responsive:first-child>.table:first-child>tbody:first-child>tr:first-child td:last-child,.panel>.table:first-child>thead:first-child>tr:first-child th:last-child,.panel>.table-responsive:first-child>.table:first-child>thead:first-child>tr:first-child th:last-child,.panel>.table:first-child>tbody:first-child>tr:first-child th:last-child,.panel>.table-responsive:first-child>.table:first-child>tbody:first-child>tr:first-child th:last-child{border-top-right-radius:3px}.panel>.table:last-child,.panel>.table-responsive:last-child>.table:last-child{border-bottom-right-radius:3px;border-bottom-left-radius:3px}.panel>.table:last-child>tbody:last-child>tr:last-child,.panel>.table-responsive:last-child>.table:last-child>tbody:last-child>tr:last-child,.panel>.table:last-child>tfoot:last-child>tr:last-child,.panel>.table-responsive:last-child>.table:last-child>tfoot:last-child>tr:last-child{border-bottom-right-radius:3px;border-bottom-left-radius:3px}.panel>.table:last-child>tbody:last-child>tr:last-child td:first-child,.panel>.table-responsive:last-child>.table:last-child>tbody:last-child>tr:last-child td:first-child,.panel>.table:last-child>tfoot:last-child>tr:last-child td:first-child,.panel>.table-responsive:last-child>.table:last-child>tfoot:last-child>tr:last-child td:first-child,.panel>.table:last-child>tbody:last-child>tr:last-child th:first-child,.panel>.table-responsive:last-child>.table:last-child>tbody:last-child>tr:last-child th:first-child,.panel>.table:last-child>tfoot:last-child>tr:last-child th:first-child,.panel>.table-responsive:last-child>.table:last-child>tfoot:last-child>tr:last-child th:first-child{border-bottom-left-radius:3px}.panel>.table:last-child>tbody:last-child>tr:last-child td:last-child,.panel>.table-responsive:last-child>.table:last-child>tbody:last-child>tr:last-child td:last-child,.panel>.table:last-child>tfoot:last-child>tr:last-child td:last-child,.panel>.table-responsive:last-child>.table:last-child>tfoot:last-child>tr:last-child td:last-child,.panel>.table:last-child>tbody:last-child>tr:last-child th:last-child,.panel>.table-responsive:last-child>.table:last-child>tbody:last-child>tr:last-child th:last-child,.panel>.table:last-child>tfoot:last-child>tr:last-child th:last-child,.panel>.table-responsive:last-child>.table:last-child>tfoot:last-child>tr:last-child th:last-child{border-bottom-right-radius:3px}.panel>.panel-body+.table,.panel>.panel-body+.table-responsive,.panel>.table+.panel-body,.panel>.table-responsive+.panel-body{border-top:1px solid #ddd}.panel>.table>tbody:first-child>tr:first-child th,.panel>.table>tbody:first-child>tr:first-child td{border-top:0}.panel>.table-bordered,.panel>.table-responsive>.table-bordered{border:0}.panel>.table-bordered>thead>tr>th:first-child,.panel>.table-responsive>.table-bordered>thead>tr>th:first-child,.panel>.table-bordered>tbody>tr>th:first-child,.panel>.table-responsive>.table-bordered>tbody>tr>th:first-child,.panel>.table-bordered>tfoot>tr>th:first-child,.panel>.table-responsive>.table-bordered>tfoot>tr>th:first-child,.panel>.table-bordered>thead>tr>td:first-child,.panel>.table-responsive>.table-bordered>thead>tr>td:first-child,.panel>.table-bordered>tbody>tr>td:first-child,.panel>.table-responsive>.table-bordered>tbody>tr>td:first-child,.panel>.table-bordered>tfoot>tr>td:first-child,.panel>.table-responsive>.table-bordered>tfoot>tr>td:first-child{border-left:0}.panel>.table-bordered>thead>tr>th:last-child,.panel>.table-responsive>.table-bordered>thead>tr>th:last-child,.panel>.table-bordered>tbody>tr>th:last-child,.panel>.table-responsive>.table-bordered>tbody>tr>th:last-child,.panel>.table-bordered>tfoot>tr>th:last-child,.panel>.table-responsive>.table-bordered>tfoot>tr>th:last-child,.panel>.table-bordered>thead>tr>td:last-child,.panel>.table-responsive>.table-bordered>thead>tr>td:last-child,.panel>.table-bordered>tbody>tr>td:last-child,.panel>.table-responsive>.table-bordered>tbody>tr>td:last-child,.panel>.table-bordered>tfoot>tr>td:last-child,.panel>.table-responsive>.table-bordered>tfoot>tr>td:last-child{border-right:0}.panel>.table-bordered>thead>tr:first-child>td,.panel>.table-responsive>.table-bordered>thead>tr:first-child>td,.panel>.table-bordered>tbody>tr:first-child>td,.panel>.table-responsive>.table-bordered>tbody>tr:first-child>td,.panel>.table-bordered>thead>tr:first-child>th,.panel>.table-responsive>.table-bordered>thead>tr:first-child>th,.panel>.table-bordered>tbody>tr:first-child>th,.panel>.table-responsive>.table-bordered>tbody>tr:first-child>th{border-bottom:0}.panel>.table-bordered>tbody>tr:last-child>td,.panel>.table-responsive>.table-bordered>tbody>tr:last-child>td,.panel>.table-bordered>tfoot>tr:last-child>td,.panel>.table-responsive>.table-bordered>tfoot>tr:last-child>td,.panel>.table-bordered>tbody>tr:last-child>th,.panel>.table-responsive>.table-bordered>tbody>tr:last-child>th,.panel>.table-bordered>tfoot>tr:last-child>th,.panel>.table-responsive>.table-bordered>tfoot>tr:last-child>th{border-bottom:0}.panel>.table-responsive{margin-bottom:0;border:0}.panel-group{margin-bottom:20px}.panel-group .panel{margin-bottom:0;border-radius:4px}.panel-group .panel+.panel{margin-top:5px}.panel-group .panel-heading{border-bottom:0}.panel-group .panel-heading+.panel-collapse>.panel-body,.panel-group .panel-heading+.panel-collapse>.list-group{border-top:1px solid #ddd}.panel-group .panel-footer{border-top:0}.panel-group .panel-footer+.panel-collapse .panel-body{border-bottom:1px solid #ddd}.panel-default{border-color:#ddd}.panel-default>.panel-heading{color:#333;background-color:#f5f5f5;border-color:#ddd}.panel-default>.panel-heading+.panel-collapse>.panel-body{border-top-color:#ddd}.panel-default>.panel-heading .badge{color:#f5f5f5;background-color:#333}.panel-default>.panel-footer+.panel-collapse>.panel-body{border-bottom-color:#ddd}.panel-primary{border-color:#337ab7}.panel-primary>.panel-heading{color:#fff;background-color:#337ab7;border-color:#337ab7}.panel-primary>.panel-heading+.panel-collapse>.panel-body{border-top-color:#337ab7}.panel-primary>.panel-heading .badge{color:#337ab7;background-color:#fff}.panel-primary>.panel-footer+.panel-collapse>.panel-body{border-bottom-color:#337ab7}.panel-success{border-color:#d6e9c6}.panel-success>.panel-heading{color:#3c763d;background-color:#dff0d8;border-color:#d6e9c6}.panel-success>.panel-heading+.panel-collapse>.panel-body{border-top-color:#d6e9c6}.panel-success>.panel-heading .badge{color:#dff0d8;background-color:#3c763d}.panel-success>.panel-footer+.panel-collapse>.panel-body{border-bottom-color:#d6e9c6}.panel-info{border-color:#bce8f1}.panel-info>.panel-heading{color:#31708f;background-color:#d9edf7;border-color:#bce8f1}.panel-info>.panel-heading+.panel-collapse>.panel-body{border-top-color:#bce8f1}.panel-info>.panel-heading .badge{color:#d9edf7;background-color:#31708f}.panel-info>.panel-footer+.panel-collapse>.panel-body{border-bottom-color:#bce8f1}.panel-warning{border-color:#faebcc}.panel-warning>.panel-heading{color:#8a6d3b;background-color:#fcf8e3;border-color:#faebcc}.panel-warning>.panel-heading+.panel-collapse>.panel-body{border-top-color:#faebcc}.panel-warning>.panel-heading .badge{color:#fcf8e3;background-color:#8a6d3b}.panel-warning>.panel-footer+.panel-collapse>.panel-body{border-bottom-color:#faebcc}.panel-danger{border-color:#ebccd1}.panel-danger>.panel-heading{color:#a94442;background-color:#f2dede;border-color:#ebccd1}.panel-danger>.panel-heading+.panel-collapse>.panel-body{border-top-color:#ebccd1}.panel-danger>.panel-heading .badge{color:#f2dede;background-color:#a94442}.panel-danger>.panel-footer+.panel-collapse>.panel-body{border-bottom-color:#ebccd1}.embed-responsive{position:relative;display:block;height:0;padding:0;overflow:hidden}.embed-responsive .embed-responsive-item,.embed-responsive iframe,.embed-responsive embed,.embed-responsive object,.embed-responsive video{position:absolute;top:0;bottom:0;left:0;width:100%;height:100%;border:0}.embed-responsive.embed-responsive-16by9{padding-bottom:56.25%}.embed-responsive.embed-responsive-4by3{padding-bottom:75%}.well{min-height:20px;padding:19px;margin-bottom:20px;background-color:#f5f5f5;border:1px solid #e3e3e3;border-radius:4px;-webkit-box-shadow:inset 0 1px 1px rgba(0,0,0,.05);box-shadow:inset 0 1px 1px rgba(0,0,0,.05)}.well blockquote{border-color:#ddd;border-color:rgba(0,0,0,.15)}.well-lg{padding:24px;border-radius:6px}.well-sm{padding:9px;border-radius:3px}.close{float:right;font-size:21px;font-weight:700;line-height:1;color:#000;text-shadow:0 1px 0 #fff;filter:alpha(opacity=20);opacity:.2}.close:hover,.close:focus{color:#000;text-decoration:none;cursor:pointer;filter:alpha(opacity=50);opacity:.5}button.close{-webkit-appearance:none;padding:0;cursor:pointer;background:0 0;border:0}.modal-open{overflow:hidden}.modal{position:fixed;top:0;right:0;bottom:0;left:0;z-index:1040;display:none;overflow:hidden;-webkit-overflow-scrolling:touch;outline:0}.modal.fade .modal-dialog{-webkit-transition:-webkit-transform .3s ease-out;-o-transition:-o-transform .3s ease-out;transition:transform .3s ease-out;-webkit-transform:translate(0,-25%);-ms-transform:translate(0,-25%);-o-transform:translate(0,-25%);transform:translate(0,-25%)}.modal.in .modal-dialog{-webkit-transform:translate(0,0);-ms-transform:translate(0,0);-o-transform:translate(0,0);transform:translate(0,0)}.modal-open .modal{overflow-x:hidden;overflow-y:auto}.modal-dialog{position:relative;width:auto;margin:10px}.modal-content{position:relative;background-color:#fff;-webkit-background-clip:padding-box;background-clip:padding-box;border:1px solid #999;border:1px solid rgba(0,0,0,.2);border-radius:6px;outline:0;-webkit-box-shadow:0 3px 9px rgba(0,0,0,.5);box-shadow:0 3px 9px rgba(0,0,0,.5)}.modal-backdrop{position:absolute;top:0;right:0;left:0;background-color:#000}.modal-backdrop.fade{filter:alpha(opacity=0);opacity:0}.modal-backdrop.in{filter:alpha(opacity=50);opacity:.5}.modal-header{min-height:16.43px;padding:15px;border-bottom:1px solid #e5e5e5}.modal-header .close{margin-top:-2px}.modal-title{margin:0;line-height:1.42857143}.modal-body{position:relative;padding:15px}.modal-footer{padding:15px;text-align:right;border-top:1px solid #e5e5e5}.modal-footer .btn+.btn{margin-bottom:0;margin-left:5px}.modal-footer .btn-group .btn+.btn{margin-left:-1px}.modal-footer .btn-block+.btn-block{margin-left:0}.modal-scrollbar-measure{position:absolute;top:-9999px;width:50px;height:50px;overflow:scroll}@media (min-width:768px){.modal-dialog{width:600px;margin:30px auto}.modal-content{-webkit-box-shadow:0 5px 15px rgba(0,0,0,.5);box-shadow:0 5px 15px rgba(0,0,0,.5)}.modal-sm{width:300px}}@media (min-width:992px){.modal-lg{width:900px}}.tooltip{position:absolute;z-index:1070;display:block;font-family:\"Helvetica Neue\",Helvetica,Arial,sans-serif;font-size:12px;font-weight:400;line-height:1.4;visibility:visible;filter:alpha(opacity=0);opacity:0}.tooltip.in{filter:alpha(opacity=90);opacity:.9}.tooltip.top{padding:5px 0;margin-top:-3px}.tooltip.right{padding:0 5px;margin-left:3px}.tooltip.bottom{padding:5px 0;margin-top:3px}.tooltip.left{padding:0 5px;margin-left:-3px}.tooltip-inner{max-width:200px;padding:3px 8px;color:#fff;text-align:center;text-decoration:none;background-color:#000;border-radius:4px}.tooltip-arrow{position:absolute;width:0;height:0;border-color:transparent;border-style:solid}.tooltip.top .tooltip-arrow{bottom:0;left:50%;margin-left:-5px;border-width:5px 5px 0;border-top-color:#000}.tooltip.top-left .tooltip-arrow{right:5px;bottom:0;margin-bottom:-5px;border-width:5px 5px 0;border-top-color:#000}.tooltip.top-right .tooltip-arrow{bottom:0;left:5px;margin-bottom:-5px;border-width:5px 5px 0;border-top-color:#000}.tooltip.right .tooltip-arrow{top:50%;left:0;margin-top:-5px;border-width:5px 5px 5px 0;border-right-color:#000}.tooltip.left .tooltip-arrow{top:50%;right:0;margin-top:-5px;border-width:5px 0 5px 5px;border-left-color:#000}.tooltip.bottom .tooltip-arrow{top:0;left:50%;margin-left:-5px;border-width:0 5px 5px;border-bottom-color:#000}.tooltip.bottom-left .tooltip-arrow{top:0;right:5px;margin-top:-5px;border-width:0 5px 5px;border-bottom-color:#000}.tooltip.bottom-right .tooltip-arrow{top:0;left:5px;margin-top:-5px;border-width:0 5px 5px;border-bottom-color:#000}.popover{position:absolute;top:0;left:0;z-index:1060;display:none;max-width:276px;padding:1px;font-family:\"Helvetica Neue\",Helvetica,Arial,sans-serif;font-size:14px;font-weight:400;line-height:1.42857143;text-align:left;white-space:normal;background-color:#fff;-webkit-background-clip:padding-box;background-clip:padding-box;border:1px solid #ccc;border:1px solid rgba(0,0,0,.2);border-radius:6px;-webkit-box-shadow:0 5px 10px rgba(0,0,0,.2);box-shadow:0 5px 10px rgba(0,0,0,.2)}.popover.top{margin-top:-10px}.popover.right{margin-left:10px}.popover.bottom{margin-top:10px}.popover.left{margin-left:-10px}.popover-title{padding:8px 14px;margin:0;font-size:14px;background-color:#f7f7f7;border-bottom:1px solid #ebebeb;border-radius:5px 5px 0 0}.popover-content{padding:9px 14px}.popover>.arrow,.popover>.arrow:after{position:absolute;display:block;width:0;height:0;border-color:transparent;border-style:solid}.popover>.arrow{border-width:11px}.popover>.arrow:after{content:\"\";border-width:10px}.popover.top>.arrow{bottom:-11px;left:50%;margin-left:-11px;border-top-color:#999;border-top-color:rgba(0,0,0,.25);border-bottom-width:0}.popover.top>.arrow:after{bottom:1px;margin-left:-10px;content:\" \";border-top-color:#fff;border-bottom-width:0}.popover.right>.arrow{top:50%;left:-11px;margin-top:-11px;border-right-color:#999;border-right-color:rgba(0,0,0,.25);border-left-width:0}.popover.right>.arrow:after{bottom:-10px;left:1px;content:\" \";border-right-color:#fff;border-left-width:0}.popover.bottom>.arrow{top:-11px;left:50%;margin-left:-11px;border-top-width:0;border-bottom-color:#999;border-bottom-color:rgba(0,0,0,.25)}.popover.bottom>.arrow:after{top:1px;margin-left:-10px;content:\" \";border-top-width:0;border-bottom-color:#fff}.popover.left>.arrow{top:50%;right:-11px;margin-top:-11px;border-right-width:0;border-left-color:#999;border-left-color:rgba(0,0,0,.25)}.popover.left>.arrow:after{right:1px;bottom:-10px;content:\" \";border-right-width:0;border-left-color:#fff}.carousel{position:relative}.carousel-inner{position:relative;width:100%;overflow:hidden}.carousel-inner>.item{position:relative;display:none;-webkit-transition:.6s ease-in-out left;-o-transition:.6s ease-in-out left;transition:.6s ease-in-out left}.carousel-inner>.item>img,.carousel-inner>.item>a>img{line-height:1}@media all and (transform-3d),(-webkit-transform-3d){.carousel-inner>.item{-webkit-transition:-webkit-transform .6s ease-in-out;-o-transition:-o-transform .6s ease-in-out;transition:transform .6s ease-in-out;-webkit-backface-visibility:hidden;backface-visibility:hidden;-webkit-perspective:1000;perspective:1000}.carousel-inner>.item.next,.carousel-inner>.item.active.right{left:0;-webkit-transform:translate3d(100%,0,0);transform:translate3d(100%,0,0)}.carousel-inner>.item.prev,.carousel-inner>.item.active.left{left:0;-webkit-transform:translate3d(-100%,0,0);transform:translate3d(-100%,0,0)}.carousel-inner>.item.next.left,.carousel-inner>.item.prev.right,.carousel-inner>.item.active{left:0;-webkit-transform:translate3d(0,0,0);transform:translate3d(0,0,0)}}.carousel-inner>.active,.carousel-inner>.next,.carousel-inner>.prev{display:block}.carousel-inner>.active{left:0}.carousel-inner>.next,.carousel-inner>.prev{position:absolute;top:0;width:100%}.carousel-inner>.next{left:100%}.carousel-inner>.prev{left:-100%}.carousel-inner>.next.left,.carousel-inner>.prev.right{left:0}.carousel-inner>.active.left{left:-100%}.carousel-inner>.active.right{left:100%}.carousel-control{position:absolute;top:0;bottom:0;left:0;width:15%;font-size:20px;color:#fff;text-align:center;text-shadow:0 1px 2px rgba(0,0,0,.6);filter:alpha(opacity=50);opacity:.5}.carousel-control.left{background-image:-webkit-linear-gradient(left,rgba(0,0,0,.5) 0,rgba(0,0,0,.0001) 100%);background-image:-o-linear-gradient(left,rgba(0,0,0,.5) 0,rgba(0,0,0,.0001) 100%);background-image:-webkit-gradient(linear,left top,right top,from(rgba(0,0,0,.5)),to(rgba(0,0,0,.0001)));background-image:linear-gradient(to right,rgba(0,0,0,.5) 0,rgba(0,0,0,.0001) 100%);filter:progid:DXImageTransform.Microsoft.gradient(startColorstr=\\'#80000000\\', endColorstr=\\'#00000000\\', GradientType=1);background-repeat:repeat-x}.carousel-control.right{right:0;left:auto;background-image:-webkit-linear-gradient(left,rgba(0,0,0,.0001) 0,rgba(0,0,0,.5) 100%);background-image:-o-linear-gradient(left,rgba(0,0,0,.0001) 0,rgba(0,0,0,.5) 100%);background-image:-webkit-gradient(linear,left top,right top,from(rgba(0,0,0,.0001)),to(rgba(0,0,0,.5)));background-image:linear-gradient(to right,rgba(0,0,0,.0001) 0,rgba(0,0,0,.5) 100%);filter:progid:DXImageTransform.Microsoft.gradient(startColorstr=\\'#00000000\\', endColorstr=\\'#80000000\\', GradientType=1);background-repeat:repeat-x}.carousel-control:hover,.carousel-control:focus{color:#fff;text-decoration:none;filter:alpha(opacity=90);outline:0;opacity:.9}.carousel-control .icon-prev,.carousel-control .icon-next,.carousel-control .glyphicon-chevron-left,.carousel-control .glyphicon-chevron-right{position:absolute;top:50%;z-index:5;display:inline-block}.carousel-control .icon-prev,.carousel-control .glyphicon-chevron-left{left:50%;margin-left:-10px}.carousel-control .icon-next,.carousel-control .glyphicon-chevron-right{right:50%;margin-right:-10px}.carousel-control .icon-prev,.carousel-control .icon-next{width:20px;height:20px;margin-top:-10px;font-family:serif}.carousel-control .icon-prev:before{content:\\'\\\\2039\\'}.carousel-control .icon-next:before{content:\\'\\\\203a\\'}.carousel-indicators{position:absolute;bottom:10px;left:50%;z-index:15;width:60%;padding-left:0;margin-left:-30%;text-align:center;list-style:none}.carousel-indicators li{display:inline-block;width:10px;height:10px;margin:1px;text-indent:-999px;cursor:pointer;background-color:#000 \\\\9;background-color:rgba(0,0,0,0);border:1px solid #fff;border-radius:10px}.carousel-indicators .active{width:12px;height:12px;margin:0;background-color:#fff}.carousel-caption{position:absolute;right:15%;bottom:20px;left:15%;z-index:10;padding-top:20px;padding-bottom:20px;color:#fff;text-align:center;text-shadow:0 1px 2px rgba(0,0,0,.6)}.carousel-caption .btn{text-shadow:none}@media screen and (min-width:768px){.carousel-control .glyphicon-chevron-left,.carousel-control .glyphicon-chevron-right,.carousel-control .icon-prev,.carousel-control .icon-next{width:30px;height:30px;margin-top:-15px;font-size:30px}.carousel-control .glyphicon-chevron-left,.carousel-control .icon-prev{margin-left:-15px}.carousel-control .glyphicon-chevron-right,.carousel-control .icon-next{margin-right:-15px}.carousel-caption{right:20%;left:20%;padding-bottom:30px}.carousel-indicators{bottom:20px}}.clearfix:before,.clearfix:after,.dl-horizontal dd:before,.dl-horizontal dd:after,.container:before,.container:after,.container-fluid:before,.container-fluid:after,.row:before,.row:after,.form-horizontal .form-group:before,.form-horizontal .form-group:after,.btn-toolbar:before,.btn-toolbar:after,.btn-group-vertical>.btn-group:before,.btn-group-vertical>.btn-group:after,.nav:before,.nav:after,.navbar:before,.navbar:after,.navbar-header:before,.navbar-header:after,.navbar-collapse:before,.navbar-collapse:after,.pager:before,.pager:after,.panel-body:before,.panel-body:after,.modal-footer:before,.modal-footer:after{display:table;content:\" \"}.clearfix:after,.dl-horizontal dd:after,.container:after,.container-fluid:after,.row:after,.form-horizontal .form-group:after,.btn-toolbar:after,.btn-group-vertical>.btn-group:after,.nav:after,.navbar:after,.navbar-header:after,.navbar-collapse:after,.pager:after,.panel-body:after,.modal-footer:after{clear:both}.center-block{display:block;margin-right:auto;margin-left:auto}.pull-right{float:right!important}.pull-left{float:left!important}.hide{display:none!important}.show{display:block!important}.invisible{visibility:hidden}.text-hide{font:0/0 a;color:transparent;text-shadow:none;background-color:transparent;border:0}.hidden{display:none!important;visibility:hidden!important}.affix{position:fixed}@-ms-viewport{width:device-width}.visible-xs,.visible-sm,.visible-md,.visible-lg{display:none!important}.visible-xs-block,.visible-xs-inline,.visible-xs-inline-block,.visible-sm-block,.visible-sm-inline,.visible-sm-inline-block,.visible-md-block,.visible-md-inline,.visible-md-inline-block,.visible-lg-block,.visible-lg-inline,.visible-lg-inline-block{display:none!important}@media (max-width:767px){.visible-xs{display:block!important}table.visible-xs{display:table}tr.visible-xs{display:table-row!important}th.visible-xs,td.visible-xs{display:table-cell!important}}@media (max-width:767px){.visible-xs-block{display:block!important}}@media (max-width:767px){.visible-xs-inline{display:inline!important}}@media (max-width:767px){.visible-xs-inline-block{display:inline-block!important}}@media (min-width:768px) and (max-width:991px){.visible-sm{display:block!important}table.visible-sm{display:table}tr.visible-sm{display:table-row!important}th.visible-sm,td.visible-sm{display:table-cell!important}}@media (min-width:768px) and (max-width:991px){.visible-sm-block{display:block!important}}@media (min-width:768px) and (max-width:991px){.visible-sm-inline{display:inline!important}}@media (min-width:768px) and (max-width:991px){.visible-sm-inline-block{display:inline-block!important}}@media (min-width:992px) and (max-width:1199px){.visible-md{display:block!important}table.visible-md{display:table}tr.visible-md{display:table-row!important}th.visible-md,td.visible-md{display:table-cell!important}}@media (min-width:992px) and (max-width:1199px){.visible-md-block{display:block!important}}@media (min-width:992px) and (max-width:1199px){.visible-md-inline{display:inline!important}}@media (min-width:992px) and (max-width:1199px){.visible-md-inline-block{display:inline-block!important}}@media (min-width:1200px){.visible-lg{display:block!important}table.visible-lg{display:table}tr.visible-lg{display:table-row!important}th.visible-lg,td.visible-lg{display:table-cell!important}}@media (min-width:1200px){.visible-lg-block{display:block!important}}@media (min-width:1200px){.visible-lg-inline{display:inline!important}}@media (min-width:1200px){.visible-lg-inline-block{display:inline-block!important}}@media (max-width:767px){.hidden-xs{display:none!important}}@media (min-width:768px) and (max-width:991px){.hidden-sm{display:none!important}}@media (min-width:992px) and (max-width:1199px){.hidden-md{display:none!important}}@media (min-width:1200px){.hidden-lg{display:none!important}}.visible-print{display:none!important}@media print{.visible-print{display:block!important}table.visible-print{display:table}tr.visible-print{display:table-row!important}th.visible-print,td.visible-print{display:table-cell!important}}.visible-print-block{display:none!important}@media print{.visible-print-block{display:block!important}}.visible-print-inline{display:none!important}@media print{.visible-print-inline{display:inline!important}}.visible-print-inline-block{display:none!important}@media print{.visible-print-inline-block{display:inline-block!important}}@media print{.hidden-print{display:none!important}}\\n  </style>\\n  <link href=\"/assets/css/font-awesome.min.css\" rel=\"stylesheet\" type=\"text/css\"/>\\n  <link href=\"/assets/css/animate.css\" rel=\"stylesheet\" type=\"text/css\"/>\\n  <link href=\"/assets/css/slick.css\" rel=\"stylesheet\" type=\"text/css\"/>\\n  <link href=\"/assets/css/theme.css\" rel=\"stylesheet\" type=\"text/css\"/>\\n  <link href=\"/assets/css/style.css\" rel=\"stylesheet\" type=\"text/css\"/>\\n  <!--[if lt IE 9]>\\n<script src=\"assets/js/html5shiv.min.js\"></script>\\n<script src=\"assets/js/respond.min.js\"></script>\\n<![endif]-->\\n  <style>\\n   #moeda,.usd {\\n\\tfont-size:35px;\\n\\tcolor:#999;\\n\\tfont-weight:bolder;\\n\\n}\\n\\np {\\n\\ttext-align: justify;\\n    text-justify: inter-word;\\n}\\n\\n#moeda, .moeda{font-size:35px;color:#999;font-weight:bolder;border:0px}\\n\\n.center { text-align: center }\\n\\ntable.center {\\n    margin-left:auto; \\n    margin-right:auto;\\n  }\\n#dolar:hover,#moeda:hover{background-color:#FFF993;width:118px;border:1px solid red;}\\n\\n#dolar,#moeda{width:118px;}\\n\\n.navbar-default .navbar-nav > li > a{color:#fff; display:block; font-family:\"Oswald\",sans-serif; font-size:12px; text-decoration:none; text-transform:uppercase; border-top:2px solid transparent; border-bottom:2px solid transparent; margin-top:-2px; margin-bottom:-2px; padding-bottom:17px; -webkit-transition:all 0.5s; -o-transition:all 0.5s; transition:all 0.5s}\\n\\n.star-rating {font-size: 0;white-space: nowrap;display: inline-block;width: 100px;height: 20px;overflow: hidden; position: relative;background: url(\\'//www.dolarhoje.net.br/imagens/stars/rating_off.gif\\');background-size: contain;}.star-rating i {opacity: 0;position: absolute;left: 0;top: 0;height: 100%;width: 20%;z-index: 1;background: url(\\'//www.dolarhoje.net.br/imagens/stars/rating_over.gif\\'); background-size: contain;}.star-rating input {-moz-appearance: none;-webkit-appearance: none;opacity: 0; display: inline-block; width: 20%; height: 100%; margin: 0; padding: 0;z-index: 2;position: relative;}.star-rating input:hover + i,.star-rating input:checked + i {opacity: 1;}.star-rating i ~ i {width: 40%;}.star-rating i ~ i ~ i {width: 60%;}.star-rating i ~ i ~ i ~ i {width: 80%;}.star-rating i ~ i ~ i ~ i ~ i {width: 100%;}\\n\\n.silver{background-color:silver}\\n  </style>\\n  <script language=\"javascript\">\\n   //-----------------------------------------------------\\n\\n\\tfunction moeda2(z,vlr){  \\n\\n\\t\\tv = z.value;\\n\\t\\tv=v.replace(/\\\\D/g,\"\")  //permite digitar apenas números\\n\\t\\tv=v.replace(/[0-9]{12}/,\"inválido\")   //limita pra máximo 999.999.999,99\\n\\t\\tv=v.replace(/(\\\\d{1})(\\\\d{1,2})$/,\"$1,$2\")\\t//coloca virgula antes dos últimos 2 digitos\\n\\t\\tz.value = v;\\n\\n\\t\\ttotal=v.replace(\",\", \".\")*vlr;\\n\\n\\t\\tdocument.getElementById(\\'moeda\\').value = total.toFixed(2).toString().replace(\".\", \",\");\\n\\t\\tdocument.getElementById(\\'dolar\\').size=9;\\n\\t\\tdocument.getElementById(\\'moeda\\').size=5;\\n\\t\\t//alert(document.getElementById(\\'moeda2\\').innerHTML);\\n\\t}\\n\\t\\n\\t\\tfunction moeda3(z,vlr){  \\n\\n\\t\\tv = z.value;\\n\\t\\tv=v.replace(/\\\\D/g,\"\")  //permite digitar apenas números\\n\\t\\tv=v.replace(/[0-9]{12}/,\"inválido\")   //limita pra máximo 999.999.999,99\\n\\t\\tv=v.replace(/(\\\\d{1})(\\\\d{1,2})$/,\"$1,$2\")\\t//coloca virgula antes dos últimos 2 digitos\\n\\t\\tz.value = v;\\n\\n\\t\\ttotal=v.replace(\",\", \".\")/vlr;\\n\\n\\t\\tdocument.getElementById(\\'dolar\\').value = total.toFixed(2).toString().replace(\".\", \",\");\\n\\t\\tdocument.getElementById(\\'moeda\\').size=9;\\n\\t\\tdocument.getElementById(\\'dolar\\').size=5;\\n\\t\\t//alert(document.getElementById(\\'moeda2\\').innerHTML);\\n\\t}\\n  </script>\\n  <script type=\"text/javascript\">\\n   // Dolar $ e Euro € \\n\\t// %2C%22CHFBRL%22\\n\\t$.getJSON( \"https://query.yahooapis.com/v1/public/yql?q=select%20*%20from%20yahoo.finance.xchange%20where%20pair%20in%20(%22USDBRL%22%2C%22AUDBRL%22%2C%22CADBRL%22%2C%22EURBRL%22%2C%22ARSBRL%22%2C%22PYGBRL%22%2C%22UYUBRL%22%2C%22CLPBRL%22%2C%22CHFBRL%22%2C%22CNYBRL%22%2C%22JPYBRL%22%2C%22GBPBRL%22%2C%22MXNBRL%22%2C%22COPBRL%22%2C%22VEFBRL%22)&format=json&env=store%3A%2F%2Fdatatables.org%2Falltableswithkeys&callback=\", function( data ) {\\n\\n\\t\\tvar usd =   data.query.results.rate[0].Rate;\\n\\t\\tvar usdaus =   data.query.results.rate[1].Rate;\\n\\t\\tvar usdcan =   data.query.results.rate[2].Rate;\\n\\t\\t\\n\\t\\tvar euro =   data.query.results.rate[3].Rate;\\n\\t\\tvar arg =   data.query.results.rate[4].Rate;\\n\\t\\tvar par =   data.query.results.rate[5].Rate;\\n\\t\\tvar uru =   data.query.results.rate[6].Rate;\\n\\t\\tvar chile =   data.query.results.rate[7].Rate;\\n\\t\\tvar suico =   data.query.results.rate[8].Rate;\\t\\n\\t\\tvar china =   data.query.results.rate[9].Rate;\\t\\t\\n\\t\\tvar japao =   data.query.results.rate[10].Rate;\\n\\t\\tvar libra =   data.query.results.rate[11].Rate;\\n\\t\\tvar mxn =   data.query.results.rate[12].Rate;\\n\\t\\tvar cop =   data.query.results.rate[13].Rate;\\n\\t\\tvar vef =   data.query.results.rate[14].Rate;\\n\\t\\t\\n\\t\\tif($.isNumeric( \"\" )){\\n\\t\\t\\t\\t\\t\\t$(\\'.usd\\').html(\"0,00\");\\n\\t\\t\\t//$(\\'.moeda\\').html(\"0,00\");\\t\\n\\t\\t}else{\\n\\t\\t\\t$(\\'.usd\\').html(.replace(\".\",\",\"));\\n\\t\\t\\t//$(\\'.moeda\\').html(.replace(\".\",\",\"));\\t\\n\\t\\t\\n\\t\\t\\t\\n\\t\\t}\\n\\n\\n\\t\\t\\n\\t});\\n\\t\\n\\tmoney = function(n){\\n\\t\\tvar \\n\\t\\t\\tc = 2, \\n\\t\\t\\td = \\',\\', \\n\\t\\t\\tt = \\'.\\', \\n\\t\\t\\ts = n < 0 ? \"-\" : \"\", \\n\\t\\t\\ti = parseInt(n = Math.abs(+n || 0).toFixed(c)) + \"\", \\n\\t\\t\\tj = (j = i.length) > 3 ? j % 3 : 0;\\n\\t\\treturn s + (j ? i.substr(0, j) + t : \"\") + i.substr(j).replace(/(\\\\d{3})(?=\\\\d)/g, \"$1\" + t) + (c ? d + Math.abs(n - i).toFixed(c).slice(2) : \"\");\\n\\t };\\n  </script>\\n  <script>\\n   //-----------------------------------------------------\\nfunction MascaraMoeda(objTextBox, SeparadorMilesimo, SeparadorDecimal, e){\\n    var sep = 0;\\n    var key = \\'\\';\\n    var i = j = 0;\\n    var len = len2 = 0;\\n    var strCheck = \\'0123456789\\';\\n    var aux = aux2 = \\'\\';\\n    var whichCode = (window.Event) ? e.which : e.keyCode;\\n    if (whichCode == 13) return true;\\n    key = String.fromCharCode(whichCode); // Valor para o código da Chave\\n    if (strCheck.indexOf(key) == -1) return false; // Chave inválida\\n    len = objTextBox.value.length;\\n    for(i = 0; i < len; i++)\\n        if ((objTextBox.value.charAt(i) != \\'0\\') && (objTextBox.value.charAt(i) != SeparadorDecimal)) break;\\n    aux = \\'\\';\\n    for(; i < len; i++)\\n        if (strCheck.indexOf(objTextBox.value.charAt(i))!=-1) aux += objTextBox.value.charAt(i);\\n    aux += key;\\n    len = aux.length;\\n    if (len == 0) objTextBox.value = \\'\\';\\n    if (len == 1) objTextBox.value = \\'0\\'+ SeparadorDecimal + \\'0\\' + aux;\\n    if (len == 2) objTextBox.value = \\'0\\'+ SeparadorDecimal + aux;\\n    if (len > 2) {\\n        aux2 = \\'\\';\\n        for (j = 0, i = len - 3; i >= 0; i--) {\\n            if (j == 3) {\\n                aux2 += SeparadorMilesimo;\\n                j = 0;\\n            }\\n            aux2 += aux.charAt(i);\\n            j++;\\n        }\\n        objTextBox.value = \\'\\';\\n        len2 = aux2.length;\\n        for (i = len2 - 1; i >= 0; i--)\\n        objTextBox.value += aux2.charAt(i);\\n        objTextBox.value += SeparadorDecimal + aux.substr(len - 2, len);\\n    }\\n\\tvar v1=objTextBox.value.replace(/\\\\./g, \\'\\');\\n\\tv1=v1.replace(\",\", \".\"); \\n\\t\\n\\tvar v2=document.getElementById(\"valor\").innerText;\\n\\tv2=v2.replace(\",\",\".\");\\n\\tvar result=v1*v2;\\n\\tresult=v1*v2;\\n\\tresult=result.toFixed(2);\\n\\tresult=result.replace(\".\",\",\");\\n\\tdocument.getElementById(\"result\").value=result;\\n\\n    return false;\\n}\\n  </script>\\n  <script>\\n   window.console = window.console || function(t) {};\\n  </script>\\n  <script>\\n   function loadDoc() {\\n  var xhttp = new XMLHttpRequest();\\n  xhttp.onreadystatechange = function() {\\n    if (xhttp.readyState == 4 && xhttp.status == 200) {\\n      document.getElementById(\"demo\").innerHTML = xhttp.responseText;\\n    }\\n  };\\n  xhttp.open(\"GET\", \"ajax_info.txt\", true);\\n  xhttp.send();\\n}\\n  </script>\\n  <script>\\n   function loadDoc(s) {\\n    $(\\'.choice\\').text(s + \\' estrelas\\');\\n\\t$(\"input[type=radio]\").attr(\\'disabled\\', true);\\n\\tvar xhttp = new XMLHttpRequest();\\n  xhttp.onreadystatechange = function() {\\n    if (xhttp.readyState == 4 && xhttp.status == 200) {\\n      document.getElementById(\"demo\").innerHTML = xhttp.responseText;\\n    }\\n  };\\n  xhttp.open(\"GET\", \"//www.dolarhoje.net.br/ajax_stars.php?u=dolarhoje.net.br/dolar-comercial/&p=\"+s, true);\\n  xhttp.send();\\n}\\n      //# sourceURL=pen.js\\n  </script>\\n  <script async=\"\" src=\"//cdnjs.cloudflare.com/ajax/libs/jquery/2.1.3/jquery.min.js\">\\n  </script>\\n  <style>\\n   .ezoic-ad.box-2 { display:block !important;float:none;margin-bottom:15px !important;margin-left:0px !important;margin-right:0px !important;margin-top:15px !important;min-height:250px;min-width:300px;text-align:center !important; }\\n.ezoic-ad.box-2 { display:block !important;float:none;margin-bottom:15px !important;margin-left:0px !important;margin-right:0px !important;margin-top:15px !important;min-height:250px;min-width:300px;text-align:center !important; }\\n.ezoic-ad.box-2 { display:block !important;float:none;margin-bottom:15px !important;margin-left:0px !important;margin-right:0px !important;margin-top:15px !important;min-height:250px;min-width:300px;text-align:center !important; }\\n.ezoic-ad.box-2 { background:0 0 !important;display:flex !important;float:none;justify-content:space-between;margin-bottom:15px !important;margin-left:auto !important;margin-right:auto !important;margin-top:15px !important;min-height:250px;min-width:970px;text-align:center !important;width:970px; }\\n.ezoic-ad.medrectangle-1 { display:inline-block;float:none;margin-bottom:35px !important;margin-left:75px !important;margin-right:0px !important;margin-top:35px !important;min-height:280px;min-width:336px; }\\n.ezoic-ad.medrectangle-2 { display:inline-block;float:none;margin-bottom:2px !important;margin-left:0px !important;margin-right:0px !important;margin-top:2px !important;min-height:90px;min-width:970px; }\\n.ezoic-ad{display:inline-block;}\\n.ezoic-ad .ezoic-adl {border:1px #c0c0c047 solid;border-radius:6px;overflow:hidden;background:url(\"/utilcave_com/l.svg\") no-repeat center center}.ezoic-ad .ezfound,.ezmob-footer .ezoic-ad .ezoic-ad,.ezoic-ad-adaptive > .ezoic-ad, .ezoic-ad-rl {background:0 0;border-radius:0;border:none}\\n.adtester-container-118,.adtester-container-113,.adtester-container-122,.adtester-container-115,.adtester-container-106,.adtester-container-116,.adtester-container-101,.adtester-container-109,.adtester-container-120,.adtester-container-119,.adtester-container-104,.adtester-container-105,.adtester-container-107,.adtester-container-108,.adtester-container-114{display:none!important}\\n\\n\\t\\t.ezmob-footer {\\n\\t\\t\\tposition: fixed; left: 0px; bottom: 0px; width: 100%; background: white; z-index: 100000;\\n\\t\\t}\\n\\t\\t.ezmob-footer-desktop {\\n\\t\\t\\tbackground-color:rgba(255, 255, 255, 0.8);\\n\\t\\t\\tborder-top:1px solid lightgray;\\n\\t\\t\\tpadding-top:5px;\\n\\t\\t}\\n\\t\\t.ezmob-footer-close {\\n\\t\\t\\tcursor: pointer;\\n\\t\\t\\tcolor: #b2b2b2;\\n\\t\\t\\tborder: 1px solid #b2b2b2;\\n\\t\\t\\tborder-radius: 20px;\\n\\t\\t\\tbackground: #fff;\\n\\t\\t\\tline-height: 20px;\\n\\t\\t\\tdisplay: inline-block;\\n\\t\\t\\tfont-size: 20px;\\n\\t\\t\\tfont-family: arial,sans-serif;\\n\\t\\t\\tpadding: 0 5px;\\n\\t\\t\\tposition: absolute;\\n\\t\\t\\ttop: 5px;\\n\\t\\t\\tright: 5px;\\n\\t\\t\\theight: 24px;\\n\\t\\t\\twidth: 21px;\\n\\t\\t}\\n\\t\\tbody { \\n\\t\\t\\tpadding-bottom: 100px; \\n\\t\\t}\\n\\t\\t.ezmob-footer-close-mobile {\\n\\t\\t\\tdisplay:none;\\n\\t\\t}\\n  </style>\\n  <script data-cfasync=\"false\" data-ezscrex=\"false\" type=\"text/javascript\">\\n   window.google_analytics_uacct = \"UA-161934705-31\";\\n  </script>\\n  <script data-cfasync=\"false\" data-ezscrex=\"false\" type=\"text/javascript\">\\n   var _gaq = _gaq || [];\\n_gaq.push([\\'e._setAccount\\', \\'UA-161934705-31\\']);\\n_gaq.push([\\'f._setAccount\\', \\'UA-38339005-1\\']);\\n_gaq.push([\\'e._setDomainName\\', \\'dolarhoje.net.br\\']);\\n_gaq.push([\\'f._setDomainName\\', \\'dolarhoje.net.br\\']);\\n_gaq.push([\\'e._setCustomVar\\',1,\\'template\\',\\'pub_site\\',3]);\\n_gaq.push([\\'e._setCustomVar\\',2,\\'t\\',\\'134\\',3]);\\n_gaq.push([\\'e._setCustomVar\\',3,\\'rid\\',\\'0\\',2]);\\n_gaq.push([\\'e._setCustomVar\\',4,\\'bra\\',\\'mod10\\',3]);\\n_gaq.push([\\'e._setAllowAnchor\\',true]);\\n_gaq.push([\\'e._setSiteSpeedSampleRate\\', 10]);\\n_gaq.push([\\'f._setCustomVar\\',1,\\'template\\',\\'pub_site\\',3]);\\n_gaq.push([\\'f._setCustomVar\\',2,\\'domain\\',\\'dolarhoje.net.br\\',3]);\\n_gaq.push([\\'f._setSiteSpeedSampleRate\\', 20]);\\n_gaq.push([\\'e._trackPageview\\']);\\n_gaq.push([\\'f._trackPageview\\']);\\n\\n\\n(function() {\\n var ga = document.createElement(\\'script\\'); ga.type = \\'text/javascript\\'; ga.async = true;\\n ga.src = (\\'https:\\' == document.location.protocol ? \\'https://ssl\\' : \\'http://www\\') + \\'.google-analytics.com/ga.js\\';\\n var s = document.getElementsByTagName(\\'script\\')[0]; s.parentNode.insertBefore(ga, s);\\n})();\\n  </script>\\n  <script type=\"text/javascript\">\\n   var ezouid = \"1\";\\n  </script>\\n  <base href=\"https://www.dolarhoje.net.br/dolar-comercial/\"/>\\n  <script type=\"text/javascript\">\\n   var ezoTemplate = \\'pub_site\\';\\nif(typeof ezouid == \\'undefined\\')\\n{\\n    var ezouid = \\'none\\';\\n}\\nvar ezoFormfactor = \\'1\\';\\nvar ezo_elements_to_check = Array();\\n  </script>\\n  <!-- START EZHEAD -->\\n  <script data-ezscrex=\"false\" type=\"text/javascript\">\\n   var soc_app_id = \\'0\\';\\nvar did = 187851;\\nvar ezdomain = \\'dolarhoje.net.br\\';\\nvar ezoicSearchable = 1;\\n  </script>\\n  <!--{jquery}-->\\n  <!-- END EZHEAD -->\\n  <script data-cfasync=\"false\" data-ezscrex=\"false\" data-pagespeed-no-defer=\"\" style=\"display:none\" type=\"text/javascript\">\\n   __ez.queue.addFile(\\'__ezf_ezosuigeneris\\', \\'//g.ezoic.net/ezosuigeneris.js\\', true, [], true, false, false, false);\\nvar __ez_ezosuigenerisEvt = function() { if(typeof(ezosuigeneris) != \\'undefined\\'){__ez.bit.AddAndFire(_ezaq[\\'page_view_id\\'], [(new __ezDotData(\\'universal_user_id\\', ezosuigeneris))]); }};\\n__ez.queue.addFunc(\\'__ez_ezosuigenerisEvt\\', \\'__ez_ezosuigenerisEvt\\', null, false, [\\'__ezf_ezosuigeneris\\'], false, false, false, false);\\n  </script>\\n  <script data-cfasync=\"false\" data-ezscrex=\"false\" data-pagespeed-no-defer=\"\" style=\"display:none\" type=\"text/javascript\">\\n   __ez.queue.addFile(\\'__ezf_ezosuigenerisc\\', \\'//g.ezoic.net/ezosuigenerisc.js?nogen=1\\', true, [\"/detroitchicago/boise.js\"], true, false, false, false);\\n  </script>\\n  <script async=\"\" src=\"//pagead2.googlesyndication.com/pagead/js/adsbygoogle.js\" type=\"text/javascript\">\\n  </script>\\n  <script type=\"text/javascript\">\\n   (function(){\\n\\tvar div = document.createElement(\\'div\\');\\n\\tdiv.id = \\'dmo1\\';\\n\\tdiv.style = \\'display:none\\';\\n\\tvar s = document.createElement(\\'script\\');\\n\\tvar code = `var googleAdClient = \"ca-pub-6396844742497208\";\\n\\t\\t\\t  window.google_ad_client = googleAdClient;\\n\\t\\t\\t  /* dmo */\\n\\t\\t\\t  window.google_ad_slot = \"dmo\";\\n\\t\\t\\t  window.google_ad_width = 88;\\n\\t\\t\\t  window.google_ad_height = 31;\\n\\t\\t\\t  (adsbygoogle = window.adsbygoogle || []).push({\\n\\t\\t\\t\\t  google_ad_client: googleAdClient,\\n\\t\\t\\t\\t  enable_page_level_ads: false\\n\\t\\t\\t  });`;\\n\\tvar ss = document.createElement(\\'script\\');\\n\\tss.src = \\'//pagead2.googlesyndication.com/pagead/show_ads.js\\';\\n\\tss.type = \\'text/javascript\\';\\n\\tss.async = false;\\n\\ttry {\\n\\t\\ts.appendChild(document.createTextNode(code));\\n\\t} catch (e) {\\n\\t\\ts.text = code;\\n\\t}\\n\\tdiv.appendChild(s);\\n\\tdiv.appendChild(ss);\\n\\tif (document.readyState == \\'interactive\\' || document.readyState == \\'complete\\') {\\n\\t\\tdocument.body.appendChild(div);\\n\\t} else {\\n\\t\\tdocument.addEventListener(\"DOMContentLoaded\", function(event) {\\n\\t\\t\\tdocument.body.appendChild(div);\\n\\t\\t});\\n\\t}\\n}());\\n  </script>\\n  <script data-cfasync=\"false\" data-ezscrex=\"false\" data-pagespeed-no-defer=\"\">\\n   function create_ezolpl() {\\n    var d = new Date();\\n    d.setTime(d.getTime() + (365*24*60*60*1000));\\n    var expires = \"expires=\"+d.toUTCString();\\n    __ez.ck.setByCat(\"ezux_lpl_187851=\" + new Date().getTime() + \"|194f8ef5-ada2-463f-7335-a281e98e49cc|false; \" + expires, 3);\\n}\\nfunction attach_ezolpl() {\\n    if(window.attachEvent) {\\n        window.attachEvent(\\'onload\\', create_ezolpl);\\n    } else {\\n        if(window.onload) {\\n            var curronload = window.onload;\\n            var newonload = function(evt) {\\n                curronload(evt);\\n                create_ezolpl();\\n            };\\n            window.onload = newonload;\\n        } else {\\n            window.onload = create_ezolpl;\\n        }\\n    }\\n}\\nattach_ezolpl();\\n  </script>\\n </head>\\n <body>\\n  <a class=\"scrollToTop\" href=\"#\">\\n   <i class=\"fa fa-angle-up\">\\n   </i>\\n  </a>\\n  <div class=\"container\">\\n   <header id=\"header\">\\n    <div class=\"row\">\\n     <div class=\"col-lg-12 col-md-12\">\\n      <div class=\"header_bottom\">\\n       <div class=\"header_bottom_left\">\\n        <a class=\"logo\" href=\"//www.dolarhoje.net.br/\">\\n         Dólar\\n         <strong>\\n          Hoje\\n         </strong>\\n         <span>\\n          Valor atualizado da moeda\\n         </span>\\n        </a>\\n       </div>\\n       <div class=\"header_bottom_right\">\\n       </div>\\n      </div>\\n     </div>\\n    </div>\\n   </header>\\n   <div id=\"navarea\">\\n    <nav class=\"navbar navbar-default\" role=\"navigation\">\\n     <div class=\"container-fluid\">\\n      <div class=\"navbar-header\">\\n       <button aria-controls=\"navbar\" aria-expanded=\"false\" class=\"navbar-toggle collapsed\" data-target=\"#navbar\" data-toggle=\"collapse\" type=\"button\">\\n        <span class=\"sr-only\">\\n         Toggle navigation\\n        </span>\\n        <span class=\"icon-bar\">\\n        </span>\\n        <span class=\"icon-bar\">\\n        </span>\\n        <span class=\"icon-bar\">\\n        </span>\\n       </button>\\n      </div>\\n      <div class=\"navbar-collapse collapse\" id=\"navbar\">\\n       <ul class=\"nav navbar-nav custom_nav\">\\n        <li class=\"dropdown\">\\n         <a aria-expanded=\"false\" class=\"\" data-toggle=\"dropdown\" href=\"//www.dolarhoje.net.br/\" role=\"button\">\\n          +Dólar Hoje\\n         </a>\\n         <ul class=\"dropdown-menu\" role=\"menu\">\\n          <li>\\n           <a href=\"//www.dolarhoje.net.br/dolar-real/\">\\n            Dólar para Real\\n           </a>\\n          </li>\\n          <li>\\n           <a href=\"//www.dolarhoje.net.br/dolarptax.php\">\\n            Dólar PTAX\\n           </a>\\n          </li>\\n          <li>\\n           <a href=\"//www.dolarhoje.net.br/dolar-paralelo/\">\\n            Dólar Paralelo\\n           </a>\\n          </li>\\n          <li>\\n           <a href=\"//www.dolarhoje.net.br/dolar-grafico.php\">\\n            Gráfico da dólar\\n           </a>\\n          </li>\\n          <li>\\n           <a href=\"http://www.fazerum.com.br/como-comprar-dolar/\" target=\"_blank\">\\n            Como comprar Dólar\\n           </a>\\n          </li>\\n          <li>\\n           <a href=\"http://www.cotizaciondolarhoy.com/\" target=\"_blank\">\\n            Dólar Hoy\\n           </a>\\n          </li>\\n          <li>\\n           <a href=\"//www.dolarhoje.net.br/dolarcanadense.php\">\\n            Dólar Canandense\\n           </a>\\n          </li>\\n          <li>\\n           <a href=\"//www.dolarhoje.net.br/dolaraustraliano.php\">\\n            Dólar Australiano\\n           </a>\\n          </li>\\n          <li>\\n           <a href=\"//www.dolarhoje.net.br/dolar-de-singapura.php\">\\n            Dólar de Singapura\\n           </a>\\n          </li>\\n         </ul>\\n        </li>\\n        <!--<li class=\"\"><a href=\"//www.dolarhoje.net.br/supercotacao/\">Melhor cotação</a></li>-->\\n        <li class=\"\">\\n         <a href=\"//www.dolarhoje.net.br/dolar-turismo/\">\\n          Dolar Turismo\\n         </a>\\n        </li>\\n        <li class=\"\">\\n         <a href=\"//www.dolarhoje.net.br/dolar-comercial/\">\\n          Dolar Comercial\\n         </a>\\n        </li>\\n        <li class=\"\">\\n         <a href=\"//www.dolarhoje.net.br/conversor-de-moedas.php\">\\n          Conversor de Moedas\\n         </a>\\n        </li>\\n        <li class=\"dropdown\">\\n         <a aria-expanded=\"false\" class=\"\" data-toggle=\"dropdown\" href=\"//www.dolarhoje.net.br/eurohoje.php\" role=\"button\">\\n          + Euro\\n         </a>\\n         <ul class=\"dropdown-menu\" role=\"menu\">\\n          <li>\\n           <a href=\"//www.dolarhoje.net.br/euro-hoje/\">\\n            Euro Hoje\\n           </a>\\n          </li>\\n          <li>\\n           <a href=\"//www.dolarhoje.net.br/euro-turismo/\">\\n            Euro Turismo\\n           </a>\\n          </li>\\n          <li>\\n           <a href=\"http://www.eurotousd.net/\" target=\"_blank\">\\n            Euro para Dólar\\n           </a>\\n          </li>\\n         </ul>\\n        </li>\\n        <li class=\"dropdown\">\\n         <a aria-expanded=\"false\" class=\"\" data-toggle=\"dropdown\" href=\"\" role=\"button\">\\n          +Outros\\n         </a>\\n         <ul class=\"dropdown-menu\" role=\"menu\">\\n          <li>\\n           <a href=\"//www.dolarhoje.net.br/dirham.php\">\\n            Dirham - Emirados Árabes\\n           </a>\\n          </li>\\n          <li>\\n           <a href=\"//www.dolarhoje.net.br/francosuico.php\">\\n            Franco Suiço\\n           </a>\\n          </li>\\n          <li>\\n           <a href=\"//www.dolarhoje.net.br/guarani.php\">\\n            Guarani\\n           </a>\\n          </li>\\n          <li>\\n           <a href=\"//www.dolarhoje.net.br/iene.php\">\\n            Iene\\n           </a>\\n          </li>\\n          <li>\\n           <a href=\"//www.dolarhoje.net.br/libra.php\">\\n            Libra Esterlina\\n           </a>\\n          </li>\\n          <li>\\n           <a href=\"//www.dolarhoje.net.br/lira-turca.php\">\\n            Lira Turca\\n           </a>\\n          </li>\\n          <li>\\n           <a href=\"//www.dolarhoje.net.br/pesoargentino.php\">\\n            Peso Argentino\\n           </a>\\n          </li>\\n          <li>\\n           <a href=\"//www.dolarhoje.net.br/pesochileno.php\">\\n            Peso Chileno\\n           </a>\\n          </li>\\n          <li>\\n           <a href=\"//www.dolarhoje.net.br/pesocolombiano.php\">\\n            Peso Colombiano\\n           </a>\\n          </li>\\n          <li>\\n           <a href=\"//www.dolarhoje.net.br/pesomexicano.php\">\\n            Peso Mexicano\\n           </a>\\n          </li>\\n          <li>\\n           <a href=\"//www.dolarhoje.net.br/pesouruguaio.php\">\\n            Peso Uruguaio\\n           </a>\\n          </li>\\n          <li>\\n           <a href=\"//www.dolarhoje.net.br/bolivarvenezuelano.php\">\\n            Bolivar Venezuelano\\n           </a>\\n          </li>\\n          <li>\\n           <a href=\"//www.dolarhoje.net.br/rupia-indonesia.php\">\\n            Rupia indonesia\\n           </a>\\n          </li>\\n          <li>\\n           <a href=\"//www.dolarhoje.net.br/rupia-indiana.php\">\\n            Rupia indiana\\n           </a>\\n          </li>\\n          <li>\\n           <a href=\"//www.dolarhoje.net.br/rublo-russo.php\">\\n            Rublo russo\\n           </a>\\n          </li>\\n          <li>\\n           <a href=\"//www.dolarhoje.net.br/yuan.php\">\\n            Yuan/Renminbi(China)\\n           </a>\\n          </li>\\n         </ul>\\n        </li>\\n        <li class=\"\">\\n         <a href=\"//www.dolarhoje.net.br/ouro-hoje/\">\\n          Ouro Hoje\\n         </a>\\n        </li>\\n        <li class=\"dropdown\">\\n         <a aria-expanded=\"false\" class=\"\" data-toggle=\"dropdown\" href=\"\" role=\"button\">\\n          Economia\\n         </a>\\n         <ul class=\"dropdown-menu\" role=\"menu\">\\n          <li>\\n           <a href=\"//www.dolarhoje.net.br/cdi-hoje/\">\\n            CDI\\n           </a>\\n          </li>\\n          <li>\\n           <a href=\"//www.dolarhoje.net.br/ipca-hoje/\">\\n            IPCA\\n           </a>\\n          </li>\\n          <li>\\n           <a href=\"//www.dolarhoje.net.br/selic-hoje/\">\\n            SELIC\\n           </a>\\n          </li>\\n         </ul>\\n        </li>\\n       </ul>\\n      </div>\\n     </div>\\n    </nav>\\n   </div>\\n   <section id=\"mainContent\">\\n    <span class=\"ezoic-adpicker-ad\" id=\"ezoic-pub-ad-placeholder-112\">\\n    </span>\\n    <span class=\"ezoic-ad box-2 adtester-container adtester-container-112 ezoic-ad-adaptive\" data-ez-name=\"dolarhoje_net_br-box-2\" style=\"background:0 0 !important;display:flex !important;float:none;justify-content:space-between;margin-bottom:15px !important;margin-left:auto !important;margin-right:auto !important;margin-top:15px !important;min-height:250px;min-width:970px;text-align:center !important;width:970px;\">\\n     <span class=\"ezoic-ad box-2 adtester-container adtester-container-112\" data-ez-name=\"dolarhoje_net_br-box-2\" style=\"display:block !important;float:none;margin-bottom:15px !important;margin-left:0px !important;margin-right:0px !important;margin-top:15px !important;min-height:250px;min-width:300px;text-align:center !important;\">\\n      <span class=\"ezoic-ad\" ezah=\"250\" ezaw=\"323\" id=\"div-gpt-ad-dolarhoje_net_br-box-2-0\" style=\"position:relative;z-index:0;display:inline-block;min-height:250px;min-width:323px;\">\\n       <script data-cfasync=\"false\" data-ezscrex=\"false\" style=\"display:none;\" type=\"text/javascript\">\\n        eval(ez_write_tag([[300,250],\\'dolarhoje_net_br-box-2\\',\\'ezslot_1\\',112,\\'0\\',\\'0\\']));\\n       </script>\\n      </span>\\n     </span>\\n     <span class=\"ezoic-ad box-2 adtester-container adtester-container-112\" data-ez-name=\"dolarhoje_net_br-box-2\" style=\"display:block !important;float:none;margin-bottom:15px !important;margin-left:0px !important;margin-right:0px !important;margin-top:15px !important;min-height:250px;min-width:300px;text-align:center !important;\">\\n      <span class=\"ezoic-ad\" ezah=\"250\" ezaw=\"323\" id=\"div-gpt-ad-dolarhoje_net_br-box-2-0_1\" style=\"position:relative;z-index:0;display:inline-block;min-height:250px;min-width:323px;\">\\n       <script data-cfasync=\"false\" data-ezscrex=\"false\" style=\"display:none;\" type=\"text/javascript\">\\n        eval(ez_write_tag([[300,250],\\'dolarhoje_net_br-box-2\\',\\'ezslot_2\\',112,\\'0\\',\\'1\\']));\\n       </script>\\n      </span>\\n     </span>\\n     <span class=\"ezoic-ad box-2 adtester-container adtester-container-112\" data-ez-name=\"dolarhoje_net_br-box-2\" style=\"display:block !important;float:none;margin-bottom:15px !important;margin-left:0px !important;margin-right:0px !important;margin-top:15px !important;min-height:250px;min-width:300px;text-align:center !important;\">\\n      <span class=\"ezoic-ad\" ezah=\"250\" ezaw=\"323\" id=\"div-gpt-ad-dolarhoje_net_br-box-2-0_2\" style=\"position:relative;z-index:0;display:inline-block;min-height:250px;min-width:323px;\">\\n       <script data-cfasync=\"false\" data-ezscrex=\"false\" style=\"display:none;\" type=\"text/javascript\">\\n        eval(ez_write_tag([[300,250],\\'dolarhoje_net_br-box-2\\',\\'ezslot_3\\',112,\\'0\\',\\'2\\']));\\n       </script>\\n      </span>\\n     </span>\\n    </span>\\n    <div class=\"content_middle\">\\n     <div class=\"col-lg-2 col-md-2 col-sm-2\">\\n      <div class=\"content_middle_leftbar\">\\n       <div class=\"single_category wow fadeInDown\">\\n        <!-- dolar responsivo -->\\n       </div>\\n      </div>\\n     </div>\\n     <div class=\"col-lg-8 col-md-8 col-sm-8\">\\n      <div class=\"content_middle_middle\">\\n       <h1>\\n        Dólar Comercial\\n       </h1>\\n       <div class=\"center\">\\n        <img alt=\"dólar comercial\" src=\"/imagens/dolar-hoje.png\"/>\\n        <br/>\\n        <table class=\"center\">\\n         <tbody>\\n          <tr>\\n           <td>\\n            <span class=\"moeda\">\\n             US$\\n            </span>\\n           </td>\\n           <td>\\n            <input class=\"moeda\" id=\"dolar\" maxlength=\"9\" name=\"SalBruto\" onkeyup=\"moeda2(this,4.8616);\" size=\"2\" type=\"text\" value=\"1,00\"/>\\n           </td>\\n           <td>\\n            <span class=\"moeda\">\\n             =\\n            </span>\\n           </td>\\n           <td>\\n            <span class=\"moeda\">\\n             R$\\n            </span>\\n           </td>\\n           <td>\\n            <input id=\"moeda\" maxlength=\"9\" onkeyup=\"moeda3(this,4.8616);\" size=\"2\" type=\"text\" value=\"4,8616\"/>\\n           </td>\\n          </tr>\\n         </tbody>\\n        </table>\\n        hoje 10/06/2020\\n        <br/>\\n        <script>\\n         if (document.location.search.match(/type=embed/gi)) {\\n    window.parent.postMessage(\"resize\", \"*\");\\n  }\\n        </script>\\n        <span class=\"star-rating\">\\n         <input name=\"rating\" onclick=\"loadDoc(1)\" type=\"radio\" value=\"1\"/>\\n         <i>\\n         </i>\\n         <input name=\"rating\" onclick=\"loadDoc(2)\" type=\"radio\" value=\"2\"/>\\n         <i>\\n         </i>\\n         <input name=\"rating\" onclick=\"loadDoc(3)\" type=\"radio\" value=\"3\"/>\\n         <i>\\n         </i>\\n         <input name=\"rating\" onclick=\"loadDoc(4)\" type=\"radio\" value=\"4\"/>\\n         <i>\\n         </i>\\n         <input name=\"rating\" onclick=\"loadDoc(5)\" type=\"radio\" value=\"5\"/>\\n         <i>\\n         </i>\\n        </span>\\n        <strong class=\"choice\">\\n         Nota 3.87 de 6117 votos\\n        </strong>\\n        <span id=\"demo\">\\n        </span>\\n       </div>\\n       <br/>\\n       <br/>\\n       <div>\\n        <div class=\"col-lg-6 col-md-6 col-sm-6\">\\n         <!-- dolar Grande -->\\n        </div>\\n        <div class=\"col-lg-6 col-md-6 col-sm-6\">\\n         <div>\\n          <h2>\\n           Preço do Dólar - valor hoje\\n          </h2>\\n         </div>\\n         <div id=\"divSpdInText\">\\n          <table>\\n           <thead>\\n            <tr>\\n             <th>\\n              Moeda\\n             </th>\\n             <th>\\n              Valor em real\\n             </th>\\n            </tr>\\n           </thead>\\n           <tbody>\\n            <tr>\\n             <td>\\n              <strong>\\n               Dólar comercial\\n              </strong>\\n             </td>\\n             <td>\\n              R$ 4,8616\\n             </td>\\n            </tr>\\n            <tr>\\n             <td>\\n              <strong>\\n               Dólar turismo\\n              </strong>\\n             </td>\\n             <td>\\n              R$ 5,0854\\n             </td>\\n            </tr>\\n            <tr>\\n             <td>\\n              <strong>\\n               Dólar ptax\\n              </strong>\\n             </td>\\n             <td>\\n              R$ 4,9057\\n             </td>\\n            </tr>\\n            <tr>\\n             <td>\\n              <strong>\\n               Euro comercial\\n              </strong>\\n             </td>\\n             <td>\\n              R$ 5,53\\n             </td>\\n            </tr>\\n            <tr>\\n             <td>\\n              <strong>\\n               Euro turismo\\n              </strong>\\n             </td>\\n             <td>\\n              R$ 5.8094\\n             </td>\\n            </tr>\\n           </tbody>\\n          </table>\\n         </div>\\n         <br/>\\n        </div>\\n        <br/>\\n        <p>\\n         O valor do\\n         <strong>\\n          Dólar Comercial\\n         </strong>\\n         , que está cotado hoje no valor de R$ 4,8616 é uma informação de credibilidade que tem como fonte o site Valor Econômico.\\n        </p>\\n        <p>\\n         Consulte as cotações do dólar comercial de dias, meses e anos anteriores com nosso histórico da moeda de forma fácil e rápido.\\n        </p>\\n        <h2>\\n         Tabela de valores do dólar comercial\\n        </h2>\\n        <p>\\n         Confira abaixo uma tabela de cotação do\\n         <strong>\\n          dólar comercial\\n         </strong>\\n         dos últimos dias. Acompanhe a variação de valor de câmbio da moeda norte americana e a tendência de subir ou baixar o preço do dólar comercial.\\n        </p>\\n        <table>\\n         <tbody>\\n          <tr>\\n           <td class=\"silver\">\\n            Dólar Comercial\\n           </td>\\n           <td class=\"silver\">\\n            variação\\n           </td>\\n           <td class=\"silver\">\\n            Data\\n           </td>\\n          </tr>\\n          <tr>\\n           <td>\\n            R$ 4.8616\\n           </td>\\n           <td>\\n            -0.948%\\n           </td>\\n           <td>\\n            10/06/2020\\n           </td>\\n          </tr>\\n          <tr>\\n           <td>\\n            R$ 4.90812\\n           </td>\\n           <td>\\n            1.767%\\n           </td>\\n           <td>\\n            09/06/2020\\n           </td>\\n          </tr>\\n          <tr>\\n           <td>\\n            R$ 4.8229\\n           </td>\\n           <td>\\n            -2.782%\\n           </td>\\n           <td>\\n            08/06/2020\\n           </td>\\n          </tr>\\n          <tr>\\n           <td>\\n            R$ 4.9609\\n           </td>\\n           <td>\\n            -0.091%\\n           </td>\\n           <td>\\n            07/06/2020\\n           </td>\\n          </tr>\\n          <tr>\\n           <td>\\n            R$ 4.96543\\n           </td>\\n           <td>\\n            0%\\n           </td>\\n           <td>\\n            06/06/2020\\n           </td>\\n          </tr>\\n          <tr>\\n           <td>\\n            R$ 4.96543\\n           </td>\\n           <td>\\n            -2.994%\\n           </td>\\n           <td>\\n            05/06/2020\\n           </td>\\n          </tr>\\n          <tr>\\n           <td>\\n            R$ 5.1187\\n           </td>\\n           <td>\\n            1.106%\\n           </td>\\n           <td>\\n            04/06/2020\\n           </td>\\n          </tr>\\n          <tr>\\n           <td>\\n            R$ 5.0627\\n           </td>\\n           <td>\\n            -2.653%\\n           </td>\\n           <td>\\n            03/06/2020\\n           </td>\\n          </tr>\\n          <tr>\\n           <td>\\n            R$ 5.2007\\n           </td>\\n           <td>\\n            -3.097%\\n           </td>\\n           <td>\\n            02/06/2020\\n           </td>\\n          </tr>\\n         </tbody>\\n        </table>\\n        <table>\\n         <tbody>\\n          <tr>\\n           <td>\\n            <div class=\"g-plusone\" data-annotation=\"inline\" data-width=\"150\">\\n            </div>\\n            <!-- Place this tag after the last +1 button tag. -->\\n            <script type=\"text/javascript\">\\n             window.___gcfg = {lang: \\'pt-BR\\'};\\n\\n  (function() {\\n    var po = document.createElement(\\'script\\'); po.type = \\'text/javascript\\'; po.async = true;\\n    po.src = \\'https://apis.google.com/js/plusone.js\\';\\n    var s = document.getElementsByTagName(\\'script\\')[0]; s.parentNode.insertBefore(po, s);\\n  })();\\n            </script>\\n            <br/>\\n            <div id=\"fb-root\">\\n            </div>\\n            <script>\\n             (function(d, s, id) {\\n  var js, fjs = d.getElementsByTagName(s)[0];\\n  if (d.getElementById(id)) return;\\n  js = d.createElement(s); js.id = id;\\n  js.src = \"//connect.facebook.net/pt_PT/sdk.js#xfbml=1&version=v2.0\";\\n  fjs.parentNode.insertBefore(js, fjs);\\n}(document, \\'script\\', \\'facebook-jssdk\\'));\\n            </script>\\n            <div class=\"fb-like\" data-action=\"like\" data-href=\"www.dolarhoje.net.br\" data-layout=\"standard\" data-share=\"true\" data-show-faces=\"true\" data-width=\"250\">\\n            </div>\\n           </td>\\n          </tr>\\n         </tbody>\\n        </table>\\n        <h3>\\n         O que achou da cotação do dólar?\\n        </h3>\\n        <div id=\"fb-root\">\\n        </div>\\n        <script>\\n         (function(d, s, id) {\\n  var js, fjs = d.getElementsByTagName(s)[0];\\n  if (d.getElementById(id)) return;\\n  js = d.createElement(s); js.id = id;\\n  js.src = \"//connect.facebook.net/pt_PT/sdk.js#xfbml=1&version=v2.5&appId=214979215319944\";\\n  fjs.parentNode.insertBefore(js, fjs);\\n}(document, \\'script\\', \\'facebook-jssdk\\'));\\n        </script>\\n        <div class=\"fb-comments\" data-href=\"www.dolarhoje.net.br\" data-numposts=\"6\" data-width=\"350\">\\n        </div>\\n        <div>\\n         <div id=\"divSpdInText\">\\n          <h2>\\n           Histórico do dólar\\n          </h2>\\n          <p>\\n           Nesta página de\\n           <strong>\\n            Histórico do dólar\\n           </strong>\\n           você encontrará informações sobre a cotação do\\n           <strong>\\n            dólar comercial\\n           </strong>\\n           desde 01/07/1994, quando começou o plano Real. Utilize os botões abaixo para mudar de ano, caso queira consultar  períodos anteriores a 2020.\\n          </p>\\n          <p>\\n           <span class=\"ezoic-adpicker-ad\" id=\"ezoic-pub-ad-placeholder-108\">\\n           </span>\\n           No ano de 2020 o\\n           <strong>\\n            dólar comercial\\n           </strong>\\n           se valorizou 20.839%. A primeira cotação do\\n           <strong>\\n            dólar comercial\\n           </strong>\\n           no ano foi de R$ 4.0232 e a última R$ 4.8616\\n          </p>\\n          <p>\\n           No Sábado, Domingo e feriados nacionais não há\\n           <strong>\\n            cotação do Dólar\\n           </strong>\\n           , e então fica valendo o valor do último dia útil\\n           <span class=\"ezoic-adpicker-ad\" id=\"ezoic-pub-ad-placeholder-113\">\\n           </span>\\n          </p>\\n         </div>\\n         <fieldset>\\n          <legend>\\n           Dólar por ano\\n          </legend>\\n          <table>\\n           <tbody>\\n            <tr>\\n             <td>\\n              <form action=\"\" method=\"post\">\\n               <input name=\"ano\" type=\"hidden\" value=\"1994\"/>\\n               <input class=\"bt_ano\" type=\"submit\" value=\"1994\"/>\\n              </form>\\n             </td>\\n             <td>\\n              <form action=\"\" method=\"post\">\\n               <input name=\"ano\" type=\"hidden\" value=\"1995\"/>\\n               <input class=\"bt_ano\" type=\"submit\" value=\"1995\"/>\\n              </form>\\n             </td>\\n             <td>\\n              <form action=\"\" method=\"post\">\\n               <input name=\"ano\" type=\"hidden\" value=\"1996\"/>\\n               <input class=\"bt_ano\" type=\"submit\" value=\"1996\"/>\\n              </form>\\n             </td>\\n             <td>\\n              <form action=\"\" method=\"post\">\\n               <input name=\"ano\" type=\"hidden\" value=\"1997\"/>\\n               <input class=\"bt_ano\" type=\"submit\" value=\"1997\"/>\\n              </form>\\n             </td>\\n            </tr>\\n            <tr>\\n             <td>\\n              <form action=\"\" method=\"post\">\\n               <input name=\"ano\" type=\"hidden\" value=\"1998\"/>\\n               <input class=\"bt_ano\" type=\"submit\" value=\"1998\"/>\\n              </form>\\n             </td>\\n             <td>\\n              <form action=\"\" method=\"post\">\\n               <input name=\"ano\" type=\"hidden\" value=\"1999\"/>\\n               <input class=\"bt_ano\" type=\"submit\" value=\"1999\"/>\\n              </form>\\n             </td>\\n             <td>\\n              <form action=\"\" method=\"post\">\\n               <input name=\"ano\" type=\"hidden\" value=\"2000\"/>\\n               <input class=\"bt_ano\" type=\"submit\" value=\"2000\"/>\\n              </form>\\n             </td>\\n             <td>\\n              <form action=\"\" method=\"post\">\\n               <input name=\"ano\" type=\"hidden\" value=\"2001\"/>\\n               <input class=\"bt_ano\" type=\"submit\" value=\"2001\"/>\\n              </form>\\n             </td>\\n            </tr>\\n            <tr>\\n             <td>\\n              <form action=\"\" method=\"post\">\\n               <input name=\"ano\" type=\"hidden\" value=\"2002\"/>\\n               <input class=\"bt_ano\" type=\"submit\" value=\"2002\"/>\\n              </form>\\n             </td>\\n             <td>\\n              <form action=\"\" method=\"post\">\\n               <input name=\"ano\" type=\"hidden\" value=\"2003\"/>\\n               <input class=\"bt_ano\" type=\"submit\" value=\"2003\"/>\\n              </form>\\n             </td>\\n             <td>\\n              <form action=\"\" method=\"post\">\\n               <input name=\"ano\" type=\"hidden\" value=\"2004\"/>\\n               <input class=\"bt_ano\" type=\"submit\" value=\"2004\"/>\\n              </form>\\n             </td>\\n             <td>\\n              <form action=\"\" method=\"post\">\\n               <input name=\"ano\" type=\"hidden\" value=\"2005\"/>\\n               <input class=\"bt_ano\" type=\"submit\" value=\"2005\"/>\\n              </form>\\n             </td>\\n            </tr>\\n            <tr>\\n             <td>\\n              <form action=\"\" method=\"post\">\\n               <input name=\"ano\" type=\"hidden\" value=\"2006\"/>\\n               <input class=\"bt_ano\" type=\"submit\" value=\"2006\"/>\\n              </form>\\n             </td>\\n             <td>\\n              <form action=\"\" method=\"post\">\\n               <input name=\"ano\" type=\"hidden\" value=\"2007\"/>\\n               <input class=\"bt_ano\" type=\"submit\" value=\"2007\"/>\\n              </form>\\n             </td>\\n             <td>\\n              <form action=\"\" method=\"post\">\\n               <input name=\"ano\" type=\"hidden\" value=\"2008\"/>\\n               <input class=\"bt_ano\" type=\"submit\" value=\"2008\"/>\\n              </form>\\n             </td>\\n             <td>\\n              <form action=\"\" method=\"post\">\\n               <input name=\"ano\" type=\"hidden\" value=\"2009\"/>\\n               <input class=\"bt_ano\" type=\"submit\" value=\"2009\"/>\\n              </form>\\n             </td>\\n            </tr>\\n            <tr>\\n             <td>\\n              <form action=\"\" method=\"post\">\\n               <input name=\"ano\" type=\"hidden\" value=\"2010\"/>\\n               <input class=\"bt_ano\" type=\"submit\" value=\"2010\"/>\\n              </form>\\n             </td>\\n             <td>\\n              <form action=\"\" method=\"post\">\\n               <input name=\"ano\" type=\"hidden\" value=\"2011\"/>\\n               <input class=\"bt_ano\" type=\"submit\" value=\"2011\"/>\\n              </form>\\n             </td>\\n             <td>\\n              <form action=\"\" method=\"post\">\\n               <input name=\"ano\" type=\"hidden\" value=\"2012\"/>\\n               <input class=\"bt_ano\" type=\"submit\" value=\"2012\"/>\\n              </form>\\n             </td>\\n             <td>\\n              <form action=\"\" method=\"post\">\\n               <input name=\"ano\" type=\"hidden\" value=\"2013\"/>\\n               <input class=\"bt_ano\" type=\"submit\" value=\"2013\"/>\\n              </form>\\n             </td>\\n            </tr>\\n            <tr>\\n             <td>\\n              <form action=\"\" method=\"post\">\\n               <input name=\"ano\" type=\"hidden\" value=\"2014\"/>\\n               <input class=\"bt_ano\" type=\"submit\" value=\"2014\"/>\\n              </form>\\n             </td>\\n             <td>\\n              <form action=\"\" method=\"post\">\\n               <input name=\"ano\" type=\"hidden\" value=\"2015\"/>\\n               <input class=\"bt_ano\" type=\"submit\" value=\"2015\"/>\\n              </form>\\n             </td>\\n             <td>\\n              <form action=\"\" method=\"post\">\\n               <input name=\"ano\" type=\"hidden\" value=\"2016\"/>\\n               <input class=\"bt_ano\" type=\"submit\" value=\"2016\"/>\\n              </form>\\n             </td>\\n             <td>\\n              <form action=\"\" method=\"post\">\\n               <input name=\"ano\" type=\"hidden\" value=\"2017\"/>\\n               <input class=\"bt_ano\" type=\"submit\" value=\"2017\"/>\\n              </form>\\n             </td>\\n            </tr>\\n            <tr>\\n             <td>\\n              <form action=\"\" method=\"post\">\\n               <input name=\"ano\" type=\"hidden\" value=\"2018\"/>\\n               <input class=\"bt_ano\" type=\"submit\" value=\"2018\"/>\\n              </form>\\n             </td>\\n             <td>\\n              <form action=\"\" method=\"post\">\\n               <input name=\"ano\" type=\"hidden\" value=\"2019\"/>\\n               <input class=\"bt_ano\" type=\"submit\" value=\"2019\"/>\\n              </form>\\n             </td>\\n             <td>\\n              <form action=\"\" method=\"post\">\\n               <input name=\"ano\" type=\"hidden\" value=\"2020\"/>\\n               <input class=\"bt_ano\" type=\"submit\" value=\"2020\"/>\\n              </form>\\n             </td>\\n            </tr>\\n           </tbody>\\n          </table>\\n         </fieldset>\\n         <div class=\"e\">\\n         </div>\\n         <div class=\"e\">\\n          <p class=\"silver\">\\n           <strong>\\n            Janeiro\\n           </strong>\\n          </p>\\n          <p>\\n           02/01/2020 - R$ 4,023\\n          </p>\\n          <p>\\n           03/01/2020 - R$ 4,056\\n           <img src=\"//www.dolarhoje.net.br/imagens/seta-sobe.png\"/>\\n           0.815%\\n          </p>\\n          <p>\\n           06/01/2020 - R$ 4,062\\n           <img src=\"//www.dolarhoje.net.br/imagens/seta-sobe.png\"/>\\n           0.148%\\n          </p>\\n          <p>\\n           07/01/2020 - R$ 4,065\\n           <img src=\"//www.dolarhoje.net.br/imagens/seta-sobe.png\"/>\\n           0.062%\\n          </p>\\n          <p>\\n           08/01/2020 - R$ 4,052\\n           <img src=\"//www.dolarhoje.net.br/imagens/seta-desce.png\"/>\\n           -0.312%\\n          </p>\\n          <p>\\n           09/01/2020 - R$ 4,085\\n           <img src=\"//www.dolarhoje.net.br/imagens/seta-sobe.png\"/>\\n           0.822%\\n          </p>\\n          <p>\\n           10/01/2020 - R$ 4,092\\n           <img src=\"//www.dolarhoje.net.br/imagens/seta-sobe.png\"/>\\n           0.176%\\n          </p>\\n          <p>\\n           13/01/2020 - R$ 4,141\\n           <img src=\"//www.dolarhoje.net.br/imagens/seta-sobe.png\"/>\\n           1.195%\\n          </p>\\n          <p>\\n           14/01/2020 - R$ 4,130\\n           <img src=\"//www.dolarhoje.net.br/imagens/seta-desce.png\"/>\\n           -0.28%\\n          </p>\\n          <p>\\n           15/01/2020 - R$ 4,184\\n           <img src=\"//www.dolarhoje.net.br/imagens/seta-sobe.png\"/>\\n           1.325%\\n          </p>\\n          <p>\\n           16/01/2020 - R$ 4,193\\n           <img src=\"//www.dolarhoje.net.br/imagens/seta-sobe.png\"/>\\n           0.201%\\n          </p>\\n          <p>\\n           17/01/2020 - R$ 4,165\\n           <img src=\"//www.dolarhoje.net.br/imagens/seta-desce.png\"/>\\n           -0.658%\\n          </p>\\n          <p>\\n           20/01/2020 - R$ 4,189\\n           <img src=\"//www.dolarhoje.net.br/imagens/seta-sobe.png\"/>\\n           0.564%\\n          </p>\\n          <p>\\n           21/01/2020 - R$ 4,205\\n           <img src=\"//www.dolarhoje.net.br/imagens/seta-sobe.png\"/>\\n           0.392%\\n          </p>\\n          <p>\\n           22/01/2020 - R$ 4,175\\n           <img src=\"//www.dolarhoje.net.br/imagens/seta-desce.png\"/>\\n           -0.706%\\n          </p>\\n          <p>\\n           23/01/2020 - R$ 4,166\\n           <img src=\"//www.dolarhoje.net.br/imagens/seta-desce.png\"/>\\n           -0.225%\\n          </p>\\n          <p>\\n           24/01/2020 - R$ 4,184\\n           <img src=\"//www.dolarhoje.net.br/imagens/seta-sobe.png\"/>\\n           0.432%\\n          </p>\\n          <p>\\n           27/01/2020 - R$ 4,209\\n           <img src=\"//www.dolarhoje.net.br/imagens/seta-sobe.png\"/>\\n           0.605%\\n          </p>\\n          <p>\\n           28/01/2020 - R$ 4,193\\n           <img src=\"//www.dolarhoje.net.br/imagens/seta-desce.png\"/>\\n           -0.38%\\n          </p>\\n          <p>\\n           29/01/2020 - R$ 4,219\\n           <img src=\"//www.dolarhoje.net.br/imagens/seta-sobe.png\"/>\\n           0.622%\\n          </p>\\n          <p>\\n           30/01/2020 - R$ 4,257\\n           <img src=\"//www.dolarhoje.net.br/imagens/seta-sobe.png\"/>\\n           0.903%\\n          </p>\\n          <p>\\n           31/01/2020 - R$ 4,285\\n           <img src=\"//www.dolarhoje.net.br/imagens/seta-sobe.png\"/>\\n           0.648%\\n          </p>\\n         </div>\\n         <div class=\"e\">\\n          <p class=\"silver\">\\n           <strong>\\n            Fevereiro\\n           </strong>\\n          </p>\\n          <p>\\n           03/02/2020 - R$ 4,249\\n           <img src=\"//www.dolarhoje.net.br/imagens/seta-desce.png\"/>\\n           -0.838%\\n          </p>\\n          <p>\\n           04/02/2020 - R$ 4,258\\n           <img src=\"//www.dolarhoje.net.br/imagens/seta-sobe.png\"/>\\n           0.209%\\n          </p>\\n          <p>\\n           05/02/2020 - R$ 4,239\\n           <img src=\"//www.dolarhoje.net.br/imagens/seta-desce.png\"/>\\n           -0.446%\\n          </p>\\n          <p>\\n           06/02/2020 - R$ 4,285\\n           <img src=\"//www.dolarhoje.net.br/imagens/seta-sobe.png\"/>\\n           1.078%\\n          </p>\\n          <p>\\n           07/02/2020 - R$ 4,320\\n           <img src=\"//www.dolarhoje.net.br/imagens/seta-sobe.png\"/>\\n           0.819%\\n          </p>\\n          <p>\\n           10/02/2020 - R$ 4,322\\n           <img src=\"//www.dolarhoje.net.br/imagens/seta-sobe.png\"/>\\n           0.06%\\n          </p>\\n          <p>\\n           11/02/2020 - R$ 4,327\\n           <img src=\"//www.dolarhoje.net.br/imagens/seta-sobe.png\"/>\\n           0.104%\\n          </p>\\n          <p>\\n           12/02/2020 - R$ 4,351\\n           <img src=\"//www.dolarhoje.net.br/imagens/seta-sobe.png\"/>\\n           0.545%\\n          </p>\\n          <p>\\n           13/02/2020 - R$ 4,334\\n           <img src=\"//www.dolarhoje.net.br/imagens/seta-desce.png\"/>\\n           -0.382%\\n          </p>\\n          <p>\\n           14/02/2020 - R$ 4,300\\n           <img src=\"//www.dolarhoje.net.br/imagens/seta-desce.png\"/>\\n           -0.789%\\n          </p>\\n          <p>\\n           17/02/2020 - R$ 4,329\\n           <img src=\"//www.dolarhoje.net.br/imagens/seta-sobe.png\"/>\\n           0.681%\\n          </p>\\n          <p>\\n           18/02/2020 - R$ 4,357\\n           <img src=\"//www.dolarhoje.net.br/imagens/seta-sobe.png\"/>\\n           0.642%\\n          </p>\\n          <p>\\n           19/02/2020 - R$ 4,365\\n           <img src=\"//www.dolarhoje.net.br/imagens/seta-sobe.png\"/>\\n           0.188%\\n          </p>\\n          <p>\\n           20/02/2020 - R$ 4,392\\n           <img src=\"//www.dolarhoje.net.br/imagens/seta-sobe.png\"/>\\n           0.612%\\n          </p>\\n          <p>\\n           21/02/2020 - R$ 4,393\\n           <img src=\"//www.dolarhoje.net.br/imagens/seta-sobe.png\"/>\\n           0.02%\\n          </p>\\n          <p>\\n           24/02/2020 - R$ 4,393\\n           <img src=\"//www.dolarhoje.net.br/imagens/seta-sobe.png\"/>\\n           0%\\n          </p>\\n          <p>\\n           25/02/2020 - R$ 4,393\\n           <img src=\"//www.dolarhoje.net.br/imagens/seta-sobe.png\"/>\\n           0%\\n          </p>\\n          <p>\\n           26/02/2020 - R$ 4,441\\n           <img src=\"//www.dolarhoje.net.br/imagens/seta-sobe.png\"/>\\n           1.095%\\n          </p>\\n          <p>\\n           27/02/2020 - R$ 4,476\\n           <img src=\"//www.dolarhoje.net.br/imagens/seta-sobe.png\"/>\\n           0.804%\\n          </p>\\n          <p>\\n           28/02/2020 - R$ 4,481\\n           <img src=\"//www.dolarhoje.net.br/imagens/seta-sobe.png\"/>\\n           0.101%\\n          </p>\\n         </div>\\n         <div class=\"e\">\\n          <p class=\"silver\">\\n           <strong>\\n            Março\\n           </strong>\\n          </p>\\n          <p>\\n           02/03/2020 - R$ 4,481\\n           <img src=\"//www.dolarhoje.net.br/imagens/seta-desce.png\"/>\\n           -0.007%\\n          </p>\\n          <p>\\n           03/03/2020 - R$ 4,479\\n           <img src=\"//www.dolarhoje.net.br/imagens/seta-desce.png\"/>\\n           -0.047%\\n          </p>\\n          <p>\\n           09/03/2020 - R$ 4,742\\n           <img src=\"//www.dolarhoje.net.br/imagens/seta-sobe.png\"/>\\n           5.893%\\n          </p>\\n          <p>\\n           10/03/2020 - R$ 4,645\\n           <img src=\"//www.dolarhoje.net.br/imagens/seta-desce.png\"/>\\n           -2.06%\\n          </p>\\n          <p>\\n           11/03/2020 - R$ 4,722\\n           <img src=\"//www.dolarhoje.net.br/imagens/seta-sobe.png\"/>\\n           1.653%\\n          </p>\\n          <p>\\n           12/03/2020 - R$ 4,788\\n           <img src=\"//www.dolarhoje.net.br/imagens/seta-sobe.png\"/>\\n           1.413%\\n          </p>\\n          <p>\\n           13/03/2020 - R$ 4,813\\n           <img src=\"//www.dolarhoje.net.br/imagens/seta-sobe.png\"/>\\n           0.512%\\n          </p>\\n          <p>\\n           16/03/2020 - R$ 5,061\\n           <img src=\"//www.dolarhoje.net.br/imagens/seta-sobe.png\"/>\\n           4.848%\\n          </p>\\n          <p>\\n           17/03/2020 - R$ 5,006\\n           <img src=\"//www.dolarhoje.net.br/imagens/seta-desce.png\"/>\\n           -1.099%\\n          </p>\\n          <p>\\n           18/03/2020 - R$ 5,196\\n           <img src=\"//www.dolarhoje.net.br/imagens/seta-sobe.png\"/>\\n           3.794%\\n          </p>\\n          <p>\\n           19/03/2020 - R$ 5,098\\n           <img src=\"//www.dolarhoje.net.br/imagens/seta-desce.png\"/>\\n           -1.88%\\n          </p>\\n          <p>\\n           20/03/2020 - R$ 5,026\\n           <img src=\"//www.dolarhoje.net.br/imagens/seta-desce.png\"/>\\n           -1.408%\\n          </p>\\n          <p>\\n           23/03/2020 - R$ 5,135\\n           <img src=\"//www.dolarhoje.net.br/imagens/seta-sobe.png\"/>\\n           1.436%\\n          </p>\\n          <p>\\n           24/03/2020 - R$ 5,081\\n           <img src=\"//www.dolarhoje.net.br/imagens/seta-desce.png\"/>\\n           -1.048%\\n          </p>\\n          <p>\\n           25/03/2020 - R$ 5,033\\n           <img src=\"//www.dolarhoje.net.br/imagens/seta-desce.png\"/>\\n           -0.958%\\n          </p>\\n          <p>\\n           26/03/2020 - R$ 4,999\\n           <img src=\"//www.dolarhoje.net.br/imagens/seta-desce.png\"/>\\n           -0.674%\\n          </p>\\n          <p>\\n           27/03/2020 - R$ 5,104\\n           <img src=\"//www.dolarhoje.net.br/imagens/seta-sobe.png\"/>\\n           2.101%\\n          </p>\\n          <p>\\n           30/03/2020 - R$ 5,180\\n           <img src=\"//www.dolarhoje.net.br/imagens/seta-sobe.png\"/>\\n           1.497%\\n          </p>\\n          <p>\\n           31/03/2020 - R$ 5,196\\n           <img src=\"//www.dolarhoje.net.br/imagens/seta-sobe.png\"/>\\n           0.305%\\n          </p>\\n         </div>\\n         <div class=\"e\">\\n          <p class=\"silver\">\\n           <strong>\\n            Abril\\n           </strong>\\n          </p>\\n          <p>\\n           01/04/2020 - R$ 5,262\\n           <img src=\"//www.dolarhoje.net.br/imagens/seta-sobe.png\"/>\\n           1.278%\\n          </p>\\n          <p>\\n           02/04/2020 - R$ 5,265\\n           <img src=\"//www.dolarhoje.net.br/imagens/seta-sobe.png\"/>\\n           0.053%\\n          </p>\\n          <p>\\n           03/04/2020 - R$ 5,327\\n           <img src=\"//www.dolarhoje.net.br/imagens/seta-sobe.png\"/>\\n           1.181%\\n          </p>\\n          <p>\\n           06/04/2020 - R$ 5,294\\n           <img src=\"//www.dolarhoje.net.br/imagens/seta-desce.png\"/>\\n           -0.627%\\n          </p>\\n          <p>\\n           07/04/2020 - R$ 5,225\\n           <img src=\"//www.dolarhoje.net.br/imagens/seta-desce.png\"/>\\n           -1.301%\\n          </p>\\n          <p>\\n           08/04/2020 - R$ 5,141\\n           <img src=\"//www.dolarhoje.net.br/imagens/seta-desce.png\"/>\\n           -1.604%\\n          </p>\\n          <p>\\n           09/04/2020 - R$ 5,093\\n           <img src=\"//www.dolarhoje.net.br/imagens/seta-desce.png\"/>\\n           -0.947%\\n          </p>\\n          <p>\\n           10/04/2020 - R$ 5,093\\n           <img src=\"//www.dolarhoje.net.br/imagens/seta-desce.png\"/>\\n           0%\\n          </p>\\n          <p>\\n           13/04/2020 - R$ 5,180\\n           <img src=\"//www.dolarhoje.net.br/imagens/seta-sobe.png\"/>\\n           1.72%\\n          </p>\\n          <p>\\n           14/04/2020 - R$ 5,189\\n           <img src=\"//www.dolarhoje.net.br/imagens/seta-sobe.png\"/>\\n           0.162%\\n          </p>\\n          <p>\\n           15/04/2020 - R$ 5,242\\n           <img src=\"//www.dolarhoje.net.br/imagens/seta-sobe.png\"/>\\n           1.029%\\n          </p>\\n          <p>\\n           16/04/2020 - R$ 5,256\\n           <img src=\"//www.dolarhoje.net.br/imagens/seta-sobe.png\"/>\\n           0.269%\\n          </p>\\n          <p>\\n           17/04/2020 - R$ 5,238\\n           <img src=\"//www.dolarhoje.net.br/imagens/seta-desce.png\"/>\\n           -0.339%\\n          </p>\\n          <p>\\n           20/04/2020 - R$ 5,308\\n           <img src=\"//www.dolarhoje.net.br/imagens/seta-sobe.png\"/>\\n           1.327%\\n          </p>\\n          <p>\\n           21/04/2020 - R$ 5,308\\n           <img src=\"//www.dolarhoje.net.br/imagens/seta-sobe.png\"/>\\n           0%\\n          </p>\\n          <p>\\n           22/04/2020 - R$ 5,409\\n           <img src=\"//www.dolarhoje.net.br/imagens/seta-sobe.png\"/>\\n           1.91%\\n          </p>\\n          <p>\\n           23/04/2020 - R$ 5,529\\n           <img src=\"//www.dolarhoje.net.br/imagens/seta-sobe.png\"/>\\n           2.206%\\n          </p>\\n          <p>\\n           24/04/2020 - R$ 5,657\\n           <img src=\"//www.dolarhoje.net.br/imagens/seta-sobe.png\"/>\\n           2.33%\\n          </p>\\n          <p>\\n           27/04/2020 - R$ 5,658\\n           <img src=\"//www.dolarhoje.net.br/imagens/seta-sobe.png\"/>\\n           0.014%\\n          </p>\\n          <p>\\n           28/04/2020 - R$ 5,515\\n           <img src=\"//www.dolarhoje.net.br/imagens/seta-desce.png\"/>\\n           -2.529%\\n          </p>\\n          <p>\\n           29/04/2020 - R$ 5,358\\n           <img src=\"//www.dolarhoje.net.br/imagens/seta-desce.png\"/>\\n           -2.843%\\n          </p>\\n          <p>\\n           30/04/2020 - R$ 5,440\\n           <img src=\"//www.dolarhoje.net.br/imagens/seta-sobe.png\"/>\\n           1.521%\\n          </p>\\n         </div>\\n         <div class=\"e\">\\n          <p class=\"silver\">\\n           <strong>\\n            Maio\\n           </strong>\\n          </p>\\n          <p>\\n           01/05/2020 - R$ 5,440\\n           <img src=\"//www.dolarhoje.net.br/imagens/seta-sobe.png\"/>\\n           0%\\n          </p>\\n          <p>\\n           04/05/2020 - R$ 5,521\\n           <img src=\"//www.dolarhoje.net.br/imagens/seta-sobe.png\"/>\\n           1.491%\\n          </p>\\n          <p>\\n           05/05/2020 - R$ 5,593\\n           <img src=\"//www.dolarhoje.net.br/imagens/seta-sobe.png\"/>\\n           1.313%\\n          </p>\\n          <p>\\n           06/05/2020 - R$ 5,703\\n           <img src=\"//www.dolarhoje.net.br/imagens/seta-sobe.png\"/>\\n           1.961%\\n          </p>\\n          <p>\\n           07/05/2020 - R$ 5,846\\n           <img src=\"//www.dolarhoje.net.br/imagens/seta-sobe.png\"/>\\n           2.506%\\n          </p>\\n          <p>\\n           08/05/2020 - R$ 5,743\\n           <img src=\"//www.dolarhoje.net.br/imagens/seta-desce.png\"/>\\n           -1.764%\\n          </p>\\n          <p>\\n           11/05/2020 - R$ 5,819\\n           <img src=\"//www.dolarhoje.net.br/imagens/seta-sobe.png\"/>\\n           1.33%\\n          </p>\\n          <p>\\n           12/05/2020 - R$ 5,869\\n           <img src=\"//www.dolarhoje.net.br/imagens/seta-sobe.png\"/>\\n           0.858%\\n          </p>\\n          <p>\\n           13/05/2020 - R$ 5,901\\n           <img src=\"//www.dolarhoje.net.br/imagens/seta-sobe.png\"/>\\n           0.538%\\n          </p>\\n          <p>\\n           14/05/2020 - R$ 5,819\\n           <img src=\"//www.dolarhoje.net.br/imagens/seta-desce.png\"/>\\n           -1.391%\\n          </p>\\n          <p>\\n           15/05/2020 - R$ 5,838\\n           <img src=\"//www.dolarhoje.net.br/imagens/seta-sobe.png\"/>\\n           0.34%\\n          </p>\\n          <p>\\n           18/05/2020 - R$ 5,717\\n           <img src=\"//www.dolarhoje.net.br/imagens/seta-desce.png\"/>\\n           -2.086%\\n          </p>\\n          <p>\\n           19/05/2020 - R$ 5,756\\n           <img src=\"//www.dolarhoje.net.br/imagens/seta-sobe.png\"/>\\n           0.694%\\n          </p>\\n          <p>\\n           20/05/2020 - R$ 5,688\\n           <img src=\"//www.dolarhoje.net.br/imagens/seta-desce.png\"/>\\n           -1.195%\\n          </p>\\n          <p>\\n           21/05/2020 - R$ 5,581\\n           <img src=\"//www.dolarhoje.net.br/imagens/seta-desce.png\"/>\\n           -1.871%\\n          </p>\\n          <p>\\n           22/05/2020 - R$ 5,584\\n           <img src=\"//www.dolarhoje.net.br/imagens/seta-sobe.png\"/>\\n           0.056%\\n          </p>\\n          <p>\\n           25/05/2020 - R$ 5,459\\n           <img src=\"//www.dolarhoje.net.br/imagens/seta-desce.png\"/>\\n           -2.247%\\n          </p>\\n          <p>\\n           26/05/2020 - R$ 5,349\\n           <img src=\"//www.dolarhoje.net.br/imagens/seta-desce.png\"/>\\n           -2.004%\\n          </p>\\n          <p>\\n           27/05/2020 - R$ 5,282\\n           <img src=\"//www.dolarhoje.net.br/imagens/seta-desce.png\"/>\\n           -1.253%\\n          </p>\\n          <p>\\n           28/05/2020 - R$ 5,381\\n           <img src=\"//www.dolarhoje.net.br/imagens/seta-sobe.png\"/>\\n           1.872%\\n          </p>\\n          <p>\\n           29/05/2020 - R$ 5,336\\n           <img src=\"//www.dolarhoje.net.br/imagens/seta-desce.png\"/>\\n           -0.833%\\n          </p>\\n         </div>\\n         <div class=\"e\">\\n          <p class=\"silver\">\\n           <strong>\\n            Junho\\n           </strong>\\n          </p>\\n          <p>\\n           01/06/2020 - R$ 5,387\\n           <img src=\"//www.dolarhoje.net.br/imagens/seta-sobe.png\"/>\\n           0.944%\\n          </p>\\n          <p>\\n           02/06/2020 - R$ 5,212\\n           <img src=\"//www.dolarhoje.net.br/imagens/seta-desce.png\"/>\\n           -3.252%\\n          </p>\\n          <p>\\n           03/06/2020 - R$ 5,093\\n           <img src=\"//www.dolarhoje.net.br/imagens/seta-desce.png\"/>\\n           -2.285%\\n          </p>\\n          <p>\\n           04/06/2020 - R$ 5,130\\n           <img src=\"//www.dolarhoje.net.br/imagens/seta-sobe.png\"/>\\n           0.73%\\n          </p>\\n          <p>\\n           05/06/2020 - R$ 4,993\\n           <img src=\"//www.dolarhoje.net.br/imagens/seta-desce.png\"/>\\n           -2.665%\\n          </p>\\n          <p>\\n           08/06/2020 - R$ 4,854\\n           <img src=\"//www.dolarhoje.net.br/imagens/seta-desce.png\"/>\\n           -2.786%\\n          </p>\\n          <p>\\n           09/06/2020 - R$ 4,888\\n           <img src=\"//www.dolarhoje.net.br/imagens/seta-sobe.png\"/>\\n           0.707%\\n          </p>\\n          <p>\\n           10/06/2020 - R$ 4,862\\n           <img src=\"//www.dolarhoje.net.br/imagens/seta-desce.png\"/>\\n           -0.544%\\n          </p>\\n          <h2>\\n           Variação do dólar\\n          </h2>\\n          <p>\\n           Como podemos perceber, o valor do dólar comercial mudou muito desde a implantação do plano real, e isso se deve ao câmbio flutuante que temos onde o valor da moeda é fixada conforme movimentação do mercado, onde há mais ou menos procura pela moeda americana.\\n          </p>\\n          <p>\\n           Em tempos de crise, mesmo que seja em outro pais, a cotação do dólar pode subir, pois empresas vão preferir investir em países que trazem mais segurança como os Estados Unidos, se a crise for no Brasil a situação pode ser ainda pior devido a pouco entrada da moeda americana, o que faz o valor dela subir\\n          </p>\\n         </div>\\n        </div>\\n        <div data-nonce=\"29dbca4790\" itemscope=\"\" itemtype=\"http://schema.org/Article\">\\n         <meta content=\"Dólar Turismo\" itemprop=\"headline\"/>\\n         <meta content=\"Dólar Comercial hoje - valor da cotação da moeda americana voltada para o comércio.\" itemprop=\"description\"/>\\n         <span itemprop=\"name\">\\n          Dólar Comercial hoje\\n         </span>\\n         por\\n         <span itemprop=\"author\">\\n          Dólar Hoje\\n         </span>\\n         <meta content=\"2015-05-20\" itemprop=\"datePublished\"/>\\n         <meta content=\"//www.dolarhoje.net.br/dolarturismo.php\" itemprop=\"url\"/>\\n         <div itemprop=\"aggregateRating\" itemscope=\"\" itemtype=\"http://schema.org/AggregateRating\" style=\"display: none;\">\\n          <meta content=\"5\" itemprop=\"bestRating\"/>\\n          <meta content=\"1\" itemprop=\"worstRating\"/>\\n          <meta content=\"3.87\" itemprop=\"ratingValue\"/>\\n          <meta content=\"6117\" itemprop=\"ratingCount\"/>\\n         </div>\\n        </div>\\n       </div>\\n      </div>\\n     </div>\\n     <div class=\"col-lg-2 col-md-2 col-sm-2\">\\n      <div class=\"content_middle_rightbar\">\\n       <div class=\"single_category wow fadeInDown\">\\n        <div>\\n         <!-- dolar responsivo -->\\n        </div>\\n       </div>\\n      </div>\\n     </div>\\n    </div>\\n    <!-- <span id=\"ezoic-pub-ad-placeholder-119\" class=\"ezoic-adpicker-ad\" data-ezadblocked=\\'true\\'></span> -->\\n    <!-- placeholder 119 blocked.  Reason : no sizes -->\\n   </section>\\n   <span class=\"ezoic-adpicker-ad\" id=\"ezoic-pub-ad-placeholder-117\">\\n   </span>\\n   <span class=\"ezoic-ad medrectangle-1 adtester-container adtester-container-117\" data-ez-name=\"dolarhoje_net_br-medrectangle-1\" style=\"display:inline-block;float:none;margin-bottom:35px !important;margin-left:75px !important;margin-right:0px !important;margin-top:35px !important;min-height:280px;min-width:336px;\">\\n    <span class=\"ezoic-ad\" ezah=\"280\" ezaw=\"336\" id=\"div-gpt-ad-dolarhoje_net_br-medrectangle-1-0\" style=\"position:relative;z-index:0;display:inline-block;min-height:280px;min-width:336px;\">\\n     <script data-cfasync=\"false\" data-ezscrex=\"false\" style=\"display:none;\" type=\"text/javascript\">\\n      eval(ez_write_tag([[336,280],\\'dolarhoje_net_br-medrectangle-1\\',\\'ezslot_4\\',117,\\'0\\',\\'0\\']));\\n     </script>\\n    </span>\\n    <span class=\"reportline\" style=\"width:336px;display:block;height:14px;margin:auto\">\\n     <span style=\"text-align:center;font-size: smaller;float:left;line-height:normal;\">\\n      <a href=\"https://www.ezoic.com/what-is-ezoic/\" rel=\"noopener noreferrer nofollow\" style=\"cursor:pointer\" target=\"_blank\">\\n      </a>\\n      <img src=\"https://go.ezoic.net/utilcave_com/img/ezoic.png\" style=\"height:12px !important; padding:2px !important; border:0px !important; cursor:pointer !important; width: 58px !important; margin:0 !important; box-sizing: content-box !important;\"/>\\n     </span>\\n    </span>\\n   </span>\\n  </div>\\n </body>\\n</html>\\n<span class=\"ez-report-ad-button\" name=\"?pageview_id=194f8ef5-ada2-463f-7335-a281e98e49cc&amp;ad_position_id=117&amp;impression_group_id=dolarhoje_net_br-medrectangle-1/2020-06-10/646479&amp;ad_size=336x280&amp;domain_id=187851&amp;url=https://www.dolarhoje.net.br/dolar-comercial/\" style=\"cursor: pointer!important; font-size:12px !important;color: #a5a5a5 ;float:right;text-decoration:none !important;font-family:arial !important;line-height:normal;\">\\n report this ad\\n</span>\\n<footer id=\"footer\">\\n <div class=\"footer_top\">\\n  <div class=\"container\">\\n   <div class=\"row\">\\n    <div class=\"col-lg-4 col-md-4 col-sm-4\">\\n     <div class=\"single_footer_top wow fadeInLeft\">\\n     </div>\\n    </div>\\n    <div class=\"col-lg-4 col-md-4 col-sm-4\">\\n     <div class=\"single_footer_top wow fadeInDown\">\\n     </div>\\n    </div>\\n    <div class=\"col-lg-4 col-md-4 col-sm-4\">\\n     <div class=\"single_footer_top wow fadeInRight\">\\n      <h2>\\n       Sobre nós\\n      </h2>\\n      <p>\\n       Cotação de moedas estrangeiras com valores atualizados a todo momento. Dólar, Euro, Pesos, e muito mais\\n      </p>\\n     </div>\\n    </div>\\n   </div>\\n  </div>\\n </div>\\n <div class=\"footer_bottom\">\\n  <div class=\"container\">\\n   <div class=\"row\">\\n    <div class=\"col-lg-6 col-md-6 col-sm-6 col-xs-12\">\\n     <div class=\"footer_bottom_left\">\\n      <p>\\n       Copyright © 2017\\n       <a href=\"//www.dolarhoje.net.br/\">\\n        Dólar Hoje\\n       </a>\\n      </p>\\n     </div>\\n    </div>\\n    <div class=\"col-lg-6 col-md-6 col-sm-6 col-xs-12\">\\n     <div class=\"footer_bottom_right\">\\n     </div>\\n    </div>\\n   </div>\\n  </div>\\n </div>\\n</footer>\\n<script async=\"\" src=\"//assets/js/jquery.min.js\">\\n</script>\\n<script async=\"\" src=\"/assets/js/bootstrap.min.js\">\\n</script>\\n<script async=\"\" src=\"/assets/js/wow.min.js\">\\n</script>\\n<script async=\"\" src=\"/assets/js/slick.min.js\">\\n</script>\\n<script async=\"\" src=\"/assets/js/custom.js\">\\n</script>\\n<script>\\n (function(i,s,o,g,r,a,m){i[\\'GoogleAnalyticsObject\\']=r;i[r]=i[r]||function(){\\n  (i[r].q=i[r].q||[]).push(arguments)},i[r].l=1*new Date();a=s.createElement(o),\\n  m=s.getElementsByTagName(o)[0];a.async=1;a.src=g;m.parentNode.insertBefore(a,m)\\n  })(window,document,\\'script\\',\\'//www.google-analytics.com/analytics.js\\',\\'ga\\');\\n\\n  ga(\\'create\\', \\'UA-6425016-24\\', \\'auto\\');\\n  ga(\\'send\\', \\'pageview\\');\\n</script>\\n<script async=\"true\" src=\"//carnage1301.spider.ad?id=40820\" type=\"text/javascript\">\\n</script>\\n<!-- Ezoic - Anchor Ad - bottom_floating -->\\n<div class=\"ezmob-footer ezoic-floating-bottom ezo_ad ezmob-footer-desktop\" id=\"ezmobfooter\">\\n <center>\\n  <span id=\"ezoic-pub-ad-placeholder-100\">\\n  </span>\\n  <!-- Ezoic - Anchor Ad - bottom_floating -->\\n  <div class=\"ezmob-footer ezoic-floating-bottom ezo_ad ezmob-footer-desktop\" id=\"ezmobfooter\">\\n   <center>\\n    <span class=\"ezoic-ad medrectangle-2 adtester-container adtester-container-100\" data-ez-name=\"dolarhoje_net_br-medrectangle-2\" style=\"display:inline-block;float:none;margin-bottom:2px !important;margin-left:0px !important;margin-right:0px !important;margin-top:2px !important;min-height:90px;min-width:970px;\">\\n     <span class=\"ezoic-ad ezoic-adl\" ezah=\"90\" ezaw=\"970\" id=\"div-gpt-ad-dolarhoje_net_br-medrectangle-2-0\" style=\"position:relative;z-index:0;display:inline-block;min-height:90px;min-width:970px;\">\\n      <script data-cfasync=\"false\" data-ezscrex=\"false\" style=\"display:none;\" type=\"text/javascript\">\\n       eval(ez_write_tag([[970,90],\\'dolarhoje_net_br-medrectangle-2\\',\\'ezslot_0\\',100,\\'0\\',\\'0\\']));\\n      </script>\\n     </span>\\n    </span>\\n   </center>\\n   <span class=\"ezmob-footer-close\" onclick=\"document.getElementById(\\'ezmobfooter\\').style.display=\\'none\\';\">\\n    x\\n   </span>\\n  </div>\\n  <!-- End Ezoic - Anchor Ad - bottom_floating -->\\n </center>\\n <span class=\"ezmob-footer-close\" onclick=\"document.getElementById(\\'ezmobfooter\\').style.display=\\'none\\';\">\\n  x\\n </span>\\n</div>\\n<!-- End Ezoic - Anchor Ad - bottom_floating -->\\n<script>\\n var __ez_tkn_evnt = function() { if(typeof(_ezaq) != \\'undefined\\'){if(window.ezogtk != \"\") {__ez.bit.AddAndFire(_ezaq.page_view_id,[new __ezDotData(\"ext_user_hash\",window.ezogtk)]);}}};document.addEventListener(\"DOMContentLoaded\", __ez_tkn_evnt);\\n</script>\\n<script async=\"\" style=\"display:none;\" type=\"text/javascript\">\\n __ez.queue.addFile(\\'anchorfix.js\\', \\'/ezoic/anchorfix.js?cb=188-0\\', false, [], true, true, true, false);\\n</script>\\n<script type=\"text/javascript\">\\n (function(f,a){function g(b,a,c){b.addEventListener?b.addEventListener(a,c):b.attachEvent(\"on\"+a,function(){c.call(b)})}function k(b){b&&(\"string\"==typeof b[\"class\"]&&b[\"class\"]&&a.getElementById(\"uglipop_popbox\").setAttribute(\"class\",b[\"class\"]),b.keepLayout&&!b[\"class\"]&&a.getElementById(\"uglipop_popbox\").setAttribute(\"style\",\"position:relative;height:300px;width:300px;background-color:white;opacity:1;\"),\"string\"==typeof b.content&&b.content&&\"html\"==b.source&&(a.getElementById(\"uglipop_popbox\").innerHTML=b.content),\"string\"==typeof b.content&&b.content&&\"div\"==b.source&&(a.getElementById(\"uglipop_popbox\").innerHTML=a.getElementById(b.content).innerHTML));a.getElementById(\"uglipop_overlay_wrapper\").style.display=\"\";a.getElementById(\"uglipop_overlay\").style.display=\"\";a.getElementById(\"uglipop_content_fixed\").style.display=\"\"}function h(){a.getElementById(\"uglipop_overlay_wrapper\").style.display=\"none\";a.getElementById(\"uglipop_overlay\").style.display=\"none\";a.getElementById(\"uglipop_content_fixed\").style.display=\"none\"}g(a,\"DOMContentLoaded\",function(){var b=a.createElement(\"div\"),e=a.createElement(\"div\"),c=a.createElement(\"div\"),d=a.createElement(\"div\");e.id=\"uglipop_content_fixed\";e.setAttribute(\"style\",\"position:fixed;top: 50%;left: 50%;transform: translate(-50%, -50%);-webkit-transform: translate(-50%, -50%);-ms-transform: translate(-50%, -50%);opacity:1;z-index:10000000;\");c.id=\"uglipop_popbox\";d.id=\"uglipop_overlay_wrapper\";d.setAttribute(\"style\",\"position:absolute;top:0;bottom:0;left:0;right:0;display:none\");b.id=\"uglipop_overlay\";b.setAttribute(\"style\",\"position:fixed;top:0;bottom:0;left:0;right:0;opacity:0.3;width:100%;height:100%;background-color:black;\");d.appendChild(b);e.appendChild(c);a.body.appendChild(d);a.body.appendChild(e);a.getElementById(\"uglipop_overlay_wrapper\").style.display=\"none\";a.getElementById(\"uglipop_overlay\").style.display=\"none\";a.getElementById(\"uglipop_content_fixed\").style.display=\"none\";d.addEventListener(\"click\",h);g(f,\"keydown\",function(a){27==a.keyCode&&h()});f.uglipop=k})})(window,document);\\n\\t\\t\\tvar ezRBA = (function() {\\n\\t\\t\\t  function init() {\\n\\t\\t\\t\\tvar reportAdsBtns = document.querySelectorAll(\\'.ez-report-ad-button\\');\\n\\t\\t\\t\\tfor (var i = 0; i < reportAdsBtns.length; i++) {\\n\\t\\t\\t\\t  reportAdsBtns[i].addEventListener(\\'click\\', function(e) {\\n\\t\\t\\t\\t\\tvar url = \\'<iframe src=\"https://ezoic.com/pub/reportads/reportads.html\\' + e.target.getAttribute(\\'name\\') + \\'\" width=\"400\" height=\"500\" style=\"border-radius: 10px; box-shadow: 2px 2px 30px 6px rgba(0,0,0,0.75); border: 1px solid black;\"></iframe>\\'\\n\\t\\t\\t\\t\\tuglipop({\\n\\t\\t\\t\\t\\t  class: \\'none\\',\\n\\t\\t\\t\\t\\t  source: \\'html\\',\\n\\t\\t\\t\\t\\t  content: url,\\n\\t\\t\\t\\t\\t});\\n\\t\\t\\t\\t  });\\n\\t\\t\\t\\t}\\n\\t\\t\\t\\tfunction bindEvent(element, eventName, eventHandler) {\\n\\t\\t\\t\\t\\tif (element.addEventListener) {\\n\\t\\t\\t\\t\\t\\telement.addEventListener(eventName, eventHandler, false);\\n\\t\\t\\t\\t\\t} else if (element.attachEvent) {\\n\\t\\t\\t\\t\\t\\telement.attachEvent(\\'on\\' + eventName, eventHandler);\\n\\t\\t\\t\\t\\t}\\n\\t\\t\\t\\t}\\n\\t\\t\\t\\tbindEvent(window, \\'message\\', function(e) {\\n\\t\\t\\t\\t\\tif (e.data === \\'close-report-ad-modal\\') {\\n\\t\\t\\t\\t\\t\\tdocument.getElementById(\\'uglipop_overlay_wrapper\\').style.display = \\'none\\';\\t\\n\\t\\t\\t\\t\\t\\tdocument.getElementById(\\'uglipop_overlay\\').style.display = \\'none\\';\\t\\n\\t\\t\\t\\t\\t\\tdocument.getElementById(\\'uglipop_content_fixed\\').style.display = \\'none\\';\\t\\n\\t\\t\\t\\t\\t}\\n\\t\\t\\t\\t})\\n\\t\\t\\t  }\\n\\n\\t\\t\\t  return {\\n\\t\\t\\t\\tinit: init\\n\\t\\t\\t  };\\n\\t\\t\\t})();\\n\\t\\t\\tezRBA.init();\\n</script>\\n<script data-cfasync=\"false\" type=\"text/javascript\">\\n</script>\\n<script style=\"display:none;\" type=\"text/javascript\">\\n var __ez_dims = (function() {\\n\\tvar setCookie = function( name, content, expiry ) {\\n\\t\\treturn document.cookie = name+\\'=\\'+content+((expiry)?\\';expires=\\'+(new Date(Math.floor(new Date().getTime()+expiry*1000)).toUTCString()):\\'\\')+\\';path=/\\';\\n\\t};\\n\\tvar ffid = 1;\\n\\tvar oh = window.screen.height;\\n\\tvar ow = window.screen.width;\\n\\tvar h = ffid === 1 ? oh : (oh > ow) ? oh : ow;\\n\\tvar w = ffid === 1 ? ow : (oh > ow) ? ow : oh;\\n\\tvar uh = window.innerHeight || document.documentElement.clientHeight || document.getElementsByTagName(\\'body\\')[0].clientHeight;\\n\\tvar uw = window.innerWidth || document.documentElement.clientWidth || document.getElementsByTagName(\\'body\\')[0].clientWidth;\\n\\tsetCookie(\\'ezds\\', encodeURIComponent(\\'ffid=\\'+ffid+\\',w=\\'+w+\\',h=\\'+h), (31536e3*7));\\n\\tsetCookie(\\'ezohw\\', encodeURIComponent(\\'w=\\'+uw+\\',h=\\'+uh), (31536e3*7));\\n})();\\n</script>\\n<script async=\"\" style=\"display:none;\" type=\"text/javascript\">\\n __ez.queue.addFile(\\'edmonton.php\\', \\'/detroitchicago/edmonton.webp?a=a&cb=188-0&shcb=32\\', true, [], true, false, false, false);\\n__ez.queue.addFile(\\'jellyfish.php\\', \\'/porpoiseant/jellyfish.webp?a=a&cb=188-0&shcb=32\\', false, [], true, false, false, false);\\n</script>\\n<script>\\n var _audins_dom=\"dolarhoje_net_br\",_audins_did=187851;__ez.queue.addDelayFunc(\"audins.js\",\"__ez.script.add\", \"//go.ezoic.net/detroitchicago/audins.js?cb=188-0\");\\n</script>\\n<noscript>\\n <div style=\"display:none;\">\\n  <img alt=\"Quantcast\" border=\"0\" height=\"1\" src=\"//pixel.quantserve.com/pixel/p-31iz6hfFutd16.gif?labels=Domain.dolarhoje_net_br,DomainId.187851\" width=\"1\"/>\\n </div>\\n</noscript>\\n<noscript>\\n <img src=\"https://sb.scorecardresearch.com/p?c1=2&amp;c2=20015427&amp;cv=2.0&amp;cj=1\"/>\\n</noscript>\\n<!--[selectron:done]-->\\n'"
      ]
     },
     "execution_count": 3,
     "metadata": {},
     "output_type": "execute_result"
    }
   ],
   "source": [
    "# Criamos um objeto BeautifulSoup para conseguir raspar os dados\n",
    "soup = BeautifulSoup(page.content, 'html.parser')\n",
    "\n",
    "soup.prettify() # Podemos usar o prettify() para exibir o conteúdo da página de maneira mais legível"
   ]
  },
  {
   "cell_type": "code",
   "execution_count": 4,
   "metadata": {},
   "outputs": [
    {
     "data": {
      "text/plain": [
       "[<div class=\"e\">\n",
       " </div>,\n",
       " <div class=\"e\"><p class=\"silver\"><strong>Janeiro</strong></p><p>02/01/2020 - R$ 4,023  </p><p>03/01/2020 - R$ 4,056 <img src=\"//www.dolarhoje.net.br/imagens/seta-sobe.png\"/> 0.815%</p><p>06/01/2020 - R$ 4,062 <img src=\"//www.dolarhoje.net.br/imagens/seta-sobe.png\"/> 0.148%</p><p>07/01/2020 - R$ 4,065 <img src=\"//www.dolarhoje.net.br/imagens/seta-sobe.png\"/> 0.062%</p><p>08/01/2020 - R$ 4,052 <img src=\"//www.dolarhoje.net.br/imagens/seta-desce.png\"/> -0.312%</p><p>09/01/2020 - R$ 4,085 <img src=\"//www.dolarhoje.net.br/imagens/seta-sobe.png\"/> 0.822%</p><p>10/01/2020 - R$ 4,092 <img src=\"//www.dolarhoje.net.br/imagens/seta-sobe.png\"/> 0.176%</p><p>13/01/2020 - R$ 4,141 <img src=\"//www.dolarhoje.net.br/imagens/seta-sobe.png\"/> 1.195%</p><p>14/01/2020 - R$ 4,130 <img src=\"//www.dolarhoje.net.br/imagens/seta-desce.png\"/> -0.28%</p><p>15/01/2020 - R$ 4,184 <img src=\"//www.dolarhoje.net.br/imagens/seta-sobe.png\"/> 1.325%</p><p>16/01/2020 - R$ 4,193 <img src=\"//www.dolarhoje.net.br/imagens/seta-sobe.png\"/> 0.201%</p><p>17/01/2020 - R$ 4,165 <img src=\"//www.dolarhoje.net.br/imagens/seta-desce.png\"/> -0.658%</p><p>20/01/2020 - R$ 4,189 <img src=\"//www.dolarhoje.net.br/imagens/seta-sobe.png\"/> 0.564%</p><p>21/01/2020 - R$ 4,205 <img src=\"//www.dolarhoje.net.br/imagens/seta-sobe.png\"/> 0.392%</p><p>22/01/2020 - R$ 4,175 <img src=\"//www.dolarhoje.net.br/imagens/seta-desce.png\"/> -0.706%</p><p>23/01/2020 - R$ 4,166 <img src=\"//www.dolarhoje.net.br/imagens/seta-desce.png\"/> -0.225%</p><p>24/01/2020 - R$ 4,184 <img src=\"//www.dolarhoje.net.br/imagens/seta-sobe.png\"/> 0.432%</p><p>27/01/2020 - R$ 4,209 <img src=\"//www.dolarhoje.net.br/imagens/seta-sobe.png\"/> 0.605%</p><p>28/01/2020 - R$ 4,193 <img src=\"//www.dolarhoje.net.br/imagens/seta-desce.png\"/> -0.38%</p><p>29/01/2020 - R$ 4,219 <img src=\"//www.dolarhoje.net.br/imagens/seta-sobe.png\"/> 0.622%</p><p>30/01/2020 - R$ 4,257 <img src=\"//www.dolarhoje.net.br/imagens/seta-sobe.png\"/> 0.903%</p><p>31/01/2020 - R$ 4,285 <img src=\"//www.dolarhoje.net.br/imagens/seta-sobe.png\"/> 0.648%</p></div>,\n",
       " <div class=\"e\"><p class=\"silver\"><strong>Fevereiro</strong></p><p>03/02/2020 - R$ 4,249 <img src=\"//www.dolarhoje.net.br/imagens/seta-desce.png\"/> -0.838%</p><p>04/02/2020 - R$ 4,258 <img src=\"//www.dolarhoje.net.br/imagens/seta-sobe.png\"/> 0.209%</p><p>05/02/2020 - R$ 4,239 <img src=\"//www.dolarhoje.net.br/imagens/seta-desce.png\"/> -0.446%</p><p>06/02/2020 - R$ 4,285 <img src=\"//www.dolarhoje.net.br/imagens/seta-sobe.png\"/> 1.078%</p><p>07/02/2020 - R$ 4,320 <img src=\"//www.dolarhoje.net.br/imagens/seta-sobe.png\"/> 0.819%</p><p>10/02/2020 - R$ 4,322 <img src=\"//www.dolarhoje.net.br/imagens/seta-sobe.png\"/> 0.06%</p><p>11/02/2020 - R$ 4,327 <img src=\"//www.dolarhoje.net.br/imagens/seta-sobe.png\"/> 0.104%</p><p>12/02/2020 - R$ 4,351 <img src=\"//www.dolarhoje.net.br/imagens/seta-sobe.png\"/> 0.545%</p><p>13/02/2020 - R$ 4,334 <img src=\"//www.dolarhoje.net.br/imagens/seta-desce.png\"/> -0.382%</p><p>14/02/2020 - R$ 4,300 <img src=\"//www.dolarhoje.net.br/imagens/seta-desce.png\"/> -0.789%</p><p>17/02/2020 - R$ 4,329 <img src=\"//www.dolarhoje.net.br/imagens/seta-sobe.png\"/> 0.681%</p><p>18/02/2020 - R$ 4,357 <img src=\"//www.dolarhoje.net.br/imagens/seta-sobe.png\"/> 0.642%</p><p>19/02/2020 - R$ 4,365 <img src=\"//www.dolarhoje.net.br/imagens/seta-sobe.png\"/> 0.188%</p><p>20/02/2020 - R$ 4,392 <img src=\"//www.dolarhoje.net.br/imagens/seta-sobe.png\"/> 0.612%</p><p>21/02/2020 - R$ 4,393 <img src=\"//www.dolarhoje.net.br/imagens/seta-sobe.png\"/> 0.02%</p><p>24/02/2020 - R$ 4,393 <img src=\"//www.dolarhoje.net.br/imagens/seta-sobe.png\"/> 0%</p><p>25/02/2020 - R$ 4,393 <img src=\"//www.dolarhoje.net.br/imagens/seta-sobe.png\"/> 0%</p><p>26/02/2020 - R$ 4,441 <img src=\"//www.dolarhoje.net.br/imagens/seta-sobe.png\"/> 1.095%</p><p>27/02/2020 - R$ 4,476 <img src=\"//www.dolarhoje.net.br/imagens/seta-sobe.png\"/> 0.804%</p><p>28/02/2020 - R$ 4,481 <img src=\"//www.dolarhoje.net.br/imagens/seta-sobe.png\"/> 0.101%</p></div>,\n",
       " <div class=\"e\"><p class=\"silver\"><strong>Março</strong></p><p>02/03/2020 - R$ 4,481 <img src=\"//www.dolarhoje.net.br/imagens/seta-desce.png\"/> -0.007%</p><p>03/03/2020 - R$ 4,479 <img src=\"//www.dolarhoje.net.br/imagens/seta-desce.png\"/> -0.047%</p><p>09/03/2020 - R$ 4,742 <img src=\"//www.dolarhoje.net.br/imagens/seta-sobe.png\"/> 5.893%</p><p>10/03/2020 - R$ 4,645 <img src=\"//www.dolarhoje.net.br/imagens/seta-desce.png\"/> -2.06%</p><p>11/03/2020 - R$ 4,722 <img src=\"//www.dolarhoje.net.br/imagens/seta-sobe.png\"/> 1.653%</p><p>12/03/2020 - R$ 4,788 <img src=\"//www.dolarhoje.net.br/imagens/seta-sobe.png\"/> 1.413%</p><p>13/03/2020 - R$ 4,813 <img src=\"//www.dolarhoje.net.br/imagens/seta-sobe.png\"/> 0.512%</p><p>16/03/2020 - R$ 5,061 <img src=\"//www.dolarhoje.net.br/imagens/seta-sobe.png\"/> 4.848%</p><p>17/03/2020 - R$ 5,006 <img src=\"//www.dolarhoje.net.br/imagens/seta-desce.png\"/> -1.099%</p><p>18/03/2020 - R$ 5,196 <img src=\"//www.dolarhoje.net.br/imagens/seta-sobe.png\"/> 3.794%</p><p>19/03/2020 - R$ 5,098 <img src=\"//www.dolarhoje.net.br/imagens/seta-desce.png\"/> -1.88%</p><p>20/03/2020 - R$ 5,026 <img src=\"//www.dolarhoje.net.br/imagens/seta-desce.png\"/> -1.408%</p><p>23/03/2020 - R$ 5,135 <img src=\"//www.dolarhoje.net.br/imagens/seta-sobe.png\"/> 1.436%</p><p>24/03/2020 - R$ 5,081 <img src=\"//www.dolarhoje.net.br/imagens/seta-desce.png\"/> -1.048%</p><p>25/03/2020 - R$ 5,033 <img src=\"//www.dolarhoje.net.br/imagens/seta-desce.png\"/> -0.958%</p><p>26/03/2020 - R$ 4,999 <img src=\"//www.dolarhoje.net.br/imagens/seta-desce.png\"/> -0.674%</p><p>27/03/2020 - R$ 5,104 <img src=\"//www.dolarhoje.net.br/imagens/seta-sobe.png\"/> 2.101%</p><p>30/03/2020 - R$ 5,180 <img src=\"//www.dolarhoje.net.br/imagens/seta-sobe.png\"/> 1.497%</p><p>31/03/2020 - R$ 5,196 <img src=\"//www.dolarhoje.net.br/imagens/seta-sobe.png\"/> 0.305%</p></div>,\n",
       " <div class=\"e\"><p class=\"silver\"><strong>Abril</strong></p><p>01/04/2020 - R$ 5,262 <img src=\"//www.dolarhoje.net.br/imagens/seta-sobe.png\"/> 1.278%</p><p>02/04/2020 - R$ 5,265 <img src=\"//www.dolarhoje.net.br/imagens/seta-sobe.png\"/> 0.053%</p><p>03/04/2020 - R$ 5,327 <img src=\"//www.dolarhoje.net.br/imagens/seta-sobe.png\"/> 1.181%</p><p>06/04/2020 - R$ 5,294 <img src=\"//www.dolarhoje.net.br/imagens/seta-desce.png\"/> -0.627%</p><p>07/04/2020 - R$ 5,225 <img src=\"//www.dolarhoje.net.br/imagens/seta-desce.png\"/> -1.301%</p><p>08/04/2020 - R$ 5,141 <img src=\"//www.dolarhoje.net.br/imagens/seta-desce.png\"/> -1.604%</p><p>09/04/2020 - R$ 5,093 <img src=\"//www.dolarhoje.net.br/imagens/seta-desce.png\"/> -0.947%</p><p>10/04/2020 - R$ 5,093 <img src=\"//www.dolarhoje.net.br/imagens/seta-desce.png\"/> 0%</p><p>13/04/2020 - R$ 5,180 <img src=\"//www.dolarhoje.net.br/imagens/seta-sobe.png\"/> 1.72%</p><p>14/04/2020 - R$ 5,189 <img src=\"//www.dolarhoje.net.br/imagens/seta-sobe.png\"/> 0.162%</p><p>15/04/2020 - R$ 5,242 <img src=\"//www.dolarhoje.net.br/imagens/seta-sobe.png\"/> 1.029%</p><p>16/04/2020 - R$ 5,256 <img src=\"//www.dolarhoje.net.br/imagens/seta-sobe.png\"/> 0.269%</p><p>17/04/2020 - R$ 5,238 <img src=\"//www.dolarhoje.net.br/imagens/seta-desce.png\"/> -0.339%</p><p>20/04/2020 - R$ 5,308 <img src=\"//www.dolarhoje.net.br/imagens/seta-sobe.png\"/> 1.327%</p><p>21/04/2020 - R$ 5,308 <img src=\"//www.dolarhoje.net.br/imagens/seta-sobe.png\"/> 0%</p><p>22/04/2020 - R$ 5,409 <img src=\"//www.dolarhoje.net.br/imagens/seta-sobe.png\"/> 1.91%</p><p>23/04/2020 - R$ 5,529 <img src=\"//www.dolarhoje.net.br/imagens/seta-sobe.png\"/> 2.206%</p><p>24/04/2020 - R$ 5,657 <img src=\"//www.dolarhoje.net.br/imagens/seta-sobe.png\"/> 2.33%</p><p>27/04/2020 - R$ 5,658 <img src=\"//www.dolarhoje.net.br/imagens/seta-sobe.png\"/> 0.014%</p><p>28/04/2020 - R$ 5,515 <img src=\"//www.dolarhoje.net.br/imagens/seta-desce.png\"/> -2.529%</p><p>29/04/2020 - R$ 5,358 <img src=\"//www.dolarhoje.net.br/imagens/seta-desce.png\"/> -2.843%</p><p>30/04/2020 - R$ 5,440 <img src=\"//www.dolarhoje.net.br/imagens/seta-sobe.png\"/> 1.521%</p></div>,\n",
       " <div class=\"e\"><p class=\"silver\"><strong>Maio</strong></p><p>01/05/2020 - R$ 5,440 <img src=\"//www.dolarhoje.net.br/imagens/seta-sobe.png\"/> 0%</p><p>04/05/2020 - R$ 5,521 <img src=\"//www.dolarhoje.net.br/imagens/seta-sobe.png\"/> 1.491%</p><p>05/05/2020 - R$ 5,593 <img src=\"//www.dolarhoje.net.br/imagens/seta-sobe.png\"/> 1.313%</p><p>06/05/2020 - R$ 5,703 <img src=\"//www.dolarhoje.net.br/imagens/seta-sobe.png\"/> 1.961%</p><p>07/05/2020 - R$ 5,846 <img src=\"//www.dolarhoje.net.br/imagens/seta-sobe.png\"/> 2.506%</p><p>08/05/2020 - R$ 5,743 <img src=\"//www.dolarhoje.net.br/imagens/seta-desce.png\"/> -1.764%</p><p>11/05/2020 - R$ 5,819 <img src=\"//www.dolarhoje.net.br/imagens/seta-sobe.png\"/> 1.33%</p><p>12/05/2020 - R$ 5,869 <img src=\"//www.dolarhoje.net.br/imagens/seta-sobe.png\"/> 0.858%</p><p>13/05/2020 - R$ 5,901 <img src=\"//www.dolarhoje.net.br/imagens/seta-sobe.png\"/> 0.538%</p><p>14/05/2020 - R$ 5,819 <img src=\"//www.dolarhoje.net.br/imagens/seta-desce.png\"/> -1.391%</p><p>15/05/2020 - R$ 5,838 <img src=\"//www.dolarhoje.net.br/imagens/seta-sobe.png\"/> 0.34%</p><p>18/05/2020 - R$ 5,717 <img src=\"//www.dolarhoje.net.br/imagens/seta-desce.png\"/> -2.086%</p><p>19/05/2020 - R$ 5,756 <img src=\"//www.dolarhoje.net.br/imagens/seta-sobe.png\"/> 0.694%</p><p>20/05/2020 - R$ 5,688 <img src=\"//www.dolarhoje.net.br/imagens/seta-desce.png\"/> -1.195%</p><p>21/05/2020 - R$ 5,581 <img src=\"//www.dolarhoje.net.br/imagens/seta-desce.png\"/> -1.871%</p><p>22/05/2020 - R$ 5,584 <img src=\"//www.dolarhoje.net.br/imagens/seta-sobe.png\"/> 0.056%</p><p>25/05/2020 - R$ 5,459 <img src=\"//www.dolarhoje.net.br/imagens/seta-desce.png\"/> -2.247%</p><p>26/05/2020 - R$ 5,349 <img src=\"//www.dolarhoje.net.br/imagens/seta-desce.png\"/> -2.004%</p><p>27/05/2020 - R$ 5,282 <img src=\"//www.dolarhoje.net.br/imagens/seta-desce.png\"/> -1.253%</p><p>28/05/2020 - R$ 5,381 <img src=\"//www.dolarhoje.net.br/imagens/seta-sobe.png\"/> 1.872%</p><p>29/05/2020 - R$ 5,336 <img src=\"//www.dolarhoje.net.br/imagens/seta-desce.png\"/> -0.833%</p></div>,\n",
       " <div class=\"e\"><p class=\"silver\"><strong>Junho</strong></p><p>01/06/2020 - R$ 5,387 <img src=\"//www.dolarhoje.net.br/imagens/seta-sobe.png\"/> 0.944%</p><p>02/06/2020 - R$ 5,212 <img src=\"//www.dolarhoje.net.br/imagens/seta-desce.png\"/> -3.252%</p><p>03/06/2020 - R$ 5,093 <img src=\"//www.dolarhoje.net.br/imagens/seta-desce.png\"/> -2.285%</p><p>04/06/2020 - R$ 5,130 <img src=\"//www.dolarhoje.net.br/imagens/seta-sobe.png\"/> 0.73%</p><p>05/06/2020 - R$ 4,993 <img src=\"//www.dolarhoje.net.br/imagens/seta-desce.png\"/> -2.665%</p><p>08/06/2020 - R$ 4,854 <img src=\"//www.dolarhoje.net.br/imagens/seta-desce.png\"/> -2.786%</p><p>09/06/2020 - R$ 4,888 <img src=\"//www.dolarhoje.net.br/imagens/seta-sobe.png\"/> 0.707%</p><p>10/06/2020 - R$ 4,862 <img src=\"//www.dolarhoje.net.br/imagens/seta-desce.png\"/> -0.544%</p>\n",
       " <h2>Variação do dólar</h2>\n",
       " <p>Como podemos perceber, o valor do dólar comercial mudou muito desde a implantação do plano real, e isso se deve ao câmbio flutuante que temos onde o valor da moeda é fixada conforme movimentação do mercado, onde há mais ou menos procura pela moeda americana.</p>\n",
       " <p>Em tempos de crise, mesmo que seja em outro pais, a cotação do dólar pode subir, pois empresas vão preferir investir em países que trazem mais segurança como os Estados Unidos, se a crise for no Brasil a situação pode ser ainda pior devido a pouco entrada da moeda americana, o que faz o valor dela subir </p>\n",
       " </div>]"
      ]
     },
     "execution_count": 4,
     "metadata": {},
     "output_type": "execute_result"
    }
   ],
   "source": [
    "tabela_geral = soup.find_all('div', class_='e')\n",
    "tabela_geral # Separamos a tabela para começar a filtrar os dados"
   ]
  },
  {
   "cell_type": "code",
   "execution_count": 5,
   "metadata": {},
   "outputs": [
    {
     "data": {
      "text/plain": [
       "[<p>03/01/2020 - R$ 4,056 <img src=\"//www.dolarhoje.net.br/imagens/seta-sobe.png\"/> 0.815%</p>,\n",
       " <p>06/01/2020 - R$ 4,062 <img src=\"//www.dolarhoje.net.br/imagens/seta-sobe.png\"/> 0.148%</p>,\n",
       " <p>07/01/2020 - R$ 4,065 <img src=\"//www.dolarhoje.net.br/imagens/seta-sobe.png\"/> 0.062%</p>,\n",
       " <p>08/01/2020 - R$ 4,052 <img src=\"//www.dolarhoje.net.br/imagens/seta-desce.png\"/> -0.312%</p>,\n",
       " <p>09/01/2020 - R$ 4,085 <img src=\"//www.dolarhoje.net.br/imagens/seta-sobe.png\"/> 0.822%</p>,\n",
       " <p>10/01/2020 - R$ 4,092 <img src=\"//www.dolarhoje.net.br/imagens/seta-sobe.png\"/> 0.176%</p>,\n",
       " <p>13/01/2020 - R$ 4,141 <img src=\"//www.dolarhoje.net.br/imagens/seta-sobe.png\"/> 1.195%</p>,\n",
       " <p>14/01/2020 - R$ 4,130 <img src=\"//www.dolarhoje.net.br/imagens/seta-desce.png\"/> -0.28%</p>,\n",
       " <p>15/01/2020 - R$ 4,184 <img src=\"//www.dolarhoje.net.br/imagens/seta-sobe.png\"/> 1.325%</p>,\n",
       " <p>16/01/2020 - R$ 4,193 <img src=\"//www.dolarhoje.net.br/imagens/seta-sobe.png\"/> 0.201%</p>,\n",
       " <p>17/01/2020 - R$ 4,165 <img src=\"//www.dolarhoje.net.br/imagens/seta-desce.png\"/> -0.658%</p>,\n",
       " <p>20/01/2020 - R$ 4,189 <img src=\"//www.dolarhoje.net.br/imagens/seta-sobe.png\"/> 0.564%</p>,\n",
       " <p>21/01/2020 - R$ 4,205 <img src=\"//www.dolarhoje.net.br/imagens/seta-sobe.png\"/> 0.392%</p>,\n",
       " <p>22/01/2020 - R$ 4,175 <img src=\"//www.dolarhoje.net.br/imagens/seta-desce.png\"/> -0.706%</p>,\n",
       " <p>23/01/2020 - R$ 4,166 <img src=\"//www.dolarhoje.net.br/imagens/seta-desce.png\"/> -0.225%</p>,\n",
       " <p>24/01/2020 - R$ 4,184 <img src=\"//www.dolarhoje.net.br/imagens/seta-sobe.png\"/> 0.432%</p>,\n",
       " <p>27/01/2020 - R$ 4,209 <img src=\"//www.dolarhoje.net.br/imagens/seta-sobe.png\"/> 0.605%</p>,\n",
       " <p>28/01/2020 - R$ 4,193 <img src=\"//www.dolarhoje.net.br/imagens/seta-desce.png\"/> -0.38%</p>,\n",
       " <p>29/01/2020 - R$ 4,219 <img src=\"//www.dolarhoje.net.br/imagens/seta-sobe.png\"/> 0.622%</p>,\n",
       " <p>30/01/2020 - R$ 4,257 <img src=\"//www.dolarhoje.net.br/imagens/seta-sobe.png\"/> 0.903%</p>,\n",
       " <p>31/01/2020 - R$ 4,285 <img src=\"//www.dolarhoje.net.br/imagens/seta-sobe.png\"/> 0.648%</p>]"
      ]
     },
     "execution_count": 5,
     "metadata": {},
     "output_type": "execute_result"
    }
   ],
   "source": [
    "janeiro = tabela_geral[1] # Como os dados de cada mês estão em divs diferentes, cada mês recebe um índice de 'tabela_geral'\n",
    "dias_jan = janeiro.find_all('p') # Encontramos as tags 'p', onde estão os textos desejados\n",
    "dias_jan.pop(0) # Apagamos o primeiro item, que é somente o nome do respectivo mês e não uma informação útil\n",
    "dias_jan.pop(0)\n",
    "dias_jan # Repetimos esse processo para todos os meses\n"
   ]
  },
  {
   "cell_type": "code",
   "execution_count": 6,
   "metadata": {},
   "outputs": [
    {
     "data": {
      "text/plain": [
       "[<p>03/02/2020 - R$ 4,249 <img src=\"//www.dolarhoje.net.br/imagens/seta-desce.png\"/> -0.838%</p>,\n",
       " <p>04/02/2020 - R$ 4,258 <img src=\"//www.dolarhoje.net.br/imagens/seta-sobe.png\"/> 0.209%</p>,\n",
       " <p>05/02/2020 - R$ 4,239 <img src=\"//www.dolarhoje.net.br/imagens/seta-desce.png\"/> -0.446%</p>,\n",
       " <p>06/02/2020 - R$ 4,285 <img src=\"//www.dolarhoje.net.br/imagens/seta-sobe.png\"/> 1.078%</p>,\n",
       " <p>07/02/2020 - R$ 4,320 <img src=\"//www.dolarhoje.net.br/imagens/seta-sobe.png\"/> 0.819%</p>,\n",
       " <p>10/02/2020 - R$ 4,322 <img src=\"//www.dolarhoje.net.br/imagens/seta-sobe.png\"/> 0.06%</p>,\n",
       " <p>11/02/2020 - R$ 4,327 <img src=\"//www.dolarhoje.net.br/imagens/seta-sobe.png\"/> 0.104%</p>,\n",
       " <p>12/02/2020 - R$ 4,351 <img src=\"//www.dolarhoje.net.br/imagens/seta-sobe.png\"/> 0.545%</p>,\n",
       " <p>13/02/2020 - R$ 4,334 <img src=\"//www.dolarhoje.net.br/imagens/seta-desce.png\"/> -0.382%</p>,\n",
       " <p>14/02/2020 - R$ 4,300 <img src=\"//www.dolarhoje.net.br/imagens/seta-desce.png\"/> -0.789%</p>,\n",
       " <p>17/02/2020 - R$ 4,329 <img src=\"//www.dolarhoje.net.br/imagens/seta-sobe.png\"/> 0.681%</p>,\n",
       " <p>18/02/2020 - R$ 4,357 <img src=\"//www.dolarhoje.net.br/imagens/seta-sobe.png\"/> 0.642%</p>,\n",
       " <p>19/02/2020 - R$ 4,365 <img src=\"//www.dolarhoje.net.br/imagens/seta-sobe.png\"/> 0.188%</p>,\n",
       " <p>20/02/2020 - R$ 4,392 <img src=\"//www.dolarhoje.net.br/imagens/seta-sobe.png\"/> 0.612%</p>,\n",
       " <p>21/02/2020 - R$ 4,393 <img src=\"//www.dolarhoje.net.br/imagens/seta-sobe.png\"/> 0.02%</p>,\n",
       " <p>24/02/2020 - R$ 4,393 <img src=\"//www.dolarhoje.net.br/imagens/seta-sobe.png\"/> 0%</p>,\n",
       " <p>25/02/2020 - R$ 4,393 <img src=\"//www.dolarhoje.net.br/imagens/seta-sobe.png\"/> 0%</p>,\n",
       " <p>26/02/2020 - R$ 4,441 <img src=\"//www.dolarhoje.net.br/imagens/seta-sobe.png\"/> 1.095%</p>,\n",
       " <p>27/02/2020 - R$ 4,476 <img src=\"//www.dolarhoje.net.br/imagens/seta-sobe.png\"/> 0.804%</p>,\n",
       " <p>28/02/2020 - R$ 4,481 <img src=\"//www.dolarhoje.net.br/imagens/seta-sobe.png\"/> 0.101%</p>]"
      ]
     },
     "execution_count": 6,
     "metadata": {},
     "output_type": "execute_result"
    }
   ],
   "source": [
    "fevereiro = tabela_geral[2]\n",
    "dias_fev = fevereiro.find_all('p')\n",
    "dias_fev.pop(0)\n",
    "dias_fev"
   ]
  },
  {
   "cell_type": "code",
   "execution_count": 7,
   "metadata": {},
   "outputs": [
    {
     "data": {
      "text/plain": [
       "[<p>02/03/2020 - R$ 4,481 <img src=\"//www.dolarhoje.net.br/imagens/seta-desce.png\"/> -0.007%</p>,\n",
       " <p>03/03/2020 - R$ 4,479 <img src=\"//www.dolarhoje.net.br/imagens/seta-desce.png\"/> -0.047%</p>,\n",
       " <p>09/03/2020 - R$ 4,742 <img src=\"//www.dolarhoje.net.br/imagens/seta-sobe.png\"/> 5.893%</p>,\n",
       " <p>10/03/2020 - R$ 4,645 <img src=\"//www.dolarhoje.net.br/imagens/seta-desce.png\"/> -2.06%</p>,\n",
       " <p>11/03/2020 - R$ 4,722 <img src=\"//www.dolarhoje.net.br/imagens/seta-sobe.png\"/> 1.653%</p>,\n",
       " <p>12/03/2020 - R$ 4,788 <img src=\"//www.dolarhoje.net.br/imagens/seta-sobe.png\"/> 1.413%</p>,\n",
       " <p>13/03/2020 - R$ 4,813 <img src=\"//www.dolarhoje.net.br/imagens/seta-sobe.png\"/> 0.512%</p>,\n",
       " <p>16/03/2020 - R$ 5,061 <img src=\"//www.dolarhoje.net.br/imagens/seta-sobe.png\"/> 4.848%</p>,\n",
       " <p>17/03/2020 - R$ 5,006 <img src=\"//www.dolarhoje.net.br/imagens/seta-desce.png\"/> -1.099%</p>,\n",
       " <p>18/03/2020 - R$ 5,196 <img src=\"//www.dolarhoje.net.br/imagens/seta-sobe.png\"/> 3.794%</p>,\n",
       " <p>19/03/2020 - R$ 5,098 <img src=\"//www.dolarhoje.net.br/imagens/seta-desce.png\"/> -1.88%</p>,\n",
       " <p>20/03/2020 - R$ 5,026 <img src=\"//www.dolarhoje.net.br/imagens/seta-desce.png\"/> -1.408%</p>,\n",
       " <p>23/03/2020 - R$ 5,135 <img src=\"//www.dolarhoje.net.br/imagens/seta-sobe.png\"/> 1.436%</p>,\n",
       " <p>24/03/2020 - R$ 5,081 <img src=\"//www.dolarhoje.net.br/imagens/seta-desce.png\"/> -1.048%</p>,\n",
       " <p>25/03/2020 - R$ 5,033 <img src=\"//www.dolarhoje.net.br/imagens/seta-desce.png\"/> -0.958%</p>,\n",
       " <p>26/03/2020 - R$ 4,999 <img src=\"//www.dolarhoje.net.br/imagens/seta-desce.png\"/> -0.674%</p>,\n",
       " <p>27/03/2020 - R$ 5,104 <img src=\"//www.dolarhoje.net.br/imagens/seta-sobe.png\"/> 2.101%</p>,\n",
       " <p>30/03/2020 - R$ 5,180 <img src=\"//www.dolarhoje.net.br/imagens/seta-sobe.png\"/> 1.497%</p>,\n",
       " <p>31/03/2020 - R$ 5,196 <img src=\"//www.dolarhoje.net.br/imagens/seta-sobe.png\"/> 0.305%</p>]"
      ]
     },
     "execution_count": 7,
     "metadata": {},
     "output_type": "execute_result"
    }
   ],
   "source": [
    "marco = tabela_geral[3]\n",
    "dias_mar = marco.find_all('p')\n",
    "dias_mar.pop(0)\n",
    "dias_mar"
   ]
  },
  {
   "cell_type": "code",
   "execution_count": 8,
   "metadata": {},
   "outputs": [
    {
     "data": {
      "text/plain": [
       "[<p>01/04/2020 - R$ 5,262 <img src=\"//www.dolarhoje.net.br/imagens/seta-sobe.png\"/> 1.278%</p>,\n",
       " <p>02/04/2020 - R$ 5,265 <img src=\"//www.dolarhoje.net.br/imagens/seta-sobe.png\"/> 0.053%</p>,\n",
       " <p>03/04/2020 - R$ 5,327 <img src=\"//www.dolarhoje.net.br/imagens/seta-sobe.png\"/> 1.181%</p>,\n",
       " <p>06/04/2020 - R$ 5,294 <img src=\"//www.dolarhoje.net.br/imagens/seta-desce.png\"/> -0.627%</p>,\n",
       " <p>07/04/2020 - R$ 5,225 <img src=\"//www.dolarhoje.net.br/imagens/seta-desce.png\"/> -1.301%</p>,\n",
       " <p>08/04/2020 - R$ 5,141 <img src=\"//www.dolarhoje.net.br/imagens/seta-desce.png\"/> -1.604%</p>,\n",
       " <p>09/04/2020 - R$ 5,093 <img src=\"//www.dolarhoje.net.br/imagens/seta-desce.png\"/> -0.947%</p>,\n",
       " <p>10/04/2020 - R$ 5,093 <img src=\"//www.dolarhoje.net.br/imagens/seta-desce.png\"/> 0%</p>,\n",
       " <p>13/04/2020 - R$ 5,180 <img src=\"//www.dolarhoje.net.br/imagens/seta-sobe.png\"/> 1.72%</p>,\n",
       " <p>14/04/2020 - R$ 5,189 <img src=\"//www.dolarhoje.net.br/imagens/seta-sobe.png\"/> 0.162%</p>,\n",
       " <p>15/04/2020 - R$ 5,242 <img src=\"//www.dolarhoje.net.br/imagens/seta-sobe.png\"/> 1.029%</p>,\n",
       " <p>16/04/2020 - R$ 5,256 <img src=\"//www.dolarhoje.net.br/imagens/seta-sobe.png\"/> 0.269%</p>,\n",
       " <p>17/04/2020 - R$ 5,238 <img src=\"//www.dolarhoje.net.br/imagens/seta-desce.png\"/> -0.339%</p>,\n",
       " <p>20/04/2020 - R$ 5,308 <img src=\"//www.dolarhoje.net.br/imagens/seta-sobe.png\"/> 1.327%</p>,\n",
       " <p>21/04/2020 - R$ 5,308 <img src=\"//www.dolarhoje.net.br/imagens/seta-sobe.png\"/> 0%</p>,\n",
       " <p>22/04/2020 - R$ 5,409 <img src=\"//www.dolarhoje.net.br/imagens/seta-sobe.png\"/> 1.91%</p>,\n",
       " <p>23/04/2020 - R$ 5,529 <img src=\"//www.dolarhoje.net.br/imagens/seta-sobe.png\"/> 2.206%</p>,\n",
       " <p>24/04/2020 - R$ 5,657 <img src=\"//www.dolarhoje.net.br/imagens/seta-sobe.png\"/> 2.33%</p>,\n",
       " <p>27/04/2020 - R$ 5,658 <img src=\"//www.dolarhoje.net.br/imagens/seta-sobe.png\"/> 0.014%</p>,\n",
       " <p>28/04/2020 - R$ 5,515 <img src=\"//www.dolarhoje.net.br/imagens/seta-desce.png\"/> -2.529%</p>,\n",
       " <p>29/04/2020 - R$ 5,358 <img src=\"//www.dolarhoje.net.br/imagens/seta-desce.png\"/> -2.843%</p>,\n",
       " <p>30/04/2020 - R$ 5,440 <img src=\"//www.dolarhoje.net.br/imagens/seta-sobe.png\"/> 1.521%</p>]"
      ]
     },
     "execution_count": 8,
     "metadata": {},
     "output_type": "execute_result"
    }
   ],
   "source": [
    "abril = tabela_geral[4]\n",
    "dias_abr = abril.find_all('p')\n",
    "dias_abr.pop(0)\n",
    "dias_abr"
   ]
  },
  {
   "cell_type": "code",
   "execution_count": 9,
   "metadata": {},
   "outputs": [
    {
     "data": {
      "text/plain": [
       "[<p>01/05/2020 - R$ 5,440 <img src=\"//www.dolarhoje.net.br/imagens/seta-sobe.png\"/> 0%</p>,\n",
       " <p>04/05/2020 - R$ 5,521 <img src=\"//www.dolarhoje.net.br/imagens/seta-sobe.png\"/> 1.491%</p>,\n",
       " <p>05/05/2020 - R$ 5,593 <img src=\"//www.dolarhoje.net.br/imagens/seta-sobe.png\"/> 1.313%</p>,\n",
       " <p>06/05/2020 - R$ 5,703 <img src=\"//www.dolarhoje.net.br/imagens/seta-sobe.png\"/> 1.961%</p>,\n",
       " <p>07/05/2020 - R$ 5,846 <img src=\"//www.dolarhoje.net.br/imagens/seta-sobe.png\"/> 2.506%</p>,\n",
       " <p>08/05/2020 - R$ 5,743 <img src=\"//www.dolarhoje.net.br/imagens/seta-desce.png\"/> -1.764%</p>,\n",
       " <p>11/05/2020 - R$ 5,819 <img src=\"//www.dolarhoje.net.br/imagens/seta-sobe.png\"/> 1.33%</p>,\n",
       " <p>12/05/2020 - R$ 5,869 <img src=\"//www.dolarhoje.net.br/imagens/seta-sobe.png\"/> 0.858%</p>,\n",
       " <p>13/05/2020 - R$ 5,901 <img src=\"//www.dolarhoje.net.br/imagens/seta-sobe.png\"/> 0.538%</p>,\n",
       " <p>14/05/2020 - R$ 5,819 <img src=\"//www.dolarhoje.net.br/imagens/seta-desce.png\"/> -1.391%</p>,\n",
       " <p>15/05/2020 - R$ 5,838 <img src=\"//www.dolarhoje.net.br/imagens/seta-sobe.png\"/> 0.34%</p>,\n",
       " <p>18/05/2020 - R$ 5,717 <img src=\"//www.dolarhoje.net.br/imagens/seta-desce.png\"/> -2.086%</p>,\n",
       " <p>19/05/2020 - R$ 5,756 <img src=\"//www.dolarhoje.net.br/imagens/seta-sobe.png\"/> 0.694%</p>,\n",
       " <p>20/05/2020 - R$ 5,688 <img src=\"//www.dolarhoje.net.br/imagens/seta-desce.png\"/> -1.195%</p>,\n",
       " <p>21/05/2020 - R$ 5,581 <img src=\"//www.dolarhoje.net.br/imagens/seta-desce.png\"/> -1.871%</p>,\n",
       " <p>22/05/2020 - R$ 5,584 <img src=\"//www.dolarhoje.net.br/imagens/seta-sobe.png\"/> 0.056%</p>,\n",
       " <p>25/05/2020 - R$ 5,459 <img src=\"//www.dolarhoje.net.br/imagens/seta-desce.png\"/> -2.247%</p>,\n",
       " <p>26/05/2020 - R$ 5,349 <img src=\"//www.dolarhoje.net.br/imagens/seta-desce.png\"/> -2.004%</p>,\n",
       " <p>27/05/2020 - R$ 5,282 <img src=\"//www.dolarhoje.net.br/imagens/seta-desce.png\"/> -1.253%</p>,\n",
       " <p>28/05/2020 - R$ 5,381 <img src=\"//www.dolarhoje.net.br/imagens/seta-sobe.png\"/> 1.872%</p>,\n",
       " <p>29/05/2020 - R$ 5,336 <img src=\"//www.dolarhoje.net.br/imagens/seta-desce.png\"/> -0.833%</p>]"
      ]
     },
     "execution_count": 9,
     "metadata": {},
     "output_type": "execute_result"
    }
   ],
   "source": [
    "maio = tabela_geral[5]\n",
    "dias_mai = maio.find_all('p')\n",
    "dias_mai.pop(0)\n",
    "dias_mai\n",
    "\n"
   ]
  },
  {
   "cell_type": "code",
   "execution_count": 10,
   "metadata": {},
   "outputs": [
    {
     "data": {
      "text/plain": [
       "[<p>01/06/2020 - R$ 5,387 <img src=\"//www.dolarhoje.net.br/imagens/seta-sobe.png\"/> 0.944%</p>,\n",
       " <p>02/06/2020 - R$ 5,212 <img src=\"//www.dolarhoje.net.br/imagens/seta-desce.png\"/> -3.252%</p>,\n",
       " <p>03/06/2020 - R$ 5,093 <img src=\"//www.dolarhoje.net.br/imagens/seta-desce.png\"/> -2.285%</p>,\n",
       " <p>04/06/2020 - R$ 5,130 <img src=\"//www.dolarhoje.net.br/imagens/seta-sobe.png\"/> 0.73%</p>,\n",
       " <p>05/06/2020 - R$ 4,993 <img src=\"//www.dolarhoje.net.br/imagens/seta-desce.png\"/> -2.665%</p>,\n",
       " <p>08/06/2020 - R$ 4,854 <img src=\"//www.dolarhoje.net.br/imagens/seta-desce.png\"/> -2.786%</p>,\n",
       " <p>09/06/2020 - R$ 4,888 <img src=\"//www.dolarhoje.net.br/imagens/seta-sobe.png\"/> 0.707%</p>,\n",
       " <p>10/06/2020 - R$ 4,862 <img src=\"//www.dolarhoje.net.br/imagens/seta-desce.png\"/> -0.544%</p>]"
      ]
     },
     "execution_count": 10,
     "metadata": {},
     "output_type": "execute_result"
    }
   ],
   "source": [
    "junho = tabela_geral[6]\n",
    "dias_jun = junho.find_all('p')\n",
    "dias_jun.pop(0)\n",
    "dias_jun.pop(-1) # Aqui, retiramos as duas últimas linhas do mês, pois são textos desnecessários ao projeto\n",
    "dias_jun.pop(-1)\n",
    "dias_jun"
   ]
  },
  {
   "cell_type": "markdown",
   "metadata": {},
   "source": [
    "## Criando um arquivo .csv"
   ]
  },
  {
   "cell_type": "markdown",
   "metadata": {},
   "source": [
    "Agora, vamos utilizar expressões regulares dentro de uma função para preparar as linhas do futuro arquivo .csv"
   ]
  },
  {
   "cell_type": "code",
   "execution_count": 11,
   "metadata": {},
   "outputs": [],
   "source": [
    "def prep_linha(linha):\n",
    "    linha = linha.replace(',', '.') # Troca a vírgula pelo ponto, como separador decimal\n",
    "    \n",
    "    linha = linha.replace(' ', '\\t') # Substitui os espaços em branco na string por uma tabulação\n",
    "    \n",
    "    linha = re.sub('\\t-\\t', '\\t', linha) # Substitui o padrão '\\t-\\t' por um '\\t' apenas\n",
    "    \n",
    "    linha = linha.replace('R$', '') # Remove o símbolo que representa a moeda brasileira\n",
    "    \n",
    "    linha = linha.replace('%', '') # Remove o símbolo de porcentagem da string\n",
    "    \n",
    "    linha = linha.replace('\\t\\t', '\\t')\n",
    "       \n",
    "    return linha"
   ]
  },
  {
   "cell_type": "markdown",
   "metadata": {},
   "source": [
    "O próximo passo é juntar todas as linhas em um único arquivo de texto, contendo todos os dados de todos os meses, separados por tabulação"
   ]
  },
  {
   "cell_type": "code",
   "execution_count": 12,
   "metadata": {},
   "outputs": [
    {
     "name": "stdout",
     "output_type": "stream",
     "text": [
      "Data:\tPreço:\tVariação(em %):\n",
      "03/01/2020\t4.056\t0.815\n",
      "06/01/2020\t4.062\t0.148\n",
      "07/01/2020\t4.065\t0.062\n",
      "08/01/2020\t4.052\t-0.312\n",
      "09/01/2020\t4.085\t0.822\n",
      "10/01/2020\t4.092\t0.176\n",
      "13/01/2020\t4.141\t1.195\n",
      "14/01/2020\t4.130\t-0.28\n",
      "15/01/2020\t4.184\t1.325\n",
      "16/01/2020\t4.193\t0.201\n",
      "17/01/2020\t4.165\t-0.658\n",
      "20/01/2020\t4.189\t0.564\n",
      "21/01/2020\t4.205\t0.392\n",
      "22/01/2020\t4.175\t-0.706\n",
      "23/01/2020\t4.166\t-0.225\n",
      "24/01/2020\t4.184\t0.432\n",
      "27/01/2020\t4.209\t0.605\n",
      "28/01/2020\t4.193\t-0.38\n",
      "29/01/2020\t4.219\t0.622\n",
      "30/01/2020\t4.257\t0.903\n",
      "31/01/2020\t4.285\t0.648\n",
      "03/02/2020\t4.249\t-0.838\n",
      "04/02/2020\t4.258\t0.209\n",
      "05/02/2020\t4.239\t-0.446\n",
      "06/02/2020\t4.285\t1.078\n",
      "07/02/2020\t4.320\t0.819\n",
      "10/02/2020\t4.322\t0.06\n",
      "11/02/2020\t4.327\t0.104\n",
      "12/02/2020\t4.351\t0.545\n",
      "13/02/2020\t4.334\t-0.382\n",
      "14/02/2020\t4.300\t-0.789\n",
      "17/02/2020\t4.329\t0.681\n",
      "18/02/2020\t4.357\t0.642\n",
      "19/02/2020\t4.365\t0.188\n",
      "20/02/2020\t4.392\t0.612\n",
      "21/02/2020\t4.393\t0.02\n",
      "24/02/2020\t4.393\t0\n",
      "25/02/2020\t4.393\t0\n",
      "26/02/2020\t4.441\t1.095\n",
      "27/02/2020\t4.476\t0.804\n",
      "28/02/2020\t4.481\t0.101\n",
      "02/03/2020\t4.481\t-0.007\n",
      "03/03/2020\t4.479\t-0.047\n",
      "09/03/2020\t4.742\t5.893\n",
      "10/03/2020\t4.645\t-2.06\n",
      "11/03/2020\t4.722\t1.653\n",
      "12/03/2020\t4.788\t1.413\n",
      "13/03/2020\t4.813\t0.512\n",
      "16/03/2020\t5.061\t4.848\n",
      "17/03/2020\t5.006\t-1.099\n",
      "18/03/2020\t5.196\t3.794\n",
      "19/03/2020\t5.098\t-1.88\n",
      "20/03/2020\t5.026\t-1.408\n",
      "23/03/2020\t5.135\t1.436\n",
      "24/03/2020\t5.081\t-1.048\n",
      "25/03/2020\t5.033\t-0.958\n",
      "26/03/2020\t4.999\t-0.674\n",
      "27/03/2020\t5.104\t2.101\n",
      "30/03/2020\t5.180\t1.497\n",
      "31/03/2020\t5.196\t0.305\n",
      "01/04/2020\t5.262\t1.278\n",
      "02/04/2020\t5.265\t0.053\n",
      "03/04/2020\t5.327\t1.181\n",
      "06/04/2020\t5.294\t-0.627\n",
      "07/04/2020\t5.225\t-1.301\n",
      "08/04/2020\t5.141\t-1.604\n",
      "09/04/2020\t5.093\t-0.947\n",
      "10/04/2020\t5.093\t0\n",
      "13/04/2020\t5.180\t1.72\n",
      "14/04/2020\t5.189\t0.162\n",
      "15/04/2020\t5.242\t1.029\n",
      "16/04/2020\t5.256\t0.269\n",
      "17/04/2020\t5.238\t-0.339\n",
      "20/04/2020\t5.308\t1.327\n",
      "21/04/2020\t5.308\t0\n",
      "22/04/2020\t5.409\t1.91\n",
      "23/04/2020\t5.529\t2.206\n",
      "24/04/2020\t5.657\t2.33\n",
      "27/04/2020\t5.658\t0.014\n",
      "28/04/2020\t5.515\t-2.529\n",
      "29/04/2020\t5.358\t-2.843\n",
      "30/04/2020\t5.440\t1.521\n",
      "01/05/2020\t5.440\t0\n",
      "04/05/2020\t5.521\t1.491\n",
      "05/05/2020\t5.593\t1.313\n",
      "06/05/2020\t5.703\t1.961\n",
      "07/05/2020\t5.846\t2.506\n",
      "08/05/2020\t5.743\t-1.764\n",
      "11/05/2020\t5.819\t1.33\n",
      "12/05/2020\t5.869\t0.858\n",
      "13/05/2020\t5.901\t0.538\n",
      "14/05/2020\t5.819\t-1.391\n",
      "15/05/2020\t5.838\t0.34\n",
      "18/05/2020\t5.717\t-2.086\n",
      "19/05/2020\t5.756\t0.694\n",
      "20/05/2020\t5.688\t-1.195\n",
      "21/05/2020\t5.581\t-1.871\n",
      "22/05/2020\t5.584\t0.056\n",
      "25/05/2020\t5.459\t-2.247\n",
      "26/05/2020\t5.349\t-2.004\n",
      "27/05/2020\t5.282\t-1.253\n",
      "28/05/2020\t5.381\t1.872\n",
      "29/05/2020\t5.336\t-0.833\n",
      "01/06/2020\t5.387\t0.944\n",
      "02/06/2020\t5.212\t-3.252\n",
      "03/06/2020\t5.093\t-2.285\n",
      "04/06/2020\t5.130\t0.73\n",
      "05/06/2020\t4.993\t-2.665\n",
      "08/06/2020\t4.854\t-2.786\n",
      "09/06/2020\t4.888\t0.707\n",
      "10/06/2020\t4.862\t-0.544\n",
      "\n"
     ]
    }
   ],
   "source": [
    "texto_final = 'Data:\\tPreço:\\tVariação(em %):\\n'\n",
    "\n",
    "for i in range(0, len(dias_jan)):\n",
    "    linha = prep_linha(dias_jan[i].get_text())\n",
    "    texto_final += linha\n",
    "    texto_final += '\\n'\n",
    "    \n",
    "for i in range(0, len(dias_fev)):\n",
    "    linha = prep_linha(dias_fev[i].get_text())\n",
    "    texto_final += linha\n",
    "    texto_final += '\\n'\n",
    "    \n",
    "for i in range(0, len(dias_mar)):\n",
    "    linha = prep_linha(dias_mar[i].get_text())\n",
    "    texto_final += linha\n",
    "    texto_final += '\\n'\n",
    "    \n",
    "for i in range(0, len(dias_abr)):\n",
    "    linha = prep_linha(dias_abr[i].get_text())\n",
    "    texto_final += linha\n",
    "    texto_final += '\\n'\n",
    "    \n",
    "for i in range(0, len(dias_mai)):\n",
    "    linha = prep_linha(dias_mai[i].get_text())\n",
    "    texto_final += linha\n",
    "    texto_final += '\\n'\n",
    "    \n",
    "for i in range(0, len(dias_jun)):\n",
    "    linha = prep_linha(dias_jun[i].get_text())\n",
    "    texto_final += linha\n",
    "    texto_final += '\\n'\n",
    "\n",
    "print(texto_final)"
   ]
  },
  {
   "cell_type": "markdown",
   "metadata": {},
   "source": [
    "Para poder manipular os dados, precisamos criar um arquivo .csv:"
   ]
  },
  {
   "cell_type": "code",
   "execution_count": 13,
   "metadata": {},
   "outputs": [
    {
     "data": {
      "text/plain": [
       "<_io.TextIOWrapper name='variacao-dolar.csv' mode='w' encoding='cp1252'>"
      ]
     },
     "execution_count": 13,
     "metadata": {},
     "output_type": "execute_result"
    }
   ],
   "source": [
    "arquivo = open('variacao-dolar.csv', 'w') # Cria um arquivo .csv no mesmo diretório deste caderno\n",
    "arquivo.write(texto_final)\n",
    "arquivo.close()\n",
    "arquivo"
   ]
  },
  {
   "cell_type": "markdown",
   "metadata": {},
   "source": [
    "## Tabulação dos dados com Pandas"
   ]
  },
  {
   "cell_type": "markdown",
   "metadata": {},
   "source": [
    "Agora, precisamos ler os dados do arquivo .csv para poder criar os gráficos necessários para a análise"
   ]
  },
  {
   "cell_type": "code",
   "execution_count": 14,
   "metadata": {},
   "outputs": [
    {
     "data": {
      "text/html": [
       "<div>\n",
       "<style scoped>\n",
       "    .dataframe tbody tr th:only-of-type {\n",
       "        vertical-align: middle;\n",
       "    }\n",
       "\n",
       "    .dataframe tbody tr th {\n",
       "        vertical-align: top;\n",
       "    }\n",
       "\n",
       "    .dataframe thead th {\n",
       "        text-align: right;\n",
       "    }\n",
       "</style>\n",
       "<table border=\"1\" class=\"dataframe\">\n",
       "  <thead>\n",
       "    <tr style=\"text-align: right;\">\n",
       "      <th></th>\n",
       "      <th>Data:</th>\n",
       "      <th>Preço:</th>\n",
       "      <th>Variação(em %):</th>\n",
       "    </tr>\n",
       "  </thead>\n",
       "  <tbody>\n",
       "    <tr>\n",
       "      <th>0</th>\n",
       "      <td>03/01/2020</td>\n",
       "      <td>4.056</td>\n",
       "      <td>0.815</td>\n",
       "    </tr>\n",
       "    <tr>\n",
       "      <th>1</th>\n",
       "      <td>06/01/2020</td>\n",
       "      <td>4.062</td>\n",
       "      <td>0.148</td>\n",
       "    </tr>\n",
       "    <tr>\n",
       "      <th>2</th>\n",
       "      <td>07/01/2020</td>\n",
       "      <td>4.065</td>\n",
       "      <td>0.062</td>\n",
       "    </tr>\n",
       "    <tr>\n",
       "      <th>3</th>\n",
       "      <td>08/01/2020</td>\n",
       "      <td>4.052</td>\n",
       "      <td>-0.312</td>\n",
       "    </tr>\n",
       "    <tr>\n",
       "      <th>4</th>\n",
       "      <td>09/01/2020</td>\n",
       "      <td>4.085</td>\n",
       "      <td>0.822</td>\n",
       "    </tr>\n",
       "    <tr>\n",
       "      <th>...</th>\n",
       "      <td>...</td>\n",
       "      <td>...</td>\n",
       "      <td>...</td>\n",
       "    </tr>\n",
       "    <tr>\n",
       "      <th>106</th>\n",
       "      <td>04/06/2020</td>\n",
       "      <td>5.130</td>\n",
       "      <td>0.730</td>\n",
       "    </tr>\n",
       "    <tr>\n",
       "      <th>107</th>\n",
       "      <td>05/06/2020</td>\n",
       "      <td>4.993</td>\n",
       "      <td>-2.665</td>\n",
       "    </tr>\n",
       "    <tr>\n",
       "      <th>108</th>\n",
       "      <td>08/06/2020</td>\n",
       "      <td>4.854</td>\n",
       "      <td>-2.786</td>\n",
       "    </tr>\n",
       "    <tr>\n",
       "      <th>109</th>\n",
       "      <td>09/06/2020</td>\n",
       "      <td>4.888</td>\n",
       "      <td>0.707</td>\n",
       "    </tr>\n",
       "    <tr>\n",
       "      <th>110</th>\n",
       "      <td>10/06/2020</td>\n",
       "      <td>4.862</td>\n",
       "      <td>-0.544</td>\n",
       "    </tr>\n",
       "  </tbody>\n",
       "</table>\n",
       "<p>111 rows × 3 columns</p>\n",
       "</div>"
      ],
      "text/plain": [
       "          Data:  Preço:  Variação(em %):\n",
       "0    03/01/2020   4.056            0.815\n",
       "1    06/01/2020   4.062            0.148\n",
       "2    07/01/2020   4.065            0.062\n",
       "3    08/01/2020   4.052           -0.312\n",
       "4    09/01/2020   4.085            0.822\n",
       "..          ...     ...              ...\n",
       "106  04/06/2020   5.130            0.730\n",
       "107  05/06/2020   4.993           -2.665\n",
       "108  08/06/2020   4.854           -2.786\n",
       "109  09/06/2020   4.888            0.707\n",
       "110  10/06/2020   4.862           -0.544\n",
       "\n",
       "[111 rows x 3 columns]"
      ]
     },
     "execution_count": 14,
     "metadata": {},
     "output_type": "execute_result"
    }
   ],
   "source": [
    "df = pd.read_csv('variacao-dolar.csv', sep='\\t', encoding='latin-1') # Lemos o arquivo csv com o framework Pandas\n",
    "df"
   ]
  },
  {
   "cell_type": "code",
   "execution_count": 15,
   "metadata": {},
   "outputs": [
    {
     "data": {
      "text/plain": [
       "0      4.056\n",
       "1      4.062\n",
       "2      4.065\n",
       "3      4.052\n",
       "4      4.085\n",
       "       ...  \n",
       "106    5.130\n",
       "107    4.993\n",
       "108    4.854\n",
       "109    4.888\n",
       "110    4.862\n",
       "Name: Preço:, Length: 111, dtype: float64"
      ]
     },
     "execution_count": 15,
     "metadata": {},
     "output_type": "execute_result"
    }
   ],
   "source": [
    "df[\"Preço:\"] # Podemos ver somente a coluna que contém o preço do dólar em reais"
   ]
  },
  {
   "cell_type": "markdown",
   "metadata": {},
   "source": [
    "Agora, criamos o gráfico dos meses de janeiro a junho"
   ]
  },
  {
   "cell_type": "code",
   "execution_count": 16,
   "metadata": {},
   "outputs": [
    {
     "data": {
      "image/png": "[encoded data removed]",
      "text/plain": [
       "<Figure size 432x288 with 1 Axes>"
      ]
     },
     "metadata": {
      "needs_background": "light"
     },
     "output_type": "display_data"
    }
   ],
   "source": [
    "x = df[\"Data:\"] # O eixo x receberá as datas\n",
    "y = df[\"Preço:\"] # O eixo y receberá as variações do dólar\n",
    "\n",
    "plt.plot(x,y, \"brown\") # O método .plot() gera o gráfico com os eixos, nesse caso com a linha colorida em marrom\n",
    "plt.title(\"Variação do Dólar perante a Pândemia do Covid-19 dentre os meses de Janeiro a Junho\") # Título do Gráfico\n",
    "\n",
    "plt.xlabel(\"None\") # Nome do eixo x\n",
    "\n",
    "plt.ylabel(\"Dólar-variação\") # Nome do eixo y\n",
    "\n",
    "plt.show() # Exibe o gráfico"
   ]
  },
  {
   "cell_type": "markdown",
   "metadata": {},
   "source": [
    "Agora que nós conseguimos montar a tabela iremos separar por mês, para que possamos criar os gráficos, nos quais iremos mostrar a variação do Dólar nos primeiros 6 dias de cada mês. Para facilitar o processo, vamos criar um arquivo .csv para cada mês"
   ]
  },
  {
   "cell_type": "markdown",
   "metadata": {},
   "source": [
    "## ***Janeiro***"
   ]
  },
  {
   "cell_type": "code",
   "execution_count": 17,
   "metadata": {},
   "outputs": [
    {
     "name": "stdout",
     "output_type": "stream",
     "text": [
      "Data:\tPreço:\tVariação(em %):\n",
      "03/01/2020\t4.056\t0.815\n",
      "06/01/2020\t4.062\t0.148\n",
      "07/01/2020\t4.065\t0.062\n",
      "08/01/2020\t4.052\t-0.312\n",
      "09/01/2020\t4.085\t0.822\n",
      "10/01/2020\t4.092\t0.176\n",
      "13/01/2020\t4.141\t1.195\n",
      "14/01/2020\t4.130\t-0.28\n",
      "15/01/2020\t4.184\t1.325\n",
      "16/01/2020\t4.193\t0.201\n",
      "17/01/2020\t4.165\t-0.658\n",
      "20/01/2020\t4.189\t0.564\n",
      "21/01/2020\t4.205\t0.392\n",
      "22/01/2020\t4.175\t-0.706\n",
      "23/01/2020\t4.166\t-0.225\n",
      "24/01/2020\t4.184\t0.432\n",
      "27/01/2020\t4.209\t0.605\n",
      "28/01/2020\t4.193\t-0.38\n",
      "29/01/2020\t4.219\t0.622\n",
      "30/01/2020\t4.257\t0.903\n",
      "31/01/2020\t4.285\t0.648\n",
      "\n"
     ]
    }
   ],
   "source": [
    "# Primeira linha do arquivo de texto, separada por tabulação e pulando para a próxima linha no final\n",
    "texto_final_Janeiro = 'Data:\\tPreço:\\tVariação(em %):\\n' \n",
    "\n",
    "for i in range(0, len(dias_jan)): # Usamos o laço de repetição for para adicionar cada variação em uma linha diferente\n",
    "    linha = prep_linha(dias_jan[i].get_text())\n",
    "    texto_final_Janeiro += linha\n",
    "    texto_final_Janeiro += '\\n'\n",
    "\n",
    "print(texto_final_Janeiro)"
   ]
  },
  {
   "cell_type": "code",
   "execution_count": 18,
   "metadata": {},
   "outputs": [
    {
     "data": {
      "text/plain": [
       "<_io.TextIOWrapper name='variacao-dolar-Janeiro.csv' mode='w' encoding='cp1252'>"
      ]
     },
     "execution_count": 18,
     "metadata": {},
     "output_type": "execute_result"
    }
   ],
   "source": [
    "arquivo_Janeiro = open('variacao-dolar-Janeiro.csv', 'w') # Criamos um csv contendo o arquivo de texto gerado\n",
    "arquivo_Janeiro.write(texto_final_Janeiro)\n",
    "arquivo_Janeiro.close()\n",
    "arquivo_Janeiro "
   ]
  },
  {
   "cell_type": "code",
   "execution_count": 19,
   "metadata": {},
   "outputs": [
    {
     "data": {
      "text/html": [
       "<div>\n",
       "<style scoped>\n",
       "    .dataframe tbody tr th:only-of-type {\n",
       "        vertical-align: middle;\n",
       "    }\n",
       "\n",
       "    .dataframe tbody tr th {\n",
       "        vertical-align: top;\n",
       "    }\n",
       "\n",
       "    .dataframe thead th {\n",
       "        text-align: right;\n",
       "    }\n",
       "</style>\n",
       "<table border=\"1\" class=\"dataframe\">\n",
       "  <thead>\n",
       "    <tr style=\"text-align: right;\">\n",
       "      <th></th>\n",
       "      <th>Data:</th>\n",
       "      <th>Preço:</th>\n",
       "      <th>Variação(em %):</th>\n",
       "    </tr>\n",
       "  </thead>\n",
       "  <tbody>\n",
       "    <tr>\n",
       "      <th>0</th>\n",
       "      <td>03/01/2020</td>\n",
       "      <td>4.056</td>\n",
       "      <td>0.815</td>\n",
       "    </tr>\n",
       "    <tr>\n",
       "      <th>1</th>\n",
       "      <td>06/01/2020</td>\n",
       "      <td>4.062</td>\n",
       "      <td>0.148</td>\n",
       "    </tr>\n",
       "    <tr>\n",
       "      <th>2</th>\n",
       "      <td>07/01/2020</td>\n",
       "      <td>4.065</td>\n",
       "      <td>0.062</td>\n",
       "    </tr>\n",
       "    <tr>\n",
       "      <th>3</th>\n",
       "      <td>08/01/2020</td>\n",
       "      <td>4.052</td>\n",
       "      <td>-0.312</td>\n",
       "    </tr>\n",
       "    <tr>\n",
       "      <th>4</th>\n",
       "      <td>09/01/2020</td>\n",
       "      <td>4.085</td>\n",
       "      <td>0.822</td>\n",
       "    </tr>\n",
       "    <tr>\n",
       "      <th>5</th>\n",
       "      <td>10/01/2020</td>\n",
       "      <td>4.092</td>\n",
       "      <td>0.176</td>\n",
       "    </tr>\n",
       "    <tr>\n",
       "      <th>6</th>\n",
       "      <td>13/01/2020</td>\n",
       "      <td>4.141</td>\n",
       "      <td>1.195</td>\n",
       "    </tr>\n",
       "    <tr>\n",
       "      <th>7</th>\n",
       "      <td>14/01/2020</td>\n",
       "      <td>4.130</td>\n",
       "      <td>-0.280</td>\n",
       "    </tr>\n",
       "    <tr>\n",
       "      <th>8</th>\n",
       "      <td>15/01/2020</td>\n",
       "      <td>4.184</td>\n",
       "      <td>1.325</td>\n",
       "    </tr>\n",
       "    <tr>\n",
       "      <th>9</th>\n",
       "      <td>16/01/2020</td>\n",
       "      <td>4.193</td>\n",
       "      <td>0.201</td>\n",
       "    </tr>\n",
       "    <tr>\n",
       "      <th>10</th>\n",
       "      <td>17/01/2020</td>\n",
       "      <td>4.165</td>\n",
       "      <td>-0.658</td>\n",
       "    </tr>\n",
       "    <tr>\n",
       "      <th>11</th>\n",
       "      <td>20/01/2020</td>\n",
       "      <td>4.189</td>\n",
       "      <td>0.564</td>\n",
       "    </tr>\n",
       "    <tr>\n",
       "      <th>12</th>\n",
       "      <td>21/01/2020</td>\n",
       "      <td>4.205</td>\n",
       "      <td>0.392</td>\n",
       "    </tr>\n",
       "    <tr>\n",
       "      <th>13</th>\n",
       "      <td>22/01/2020</td>\n",
       "      <td>4.175</td>\n",
       "      <td>-0.706</td>\n",
       "    </tr>\n",
       "    <tr>\n",
       "      <th>14</th>\n",
       "      <td>23/01/2020</td>\n",
       "      <td>4.166</td>\n",
       "      <td>-0.225</td>\n",
       "    </tr>\n",
       "    <tr>\n",
       "      <th>15</th>\n",
       "      <td>24/01/2020</td>\n",
       "      <td>4.184</td>\n",
       "      <td>0.432</td>\n",
       "    </tr>\n",
       "    <tr>\n",
       "      <th>16</th>\n",
       "      <td>27/01/2020</td>\n",
       "      <td>4.209</td>\n",
       "      <td>0.605</td>\n",
       "    </tr>\n",
       "    <tr>\n",
       "      <th>17</th>\n",
       "      <td>28/01/2020</td>\n",
       "      <td>4.193</td>\n",
       "      <td>-0.380</td>\n",
       "    </tr>\n",
       "    <tr>\n",
       "      <th>18</th>\n",
       "      <td>29/01/2020</td>\n",
       "      <td>4.219</td>\n",
       "      <td>0.622</td>\n",
       "    </tr>\n",
       "    <tr>\n",
       "      <th>19</th>\n",
       "      <td>30/01/2020</td>\n",
       "      <td>4.257</td>\n",
       "      <td>0.903</td>\n",
       "    </tr>\n",
       "    <tr>\n",
       "      <th>20</th>\n",
       "      <td>31/01/2020</td>\n",
       "      <td>4.285</td>\n",
       "      <td>0.648</td>\n",
       "    </tr>\n",
       "  </tbody>\n",
       "</table>\n",
       "</div>"
      ],
      "text/plain": [
       "         Data:  Preço:  Variação(em %):\n",
       "0   03/01/2020   4.056            0.815\n",
       "1   06/01/2020   4.062            0.148\n",
       "2   07/01/2020   4.065            0.062\n",
       "3   08/01/2020   4.052           -0.312\n",
       "4   09/01/2020   4.085            0.822\n",
       "5   10/01/2020   4.092            0.176\n",
       "6   13/01/2020   4.141            1.195\n",
       "7   14/01/2020   4.130           -0.280\n",
       "8   15/01/2020   4.184            1.325\n",
       "9   16/01/2020   4.193            0.201\n",
       "10  17/01/2020   4.165           -0.658\n",
       "11  20/01/2020   4.189            0.564\n",
       "12  21/01/2020   4.205            0.392\n",
       "13  22/01/2020   4.175           -0.706\n",
       "14  23/01/2020   4.166           -0.225\n",
       "15  24/01/2020   4.184            0.432\n",
       "16  27/01/2020   4.209            0.605\n",
       "17  28/01/2020   4.193           -0.380\n",
       "18  29/01/2020   4.219            0.622\n",
       "19  30/01/2020   4.257            0.903\n",
       "20  31/01/2020   4.285            0.648"
      ]
     },
     "execution_count": 19,
     "metadata": {},
     "output_type": "execute_result"
    }
   ],
   "source": [
    "df_Janeiro = pd.read_csv('variacao-dolar-Janeiro.csv', sep='\\t', encoding='latin-1') # Lemos o arquivo de janeiro com o Pandas\n",
    "df_Janeiro"
   ]
  },
  {
   "cell_type": "code",
   "execution_count": 20,
   "metadata": {},
   "outputs": [
    {
     "data": {
      "text/html": [
       "<div>\n",
       "<style scoped>\n",
       "    .dataframe tbody tr th:only-of-type {\n",
       "        vertical-align: middle;\n",
       "    }\n",
       "\n",
       "    .dataframe tbody tr th {\n",
       "        vertical-align: top;\n",
       "    }\n",
       "\n",
       "    .dataframe thead th {\n",
       "        text-align: right;\n",
       "    }\n",
       "</style>\n",
       "<table border=\"1\" class=\"dataframe\">\n",
       "  <thead>\n",
       "    <tr style=\"text-align: right;\">\n",
       "      <th></th>\n",
       "      <th>Data:</th>\n",
       "      <th>Preço:</th>\n",
       "      <th>Variação(em %):</th>\n",
       "    </tr>\n",
       "  </thead>\n",
       "  <tbody>\n",
       "    <tr>\n",
       "      <th>0</th>\n",
       "      <td>03/01/2020</td>\n",
       "      <td>4.056</td>\n",
       "      <td>0.815</td>\n",
       "    </tr>\n",
       "    <tr>\n",
       "      <th>1</th>\n",
       "      <td>06/01/2020</td>\n",
       "      <td>4.062</td>\n",
       "      <td>0.148</td>\n",
       "    </tr>\n",
       "    <tr>\n",
       "      <th>2</th>\n",
       "      <td>07/01/2020</td>\n",
       "      <td>4.065</td>\n",
       "      <td>0.062</td>\n",
       "    </tr>\n",
       "    <tr>\n",
       "      <th>3</th>\n",
       "      <td>08/01/2020</td>\n",
       "      <td>4.052</td>\n",
       "      <td>-0.312</td>\n",
       "    </tr>\n",
       "    <tr>\n",
       "      <th>4</th>\n",
       "      <td>09/01/2020</td>\n",
       "      <td>4.085</td>\n",
       "      <td>0.822</td>\n",
       "    </tr>\n",
       "    <tr>\n",
       "      <th>5</th>\n",
       "      <td>10/01/2020</td>\n",
       "      <td>4.092</td>\n",
       "      <td>0.176</td>\n",
       "    </tr>\n",
       "  </tbody>\n",
       "</table>\n",
       "</div>"
      ],
      "text/plain": [
       "        Data:  Preço:  Variação(em %):\n",
       "0  03/01/2020   4.056            0.815\n",
       "1  06/01/2020   4.062            0.148\n",
       "2  07/01/2020   4.065            0.062\n",
       "3  08/01/2020   4.052           -0.312\n",
       "4  09/01/2020   4.085            0.822\n",
       "5  10/01/2020   4.092            0.176"
      ]
     },
     "execution_count": 20,
     "metadata": {},
     "output_type": "execute_result"
    }
   ],
   "source": [
    "Seis_dias_de_Janeiro = df_Janeiro.head(6) # Atribuímos à uma variável específica somente os seis primeiros dias de janeiro\n",
    "Seis_dias_de_Janeiro"
   ]
  },
  {
   "cell_type": "code",
   "execution_count": 21,
   "metadata": {},
   "outputs": [
    {
     "data": {
      "text/plain": [
       "0    03/01/2020\n",
       "1    06/01/2020\n",
       "2    07/01/2020\n",
       "3    08/01/2020\n",
       "4    09/01/2020\n",
       "5    10/01/2020\n",
       "Name: Data:, dtype: object"
      ]
     },
     "execution_count": 21,
     "metadata": {},
     "output_type": "execute_result"
    }
   ],
   "source": [
    "Seis_dias_de_Janeiro['Data:']"
   ]
  },
  {
   "cell_type": "code",
   "execution_count": 22,
   "metadata": {},
   "outputs": [
    {
     "data": {
      "text/plain": [
       "0    4.056\n",
       "1    4.062\n",
       "2    4.065\n",
       "3    4.052\n",
       "4    4.085\n",
       "5    4.092\n",
       "Name: Preço:, dtype: float64"
      ]
     },
     "execution_count": 22,
     "metadata": {},
     "output_type": "execute_result"
    }
   ],
   "source": [
    "Seis_dias_de_Janeiro['Preço:']"
   ]
  },
  {
   "cell_type": "markdown",
   "metadata": {},
   "source": [
    " "
   ]
  },
  {
   "cell_type": "markdown",
   "metadata": {},
   "source": [
    "# ***Fevereiro***"
   ]
  },
  {
   "cell_type": "code",
   "execution_count": 23,
   "metadata": {},
   "outputs": [
    {
     "name": "stdout",
     "output_type": "stream",
     "text": [
      "Data:\tPreço:\tVariação(em %):\n",
      "03/02/2020\t4.249\t-0.838\n",
      "04/02/2020\t4.258\t0.209\n",
      "05/02/2020\t4.239\t-0.446\n",
      "06/02/2020\t4.285\t1.078\n",
      "07/02/2020\t4.320\t0.819\n",
      "10/02/2020\t4.322\t0.06\n",
      "11/02/2020\t4.327\t0.104\n",
      "12/02/2020\t4.351\t0.545\n",
      "13/02/2020\t4.334\t-0.382\n",
      "14/02/2020\t4.300\t-0.789\n",
      "17/02/2020\t4.329\t0.681\n",
      "18/02/2020\t4.357\t0.642\n",
      "19/02/2020\t4.365\t0.188\n",
      "20/02/2020\t4.392\t0.612\n",
      "21/02/2020\t4.393\t0.02\n",
      "24/02/2020\t4.393\t0\n",
      "25/02/2020\t4.393\t0\n",
      "26/02/2020\t4.441\t1.095\n",
      "27/02/2020\t4.476\t0.804\n",
      "28/02/2020\t4.481\t0.101\n",
      "\n"
     ]
    }
   ],
   "source": [
    "texto_final_Fevereiro = 'Data:\\tPreço:\\tVariação(em %):\\n'\n",
    "\n",
    "for i in range(0, len(dias_fev)):\n",
    "    linha = prep_linha(dias_fev[i].get_text())\n",
    "    texto_final_Fevereiro += linha\n",
    "    texto_final_Fevereiro += '\\n'\n",
    "print(texto_final_Fevereiro)   "
   ]
  },
  {
   "cell_type": "code",
   "execution_count": 24,
   "metadata": {},
   "outputs": [
    {
     "data": {
      "text/plain": [
       "<_io.TextIOWrapper name='variacao-dolar-Fevereiro.csv' mode='w' encoding='cp1252'>"
      ]
     },
     "execution_count": 24,
     "metadata": {},
     "output_type": "execute_result"
    }
   ],
   "source": [
    "arquivo_Fevereiro = open('variacao-dolar-Fevereiro.csv', 'w')\n",
    "arquivo_Fevereiro.write(texto_final_Fevereiro)\n",
    "arquivo_Fevereiro.close()\n",
    "arquivo_Fevereiro"
   ]
  },
  {
   "cell_type": "code",
   "execution_count": 25,
   "metadata": {},
   "outputs": [
    {
     "data": {
      "text/html": [
       "<div>\n",
       "<style scoped>\n",
       "    .dataframe tbody tr th:only-of-type {\n",
       "        vertical-align: middle;\n",
       "    }\n",
       "\n",
       "    .dataframe tbody tr th {\n",
       "        vertical-align: top;\n",
       "    }\n",
       "\n",
       "    .dataframe thead th {\n",
       "        text-align: right;\n",
       "    }\n",
       "</style>\n",
       "<table border=\"1\" class=\"dataframe\">\n",
       "  <thead>\n",
       "    <tr style=\"text-align: right;\">\n",
       "      <th></th>\n",
       "      <th>Data:</th>\n",
       "      <th>Preço:</th>\n",
       "      <th>Variação(em %):</th>\n",
       "    </tr>\n",
       "  </thead>\n",
       "  <tbody>\n",
       "    <tr>\n",
       "      <th>0</th>\n",
       "      <td>03/02/2020</td>\n",
       "      <td>4.249</td>\n",
       "      <td>-0.838</td>\n",
       "    </tr>\n",
       "    <tr>\n",
       "      <th>1</th>\n",
       "      <td>04/02/2020</td>\n",
       "      <td>4.258</td>\n",
       "      <td>0.209</td>\n",
       "    </tr>\n",
       "    <tr>\n",
       "      <th>2</th>\n",
       "      <td>05/02/2020</td>\n",
       "      <td>4.239</td>\n",
       "      <td>-0.446</td>\n",
       "    </tr>\n",
       "    <tr>\n",
       "      <th>3</th>\n",
       "      <td>06/02/2020</td>\n",
       "      <td>4.285</td>\n",
       "      <td>1.078</td>\n",
       "    </tr>\n",
       "    <tr>\n",
       "      <th>4</th>\n",
       "      <td>07/02/2020</td>\n",
       "      <td>4.320</td>\n",
       "      <td>0.819</td>\n",
       "    </tr>\n",
       "    <tr>\n",
       "      <th>5</th>\n",
       "      <td>10/02/2020</td>\n",
       "      <td>4.322</td>\n",
       "      <td>0.060</td>\n",
       "    </tr>\n",
       "    <tr>\n",
       "      <th>6</th>\n",
       "      <td>11/02/2020</td>\n",
       "      <td>4.327</td>\n",
       "      <td>0.104</td>\n",
       "    </tr>\n",
       "    <tr>\n",
       "      <th>7</th>\n",
       "      <td>12/02/2020</td>\n",
       "      <td>4.351</td>\n",
       "      <td>0.545</td>\n",
       "    </tr>\n",
       "    <tr>\n",
       "      <th>8</th>\n",
       "      <td>13/02/2020</td>\n",
       "      <td>4.334</td>\n",
       "      <td>-0.382</td>\n",
       "    </tr>\n",
       "    <tr>\n",
       "      <th>9</th>\n",
       "      <td>14/02/2020</td>\n",
       "      <td>4.300</td>\n",
       "      <td>-0.789</td>\n",
       "    </tr>\n",
       "    <tr>\n",
       "      <th>10</th>\n",
       "      <td>17/02/2020</td>\n",
       "      <td>4.329</td>\n",
       "      <td>0.681</td>\n",
       "    </tr>\n",
       "    <tr>\n",
       "      <th>11</th>\n",
       "      <td>18/02/2020</td>\n",
       "      <td>4.357</td>\n",
       "      <td>0.642</td>\n",
       "    </tr>\n",
       "    <tr>\n",
       "      <th>12</th>\n",
       "      <td>19/02/2020</td>\n",
       "      <td>4.365</td>\n",
       "      <td>0.188</td>\n",
       "    </tr>\n",
       "    <tr>\n",
       "      <th>13</th>\n",
       "      <td>20/02/2020</td>\n",
       "      <td>4.392</td>\n",
       "      <td>0.612</td>\n",
       "    </tr>\n",
       "    <tr>\n",
       "      <th>14</th>\n",
       "      <td>21/02/2020</td>\n",
       "      <td>4.393</td>\n",
       "      <td>0.020</td>\n",
       "    </tr>\n",
       "    <tr>\n",
       "      <th>15</th>\n",
       "      <td>24/02/2020</td>\n",
       "      <td>4.393</td>\n",
       "      <td>0.000</td>\n",
       "    </tr>\n",
       "    <tr>\n",
       "      <th>16</th>\n",
       "      <td>25/02/2020</td>\n",
       "      <td>4.393</td>\n",
       "      <td>0.000</td>\n",
       "    </tr>\n",
       "    <tr>\n",
       "      <th>17</th>\n",
       "      <td>26/02/2020</td>\n",
       "      <td>4.441</td>\n",
       "      <td>1.095</td>\n",
       "    </tr>\n",
       "    <tr>\n",
       "      <th>18</th>\n",
       "      <td>27/02/2020</td>\n",
       "      <td>4.476</td>\n",
       "      <td>0.804</td>\n",
       "    </tr>\n",
       "    <tr>\n",
       "      <th>19</th>\n",
       "      <td>28/02/2020</td>\n",
       "      <td>4.481</td>\n",
       "      <td>0.101</td>\n",
       "    </tr>\n",
       "  </tbody>\n",
       "</table>\n",
       "</div>"
      ],
      "text/plain": [
       "         Data:  Preço:  Variação(em %):\n",
       "0   03/02/2020   4.249           -0.838\n",
       "1   04/02/2020   4.258            0.209\n",
       "2   05/02/2020   4.239           -0.446\n",
       "3   06/02/2020   4.285            1.078\n",
       "4   07/02/2020   4.320            0.819\n",
       "5   10/02/2020   4.322            0.060\n",
       "6   11/02/2020   4.327            0.104\n",
       "7   12/02/2020   4.351            0.545\n",
       "8   13/02/2020   4.334           -0.382\n",
       "9   14/02/2020   4.300           -0.789\n",
       "10  17/02/2020   4.329            0.681\n",
       "11  18/02/2020   4.357            0.642\n",
       "12  19/02/2020   4.365            0.188\n",
       "13  20/02/2020   4.392            0.612\n",
       "14  21/02/2020   4.393            0.020\n",
       "15  24/02/2020   4.393            0.000\n",
       "16  25/02/2020   4.393            0.000\n",
       "17  26/02/2020   4.441            1.095\n",
       "18  27/02/2020   4.476            0.804\n",
       "19  28/02/2020   4.481            0.101"
      ]
     },
     "execution_count": 25,
     "metadata": {},
     "output_type": "execute_result"
    }
   ],
   "source": [
    "df_Fevereiro = pd.read_csv('variacao-dolar-Fevereiro.csv', sep='\\t', encoding='latin-1')\n",
    "df_Fevereiro"
   ]
  },
  {
   "cell_type": "code",
   "execution_count": 26,
   "metadata": {},
   "outputs": [
    {
     "data": {
      "text/html": [
       "<div>\n",
       "<style scoped>\n",
       "    .dataframe tbody tr th:only-of-type {\n",
       "        vertical-align: middle;\n",
       "    }\n",
       "\n",
       "    .dataframe tbody tr th {\n",
       "        vertical-align: top;\n",
       "    }\n",
       "\n",
       "    .dataframe thead th {\n",
       "        text-align: right;\n",
       "    }\n",
       "</style>\n",
       "<table border=\"1\" class=\"dataframe\">\n",
       "  <thead>\n",
       "    <tr style=\"text-align: right;\">\n",
       "      <th></th>\n",
       "      <th>Data:</th>\n",
       "      <th>Preço:</th>\n",
       "      <th>Variação(em %):</th>\n",
       "    </tr>\n",
       "  </thead>\n",
       "  <tbody>\n",
       "    <tr>\n",
       "      <th>0</th>\n",
       "      <td>03/02/2020</td>\n",
       "      <td>4.249</td>\n",
       "      <td>-0.838</td>\n",
       "    </tr>\n",
       "    <tr>\n",
       "      <th>1</th>\n",
       "      <td>04/02/2020</td>\n",
       "      <td>4.258</td>\n",
       "      <td>0.209</td>\n",
       "    </tr>\n",
       "    <tr>\n",
       "      <th>2</th>\n",
       "      <td>05/02/2020</td>\n",
       "      <td>4.239</td>\n",
       "      <td>-0.446</td>\n",
       "    </tr>\n",
       "    <tr>\n",
       "      <th>3</th>\n",
       "      <td>06/02/2020</td>\n",
       "      <td>4.285</td>\n",
       "      <td>1.078</td>\n",
       "    </tr>\n",
       "    <tr>\n",
       "      <th>4</th>\n",
       "      <td>07/02/2020</td>\n",
       "      <td>4.320</td>\n",
       "      <td>0.819</td>\n",
       "    </tr>\n",
       "    <tr>\n",
       "      <th>5</th>\n",
       "      <td>10/02/2020</td>\n",
       "      <td>4.322</td>\n",
       "      <td>0.060</td>\n",
       "    </tr>\n",
       "  </tbody>\n",
       "</table>\n",
       "</div>"
      ],
      "text/plain": [
       "        Data:  Preço:  Variação(em %):\n",
       "0  03/02/2020   4.249           -0.838\n",
       "1  04/02/2020   4.258            0.209\n",
       "2  05/02/2020   4.239           -0.446\n",
       "3  06/02/2020   4.285            1.078\n",
       "4  07/02/2020   4.320            0.819\n",
       "5  10/02/2020   4.322            0.060"
      ]
     },
     "execution_count": 26,
     "metadata": {},
     "output_type": "execute_result"
    }
   ],
   "source": [
    "Seis_dias_de_Fevereiro = df_Fevereiro.head(6)\n",
    "Seis_dias_de_Fevereiro"
   ]
  },
  {
   "cell_type": "code",
   "execution_count": 27,
   "metadata": {},
   "outputs": [
    {
     "data": {
      "text/plain": [
       "0    03/02/2020\n",
       "1    04/02/2020\n",
       "2    05/02/2020\n",
       "3    06/02/2020\n",
       "4    07/02/2020\n",
       "5    10/02/2020\n",
       "Name: Data:, dtype: object"
      ]
     },
     "execution_count": 27,
     "metadata": {},
     "output_type": "execute_result"
    }
   ],
   "source": [
    "Seis_dias_de_Fevereiro['Data:']"
   ]
  },
  {
   "cell_type": "code",
   "execution_count": 28,
   "metadata": {},
   "outputs": [
    {
     "data": {
      "text/plain": [
       "0    4.249\n",
       "1    4.258\n",
       "2    4.239\n",
       "3    4.285\n",
       "4    4.320\n",
       "5    4.322\n",
       "Name: Preço:, dtype: float64"
      ]
     },
     "execution_count": 28,
     "metadata": {},
     "output_type": "execute_result"
    }
   ],
   "source": [
    "Seis_dias_de_Fevereiro['Preço:']"
   ]
  },
  {
   "cell_type": "markdown",
   "metadata": {},
   "source": [
    " "
   ]
  },
  {
   "cell_type": "markdown",
   "metadata": {},
   "source": [
    "# ***Março***"
   ]
  },
  {
   "cell_type": "code",
   "execution_count": 29,
   "metadata": {},
   "outputs": [
    {
     "name": "stdout",
     "output_type": "stream",
     "text": [
      "Data:\tPreço:\tVariação(em %):\n",
      "02/03/2020\t4.481\t-0.007\n",
      "03/03/2020\t4.479\t-0.047\n",
      "09/03/2020\t4.742\t5.893\n",
      "10/03/2020\t4.645\t-2.06\n",
      "11/03/2020\t4.722\t1.653\n",
      "12/03/2020\t4.788\t1.413\n",
      "13/03/2020\t4.813\t0.512\n",
      "16/03/2020\t5.061\t4.848\n",
      "17/03/2020\t5.006\t-1.099\n",
      "18/03/2020\t5.196\t3.794\n",
      "19/03/2020\t5.098\t-1.88\n",
      "20/03/2020\t5.026\t-1.408\n",
      "23/03/2020\t5.135\t1.436\n",
      "24/03/2020\t5.081\t-1.048\n",
      "25/03/2020\t5.033\t-0.958\n",
      "26/03/2020\t4.999\t-0.674\n",
      "27/03/2020\t5.104\t2.101\n",
      "30/03/2020\t5.180\t1.497\n",
      "31/03/2020\t5.196\t0.305\n",
      "\n"
     ]
    }
   ],
   "source": [
    "texto_final_Março = 'Data:\\tPreço:\\tVariação(em %):\\n'\n",
    "\n",
    "for i in range(0, len(dias_mar)):\n",
    "    linha = prep_linha(dias_mar[i].get_text())\n",
    "    texto_final_Março += linha\n",
    "    texto_final_Março += '\\n'\n",
    "\n",
    "print(texto_final_Março)"
   ]
  },
  {
   "cell_type": "code",
   "execution_count": 30,
   "metadata": {},
   "outputs": [
    {
     "data": {
      "text/plain": [
       "<_io.TextIOWrapper name='variacao-dolar-Março.csv' mode='w' encoding='cp1252'>"
      ]
     },
     "execution_count": 30,
     "metadata": {},
     "output_type": "execute_result"
    }
   ],
   "source": [
    "arquivo_Março = open('variacao-dolar-Março.csv', 'w')\n",
    "arquivo_Março.write(texto_final_Março)\n",
    "arquivo_Março.close()\n",
    "arquivo_Março"
   ]
  },
  {
   "cell_type": "code",
   "execution_count": 31,
   "metadata": {},
   "outputs": [
    {
     "data": {
      "text/html": [
       "<div>\n",
       "<style scoped>\n",
       "    .dataframe tbody tr th:only-of-type {\n",
       "        vertical-align: middle;\n",
       "    }\n",
       "\n",
       "    .dataframe tbody tr th {\n",
       "        vertical-align: top;\n",
       "    }\n",
       "\n",
       "    .dataframe thead th {\n",
       "        text-align: right;\n",
       "    }\n",
       "</style>\n",
       "<table border=\"1\" class=\"dataframe\">\n",
       "  <thead>\n",
       "    <tr style=\"text-align: right;\">\n",
       "      <th></th>\n",
       "      <th>Data:</th>\n",
       "      <th>Preço:</th>\n",
       "      <th>Variação(em %):</th>\n",
       "    </tr>\n",
       "  </thead>\n",
       "  <tbody>\n",
       "    <tr>\n",
       "      <th>0</th>\n",
       "      <td>02/03/2020</td>\n",
       "      <td>4.481</td>\n",
       "      <td>-0.007</td>\n",
       "    </tr>\n",
       "    <tr>\n",
       "      <th>1</th>\n",
       "      <td>03/03/2020</td>\n",
       "      <td>4.479</td>\n",
       "      <td>-0.047</td>\n",
       "    </tr>\n",
       "    <tr>\n",
       "      <th>2</th>\n",
       "      <td>09/03/2020</td>\n",
       "      <td>4.742</td>\n",
       "      <td>5.893</td>\n",
       "    </tr>\n",
       "    <tr>\n",
       "      <th>3</th>\n",
       "      <td>10/03/2020</td>\n",
       "      <td>4.645</td>\n",
       "      <td>-2.060</td>\n",
       "    </tr>\n",
       "    <tr>\n",
       "      <th>4</th>\n",
       "      <td>11/03/2020</td>\n",
       "      <td>4.722</td>\n",
       "      <td>1.653</td>\n",
       "    </tr>\n",
       "    <tr>\n",
       "      <th>5</th>\n",
       "      <td>12/03/2020</td>\n",
       "      <td>4.788</td>\n",
       "      <td>1.413</td>\n",
       "    </tr>\n",
       "    <tr>\n",
       "      <th>6</th>\n",
       "      <td>13/03/2020</td>\n",
       "      <td>4.813</td>\n",
       "      <td>0.512</td>\n",
       "    </tr>\n",
       "    <tr>\n",
       "      <th>7</th>\n",
       "      <td>16/03/2020</td>\n",
       "      <td>5.061</td>\n",
       "      <td>4.848</td>\n",
       "    </tr>\n",
       "    <tr>\n",
       "      <th>8</th>\n",
       "      <td>17/03/2020</td>\n",
       "      <td>5.006</td>\n",
       "      <td>-1.099</td>\n",
       "    </tr>\n",
       "    <tr>\n",
       "      <th>9</th>\n",
       "      <td>18/03/2020</td>\n",
       "      <td>5.196</td>\n",
       "      <td>3.794</td>\n",
       "    </tr>\n",
       "    <tr>\n",
       "      <th>10</th>\n",
       "      <td>19/03/2020</td>\n",
       "      <td>5.098</td>\n",
       "      <td>-1.880</td>\n",
       "    </tr>\n",
       "    <tr>\n",
       "      <th>11</th>\n",
       "      <td>20/03/2020</td>\n",
       "      <td>5.026</td>\n",
       "      <td>-1.408</td>\n",
       "    </tr>\n",
       "    <tr>\n",
       "      <th>12</th>\n",
       "      <td>23/03/2020</td>\n",
       "      <td>5.135</td>\n",
       "      <td>1.436</td>\n",
       "    </tr>\n",
       "    <tr>\n",
       "      <th>13</th>\n",
       "      <td>24/03/2020</td>\n",
       "      <td>5.081</td>\n",
       "      <td>-1.048</td>\n",
       "    </tr>\n",
       "    <tr>\n",
       "      <th>14</th>\n",
       "      <td>25/03/2020</td>\n",
       "      <td>5.033</td>\n",
       "      <td>-0.958</td>\n",
       "    </tr>\n",
       "    <tr>\n",
       "      <th>15</th>\n",
       "      <td>26/03/2020</td>\n",
       "      <td>4.999</td>\n",
       "      <td>-0.674</td>\n",
       "    </tr>\n",
       "    <tr>\n",
       "      <th>16</th>\n",
       "      <td>27/03/2020</td>\n",
       "      <td>5.104</td>\n",
       "      <td>2.101</td>\n",
       "    </tr>\n",
       "    <tr>\n",
       "      <th>17</th>\n",
       "      <td>30/03/2020</td>\n",
       "      <td>5.180</td>\n",
       "      <td>1.497</td>\n",
       "    </tr>\n",
       "    <tr>\n",
       "      <th>18</th>\n",
       "      <td>31/03/2020</td>\n",
       "      <td>5.196</td>\n",
       "      <td>0.305</td>\n",
       "    </tr>\n",
       "  </tbody>\n",
       "</table>\n",
       "</div>"
      ],
      "text/plain": [
       "         Data:  Preço:  Variação(em %):\n",
       "0   02/03/2020   4.481           -0.007\n",
       "1   03/03/2020   4.479           -0.047\n",
       "2   09/03/2020   4.742            5.893\n",
       "3   10/03/2020   4.645           -2.060\n",
       "4   11/03/2020   4.722            1.653\n",
       "5   12/03/2020   4.788            1.413\n",
       "6   13/03/2020   4.813            0.512\n",
       "7   16/03/2020   5.061            4.848\n",
       "8   17/03/2020   5.006           -1.099\n",
       "9   18/03/2020   5.196            3.794\n",
       "10  19/03/2020   5.098           -1.880\n",
       "11  20/03/2020   5.026           -1.408\n",
       "12  23/03/2020   5.135            1.436\n",
       "13  24/03/2020   5.081           -1.048\n",
       "14  25/03/2020   5.033           -0.958\n",
       "15  26/03/2020   4.999           -0.674\n",
       "16  27/03/2020   5.104            2.101\n",
       "17  30/03/2020   5.180            1.497\n",
       "18  31/03/2020   5.196            0.305"
      ]
     },
     "execution_count": 31,
     "metadata": {},
     "output_type": "execute_result"
    }
   ],
   "source": [
    "df_Março = pd.read_csv('variacao-dolar-Março.csv', sep='\\t', encoding='latin-1')\n",
    "df_Março"
   ]
  },
  {
   "cell_type": "code",
   "execution_count": 32,
   "metadata": {},
   "outputs": [
    {
     "data": {
      "text/html": [
       "<div>\n",
       "<style scoped>\n",
       "    .dataframe tbody tr th:only-of-type {\n",
       "        vertical-align: middle;\n",
       "    }\n",
       "\n",
       "    .dataframe tbody tr th {\n",
       "        vertical-align: top;\n",
       "    }\n",
       "\n",
       "    .dataframe thead th {\n",
       "        text-align: right;\n",
       "    }\n",
       "</style>\n",
       "<table border=\"1\" class=\"dataframe\">\n",
       "  <thead>\n",
       "    <tr style=\"text-align: right;\">\n",
       "      <th></th>\n",
       "      <th>Data:</th>\n",
       "      <th>Preço:</th>\n",
       "      <th>Variação(em %):</th>\n",
       "    </tr>\n",
       "  </thead>\n",
       "  <tbody>\n",
       "    <tr>\n",
       "      <th>0</th>\n",
       "      <td>02/03/2020</td>\n",
       "      <td>4.481</td>\n",
       "      <td>-0.007</td>\n",
       "    </tr>\n",
       "    <tr>\n",
       "      <th>1</th>\n",
       "      <td>03/03/2020</td>\n",
       "      <td>4.479</td>\n",
       "      <td>-0.047</td>\n",
       "    </tr>\n",
       "    <tr>\n",
       "      <th>2</th>\n",
       "      <td>09/03/2020</td>\n",
       "      <td>4.742</td>\n",
       "      <td>5.893</td>\n",
       "    </tr>\n",
       "    <tr>\n",
       "      <th>3</th>\n",
       "      <td>10/03/2020</td>\n",
       "      <td>4.645</td>\n",
       "      <td>-2.060</td>\n",
       "    </tr>\n",
       "    <tr>\n",
       "      <th>4</th>\n",
       "      <td>11/03/2020</td>\n",
       "      <td>4.722</td>\n",
       "      <td>1.653</td>\n",
       "    </tr>\n",
       "    <tr>\n",
       "      <th>5</th>\n",
       "      <td>12/03/2020</td>\n",
       "      <td>4.788</td>\n",
       "      <td>1.413</td>\n",
       "    </tr>\n",
       "  </tbody>\n",
       "</table>\n",
       "</div>"
      ],
      "text/plain": [
       "        Data:  Preço:  Variação(em %):\n",
       "0  02/03/2020   4.481           -0.007\n",
       "1  03/03/2020   4.479           -0.047\n",
       "2  09/03/2020   4.742            5.893\n",
       "3  10/03/2020   4.645           -2.060\n",
       "4  11/03/2020   4.722            1.653\n",
       "5  12/03/2020   4.788            1.413"
      ]
     },
     "execution_count": 32,
     "metadata": {},
     "output_type": "execute_result"
    }
   ],
   "source": [
    "Seis_dias_de_Março = df_Março.head(6)\n",
    "Seis_dias_de_Março"
   ]
  },
  {
   "cell_type": "code",
   "execution_count": 33,
   "metadata": {},
   "outputs": [
    {
     "data": {
      "text/plain": [
       "0    02/03/2020\n",
       "1    03/03/2020\n",
       "2    09/03/2020\n",
       "3    10/03/2020\n",
       "4    11/03/2020\n",
       "5    12/03/2020\n",
       "Name: Data:, dtype: object"
      ]
     },
     "execution_count": 33,
     "metadata": {},
     "output_type": "execute_result"
    }
   ],
   "source": [
    "Seis_dias_de_Março['Data:']"
   ]
  },
  {
   "cell_type": "code",
   "execution_count": 34,
   "metadata": {},
   "outputs": [
    {
     "data": {
      "text/plain": [
       "0    4.481\n",
       "1    4.479\n",
       "2    4.742\n",
       "3    4.645\n",
       "4    4.722\n",
       "5    4.788\n",
       "Name: Preço:, dtype: float64"
      ]
     },
     "execution_count": 34,
     "metadata": {},
     "output_type": "execute_result"
    }
   ],
   "source": [
    "Seis_dias_de_Março['Preço:']"
   ]
  },
  {
   "cell_type": "markdown",
   "metadata": {},
   "source": [
    " "
   ]
  },
  {
   "cell_type": "markdown",
   "metadata": {},
   "source": [
    "# ***Abril***"
   ]
  },
  {
   "cell_type": "code",
   "execution_count": 35,
   "metadata": {},
   "outputs": [
    {
     "name": "stdout",
     "output_type": "stream",
     "text": [
      "Data:\tPreço:\tVariação(em %):\n",
      "01/04/2020\t5.262\t1.278\n",
      "02/04/2020\t5.265\t0.053\n",
      "03/04/2020\t5.327\t1.181\n",
      "06/04/2020\t5.294\t-0.627\n",
      "07/04/2020\t5.225\t-1.301\n",
      "08/04/2020\t5.141\t-1.604\n",
      "09/04/2020\t5.093\t-0.947\n",
      "10/04/2020\t5.093\t0\n",
      "13/04/2020\t5.180\t1.72\n",
      "14/04/2020\t5.189\t0.162\n",
      "15/04/2020\t5.242\t1.029\n",
      "16/04/2020\t5.256\t0.269\n",
      "17/04/2020\t5.238\t-0.339\n",
      "20/04/2020\t5.308\t1.327\n",
      "21/04/2020\t5.308\t0\n",
      "22/04/2020\t5.409\t1.91\n",
      "23/04/2020\t5.529\t2.206\n",
      "24/04/2020\t5.657\t2.33\n",
      "27/04/2020\t5.658\t0.014\n",
      "28/04/2020\t5.515\t-2.529\n",
      "29/04/2020\t5.358\t-2.843\n",
      "30/04/2020\t5.440\t1.521\n",
      "\n"
     ]
    }
   ],
   "source": [
    "texto_final_Abril = 'Data:\\tPreço:\\tVariação(em %):\\n'   \n",
    "    \n",
    "for i in range(0, len(dias_abr)):\n",
    "    linha = prep_linha(dias_abr[i].get_text())\n",
    "    texto_final_Abril += linha\n",
    "    texto_final_Abril += '\\n'\n",
    "    \n",
    "print(texto_final_Abril)\n",
    "    "
   ]
  },
  {
   "cell_type": "code",
   "execution_count": 36,
   "metadata": {},
   "outputs": [
    {
     "data": {
      "text/plain": [
       "<_io.TextIOWrapper name='variacao-dolar-Abril.csv' mode='w' encoding='cp1252'>"
      ]
     },
     "execution_count": 36,
     "metadata": {},
     "output_type": "execute_result"
    }
   ],
   "source": [
    "arquivo_Abril = open('variacao-dolar-Abril.csv', 'w')\n",
    "arquivo_Abril.write(texto_final_Abril)\n",
    "arquivo_Abril.close()\n",
    "arquivo_Abril "
   ]
  },
  {
   "cell_type": "code",
   "execution_count": 37,
   "metadata": {},
   "outputs": [
    {
     "data": {
      "text/html": [
       "<div>\n",
       "<style scoped>\n",
       "    .dataframe tbody tr th:only-of-type {\n",
       "        vertical-align: middle;\n",
       "    }\n",
       "\n",
       "    .dataframe tbody tr th {\n",
       "        vertical-align: top;\n",
       "    }\n",
       "\n",
       "    .dataframe thead th {\n",
       "        text-align: right;\n",
       "    }\n",
       "</style>\n",
       "<table border=\"1\" class=\"dataframe\">\n",
       "  <thead>\n",
       "    <tr style=\"text-align: right;\">\n",
       "      <th></th>\n",
       "      <th>Data:</th>\n",
       "      <th>Preço:</th>\n",
       "      <th>Variação(em %):</th>\n",
       "    </tr>\n",
       "  </thead>\n",
       "  <tbody>\n",
       "    <tr>\n",
       "      <th>0</th>\n",
       "      <td>01/04/2020</td>\n",
       "      <td>5.262</td>\n",
       "      <td>1.278</td>\n",
       "    </tr>\n",
       "    <tr>\n",
       "      <th>1</th>\n",
       "      <td>02/04/2020</td>\n",
       "      <td>5.265</td>\n",
       "      <td>0.053</td>\n",
       "    </tr>\n",
       "    <tr>\n",
       "      <th>2</th>\n",
       "      <td>03/04/2020</td>\n",
       "      <td>5.327</td>\n",
       "      <td>1.181</td>\n",
       "    </tr>\n",
       "    <tr>\n",
       "      <th>3</th>\n",
       "      <td>06/04/2020</td>\n",
       "      <td>5.294</td>\n",
       "      <td>-0.627</td>\n",
       "    </tr>\n",
       "    <tr>\n",
       "      <th>4</th>\n",
       "      <td>07/04/2020</td>\n",
       "      <td>5.225</td>\n",
       "      <td>-1.301</td>\n",
       "    </tr>\n",
       "    <tr>\n",
       "      <th>5</th>\n",
       "      <td>08/04/2020</td>\n",
       "      <td>5.141</td>\n",
       "      <td>-1.604</td>\n",
       "    </tr>\n",
       "    <tr>\n",
       "      <th>6</th>\n",
       "      <td>09/04/2020</td>\n",
       "      <td>5.093</td>\n",
       "      <td>-0.947</td>\n",
       "    </tr>\n",
       "    <tr>\n",
       "      <th>7</th>\n",
       "      <td>10/04/2020</td>\n",
       "      <td>5.093</td>\n",
       "      <td>0.000</td>\n",
       "    </tr>\n",
       "    <tr>\n",
       "      <th>8</th>\n",
       "      <td>13/04/2020</td>\n",
       "      <td>5.180</td>\n",
       "      <td>1.720</td>\n",
       "    </tr>\n",
       "    <tr>\n",
       "      <th>9</th>\n",
       "      <td>14/04/2020</td>\n",
       "      <td>5.189</td>\n",
       "      <td>0.162</td>\n",
       "    </tr>\n",
       "    <tr>\n",
       "      <th>10</th>\n",
       "      <td>15/04/2020</td>\n",
       "      <td>5.242</td>\n",
       "      <td>1.029</td>\n",
       "    </tr>\n",
       "    <tr>\n",
       "      <th>11</th>\n",
       "      <td>16/04/2020</td>\n",
       "      <td>5.256</td>\n",
       "      <td>0.269</td>\n",
       "    </tr>\n",
       "    <tr>\n",
       "      <th>12</th>\n",
       "      <td>17/04/2020</td>\n",
       "      <td>5.238</td>\n",
       "      <td>-0.339</td>\n",
       "    </tr>\n",
       "    <tr>\n",
       "      <th>13</th>\n",
       "      <td>20/04/2020</td>\n",
       "      <td>5.308</td>\n",
       "      <td>1.327</td>\n",
       "    </tr>\n",
       "    <tr>\n",
       "      <th>14</th>\n",
       "      <td>21/04/2020</td>\n",
       "      <td>5.308</td>\n",
       "      <td>0.000</td>\n",
       "    </tr>\n",
       "    <tr>\n",
       "      <th>15</th>\n",
       "      <td>22/04/2020</td>\n",
       "      <td>5.409</td>\n",
       "      <td>1.910</td>\n",
       "    </tr>\n",
       "    <tr>\n",
       "      <th>16</th>\n",
       "      <td>23/04/2020</td>\n",
       "      <td>5.529</td>\n",
       "      <td>2.206</td>\n",
       "    </tr>\n",
       "    <tr>\n",
       "      <th>17</th>\n",
       "      <td>24/04/2020</td>\n",
       "      <td>5.657</td>\n",
       "      <td>2.330</td>\n",
       "    </tr>\n",
       "    <tr>\n",
       "      <th>18</th>\n",
       "      <td>27/04/2020</td>\n",
       "      <td>5.658</td>\n",
       "      <td>0.014</td>\n",
       "    </tr>\n",
       "    <tr>\n",
       "      <th>19</th>\n",
       "      <td>28/04/2020</td>\n",
       "      <td>5.515</td>\n",
       "      <td>-2.529</td>\n",
       "    </tr>\n",
       "    <tr>\n",
       "      <th>20</th>\n",
       "      <td>29/04/2020</td>\n",
       "      <td>5.358</td>\n",
       "      <td>-2.843</td>\n",
       "    </tr>\n",
       "    <tr>\n",
       "      <th>21</th>\n",
       "      <td>30/04/2020</td>\n",
       "      <td>5.440</td>\n",
       "      <td>1.521</td>\n",
       "    </tr>\n",
       "  </tbody>\n",
       "</table>\n",
       "</div>"
      ],
      "text/plain": [
       "         Data:  Preço:  Variação(em %):\n",
       "0   01/04/2020   5.262            1.278\n",
       "1   02/04/2020   5.265            0.053\n",
       "2   03/04/2020   5.327            1.181\n",
       "3   06/04/2020   5.294           -0.627\n",
       "4   07/04/2020   5.225           -1.301\n",
       "5   08/04/2020   5.141           -1.604\n",
       "6   09/04/2020   5.093           -0.947\n",
       "7   10/04/2020   5.093            0.000\n",
       "8   13/04/2020   5.180            1.720\n",
       "9   14/04/2020   5.189            0.162\n",
       "10  15/04/2020   5.242            1.029\n",
       "11  16/04/2020   5.256            0.269\n",
       "12  17/04/2020   5.238           -0.339\n",
       "13  20/04/2020   5.308            1.327\n",
       "14  21/04/2020   5.308            0.000\n",
       "15  22/04/2020   5.409            1.910\n",
       "16  23/04/2020   5.529            2.206\n",
       "17  24/04/2020   5.657            2.330\n",
       "18  27/04/2020   5.658            0.014\n",
       "19  28/04/2020   5.515           -2.529\n",
       "20  29/04/2020   5.358           -2.843\n",
       "21  30/04/2020   5.440            1.521"
      ]
     },
     "execution_count": 37,
     "metadata": {},
     "output_type": "execute_result"
    }
   ],
   "source": [
    "df_Abril = pd.read_csv('variacao-dolar-Abril.csv', sep='\\t', encoding='latin-1')\n",
    "df_Abril"
   ]
  },
  {
   "cell_type": "code",
   "execution_count": 38,
   "metadata": {},
   "outputs": [
    {
     "data": {
      "text/html": [
       "<div>\n",
       "<style scoped>\n",
       "    .dataframe tbody tr th:only-of-type {\n",
       "        vertical-align: middle;\n",
       "    }\n",
       "\n",
       "    .dataframe tbody tr th {\n",
       "        vertical-align: top;\n",
       "    }\n",
       "\n",
       "    .dataframe thead th {\n",
       "        text-align: right;\n",
       "    }\n",
       "</style>\n",
       "<table border=\"1\" class=\"dataframe\">\n",
       "  <thead>\n",
       "    <tr style=\"text-align: right;\">\n",
       "      <th></th>\n",
       "      <th>Data:</th>\n",
       "      <th>Preço:</th>\n",
       "      <th>Variação(em %):</th>\n",
       "    </tr>\n",
       "  </thead>\n",
       "  <tbody>\n",
       "    <tr>\n",
       "      <th>0</th>\n",
       "      <td>01/04/2020</td>\n",
       "      <td>5.262</td>\n",
       "      <td>1.278</td>\n",
       "    </tr>\n",
       "    <tr>\n",
       "      <th>1</th>\n",
       "      <td>02/04/2020</td>\n",
       "      <td>5.265</td>\n",
       "      <td>0.053</td>\n",
       "    </tr>\n",
       "    <tr>\n",
       "      <th>2</th>\n",
       "      <td>03/04/2020</td>\n",
       "      <td>5.327</td>\n",
       "      <td>1.181</td>\n",
       "    </tr>\n",
       "    <tr>\n",
       "      <th>3</th>\n",
       "      <td>06/04/2020</td>\n",
       "      <td>5.294</td>\n",
       "      <td>-0.627</td>\n",
       "    </tr>\n",
       "    <tr>\n",
       "      <th>4</th>\n",
       "      <td>07/04/2020</td>\n",
       "      <td>5.225</td>\n",
       "      <td>-1.301</td>\n",
       "    </tr>\n",
       "    <tr>\n",
       "      <th>5</th>\n",
       "      <td>08/04/2020</td>\n",
       "      <td>5.141</td>\n",
       "      <td>-1.604</td>\n",
       "    </tr>\n",
       "  </tbody>\n",
       "</table>\n",
       "</div>"
      ],
      "text/plain": [
       "        Data:  Preço:  Variação(em %):\n",
       "0  01/04/2020   5.262            1.278\n",
       "1  02/04/2020   5.265            0.053\n",
       "2  03/04/2020   5.327            1.181\n",
       "3  06/04/2020   5.294           -0.627\n",
       "4  07/04/2020   5.225           -1.301\n",
       "5  08/04/2020   5.141           -1.604"
      ]
     },
     "execution_count": 38,
     "metadata": {},
     "output_type": "execute_result"
    }
   ],
   "source": [
    "Seis_dias_de_Abril = df_Abril.head(6)\n",
    "Seis_dias_de_Abril"
   ]
  },
  {
   "cell_type": "code",
   "execution_count": 39,
   "metadata": {},
   "outputs": [
    {
     "data": {
      "text/plain": [
       "0    01/04/2020\n",
       "1    02/04/2020\n",
       "2    03/04/2020\n",
       "3    06/04/2020\n",
       "4    07/04/2020\n",
       "5    08/04/2020\n",
       "Name: Data:, dtype: object"
      ]
     },
     "execution_count": 39,
     "metadata": {},
     "output_type": "execute_result"
    }
   ],
   "source": [
    "Seis_dias_de_Abril['Data:']"
   ]
  },
  {
   "cell_type": "code",
   "execution_count": 40,
   "metadata": {},
   "outputs": [
    {
     "data": {
      "text/plain": [
       "0    5.262\n",
       "1    5.265\n",
       "2    5.327\n",
       "3    5.294\n",
       "4    5.225\n",
       "5    5.141\n",
       "Name: Preço:, dtype: float64"
      ]
     },
     "execution_count": 40,
     "metadata": {},
     "output_type": "execute_result"
    }
   ],
   "source": [
    "Seis_dias_de_Abril['Preço:']"
   ]
  },
  {
   "cell_type": "markdown",
   "metadata": {},
   "source": [
    " "
   ]
  },
  {
   "cell_type": "markdown",
   "metadata": {},
   "source": [
    "#  ***Maio***"
   ]
  },
  {
   "cell_type": "code",
   "execution_count": 41,
   "metadata": {},
   "outputs": [
    {
     "name": "stdout",
     "output_type": "stream",
     "text": [
      "Data:\tPreço:\tVariação(em %):\n",
      "01/05/2020\t5.440\t0\n",
      "04/05/2020\t5.521\t1.491\n",
      "05/05/2020\t5.593\t1.313\n",
      "06/05/2020\t5.703\t1.961\n",
      "07/05/2020\t5.846\t2.506\n",
      "08/05/2020\t5.743\t-1.764\n",
      "11/05/2020\t5.819\t1.33\n",
      "12/05/2020\t5.869\t0.858\n",
      "13/05/2020\t5.901\t0.538\n",
      "14/05/2020\t5.819\t-1.391\n",
      "15/05/2020\t5.838\t0.34\n",
      "18/05/2020\t5.717\t-2.086\n",
      "19/05/2020\t5.756\t0.694\n",
      "20/05/2020\t5.688\t-1.195\n",
      "21/05/2020\t5.581\t-1.871\n",
      "22/05/2020\t5.584\t0.056\n",
      "25/05/2020\t5.459\t-2.247\n",
      "26/05/2020\t5.349\t-2.004\n",
      "27/05/2020\t5.282\t-1.253\n",
      "28/05/2020\t5.381\t1.872\n",
      "29/05/2020\t5.336\t-0.833\n",
      "\n"
     ]
    }
   ],
   "source": [
    "texto_final_Maio = 'Data:\\tPreço:\\tVariação(em %):\\n'\n",
    "\n",
    "for i in range(0, len(dias_mai)):\n",
    "    linha = prep_linha(dias_mai[i].get_text())\n",
    "    texto_final_Maio += linha\n",
    "    texto_final_Maio += '\\n'\n",
    "\n",
    "print(texto_final_Maio)"
   ]
  },
  {
   "cell_type": "code",
   "execution_count": 42,
   "metadata": {},
   "outputs": [
    {
     "data": {
      "text/plain": [
       "<_io.TextIOWrapper name='variacao-dolar-Maio.csv' mode='w' encoding='cp1252'>"
      ]
     },
     "execution_count": 42,
     "metadata": {},
     "output_type": "execute_result"
    }
   ],
   "source": [
    "arquivo_Maio = open('variacao-dolar-Maio.csv', 'w')\n",
    "arquivo_Maio.write(texto_final_Maio)\n",
    "arquivo_Maio.close()\n",
    "arquivo_Maio "
   ]
  },
  {
   "cell_type": "code",
   "execution_count": 43,
   "metadata": {},
   "outputs": [
    {
     "data": {
      "text/html": [
       "<div>\n",
       "<style scoped>\n",
       "    .dataframe tbody tr th:only-of-type {\n",
       "        vertical-align: middle;\n",
       "    }\n",
       "\n",
       "    .dataframe tbody tr th {\n",
       "        vertical-align: top;\n",
       "    }\n",
       "\n",
       "    .dataframe thead th {\n",
       "        text-align: right;\n",
       "    }\n",
       "</style>\n",
       "<table border=\"1\" class=\"dataframe\">\n",
       "  <thead>\n",
       "    <tr style=\"text-align: right;\">\n",
       "      <th></th>\n",
       "      <th>Data:</th>\n",
       "      <th>Preço:</th>\n",
       "      <th>Variação(em %):</th>\n",
       "    </tr>\n",
       "  </thead>\n",
       "  <tbody>\n",
       "    <tr>\n",
       "      <th>0</th>\n",
       "      <td>01/05/2020</td>\n",
       "      <td>5.440</td>\n",
       "      <td>0.000</td>\n",
       "    </tr>\n",
       "    <tr>\n",
       "      <th>1</th>\n",
       "      <td>04/05/2020</td>\n",
       "      <td>5.521</td>\n",
       "      <td>1.491</td>\n",
       "    </tr>\n",
       "    <tr>\n",
       "      <th>2</th>\n",
       "      <td>05/05/2020</td>\n",
       "      <td>5.593</td>\n",
       "      <td>1.313</td>\n",
       "    </tr>\n",
       "    <tr>\n",
       "      <th>3</th>\n",
       "      <td>06/05/2020</td>\n",
       "      <td>5.703</td>\n",
       "      <td>1.961</td>\n",
       "    </tr>\n",
       "    <tr>\n",
       "      <th>4</th>\n",
       "      <td>07/05/2020</td>\n",
       "      <td>5.846</td>\n",
       "      <td>2.506</td>\n",
       "    </tr>\n",
       "    <tr>\n",
       "      <th>5</th>\n",
       "      <td>08/05/2020</td>\n",
       "      <td>5.743</td>\n",
       "      <td>-1.764</td>\n",
       "    </tr>\n",
       "    <tr>\n",
       "      <th>6</th>\n",
       "      <td>11/05/2020</td>\n",
       "      <td>5.819</td>\n",
       "      <td>1.330</td>\n",
       "    </tr>\n",
       "    <tr>\n",
       "      <th>7</th>\n",
       "      <td>12/05/2020</td>\n",
       "      <td>5.869</td>\n",
       "      <td>0.858</td>\n",
       "    </tr>\n",
       "    <tr>\n",
       "      <th>8</th>\n",
       "      <td>13/05/2020</td>\n",
       "      <td>5.901</td>\n",
       "      <td>0.538</td>\n",
       "    </tr>\n",
       "    <tr>\n",
       "      <th>9</th>\n",
       "      <td>14/05/2020</td>\n",
       "      <td>5.819</td>\n",
       "      <td>-1.391</td>\n",
       "    </tr>\n",
       "    <tr>\n",
       "      <th>10</th>\n",
       "      <td>15/05/2020</td>\n",
       "      <td>5.838</td>\n",
       "      <td>0.340</td>\n",
       "    </tr>\n",
       "    <tr>\n",
       "      <th>11</th>\n",
       "      <td>18/05/2020</td>\n",
       "      <td>5.717</td>\n",
       "      <td>-2.086</td>\n",
       "    </tr>\n",
       "    <tr>\n",
       "      <th>12</th>\n",
       "      <td>19/05/2020</td>\n",
       "      <td>5.756</td>\n",
       "      <td>0.694</td>\n",
       "    </tr>\n",
       "    <tr>\n",
       "      <th>13</th>\n",
       "      <td>20/05/2020</td>\n",
       "      <td>5.688</td>\n",
       "      <td>-1.195</td>\n",
       "    </tr>\n",
       "    <tr>\n",
       "      <th>14</th>\n",
       "      <td>21/05/2020</td>\n",
       "      <td>5.581</td>\n",
       "      <td>-1.871</td>\n",
       "    </tr>\n",
       "    <tr>\n",
       "      <th>15</th>\n",
       "      <td>22/05/2020</td>\n",
       "      <td>5.584</td>\n",
       "      <td>0.056</td>\n",
       "    </tr>\n",
       "    <tr>\n",
       "      <th>16</th>\n",
       "      <td>25/05/2020</td>\n",
       "      <td>5.459</td>\n",
       "      <td>-2.247</td>\n",
       "    </tr>\n",
       "    <tr>\n",
       "      <th>17</th>\n",
       "      <td>26/05/2020</td>\n",
       "      <td>5.349</td>\n",
       "      <td>-2.004</td>\n",
       "    </tr>\n",
       "    <tr>\n",
       "      <th>18</th>\n",
       "      <td>27/05/2020</td>\n",
       "      <td>5.282</td>\n",
       "      <td>-1.253</td>\n",
       "    </tr>\n",
       "    <tr>\n",
       "      <th>19</th>\n",
       "      <td>28/05/2020</td>\n",
       "      <td>5.381</td>\n",
       "      <td>1.872</td>\n",
       "    </tr>\n",
       "    <tr>\n",
       "      <th>20</th>\n",
       "      <td>29/05/2020</td>\n",
       "      <td>5.336</td>\n",
       "      <td>-0.833</td>\n",
       "    </tr>\n",
       "  </tbody>\n",
       "</table>\n",
       "</div>"
      ],
      "text/plain": [
       "         Data:  Preço:  Variação(em %):\n",
       "0   01/05/2020   5.440            0.000\n",
       "1   04/05/2020   5.521            1.491\n",
       "2   05/05/2020   5.593            1.313\n",
       "3   06/05/2020   5.703            1.961\n",
       "4   07/05/2020   5.846            2.506\n",
       "5   08/05/2020   5.743           -1.764\n",
       "6   11/05/2020   5.819            1.330\n",
       "7   12/05/2020   5.869            0.858\n",
       "8   13/05/2020   5.901            0.538\n",
       "9   14/05/2020   5.819           -1.391\n",
       "10  15/05/2020   5.838            0.340\n",
       "11  18/05/2020   5.717           -2.086\n",
       "12  19/05/2020   5.756            0.694\n",
       "13  20/05/2020   5.688           -1.195\n",
       "14  21/05/2020   5.581           -1.871\n",
       "15  22/05/2020   5.584            0.056\n",
       "16  25/05/2020   5.459           -2.247\n",
       "17  26/05/2020   5.349           -2.004\n",
       "18  27/05/2020   5.282           -1.253\n",
       "19  28/05/2020   5.381            1.872\n",
       "20  29/05/2020   5.336           -0.833"
      ]
     },
     "execution_count": 43,
     "metadata": {},
     "output_type": "execute_result"
    }
   ],
   "source": [
    "df_Maio = pd.read_csv('variacao-dolar-Maio.csv', sep='\\t', encoding='latin-1')\n",
    "df_Maio"
   ]
  },
  {
   "cell_type": "code",
   "execution_count": 44,
   "metadata": {},
   "outputs": [
    {
     "data": {
      "text/html": [
       "<div>\n",
       "<style scoped>\n",
       "    .dataframe tbody tr th:only-of-type {\n",
       "        vertical-align: middle;\n",
       "    }\n",
       "\n",
       "    .dataframe tbody tr th {\n",
       "        vertical-align: top;\n",
       "    }\n",
       "\n",
       "    .dataframe thead th {\n",
       "        text-align: right;\n",
       "    }\n",
       "</style>\n",
       "<table border=\"1\" class=\"dataframe\">\n",
       "  <thead>\n",
       "    <tr style=\"text-align: right;\">\n",
       "      <th></th>\n",
       "      <th>Data:</th>\n",
       "      <th>Preço:</th>\n",
       "      <th>Variação(em %):</th>\n",
       "    </tr>\n",
       "  </thead>\n",
       "  <tbody>\n",
       "    <tr>\n",
       "      <th>0</th>\n",
       "      <td>01/05/2020</td>\n",
       "      <td>5.440</td>\n",
       "      <td>0.000</td>\n",
       "    </tr>\n",
       "    <tr>\n",
       "      <th>1</th>\n",
       "      <td>04/05/2020</td>\n",
       "      <td>5.521</td>\n",
       "      <td>1.491</td>\n",
       "    </tr>\n",
       "    <tr>\n",
       "      <th>2</th>\n",
       "      <td>05/05/2020</td>\n",
       "      <td>5.593</td>\n",
       "      <td>1.313</td>\n",
       "    </tr>\n",
       "    <tr>\n",
       "      <th>3</th>\n",
       "      <td>06/05/2020</td>\n",
       "      <td>5.703</td>\n",
       "      <td>1.961</td>\n",
       "    </tr>\n",
       "    <tr>\n",
       "      <th>4</th>\n",
       "      <td>07/05/2020</td>\n",
       "      <td>5.846</td>\n",
       "      <td>2.506</td>\n",
       "    </tr>\n",
       "    <tr>\n",
       "      <th>5</th>\n",
       "      <td>08/05/2020</td>\n",
       "      <td>5.743</td>\n",
       "      <td>-1.764</td>\n",
       "    </tr>\n",
       "  </tbody>\n",
       "</table>\n",
       "</div>"
      ],
      "text/plain": [
       "        Data:  Preço:  Variação(em %):\n",
       "0  01/05/2020   5.440            0.000\n",
       "1  04/05/2020   5.521            1.491\n",
       "2  05/05/2020   5.593            1.313\n",
       "3  06/05/2020   5.703            1.961\n",
       "4  07/05/2020   5.846            2.506\n",
       "5  08/05/2020   5.743           -1.764"
      ]
     },
     "execution_count": 44,
     "metadata": {},
     "output_type": "execute_result"
    }
   ],
   "source": [
    "Seis_dias_de_Maio = df_Maio.head(6)\n",
    "Seis_dias_de_Maio"
   ]
  },
  {
   "cell_type": "code",
   "execution_count": 45,
   "metadata": {},
   "outputs": [
    {
     "data": {
      "text/plain": [
       "0    01/05/2020\n",
       "1    04/05/2020\n",
       "2    05/05/2020\n",
       "3    06/05/2020\n",
       "4    07/05/2020\n",
       "5    08/05/2020\n",
       "Name: Data:, dtype: object"
      ]
     },
     "execution_count": 45,
     "metadata": {},
     "output_type": "execute_result"
    }
   ],
   "source": [
    "Seis_dias_de_Maio['Data:']"
   ]
  },
  {
   "cell_type": "code",
   "execution_count": 46,
   "metadata": {},
   "outputs": [
    {
     "data": {
      "text/plain": [
       "0    5.440\n",
       "1    5.521\n",
       "2    5.593\n",
       "3    5.703\n",
       "4    5.846\n",
       "5    5.743\n",
       "Name: Preço:, dtype: float64"
      ]
     },
     "execution_count": 46,
     "metadata": {},
     "output_type": "execute_result"
    }
   ],
   "source": [
    "Seis_dias_de_Maio['Preço:']"
   ]
  },
  {
   "cell_type": "markdown",
   "metadata": {},
   "source": [
    " "
   ]
  },
  {
   "cell_type": "markdown",
   "metadata": {},
   "source": [
    "# ***Junho***"
   ]
  },
  {
   "cell_type": "code",
   "execution_count": 47,
   "metadata": {},
   "outputs": [
    {
     "name": "stdout",
     "output_type": "stream",
     "text": [
      "Data:\tPreço:\tVariação(em %):\n",
      "01/06/2020\t5.387\t0.944\n",
      "02/06/2020\t5.212\t-3.252\n",
      "03/06/2020\t5.093\t-2.285\n",
      "04/06/2020\t5.130\t0.73\n",
      "05/06/2020\t4.993\t-2.665\n",
      "08/06/2020\t4.854\t-2.786\n",
      "09/06/2020\t4.888\t0.707\n",
      "10/06/2020\t4.862\t-0.544\n",
      "\n"
     ]
    }
   ],
   "source": [
    "texto_final_Junho = 'Data:\\tPreço:\\tVariação(em %):\\n'\n",
    "\n",
    "for i in range(0, len(dias_jun)):\n",
    "    linha = prep_linha(dias_jun[i].get_text())\n",
    "    texto_final_Junho += linha\n",
    "    texto_final_Junho += '\\n'\n",
    "print(texto_final_Junho)\n",
    "    "
   ]
  },
  {
   "cell_type": "code",
   "execution_count": 48,
   "metadata": {},
   "outputs": [
    {
     "data": {
      "text/plain": [
       "<_io.TextIOWrapper name='variacao-dolar-Junho.csv' mode='w' encoding='cp1252'>"
      ]
     },
     "execution_count": 48,
     "metadata": {},
     "output_type": "execute_result"
    }
   ],
   "source": [
    "arquivo_Junho = open('variacao-dolar-Junho.csv', 'w')\n",
    "arquivo_Junho.write(texto_final_Junho)\n",
    "arquivo_Junho.close()\n",
    "arquivo_Junho"
   ]
  },
  {
   "cell_type": "code",
   "execution_count": 49,
   "metadata": {},
   "outputs": [
    {
     "data": {
      "text/html": [
       "<div>\n",
       "<style scoped>\n",
       "    .dataframe tbody tr th:only-of-type {\n",
       "        vertical-align: middle;\n",
       "    }\n",
       "\n",
       "    .dataframe tbody tr th {\n",
       "        vertical-align: top;\n",
       "    }\n",
       "\n",
       "    .dataframe thead th {\n",
       "        text-align: right;\n",
       "    }\n",
       "</style>\n",
       "<table border=\"1\" class=\"dataframe\">\n",
       "  <thead>\n",
       "    <tr style=\"text-align: right;\">\n",
       "      <th></th>\n",
       "      <th>Data:</th>\n",
       "      <th>Preço:</th>\n",
       "      <th>Variação(em %):</th>\n",
       "    </tr>\n",
       "  </thead>\n",
       "  <tbody>\n",
       "    <tr>\n",
       "      <th>0</th>\n",
       "      <td>01/06/2020</td>\n",
       "      <td>5.387</td>\n",
       "      <td>0.944</td>\n",
       "    </tr>\n",
       "    <tr>\n",
       "      <th>1</th>\n",
       "      <td>02/06/2020</td>\n",
       "      <td>5.212</td>\n",
       "      <td>-3.252</td>\n",
       "    </tr>\n",
       "    <tr>\n",
       "      <th>2</th>\n",
       "      <td>03/06/2020</td>\n",
       "      <td>5.093</td>\n",
       "      <td>-2.285</td>\n",
       "    </tr>\n",
       "    <tr>\n",
       "      <th>3</th>\n",
       "      <td>04/06/2020</td>\n",
       "      <td>5.130</td>\n",
       "      <td>0.730</td>\n",
       "    </tr>\n",
       "    <tr>\n",
       "      <th>4</th>\n",
       "      <td>05/06/2020</td>\n",
       "      <td>4.993</td>\n",
       "      <td>-2.665</td>\n",
       "    </tr>\n",
       "    <tr>\n",
       "      <th>5</th>\n",
       "      <td>08/06/2020</td>\n",
       "      <td>4.854</td>\n",
       "      <td>-2.786</td>\n",
       "    </tr>\n",
       "    <tr>\n",
       "      <th>6</th>\n",
       "      <td>09/06/2020</td>\n",
       "      <td>4.888</td>\n",
       "      <td>0.707</td>\n",
       "    </tr>\n",
       "    <tr>\n",
       "      <th>7</th>\n",
       "      <td>10/06/2020</td>\n",
       "      <td>4.862</td>\n",
       "      <td>-0.544</td>\n",
       "    </tr>\n",
       "  </tbody>\n",
       "</table>\n",
       "</div>"
      ],
      "text/plain": [
       "        Data:  Preço:  Variação(em %):\n",
       "0  01/06/2020   5.387            0.944\n",
       "1  02/06/2020   5.212           -3.252\n",
       "2  03/06/2020   5.093           -2.285\n",
       "3  04/06/2020   5.130            0.730\n",
       "4  05/06/2020   4.993           -2.665\n",
       "5  08/06/2020   4.854           -2.786\n",
       "6  09/06/2020   4.888            0.707\n",
       "7  10/06/2020   4.862           -0.544"
      ]
     },
     "execution_count": 49,
     "metadata": {},
     "output_type": "execute_result"
    }
   ],
   "source": [
    "df_Junho = pd.read_csv('variacao-dolar-Junho.csv', sep='\\t', encoding='latin-1')\n",
    "df_Junho "
   ]
  },
  {
   "cell_type": "code",
   "execution_count": 50,
   "metadata": {},
   "outputs": [
    {
     "data": {
      "text/html": [
       "<div>\n",
       "<style scoped>\n",
       "    .dataframe tbody tr th:only-of-type {\n",
       "        vertical-align: middle;\n",
       "    }\n",
       "\n",
       "    .dataframe tbody tr th {\n",
       "        vertical-align: top;\n",
       "    }\n",
       "\n",
       "    .dataframe thead th {\n",
       "        text-align: right;\n",
       "    }\n",
       "</style>\n",
       "<table border=\"1\" class=\"dataframe\">\n",
       "  <thead>\n",
       "    <tr style=\"text-align: right;\">\n",
       "      <th></th>\n",
       "      <th>Data:</th>\n",
       "      <th>Preço:</th>\n",
       "      <th>Variação(em %):</th>\n",
       "    </tr>\n",
       "  </thead>\n",
       "  <tbody>\n",
       "    <tr>\n",
       "      <th>0</th>\n",
       "      <td>01/06/2020</td>\n",
       "      <td>5.387</td>\n",
       "      <td>0.944</td>\n",
       "    </tr>\n",
       "    <tr>\n",
       "      <th>1</th>\n",
       "      <td>02/06/2020</td>\n",
       "      <td>5.212</td>\n",
       "      <td>-3.252</td>\n",
       "    </tr>\n",
       "    <tr>\n",
       "      <th>2</th>\n",
       "      <td>03/06/2020</td>\n",
       "      <td>5.093</td>\n",
       "      <td>-2.285</td>\n",
       "    </tr>\n",
       "    <tr>\n",
       "      <th>3</th>\n",
       "      <td>04/06/2020</td>\n",
       "      <td>5.130</td>\n",
       "      <td>0.730</td>\n",
       "    </tr>\n",
       "    <tr>\n",
       "      <th>4</th>\n",
       "      <td>05/06/2020</td>\n",
       "      <td>4.993</td>\n",
       "      <td>-2.665</td>\n",
       "    </tr>\n",
       "    <tr>\n",
       "      <th>5</th>\n",
       "      <td>08/06/2020</td>\n",
       "      <td>4.854</td>\n",
       "      <td>-2.786</td>\n",
       "    </tr>\n",
       "  </tbody>\n",
       "</table>\n",
       "</div>"
      ],
      "text/plain": [
       "        Data:  Preço:  Variação(em %):\n",
       "0  01/06/2020   5.387            0.944\n",
       "1  02/06/2020   5.212           -3.252\n",
       "2  03/06/2020   5.093           -2.285\n",
       "3  04/06/2020   5.130            0.730\n",
       "4  05/06/2020   4.993           -2.665\n",
       "5  08/06/2020   4.854           -2.786"
      ]
     },
     "execution_count": 50,
     "metadata": {},
     "output_type": "execute_result"
    }
   ],
   "source": [
    "Seis_dias_de_Junho = df_Junho.head(6)\n",
    "Seis_dias_de_Junho \n"
   ]
  },
  {
   "cell_type": "code",
   "execution_count": 51,
   "metadata": {},
   "outputs": [
    {
     "data": {
      "text/plain": [
       "0    01/06/2020\n",
       "1    02/06/2020\n",
       "2    03/06/2020\n",
       "3    04/06/2020\n",
       "4    05/06/2020\n",
       "5    08/06/2020\n",
       "Name: Data:, dtype: object"
      ]
     },
     "execution_count": 51,
     "metadata": {},
     "output_type": "execute_result"
    }
   ],
   "source": [
    "Seis_dias_de_Junho[\"Data:\"]"
   ]
  },
  {
   "cell_type": "code",
   "execution_count": 52,
   "metadata": {},
   "outputs": [
    {
     "data": {
      "text/plain": [
       "0    5.387\n",
       "1    5.212\n",
       "2    5.093\n",
       "3    5.130\n",
       "4    4.993\n",
       "5    4.854\n",
       "Name: Preço:, dtype: float64"
      ]
     },
     "execution_count": 52,
     "metadata": {},
     "output_type": "execute_result"
    }
   ],
   "source": [
    "Seis_dias_de_Junho[\"Preço:\"]"
   ]
  },
  {
   "cell_type": "markdown",
   "metadata": {},
   "source": [
    "## Criando gráficos com Pyplot\n",
    "Agora iremos colocar os gráficos, um do lado do outro para que possa ter uma comparação"
   ]
  },
  {
   "cell_type": "markdown",
   "metadata": {},
   "source": [
    "## **Janeiro**"
   ]
  },
  {
   "cell_type": "code",
   "execution_count": 53,
   "metadata": {},
   "outputs": [
    {
     "data": {
      "image/png": "[encoded data removed]",
      "text/plain": [
       "<Figure size 432x288 with 1 Axes>"
      ]
     },
     "metadata": {
      "needs_background": "light"
     },
     "output_type": "display_data"
    }
   ],
   "source": [
    "# Da mesma forma que foi feito o gráfico geral, faremos para todos os meses até junho, gerando um gráfico para cada mês\n",
    "\n",
    "x = Seis_dias_de_Janeiro['Data:'] # Dados do eixo x (Datas)\n",
    "y = Seis_dias_de_Janeiro['Preço:'] # Dados do eixo y (Preços)\n",
    "\n",
    "plt.plot(x,y, \"purple\") # Gera o gráfico, com os eixos criados e colorindo a linha com uma cor desejada\n",
    "\n",
    "\n",
    "plt.title(\"Variação do Dólar dentre os 5 primeiros dias de Janeiro em decorrência da Pandemia do Covid-19\") # Título do Gráfico\n",
    "\n",
    "\n",
    "plt.ylabel(\"Dólar-preço\") # Nome do eixo y\n",
    "\n",
    "plt.xlabel(\"Data\") # Nome do eixo x\n",
    "\n",
    "plt.show() # Exibe o gráfico"
   ]
  },
  {
   "cell_type": "markdown",
   "metadata": {},
   "source": [
    "# ***Noticias que influenciaram o Dólar no mês de Janeiro:***"
   ]
  },
  {
   "cell_type": "markdown",
   "metadata": {},
   "source": [
    "1. Em janeiro, o Dólar subiu 6,86%. Foi a maior alta para qualquer mês desde agosto de 2019 (8,51%) e a mais intensa para meses de janeiro desde 2010 (8,86%), de acordo com a Reuters (agência de notícias britânica).\n",
    "\n",
    "2. Isso se ocorreu devido a preocupação dos investidores com o novo surto que surgiu na segunda maior economias do mundo, o coronavírus. O receio do mercado e que esse novo vírus afete negativamente na demanda dos consumidores e tenha impactos mais diretos sobre a atividade econômica, relembrando a epidemia de 2002, a SARS, que também ocorreu na China."
   ]
  },
  {
   "cell_type": "markdown",
   "metadata": {},
   "source": [
    "# ***Fevereiro***"
   ]
  },
  {
   "cell_type": "code",
   "execution_count": 54,
   "metadata": {},
   "outputs": [
    {
     "data": {
      "image/png": "[encoded data removed]",
      "text/plain": [
       "<Figure size 432x288 with 1 Axes>"
      ]
     },
     "metadata": {
      "needs_background": "light"
     },
     "output_type": "display_data"
    }
   ],
   "source": [
    "x =  Seis_dias_de_Fevereiro['Data:']\n",
    "y =  Seis_dias_de_Fevereiro['Preço:']\n",
    "\n",
    "\n",
    "plt.plot(x,y, \"blue\")\n",
    "\n",
    "plt.title(\"Variação do Dólar dentre os 5 primeiros dias de Fevereiro em decorrência da Pandemia do Covid-19\")\n",
    "\n",
    "plt.xlabel('Data')\n",
    "\n",
    "plt.ylabel('Dólar-variação')\n",
    "\n",
    "plt.show()"
   ]
  },
  {
   "cell_type": "markdown",
   "metadata": {},
   "source": [
    "# ***Noticias que influenciaram o Dólar no mês de Fevereiro:***"
   ]
  },
  {
   "cell_type": "markdown",
   "metadata": {},
   "source": [
    "1. Em fevereiro, o Dólar acumulou uma valorização de 4,56%, a maior para o mês desde 2015(6,19%)\n",
    "\n",
    "2. Esse mês foi dividido por duas etapas, do dia 1 ao 21, onde todos estavam com cautela em relação ao coronavírus, porém sem grandes preocupações, pois a doença parecia ter se estabilizado com menos casos surgindo na China e menor número de ocorrências em outros países.\n",
    "\n",
    "3. Porém como precaução, os investidores iniciaram uma corrida ao dólar, para proteger suas carteiras caso a doença começasse a se espalhar pelo mundo, pois se isso ocorre-se a moeda americana iria se valorizar e assim serviria para amenizar uma possível queda da bolsa.\n",
    "\n",
    "3. A partir do dia 23 esse cenário teve uma mudança, e o que os investidores mais temiam aconteceu, quase que do dia para a noite, houve um aumento súbito nos casos do coronavírus na Itália, Irã e na Coreia do Sul, criando novos epicentros da doença além das fronteiras da China, gerando uma forte mudança nos mercados\n",
    "\n",
    "4. No Brasil, devido ao carnaval, os mercados estiveram fechados no dia 23 e 24. Assim quando foram abertos no dia 25 (quarta-feira),fazendo com que tivéssemos uma sessão caótica, para ajustar os ativos ás oscilações internacionais. Apenas neste dia o Ibovespa desabou 7%, e foi o pior desempenho desde maio de 2017."
   ]
  },
  {
   "cell_type": "markdown",
   "metadata": {},
   "source": [
    "# ***Março***"
   ]
  },
  {
   "cell_type": "code",
   "execution_count": 55,
   "metadata": {},
   "outputs": [
    {
     "data": {
      "image/png": "[encoded data removed]",
      "text/plain": [
       "<Figure size 432x288 with 1 Axes>"
      ]
     },
     "metadata": {
      "needs_background": "light"
     },
     "output_type": "display_data"
    }
   ],
   "source": [
    "x = Seis_dias_de_Março['Data:'] # Aqui colocamos os valores desejáveis dentro de identificadores\n",
    "y = Seis_dias_de_Março['Preço:'] # Aqui colocamos os valores desejáveis dentro de identificadores\n",
    "\n",
    "plt.plot(x,y, \"red\") # Aqui definimos os parâmetros para nosso gráfico, os parâmetros serão (Data, Preço)\n",
    "\n",
    "plt.title(\"Variação do Dólar dentre os 5 primeiros dias de Maio em decorrência da Pandemia do Covid-19\")\n",
    "\n",
    "plt.xlabel('Data')\n",
    "\n",
    "plt.ylabel(\"Dólar-preço\")\n",
    "\n",
    "plt.show()"
   ]
  },
  {
   "cell_type": "markdown",
   "metadata": {},
   "source": [
    "# ***Noticias que influenciaram o Dólar no mês de Março:***"
   ]
  },
  {
   "cell_type": "markdown",
   "metadata": {},
   "source": [
    "1. Em março o dólar subiu 16%, e acumulou 30% no ano, devido ao impacto do fechamento de cadeias mundiais de abastecimento, preocupando os investidores.\n",
    "\n",
    "2. O ambiente nos mercados globais é de aversão ao riso, mesmo depois da recuperação da atividade econômica chinesa, as principais economias do ocidente continuam em “lockdown” por tempo indeterminado. E por isso a demanda do Dólar continua firme, pois não se sabe quanto tempo o isolamento irá continuar nesses países.\n",
    "\n"
   ]
  },
  {
   "cell_type": "markdown",
   "metadata": {},
   "source": [
    "# ***Abril***"
   ]
  },
  {
   "cell_type": "code",
   "execution_count": 56,
   "metadata": {},
   "outputs": [
    {
     "data": {
      "image/png": "[encoded data removed]",
      "text/plain": [
       "<Figure size 432x288 with 1 Axes>"
      ]
     },
     "metadata": {
      "needs_background": "light"
     },
     "output_type": "display_data"
    }
   ],
   "source": [
    "x = Seis_dias_de_Abril['Data:'] \n",
    "y = Seis_dias_de_Abril['Preço:']\n",
    "\n",
    "plt.plot(x,y, \"black\")\n",
    "\n",
    "plt.title(\"Variação do Dólar dentre os 5 primeiros dias de Maio em decorrência da Pandemia do Covid-19\")\n",
    "\n",
    "plt.xlabel('Data')\n",
    "\n",
    "plt.ylabel('Dólar-variação')\n",
    "\n",
    "plt.show()"
   ]
  },
  {
   "cell_type": "markdown",
   "metadata": {},
   "source": [
    "# ***Noticias que influenciaram o Dólar no mês de Abril:***"
   ]
  },
  {
   "cell_type": "markdown",
   "metadata": {},
   "source": [
    "1. No mês de abril o dólar fechou com alta de 4,69%., acumulando um total de 35,66% no ano.\n",
    "\n",
    "2. Os investidores continuam preocupados com o efeito do coronavírus na economia, com a possibilidade mais clara de uma recessão global. Aumentando novamente a valorização da moeda norte-americana em relação ao real."
   ]
  },
  {
   "cell_type": "markdown",
   "metadata": {},
   "source": [
    "# ***Maio***"
   ]
  },
  {
   "cell_type": "code",
   "execution_count": 57,
   "metadata": {},
   "outputs": [
    {
     "data": {
      "image/png": "[encoded data removed]",
      "text/plain": [
       "<Figure size 432x288 with 1 Axes>"
      ]
     },
     "metadata": {
      "needs_background": "light"
     },
     "output_type": "display_data"
    }
   ],
   "source": [
    "y = Seis_dias_de_Maio['Preço:']\n",
    "x = Seis_dias_de_Maio['Data:']\n",
    "\n",
    "plt.plot(x,y, \"green\")\n",
    "\n",
    "plt.title(\"Variação do Dólar dentre os 5 primeiros dias de Maio em decorrência da Pandemia do Covid-19\")\n",
    "\n",
    "plt.ylabel(\"Dólar-preço\")\n",
    "\n",
    "plt.xlabel(\"Data\")\n",
    "\n",
    "plt.show()"
   ]
  },
  {
   "cell_type": "markdown",
   "metadata": {},
   "source": [
    "# ***Noticias que influenciaram o Dólar no mês de Maio:***"
   ]
  },
  {
   "cell_type": "markdown",
   "metadata": {},
   "source": [
    "1. O mês de abril terminou sua última semana com queda de 0,85%, cotado a R$5,34 na venda, assim fechando o mês com recuo de 1,79%, porém no ano, o dólar acumula 33,08%.\n",
    "\n",
    "2. Os mercados internacionais reagiram mal ao aumento das tensões comerciais entre Estados Unidos e China, preocupando os investidores sobre o ritmo da recuperação econômica diante da crise causada pelo coronavírus.\n",
    "\n",
    "3. “O real foi a moeda de pior desempenho no universo emergente, provavelmente pressionada pela preocupação mais ampla dos investidores sobre a capacidade da moeda de dar sequência ao recente desempenho superior em meio à deterioração da história local\", disseram estrategistas do Morgan Stanley.”\n"
   ]
  },
  {
   "cell_type": "markdown",
   "metadata": {},
   "source": [
    " \n"
   ]
  },
  {
   "cell_type": "markdown",
   "metadata": {},
   "source": [
    "# ***Junho***"
   ]
  },
  {
   "cell_type": "code",
   "execution_count": 58,
   "metadata": {},
   "outputs": [
    {
     "data": {
      "image/png": "[encoded data removed]",
      "text/plain": [
       "<Figure size 432x288 with 1 Axes>"
      ]
     },
     "metadata": {
      "needs_background": "light"
     },
     "output_type": "display_data"
    }
   ],
   "source": [
    "\n",
    "x =  Seis_dias_de_Fevereiro['Data:']\n",
    "y =  Seis_dias_de_Fevereiro['Preço:']\n",
    "\n",
    "\n",
    "plt.plot(x,y, \"blue\")\n",
    "\n",
    "plt.title(\"Variação do Dólar dentre os 5 primeiros dias de Fevereiro em decorrência da Pandemia do Covid-19\")\n",
    "\n",
    "plt.xlabel('Data')\n",
    "\n",
    "plt.ylabel('Dólar-variação')\n",
    "\n",
    "plt.show()\n"
   ]
  },
  {
   "cell_type": "markdown",
   "metadata": {},
   "source": [
    "# ***Noticias que influenciaram o Dólar no mês de Junho:***"
   ]
  },
  {
   "cell_type": "markdown",
   "metadata": {},
   "source": [
    "1. O mês de junho iniciou com uma queda no valor do dólar, ficando abaixo do R$5,00 pela primeira vez depois do dia 16 de março. Com essa quedavolvendo os ganhos da véspera meio ao otimismo global em relação a uma recuperação econômica, ainda que as tensões políticas em Brasília e nos Estados Unidos continue no radar.\n",
    "\n",
    "2. No exterior a uma grande preocupação ainda devido aos protestos generalizados contra o racismo no Estados Unidos, e com a tensão entre Pequim e Washington."
   ]
  },
  {
   "cell_type": "markdown",
   "metadata": {},
   "source": [
    "## Escala do Dólar nos meses de Janeiro a Junho: \n"
   ]
  },
  {
   "cell_type": "code",
   "execution_count": 59,
   "metadata": {},
   "outputs": [
    {
     "data": {
      "image/png": "[encoded data removed]",
      "text/plain": [
       "<Figure size 432x288 with 1 Axes>"
      ]
     },
     "metadata": {
      "needs_background": "light"
     },
     "output_type": "display_data"
    }
   ],
   "source": [
    "y = df[\"Preço:\"]\n",
    "\n",
    "plt.plot(y, \"brown\")\n",
    "plt.title(\"Variação do Dólar perante a Pandemia do Covid-19 dentre os meses de Janeiro a Junho\")\n",
    "\n",
    "plt.xlabel(\"None\")\n",
    "\n",
    "plt.ylabel(\"Dólar-variação\")\n",
    "\n",
    "plt.show()"
   ]
  },
  {
   "cell_type": "markdown",
   "metadata": {},
   "source": [
    " \n"
   ]
  },
  {
   "cell_type": "markdown",
   "metadata": {},
   "source": [
    "# ***Conclusão***"
   ]
  },
  {
   "cell_type": "markdown",
   "metadata": {},
   "source": [
    "Em meado de abril, as projeções ainda discutiam a sustentação\tdo dólar cotado a 5 reais, foi apenas na segunda, 4 de maio, que o boletim Focus do\tBanco Central, que reúne a \tprojeções das principais instituições financeiras, abandonou a casa dos\t4 reais para o fim de 2020. Na semana passada, analistas e economistas apontavam a impossibilidade matemática de a cotação chegar a 6 reais.    "
   ]
  },
  {
   "cell_type": "markdown",
   "metadata": {},
   "source": [
    "Na quinta - feira, 7 de maio, o dólar fechou a 5,8360 reais, alta de 2,3%. Está a 0,164 reais de chegar ao patamar simbólico de 6,00 reais e a 2,02 reais de bater o recorde de maior alta real(que leva em conta a inflação). Há apenas dois meses, em 5 de março, os 5 reais pareciam distantes quando o ministro Guedes disse que o dólar iria a este patamar caso \"muita besteira\" fosse feita. Àquela época, o dólar estava a 4,65 reais."
   ]
  },
  {
   "cell_type": "markdown",
   "metadata": {},
   "source": [
    "\"Pode chegar a 5 reais? Ué,se o presidente pedir para sair, se todo mundo pedir para sair. É um câmbio que flutua, se fizer muita besteira, ele pode ir para esse nível\", disse Guedes na ocasião.\t\n",
    "Agora, os 6 reais são uma possibilidade cada vez mais real.\t\t\n",
    "O avanço rumo ao novo patamar veio após o Banco Central cortar a taxa básica de juros de 3,75% para 3% ao ano na quarta-feira, 6 de maio), uma redução maior do que a esperada pelo mercado.\t\n"
   ]
  },
  {
   "cell_type": "markdown",
   "metadata": {},
   "source": [
    "Desde então, a saída de Sergio Moro, ex-ministro da Justiça, do\tgoverno de Jair\tBolsonaro, e suas implicações políticas agravam a turbulência em Brasília, que vive uma crise entre o \tExecutivo e demais poderes, com a pandemia de coronavírus e\ta crise econômica em decorrência dos esforços para contê-la como pano de fundo.\t\t\n",
    "Estrangeiros têm retirado os investimentos do país desde 2019, o que contribui para o dólar em alta. Na Bolsa são 44 bilhões reais a menos de aportes estrangeiros desde janeiro do ano passado, segundo dados da B3.\t\n"
   ]
  },
  {
   "cell_type": "markdown",
   "metadata": {},
   "source": [
    "Outro ponto que contribui para\ta alta do dólar é a deterioração fiscal do Brasil, com os gastos do governo para atenuar os efeitos econômicos da pandemia de Covid-19.\t\n",
    "Assim, a mudança na perspectiva e receio quanto a eventuais reduções\tna nota\tdo Brasil \ttambém contribuem para a perda de valor do real, apontam especialistas.\t\n"
   ]
  }
 ],
 "metadata": {
  "kernelspec": {
   "display_name": "Python 3",
   "language": "python",
   "name": "python3"
  },
  "language_info": {
   "codemirror_mode": {
    "name": "ipython",
    "version": 3
   },
   "file_extension": ".py",
   "mimetype": "text/x-python",
   "name": "python",
   "nbconvert_exporter": "python",
   "pygments_lexer": "ipython3",
   "version": "3.7.0"
  }
 },
 "nbformat": 4,
 "nbformat_minor": 4
}
