{
 "cells": [
  {
   "cell_type": "markdown",
   "metadata": {},
   "source": [
    "# Análise de produtos Amazon Prime\n",
    "Pedro Lucas | pedro.pessoal14@gmail.com"
   ]
  },
  {
   "cell_type": "markdown",
   "metadata": {},
   "source": [
    "# Objetivos para 2021\n",
    "- A Amazon Prime quer em 2021 ser a plataforma principal para 60% dos usuários de streaming no Brasil.\n",
    "- Quer que o seu catálogo seja o diferencial para esta decisão do assinante.\n",
    "- E aposta no público-alvo com idade superior a 30 anos"
   ]
  },
  {
   "cell_type": "markdown",
   "metadata": {},
   "source": [
    "## Comparação de catálogos\n",
    "Visto que a Amazon Prime deseja que seu catálogo seja o fator principal para atingir seus objetivos, vamos comparar o catálogo do Prime Video com seus concorrentes:"
   ]
  },
  {
   "cell_type": "code",
   "execution_count": 1,
   "metadata": {},
   "outputs": [],
   "source": [
    "import pandas as pd"
   ]
  },
  {
   "cell_type": "code",
   "execution_count": 2,
   "metadata": {},
   "outputs": [],
   "source": [
    "filmes = pd.read_excel('MoviesOnStreamingPlatforms_updated.xlsx', index_col=0)"
   ]
  },
  {
   "cell_type": "code",
   "execution_count": 3,
   "metadata": {
    "scrolled": false
   },
   "outputs": [
    {
     "data": {
      "text/html": [
       "<div>\n",
       "<style scoped>\n",
       "    .dataframe tbody tr th:only-of-type {\n",
       "        vertical-align: middle;\n",
       "    }\n",
       "\n",
       "    .dataframe tbody tr th {\n",
       "        vertical-align: top;\n",
       "    }\n",
       "\n",
       "    .dataframe thead th {\n",
       "        text-align: right;\n",
       "    }\n",
       "</style>\n",
       "<table border=\"1\" class=\"dataframe\">\n",
       "  <thead>\n",
       "    <tr style=\"text-align: right;\">\n",
       "      <th></th>\n",
       "      <th>ID</th>\n",
       "      <th>Title</th>\n",
       "      <th>Year</th>\n",
       "      <th>Age</th>\n",
       "      <th>IMDb</th>\n",
       "      <th>Rotten Tomatoes</th>\n",
       "      <th>Netflix</th>\n",
       "      <th>Hulu</th>\n",
       "      <th>PrimeVideo</th>\n",
       "      <th>Disney+</th>\n",
       "      <th>Type</th>\n",
       "      <th>Directors</th>\n",
       "      <th>Genres</th>\n",
       "      <th>Country</th>\n",
       "      <th>Language</th>\n",
       "      <th>Runtime</th>\n",
       "    </tr>\n",
       "  </thead>\n",
       "  <tbody>\n",
       "    <tr>\n",
       "      <th>0</th>\n",
       "      <td>1</td>\n",
       "      <td>Inception</td>\n",
       "      <td>2010</td>\n",
       "      <td>13+</td>\n",
       "      <td>8.8</td>\n",
       "      <td>0.87</td>\n",
       "      <td>1</td>\n",
       "      <td>0</td>\n",
       "      <td>0</td>\n",
       "      <td>0</td>\n",
       "      <td>0</td>\n",
       "      <td>Christopher Nolan</td>\n",
       "      <td>Action,Adventure,Sci-Fi,Thriller</td>\n",
       "      <td>United States,United Kingdom</td>\n",
       "      <td>English,Japanese,French</td>\n",
       "      <td>148.0</td>\n",
       "    </tr>\n",
       "    <tr>\n",
       "      <th>1</th>\n",
       "      <td>2</td>\n",
       "      <td>The Matrix</td>\n",
       "      <td>1999</td>\n",
       "      <td>18+</td>\n",
       "      <td>8.7</td>\n",
       "      <td>0.87</td>\n",
       "      <td>1</td>\n",
       "      <td>0</td>\n",
       "      <td>0</td>\n",
       "      <td>0</td>\n",
       "      <td>0</td>\n",
       "      <td>Lana Wachowski,Lilly Wachowski</td>\n",
       "      <td>Action,Sci-Fi</td>\n",
       "      <td>United States</td>\n",
       "      <td>English</td>\n",
       "      <td>136.0</td>\n",
       "    </tr>\n",
       "    <tr>\n",
       "      <th>2</th>\n",
       "      <td>3</td>\n",
       "      <td>Avengers: Infinity War</td>\n",
       "      <td>2018</td>\n",
       "      <td>13+</td>\n",
       "      <td>8.5</td>\n",
       "      <td>0.84</td>\n",
       "      <td>1</td>\n",
       "      <td>0</td>\n",
       "      <td>0</td>\n",
       "      <td>0</td>\n",
       "      <td>0</td>\n",
       "      <td>Anthony Russo,Joe Russo</td>\n",
       "      <td>Action,Adventure,Sci-Fi</td>\n",
       "      <td>United States</td>\n",
       "      <td>English</td>\n",
       "      <td>149.0</td>\n",
       "    </tr>\n",
       "    <tr>\n",
       "      <th>3</th>\n",
       "      <td>4</td>\n",
       "      <td>Back to the Future</td>\n",
       "      <td>1985</td>\n",
       "      <td>7+</td>\n",
       "      <td>8.5</td>\n",
       "      <td>0.96</td>\n",
       "      <td>1</td>\n",
       "      <td>0</td>\n",
       "      <td>0</td>\n",
       "      <td>0</td>\n",
       "      <td>0</td>\n",
       "      <td>Robert Zemeckis</td>\n",
       "      <td>Adventure,Comedy,Sci-Fi</td>\n",
       "      <td>United States</td>\n",
       "      <td>English</td>\n",
       "      <td>116.0</td>\n",
       "    </tr>\n",
       "    <tr>\n",
       "      <th>4</th>\n",
       "      <td>5</td>\n",
       "      <td>The Good, the Bad and the Ugly</td>\n",
       "      <td>1966</td>\n",
       "      <td>18+</td>\n",
       "      <td>8.8</td>\n",
       "      <td>0.97</td>\n",
       "      <td>1</td>\n",
       "      <td>0</td>\n",
       "      <td>1</td>\n",
       "      <td>0</td>\n",
       "      <td>0</td>\n",
       "      <td>Sergio Leone</td>\n",
       "      <td>Western</td>\n",
       "      <td>Italy,Spain,West Germany</td>\n",
       "      <td>Italian</td>\n",
       "      <td>161.0</td>\n",
       "    </tr>\n",
       "  </tbody>\n",
       "</table>\n",
       "</div>"
      ],
      "text/plain": [
       "   ID                           Title  Year  Age  IMDb  Rotten Tomatoes  \\\n",
       "0   1                       Inception  2010  13+   8.8             0.87   \n",
       "1   2                      The Matrix  1999  18+   8.7             0.87   \n",
       "2   3          Avengers: Infinity War  2018  13+   8.5             0.84   \n",
       "3   4              Back to the Future  1985   7+   8.5             0.96   \n",
       "4   5  The Good, the Bad and the Ugly  1966  18+   8.8             0.97   \n",
       "\n",
       "   Netflix  Hulu  PrimeVideo  Disney+  Type                       Directors  \\\n",
       "0        1     0           0        0     0               Christopher Nolan   \n",
       "1        1     0           0        0     0  Lana Wachowski,Lilly Wachowski   \n",
       "2        1     0           0        0     0         Anthony Russo,Joe Russo   \n",
       "3        1     0           0        0     0                 Robert Zemeckis   \n",
       "4        1     0           1        0     0                    Sergio Leone   \n",
       "\n",
       "                             Genres                       Country  \\\n",
       "0  Action,Adventure,Sci-Fi,Thriller  United States,United Kingdom   \n",
       "1                     Action,Sci-Fi                 United States   \n",
       "2           Action,Adventure,Sci-Fi                 United States   \n",
       "3           Adventure,Comedy,Sci-Fi                 United States   \n",
       "4                           Western      Italy,Spain,West Germany   \n",
       "\n",
       "                  Language  Runtime  \n",
       "0  English,Japanese,French    148.0  \n",
       "1                  English    136.0  \n",
       "2                  English    149.0  \n",
       "3                  English    116.0  \n",
       "4                  Italian    161.0  "
      ]
     },
     "execution_count": 3,
     "metadata": {},
     "output_type": "execute_result"
    }
   ],
   "source": [
    "filmes = filmes.rename(columns={'Prime Video': 'PrimeVideo'})\n",
    "filmes.head()"
   ]
  },
  {
   "cell_type": "code",
   "execution_count": 4,
   "metadata": {},
   "outputs": [
    {
     "data": {
      "text/plain": [
       "Drama                                  1341\n",
       "Documentary                            1229\n",
       "Comedy                                 1040\n",
       "Comedy,Drama                            446\n",
       "Horror                                  436\n",
       "                                       ... \n",
       "Action,Comedy,Crime,Drama,Mystery         1\n",
       "Biography,Drama,Romance,War,Western       1\n",
       "Fantasy,Horror,Romance                    1\n",
       "Sci-Fi,Drama                              1\n",
       "Animation,Comedy,Talk-Show                1\n",
       "Name: Genres, Length: 1909, dtype: int64"
      ]
     },
     "execution_count": 4,
     "metadata": {},
     "output_type": "execute_result"
    }
   ],
   "source": [
    "# gêneros mais produzidos\n",
    "filmes['Genres'].value_counts()"
   ]
  },
  {
   "cell_type": "code",
   "execution_count": 5,
   "metadata": {},
   "outputs": [
    {
     "data": {
      "text/plain": [
       "0    13184\n",
       "1     3560\n",
       "Name: Netflix, dtype: int64"
      ]
     },
     "execution_count": 5,
     "metadata": {},
     "output_type": "execute_result"
    }
   ],
   "source": [
    "# contagem de filmes disponíveis no Netflix\n",
    "# 0 representa filmes NÃO disponíveis\n",
    "# 1 representa filmes DISPONÍVEIS\n",
    "filmes['Netflix'].value_counts()"
   ]
  },
  {
   "cell_type": "code",
   "execution_count": 6,
   "metadata": {},
   "outputs": [
    {
     "data": {
      "text/plain": [
       "0    15841\n",
       "1      903\n",
       "Name: Hulu, dtype: int64"
      ]
     },
     "execution_count": 6,
     "metadata": {},
     "output_type": "execute_result"
    }
   ],
   "source": [
    "# contagem de filmes disponíveis no Hulu\n",
    "filmes['Hulu'].value_counts()"
   ]
  },
  {
   "cell_type": "code",
   "execution_count": 7,
   "metadata": {},
   "outputs": [
    {
     "data": {
      "text/plain": [
       "1    12354\n",
       "0     4390\n",
       "Name: PrimeVideo, dtype: int64"
      ]
     },
     "execution_count": 7,
     "metadata": {},
     "output_type": "execute_result"
    }
   ],
   "source": [
    "# contagem de filmes disponíveis no Prime Video\n",
    "filmes['PrimeVideo'].value_counts()"
   ]
  },
  {
   "cell_type": "code",
   "execution_count": 8,
   "metadata": {},
   "outputs": [
    {
     "data": {
      "text/plain": [
       "0    16180\n",
       "1      564\n",
       "Name: Disney+, dtype: int64"
      ]
     },
     "execution_count": 8,
     "metadata": {},
     "output_type": "execute_result"
    }
   ],
   "source": [
    "# contagem de filmes disponíveis no Disney+\n",
    "filmes['Disney+'].value_counts()"
   ]
  },
  {
   "cell_type": "markdown",
   "metadata": {},
   "source": [
    "Percebe-se que o catálogo do Prime Video é consideravelmente maior que o de todos seus concorrentes. Então, por que ainda não é a plataforma principal para os usuários de streaming?\n",
    "\n",
    "A fim de compreender isto, vamos comparar o serviço do Prime Video com seu maior concorrente: Netflix."
   ]
  },
  {
   "cell_type": "markdown",
   "metadata": {},
   "source": [
    "## Concorrência  entre Netflix e Prime Video"
   ]
  },
  {
   "cell_type": "code",
   "execution_count": 9,
   "metadata": {},
   "outputs": [],
   "source": [
    "avaliacaoIMDb = ['ID','Title', 'IMDb']\n",
    "avaliacaoRotten = ['ID','Title','Rotten Tomatoes']\n",
    "concorrencia = ['ID','Title', 'Netflix', 'PrimeVideo']"
   ]
  },
  {
   "cell_type": "code",
   "execution_count": 10,
   "metadata": {},
   "outputs": [
    {
     "data": {
      "text/html": [
       "<div>\n",
       "<style scoped>\n",
       "    .dataframe tbody tr th:only-of-type {\n",
       "        vertical-align: middle;\n",
       "    }\n",
       "\n",
       "    .dataframe tbody tr th {\n",
       "        vertical-align: top;\n",
       "    }\n",
       "\n",
       "    .dataframe thead th {\n",
       "        text-align: right;\n",
       "    }\n",
       "</style>\n",
       "<table border=\"1\" class=\"dataframe\">\n",
       "  <thead>\n",
       "    <tr style=\"text-align: right;\">\n",
       "      <th></th>\n",
       "      <th>ID</th>\n",
       "      <th>Title</th>\n",
       "      <th>Netflix</th>\n",
       "      <th>PrimeVideo</th>\n",
       "    </tr>\n",
       "  </thead>\n",
       "  <tbody>\n",
       "    <tr>\n",
       "      <th>0</th>\n",
       "      <td>1</td>\n",
       "      <td>Inception</td>\n",
       "      <td>1</td>\n",
       "      <td>0</td>\n",
       "    </tr>\n",
       "    <tr>\n",
       "      <th>1</th>\n",
       "      <td>2</td>\n",
       "      <td>The Matrix</td>\n",
       "      <td>1</td>\n",
       "      <td>0</td>\n",
       "    </tr>\n",
       "    <tr>\n",
       "      <th>2</th>\n",
       "      <td>3</td>\n",
       "      <td>Avengers: Infinity War</td>\n",
       "      <td>1</td>\n",
       "      <td>0</td>\n",
       "    </tr>\n",
       "    <tr>\n",
       "      <th>3</th>\n",
       "      <td>4</td>\n",
       "      <td>Back to the Future</td>\n",
       "      <td>1</td>\n",
       "      <td>0</td>\n",
       "    </tr>\n",
       "    <tr>\n",
       "      <th>4</th>\n",
       "      <td>5</td>\n",
       "      <td>The Good, the Bad and the Ugly</td>\n",
       "      <td>1</td>\n",
       "      <td>1</td>\n",
       "    </tr>\n",
       "  </tbody>\n",
       "</table>\n",
       "</div>"
      ],
      "text/plain": [
       "   ID                           Title  Netflix  PrimeVideo\n",
       "0   1                       Inception        1           0\n",
       "1   2                      The Matrix        1           0\n",
       "2   3          Avengers: Infinity War        1           0\n",
       "3   4              Back to the Future        1           0\n",
       "4   5  The Good, the Bad and the Ugly        1           1"
      ]
     },
     "execution_count": 10,
     "metadata": {},
     "output_type": "execute_result"
    }
   ],
   "source": [
    "# tabela mais limpa apenas com Netflix e Prime\n",
    "filmesConcorrente = filmes.filter(items=concorrencia)\n",
    "filmesConcorrente.head()"
   ]
  },
  {
   "cell_type": "markdown",
   "metadata": {},
   "source": [
    "Uma forma de comparar esses dois serviços é partir da suposição de que o streaming que possui uma maior quantidade de filmes mais bem avaliados pela crítica é o mais popular. Analisando os melhores filmes segundo o IMDb e Rotten Tomatoes:"
   ]
  },
  {
   "cell_type": "code",
   "execution_count": 11,
   "metadata": {
    "scrolled": false
   },
   "outputs": [
    {
     "data": {
      "text/html": [
       "<div>\n",
       "<style scoped>\n",
       "    .dataframe tbody tr th:only-of-type {\n",
       "        vertical-align: middle;\n",
       "    }\n",
       "\n",
       "    .dataframe tbody tr th {\n",
       "        vertical-align: top;\n",
       "    }\n",
       "\n",
       "    .dataframe thead th {\n",
       "        text-align: right;\n",
       "    }\n",
       "</style>\n",
       "<table border=\"1\" class=\"dataframe\">\n",
       "  <thead>\n",
       "    <tr style=\"text-align: right;\">\n",
       "      <th></th>\n",
       "      <th>ID</th>\n",
       "      <th>Title</th>\n",
       "      <th>IMDb</th>\n",
       "    </tr>\n",
       "  </thead>\n",
       "  <tbody>\n",
       "    <tr>\n",
       "      <th>1292</th>\n",
       "      <td>1293</td>\n",
       "      <td>My Next Guest with David Letterman and Shah Ru...</td>\n",
       "      <td>9.3</td>\n",
       "    </tr>\n",
       "    <tr>\n",
       "      <th>7220</th>\n",
       "      <td>7221</td>\n",
       "      <td>Down, But Not Out!</td>\n",
       "      <td>9.3</td>\n",
       "    </tr>\n",
       "    <tr>\n",
       "      <th>6566</th>\n",
       "      <td>6567</td>\n",
       "      <td>Square One</td>\n",
       "      <td>9.3</td>\n",
       "    </tr>\n",
       "    <tr>\n",
       "      <th>5110</th>\n",
       "      <td>5111</td>\n",
       "      <td>Love on a Leash</td>\n",
       "      <td>9.3</td>\n",
       "    </tr>\n",
       "    <tr>\n",
       "      <th>6837</th>\n",
       "      <td>6838</td>\n",
       "      <td>Steven Banks: Home Entertainment Center</td>\n",
       "      <td>9.3</td>\n",
       "    </tr>\n",
       "    <tr>\n",
       "      <th>...</th>\n",
       "      <td>...</td>\n",
       "      <td>...</td>\n",
       "      <td>...</td>\n",
       "    </tr>\n",
       "    <tr>\n",
       "      <th>12099</th>\n",
       "      <td>12100</td>\n",
       "      <td>He Say, She Say, But What Does God Say?</td>\n",
       "      <td>7.7</td>\n",
       "    </tr>\n",
       "    <tr>\n",
       "      <th>12075</th>\n",
       "      <td>12076</td>\n",
       "      <td>Big in Bollywood</td>\n",
       "      <td>7.7</td>\n",
       "    </tr>\n",
       "    <tr>\n",
       "      <th>9932</th>\n",
       "      <td>9933</td>\n",
       "      <td>Vietnam: American Holocaust</td>\n",
       "      <td>7.7</td>\n",
       "    </tr>\n",
       "    <tr>\n",
       "      <th>1296</th>\n",
       "      <td>1297</td>\n",
       "      <td>Inuyasha the Movie 3: Swords of an Honorable R...</td>\n",
       "      <td>7.7</td>\n",
       "    </tr>\n",
       "    <tr>\n",
       "      <th>12972</th>\n",
       "      <td>12973</td>\n",
       "      <td>I Am What I Play</td>\n",
       "      <td>7.7</td>\n",
       "    </tr>\n",
       "  </tbody>\n",
       "</table>\n",
       "<p>1000 rows × 3 columns</p>\n",
       "</div>"
      ],
      "text/plain": [
       "          ID                                              Title  IMDb\n",
       "1292    1293  My Next Guest with David Letterman and Shah Ru...   9.3\n",
       "7220    7221                                 Down, But Not Out!   9.3\n",
       "6566    6567                                         Square One   9.3\n",
       "5110    5111                                    Love on a Leash   9.3\n",
       "6837    6838            Steven Banks: Home Entertainment Center   9.3\n",
       "...      ...                                                ...   ...\n",
       "12099  12100            He Say, She Say, But What Does God Say?   7.7\n",
       "12075  12076                                   Big in Bollywood   7.7\n",
       "9932    9933                        Vietnam: American Holocaust   7.7\n",
       "1296    1297  Inuyasha the Movie 3: Swords of an Honorable R...   7.7\n",
       "12972  12973                                   I Am What I Play   7.7\n",
       "\n",
       "[1000 rows x 3 columns]"
      ]
     },
     "execution_count": 11,
     "metadata": {},
     "output_type": "execute_result"
    }
   ],
   "source": [
    "# 1000 filmes mais bem avaliados pelo IMDb:\n",
    "filmesIMDb = filmes.filter(items=avaliacaoIMDb)\n",
    "milFilmesIMDb = filmesIMDb.sort_values(by='IMDb', ascending=False).dropna().head(1000)\n",
    "milFilmesIMDb"
   ]
  },
  {
   "cell_type": "code",
   "execution_count": 12,
   "metadata": {
    "scrolled": false
   },
   "outputs": [
    {
     "data": {
      "text/html": [
       "<div>\n",
       "<style scoped>\n",
       "    .dataframe tbody tr th:only-of-type {\n",
       "        vertical-align: middle;\n",
       "    }\n",
       "\n",
       "    .dataframe tbody tr th {\n",
       "        vertical-align: top;\n",
       "    }\n",
       "\n",
       "    .dataframe thead th {\n",
       "        text-align: right;\n",
       "    }\n",
       "</style>\n",
       "<table border=\"1\" class=\"dataframe\">\n",
       "  <thead>\n",
       "    <tr style=\"text-align: right;\">\n",
       "      <th></th>\n",
       "      <th>ID</th>\n",
       "      <th>Title</th>\n",
       "      <th>Rotten Tomatoes</th>\n",
       "    </tr>\n",
       "  </thead>\n",
       "  <tbody>\n",
       "    <tr>\n",
       "      <th>481</th>\n",
       "      <td>482</td>\n",
       "      <td>Dance Academy: The Movie</td>\n",
       "      <td>1.00</td>\n",
       "    </tr>\n",
       "    <tr>\n",
       "      <th>828</th>\n",
       "      <td>829</td>\n",
       "      <td>National Bird</td>\n",
       "      <td>1.00</td>\n",
       "    </tr>\n",
       "    <tr>\n",
       "      <th>6507</th>\n",
       "      <td>6508</td>\n",
       "      <td>The Shelter</td>\n",
       "      <td>1.00</td>\n",
       "    </tr>\n",
       "    <tr>\n",
       "      <th>5249</th>\n",
       "      <td>5250</td>\n",
       "      <td>The Blood Is at the Doorstep</td>\n",
       "      <td>1.00</td>\n",
       "    </tr>\n",
       "    <tr>\n",
       "      <th>3845</th>\n",
       "      <td>3846</td>\n",
       "      <td>Food Evolution</td>\n",
       "      <td>1.00</td>\n",
       "    </tr>\n",
       "    <tr>\n",
       "      <th>...</th>\n",
       "      <td>...</td>\n",
       "      <td>...</td>\n",
       "      <td>...</td>\n",
       "    </tr>\n",
       "    <tr>\n",
       "      <th>396</th>\n",
       "      <td>397</td>\n",
       "      <td>The Sapphires</td>\n",
       "      <td>0.91</td>\n",
       "    </tr>\n",
       "    <tr>\n",
       "      <th>3989</th>\n",
       "      <td>3990</td>\n",
       "      <td>Killing Them Safely</td>\n",
       "      <td>0.91</td>\n",
       "    </tr>\n",
       "    <tr>\n",
       "      <th>20</th>\n",
       "      <td>21</td>\n",
       "      <td>There Will Be Blood</td>\n",
       "      <td>0.91</td>\n",
       "    </tr>\n",
       "    <tr>\n",
       "      <th>38</th>\n",
       "      <td>39</td>\n",
       "      <td>Like Stars on Earth</td>\n",
       "      <td>0.91</td>\n",
       "    </tr>\n",
       "    <tr>\n",
       "      <th>54</th>\n",
       "      <td>55</td>\n",
       "      <td>Willy Wonka &amp; the Chocolate Factory</td>\n",
       "      <td>0.91</td>\n",
       "    </tr>\n",
       "  </tbody>\n",
       "</table>\n",
       "<p>1000 rows × 3 columns</p>\n",
       "</div>"
      ],
      "text/plain": [
       "        ID                                Title  Rotten Tomatoes\n",
       "481    482             Dance Academy: The Movie             1.00\n",
       "828    829                        National Bird             1.00\n",
       "6507  6508                          The Shelter             1.00\n",
       "5249  5250         The Blood Is at the Doorstep             1.00\n",
       "3845  3846                       Food Evolution             1.00\n",
       "...    ...                                  ...              ...\n",
       "396    397                        The Sapphires             0.91\n",
       "3989  3990                  Killing Them Safely             0.91\n",
       "20      21                  There Will Be Blood             0.91\n",
       "38      39                  Like Stars on Earth             0.91\n",
       "54      55  Willy Wonka & the Chocolate Factory             0.91\n",
       "\n",
       "[1000 rows x 3 columns]"
      ]
     },
     "execution_count": 12,
     "metadata": {},
     "output_type": "execute_result"
    }
   ],
   "source": [
    "# 1000 filmes mais bem avaliados pelo Rotten Tomatoes:\n",
    "filmesRotten = filmes.filter(items=avaliacaoRotten)\n",
    "milFilmesRotten = filmesRotten.sort_values(by='Rotten Tomatoes', ascending=False).dropna().head(1000)\n",
    "milFilmesRotten"
   ]
  },
  {
   "cell_type": "code",
   "execution_count": 13,
   "metadata": {},
   "outputs": [],
   "source": [
    "avaliadores = [milFilmesIMDb, milFilmesRotten]\n",
    "plataformas = ['Netflix', 'PrimeVideo']\n",
    "nomesAvaliadores = ['IMDb', 'Rotten']"
   ]
  },
  {
   "cell_type": "code",
   "execution_count": 14,
   "metadata": {
    "scrolled": true
   },
   "outputs": [
    {
     "data": {
      "text/html": [
       "<div>\n",
       "<style scoped>\n",
       "    .dataframe tbody tr th:only-of-type {\n",
       "        vertical-align: middle;\n",
       "    }\n",
       "\n",
       "    .dataframe tbody tr th {\n",
       "        vertical-align: top;\n",
       "    }\n",
       "\n",
       "    .dataframe thead th {\n",
       "        text-align: right;\n",
       "    }\n",
       "</style>\n",
       "<table border=\"1\" class=\"dataframe\">\n",
       "  <thead>\n",
       "    <tr style=\"text-align: right;\">\n",
       "      <th></th>\n",
       "      <th>Plataforma</th>\n",
       "      <th>IMDb</th>\n",
       "      <th>Rotten</th>\n",
       "    </tr>\n",
       "  </thead>\n",
       "  <tbody>\n",
       "    <tr>\n",
       "      <th>0</th>\n",
       "      <td>Netflix</td>\n",
       "      <td>273</td>\n",
       "      <td>301</td>\n",
       "    </tr>\n",
       "    <tr>\n",
       "      <th>1</th>\n",
       "      <td>PrimeVideo</td>\n",
       "      <td>671</td>\n",
       "      <td>591</td>\n",
       "    </tr>\n",
       "  </tbody>\n",
       "</table>\n",
       "</div>"
      ],
      "text/plain": [
       "   Plataforma  IMDb  Rotten\n",
       "0     Netflix   273     301\n",
       "1  PrimeVideo   671     591"
      ]
     },
     "execution_count": 14,
     "metadata": {},
     "output_type": "execute_result"
    }
   ],
   "source": [
    "# quantos dos  1000 filmes mais bem avaliados pelo IMDb e Rotten Tomatoes \n",
    "# estão disponíveis na netflix e prime video\n",
    "\n",
    "tabela = {'Plataforma': plataformas}\n",
    "\n",
    "colunas = []\n",
    "for avaliador in avaliadores:\n",
    "    qplat = []\n",
    "    for plat in plataformas:\n",
    "        lista = []\n",
    "        for i in avaliador['ID']:\n",
    "            for d in filmesConcorrente['ID']:\n",
    "                if i == d and filmesConcorrente[plat][int(i)] == 1:\n",
    "                    lista.append(filmesConcorrente.iloc[[int(i)]])\n",
    "        \n",
    "        qplat.append(len(lista))\n",
    "        \n",
    "    colunas.append(qplat)\n",
    "      \n",
    "tabela['IMDb'] = colunas[0]\n",
    "tabela['Rotten'] = colunas[1]\n",
    "\n",
    "plataformaXavaliador = pd.DataFrame(tabela)\n",
    "plataformaXavaliador\n"
   ]
  },
  {
   "cell_type": "code",
   "execution_count": 15,
   "metadata": {},
   "outputs": [
    {
     "data": {
      "text/plain": [
       "<AxesSubplot:title={'center':'Filmes com as melhores notas pela crítica disponíveis'}, xlabel='Plataforma'>"
      ]
     },
     "execution_count": 15,
     "metadata": {},
     "output_type": "execute_result"
    },
    {
     "data": {
      "image/png": "[encoded data removed]",
      "text/plain": [
       "<Figure size 432x288 with 1 Axes>"
      ]
     },
     "metadata": {
      "needs_background": "light"
     },
     "output_type": "display_data"
    }
   ],
   "source": [
    "plataformaXavaliador.plot(kind='bar', \n",
    "                          x='Plataforma',                         \n",
    "                          title='Filmes com as melhores notas pela crítica disponíveis', color=['yellow', 'red'])"
   ]
  },
  {
   "cell_type": "markdown",
   "metadata": {},
   "source": [
    "Percebe-se que, em comparação com a Netflix, o Prime Video disponibiliza a maior parte dos 1000 filmes mais bem avaliados, tanto pelo IMDb quanto pelo Rotten Tomatoes. Logo, esse não pode ser o fator que define a maior popularidade da Netflix."
   ]
  },
  {
   "cell_type": "markdown",
   "metadata": {},
   "source": [
    "## Exclusividade\n",
    "Talvez um fator decisivo de popularidade seja a exclusividade de produtos. Para ter noção disso, é possível analisar a quantidade de produções originais (logo, exclusivas) que cada plataforma possui.\n",
    "\n",
    "Infelizmente não existe uma base de dados de fácil acesso que contenha esse tipo de dado, portanto, é  necessário extraí-los por meio de web scraping:"
   ]
  },
  {
   "cell_type": "code",
   "execution_count": 16,
   "metadata": {},
   "outputs": [],
   "source": [
    "import requests\n",
    "from bs4 import BeautifulSoup"
   ]
  },
  {
   "cell_type": "code",
   "execution_count": 17,
   "metadata": {},
   "outputs": [
    {
     "data": {
      "text/plain": [
       "<Response [200]>"
      ]
     },
     "execution_count": 17,
     "metadata": {},
     "output_type": "execute_result"
    }
   ],
   "source": [
    "# link da netflix somente com as produções originais\n",
    "url_net = 'https://www.netflix.com/br-en/browse/genre/839338'\n",
    "pageNetflix = requests.get(url_net) # requisição da página\n",
    "pageNetflix"
   ]
  },
  {
   "cell_type": "code",
   "execution_count": 18,
   "metadata": {},
   "outputs": [],
   "source": [
    "# instanciando a página com BeautifulSoup para poder manipulá-la\n",
    "paginaNetflix = BeautifulSoup(pageNetflix.content, 'html.parser')"
   ]
  },
  {
   "cell_type": "code",
   "execution_count": 19,
   "metadata": {},
   "outputs": [],
   "source": [
    "# encontrando os títulos na página\n",
    "tagsOriginaisNetflix = paginaNetflix.find_all('span', class_='nm-collections-title-name')"
   ]
  },
  {
   "cell_type": "code",
   "execution_count": 20,
   "metadata": {
    "scrolled": true
   },
   "outputs": [],
   "source": [
    "# lista com todos os títulos originais Netflix disponíveis no catálogo\n",
    "originaisNetflix = []\n",
    "\n",
    "for tag in tagsOriginaisNetflix:\n",
    "    originaisNetflix.append(tag.get_text())\n"
   ]
  },
  {
   "cell_type": "code",
   "execution_count": 21,
   "metadata": {},
   "outputs": [
    {
     "data": {
      "text/plain": [
       "<Response [200]>"
      ]
     },
     "execution_count": 21,
     "metadata": {},
     "output_type": "execute_result"
    }
   ],
   "source": [
    "# link de uma página wikipedia contendo uma tabela de títulos originais Prime\n",
    "url_prime = 'https://pt.wikipedia.org/wiki/Lista_de_programas_originais_distribu%C3%ADdos_pela_Amazon'\n",
    "pagePrime = requests.get(url_prime)\n",
    "pagePrime"
   ]
  },
  {
   "cell_type": "code",
   "execution_count": 22,
   "metadata": {
    "scrolled": false
   },
   "outputs": [],
   "source": [
    "# encontrando os títulos na página\n",
    "sopaPrime = BeautifulSoup(pagePrime.content, 'html.parser')\n",
    "tables = sopaPrime.find_all('table')\n",
    "\n",
    "for t in tables:\n",
    "     tagsPrime = t.find_all('i')"
   ]
  },
  {
   "cell_type": "code",
   "execution_count": 23,
   "metadata": {
    "scrolled": false
   },
   "outputs": [],
   "source": [
    "# lista com todos os títulos originais Prime Video disponíveis \n",
    "originaisPrime = []\n",
    "\n",
    "for tag in tagsPrime:\n",
    "    originaisPrime.append(tag.get_text())\n",
    "\n"
   ]
  },
  {
   "cell_type": "code",
   "execution_count": 24,
   "metadata": {},
   "outputs": [],
   "source": [
    "# junção de todos os títulos\n",
    "todosOriginais = originaisNetflix + originaisPrime"
   ]
  },
  {
   "cell_type": "code",
   "execution_count": 25,
   "metadata": {},
   "outputs": [
    {
     "data": {
      "text/html": [
       "<div>\n",
       "<style scoped>\n",
       "    .dataframe tbody tr th:only-of-type {\n",
       "        vertical-align: middle;\n",
       "    }\n",
       "\n",
       "    .dataframe tbody tr th {\n",
       "        vertical-align: top;\n",
       "    }\n",
       "\n",
       "    .dataframe thead th {\n",
       "        text-align: right;\n",
       "    }\n",
       "</style>\n",
       "<table border=\"1\" class=\"dataframe\">\n",
       "  <thead>\n",
       "    <tr style=\"text-align: right;\">\n",
       "      <th></th>\n",
       "      <th>Title</th>\n",
       "    </tr>\n",
       "  </thead>\n",
       "  <tbody>\n",
       "    <tr>\n",
       "      <th>0</th>\n",
       "      <td>Bridgerton</td>\n",
       "    </tr>\n",
       "    <tr>\n",
       "      <th>1</th>\n",
       "      <td>Cobra Kai</td>\n",
       "    </tr>\n",
       "    <tr>\n",
       "      <th>2</th>\n",
       "      <td>Lupin</td>\n",
       "    </tr>\n",
       "    <tr>\n",
       "      <th>3</th>\n",
       "      <td>Peaky Blinders</td>\n",
       "    </tr>\n",
       "    <tr>\n",
       "      <th>4</th>\n",
       "      <td>Lucifer</td>\n",
       "    </tr>\n",
       "    <tr>\n",
       "      <th>...</th>\n",
       "      <td>...</td>\n",
       "    </tr>\n",
       "    <tr>\n",
       "      <th>1285</th>\n",
       "      <td>Crisis in Six Scenes</td>\n",
       "    </tr>\n",
       "    <tr>\n",
       "      <th>1286</th>\n",
       "      <td>Britannia</td>\n",
       "    </tr>\n",
       "    <tr>\n",
       "      <th>1287</th>\n",
       "      <td>Falco</td>\n",
       "    </tr>\n",
       "    <tr>\n",
       "      <th>1288</th>\n",
       "      <td>Good Omens</td>\n",
       "    </tr>\n",
       "    <tr>\n",
       "      <th>1289</th>\n",
       "      <td>Daisy Jones &amp; The Six</td>\n",
       "    </tr>\n",
       "  </tbody>\n",
       "</table>\n",
       "<p>1290 rows × 1 columns</p>\n",
       "</div>"
      ],
      "text/plain": [
       "                      Title\n",
       "0                Bridgerton\n",
       "1                 Cobra Kai\n",
       "2                     Lupin\n",
       "3            Peaky Blinders\n",
       "4                   Lucifer\n",
       "...                     ...\n",
       "1285   Crisis in Six Scenes\n",
       "1286              Britannia\n",
       "1287                  Falco\n",
       "1288             Good Omens\n",
       "1289  Daisy Jones & The Six\n",
       "\n",
       "[1290 rows x 1 columns]"
      ]
     },
     "execution_count": 25,
     "metadata": {},
     "output_type": "execute_result"
    }
   ],
   "source": [
    "dic = {'Title': todosOriginais}\n",
    "\n",
    "prodOriginais = pd.DataFrame(dic)\n",
    "prodOriginais"
   ]
  },
  {
   "cell_type": "code",
   "execution_count": 26,
   "metadata": {},
   "outputs": [
    {
     "data": {
      "text/html": [
       "<div>\n",
       "<style scoped>\n",
       "    .dataframe tbody tr th:only-of-type {\n",
       "        vertical-align: middle;\n",
       "    }\n",
       "\n",
       "    .dataframe tbody tr th {\n",
       "        vertical-align: top;\n",
       "    }\n",
       "\n",
       "    .dataframe thead th {\n",
       "        text-align: right;\n",
       "    }\n",
       "</style>\n",
       "<table border=\"1\" class=\"dataframe\">\n",
       "  <thead>\n",
       "    <tr style=\"text-align: right;\">\n",
       "      <th></th>\n",
       "      <th>Title</th>\n",
       "      <th>Production</th>\n",
       "    </tr>\n",
       "  </thead>\n",
       "  <tbody>\n",
       "    <tr>\n",
       "      <th>0</th>\n",
       "      <td>Bridgerton</td>\n",
       "      <td>Netflix</td>\n",
       "    </tr>\n",
       "    <tr>\n",
       "      <th>1</th>\n",
       "      <td>Cobra Kai</td>\n",
       "      <td>Netflix</td>\n",
       "    </tr>\n",
       "    <tr>\n",
       "      <th>2</th>\n",
       "      <td>Lupin</td>\n",
       "      <td>Netflix</td>\n",
       "    </tr>\n",
       "    <tr>\n",
       "      <th>3</th>\n",
       "      <td>Peaky Blinders</td>\n",
       "      <td>Netflix</td>\n",
       "    </tr>\n",
       "    <tr>\n",
       "      <th>4</th>\n",
       "      <td>Lucifer</td>\n",
       "      <td>Netflix</td>\n",
       "    </tr>\n",
       "    <tr>\n",
       "      <th>...</th>\n",
       "      <td>...</td>\n",
       "      <td>...</td>\n",
       "    </tr>\n",
       "    <tr>\n",
       "      <th>1285</th>\n",
       "      <td>Crisis in Six Scenes</td>\n",
       "      <td>Prime Video</td>\n",
       "    </tr>\n",
       "    <tr>\n",
       "      <th>1286</th>\n",
       "      <td>Britannia</td>\n",
       "      <td>Prime Video</td>\n",
       "    </tr>\n",
       "    <tr>\n",
       "      <th>1287</th>\n",
       "      <td>Falco</td>\n",
       "      <td>Prime Video</td>\n",
       "    </tr>\n",
       "    <tr>\n",
       "      <th>1288</th>\n",
       "      <td>Good Omens</td>\n",
       "      <td>Prime Video</td>\n",
       "    </tr>\n",
       "    <tr>\n",
       "      <th>1289</th>\n",
       "      <td>Daisy Jones &amp; The Six</td>\n",
       "      <td>Prime Video</td>\n",
       "    </tr>\n",
       "  </tbody>\n",
       "</table>\n",
       "<p>1290 rows × 2 columns</p>\n",
       "</div>"
      ],
      "text/plain": [
       "                      Title   Production\n",
       "0                Bridgerton      Netflix\n",
       "1                 Cobra Kai      Netflix\n",
       "2                     Lupin      Netflix\n",
       "3            Peaky Blinders      Netflix\n",
       "4                   Lucifer      Netflix\n",
       "...                     ...          ...\n",
       "1285   Crisis in Six Scenes  Prime Video\n",
       "1286              Britannia  Prime Video\n",
       "1287                  Falco  Prime Video\n",
       "1288             Good Omens  Prime Video\n",
       "1289  Daisy Jones & The Six  Prime Video\n",
       "\n",
       "[1290 rows x 2 columns]"
      ]
     },
     "execution_count": 26,
     "metadata": {},
     "output_type": "execute_result"
    }
   ],
   "source": [
    "prodOriginais['Production'] = None\n",
    "\n",
    "for l in range(len(prodOriginais['Title'])):\n",
    "    if prodOriginais['Title'][l] in originaisNetflix:\n",
    "        prodOriginais['Production'][l] = 'Netflix'\n",
    "    if prodOriginais['Title'][l] in originaisPrime:\n",
    "        prodOriginais['Production'][l] = 'Prime Video'\n",
    "\n",
    "prodOriginais"
   ]
  },
  {
   "cell_type": "code",
   "execution_count": 27,
   "metadata": {
    "scrolled": true
   },
   "outputs": [
    {
     "data": {
      "text/plain": [
       "Netflix        1263\n",
       "Prime Video      27\n",
       "Name: Production, dtype: int64"
      ]
     },
     "execution_count": 27,
     "metadata": {},
     "output_type": "execute_result"
    }
   ],
   "source": [
    "# contagem de produções originais por plataforma\n",
    "prodOriginais['Production'].value_counts()"
   ]
  },
  {
   "cell_type": "code",
   "execution_count": 28,
   "metadata": {
    "scrolled": true
   },
   "outputs": [
    {
     "data": {
      "text/plain": [
       "<AxesSubplot:title={'center':'Nº de produções originais por plataforma'}>"
      ]
     },
     "execution_count": 28,
     "metadata": {},
     "output_type": "execute_result"
    },
    {
     "data": {
      "image/png": "[encoded data removed]",
      "text/plain": [
       "<Figure size 432x288 with 1 Axes>"
      ]
     },
     "metadata": {
      "needs_background": "light"
     },
     "output_type": "display_data"
    }
   ],
   "source": [
    "prodOriginais['Production'].value_counts().plot(kind='barh', title='Nº de produções originais por plataforma', color='red')"
   ]
  },
  {
   "cell_type": "markdown",
   "metadata": {},
   "source": [
    "É notável a diferença de quantidade no quesito produções originais entre as duas plataformas. A Netflix assume um patamar superior ao Prime Video, disponibilizando mais conteúdo exclusivo, que pode ser decisivo para atrair mais usuários. Visto isso, é importante considerar a produção de mais títulos originais por parte da Amazon."
   ]
  },
  {
   "cell_type": "markdown",
   "metadata": {},
   "source": [
    "## Análise interativa"
   ]
  },
  {
   "cell_type": "code",
   "execution_count": 29,
   "metadata": {},
   "outputs": [
    {
     "data": {
      "text/html": [
       "\n",
       "<iframe width=\"1000\" height=\"600\" src=\"https://app.powerbi.com/view?r=eyJrIjoiNzc2NDAxZTYtMTc2Yy00ZmUzLTgwYmQtNjczMzZlMWZiYWNkIiwidCI6ImY4OTZmYTg3LTQ5MzgtNGQxNS1iNjk1LTA3ZTYwNzhhMWJkMyJ9\" frameborder=\"0\" allowFullScreen=\"true\"></iframe>\n"
      ],
      "text/plain": [
       "<IPython.core.display.HTML object>"
      ]
     },
     "metadata": {},
     "output_type": "display_data"
    }
   ],
   "source": [
    "%%HTML\n",
    "\n",
    "<iframe width=\"1000\" height=\"600\" src=\"https://app.powerbi.com/view?r=eyJrIjoiNzc2NDAxZTYtMTc2Yy00ZmUzLTgwYmQtNjczMzZlMWZiYWNkIiwidCI6ImY4OTZmYTg3LTQ5MzgtNGQxNS1iNjk1LTA3ZTYwNzhhMWJkMyJ9\" frameborder=\"0\" allowFullScreen=\"true\"></iframe>"
   ]
  },
  {
   "cell_type": "markdown",
   "metadata": {},
   "source": [
    "## Propostas\n",
    "- **Investir em mais produções originais:**\n",
    "Este pode ser um fator atrativo para os usuários de serviços de streaming, produções de qualidade e bem avaliadas pela crítica agregam à imagem da plataforma.\n",
    "\n",
    "\n",
    "- **Direcionar o marketing e propaganda da plataforma para essas produções:**\n",
    "Tão importante quanto investir em ideias originais, é fazer com que elas sejam notadas. Anúncios em plataformas como YouTube e Twitch são vantajosos por atingirem um grande público com frequência.\n",
    "\n",
    "\n",
    "- **Reforçar estratégias existentes:**\n",
    "Tornar mais visível a estratégia de \"frete grátis\" e \"entrega rápida\" para quem é assinante do Prime Video, visando atingir mais clientes em potencial.\n"
   ]
  }
 ],
 "metadata": {
  "kernelspec": {
   "display_name": "Python 3",
   "language": "python",
   "name": "python3"
  },
  "language_info": {
   "codemirror_mode": {
    "name": "ipython",
    "version": 3
   },
   "file_extension": ".py",
   "mimetype": "text/x-python",
   "name": "python",
   "nbconvert_exporter": "python",
   "pygments_lexer": "ipython3",
   "version": "3.7.3"
  }
 },
 "nbformat": 4,
 "nbformat_minor": 4
}
